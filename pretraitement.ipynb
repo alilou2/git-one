{
 "cells": [
  {
   "cell_type": "code",
   "execution_count": 1,
   "metadata": {},
   "outputs": [],
   "source": [
    "import pandas as pd\n",
    "import numpy as np\n",
    "import os\n",
    "import re"
   ]
  },
  {
   "cell_type": "code",
   "execution_count": 108,
   "metadata": {},
   "outputs": [
    {
     "data": {
      "text/plain": [
       "['alg_telcom_2_2k.xlsx',\n",
       " 'facebook (1).xlsx',\n",
       " 'facebook (2).xlsx',\n",
       " 'instagram (1).xlsx',\n",
       " 'instagram (2).xlsx',\n",
       " 'instagram (3).xlsx',\n",
       " 'instagram (4).xlsx',\n",
       " 'instagram (5).xlsx',\n",
       " 'instagram (6).xlsx',\n",
       " 'instagram (7).xlsx',\n",
       " 'instagram (8).xlsx',\n",
       " 'instagram.xlsx']"
      ]
     },
     "execution_count": 108,
     "metadata": {},
     "output_type": "execute_result"
    }
   ],
   "source": [
    "path = ('C:/Users/BIGNETWORK/Desktop/PFE/dataset/resaux scraper')\n",
    "files = os.listdir(path)\n",
    "files"
   ]
  },
  {
   "cell_type": "code",
   "execution_count": 109,
   "metadata": {},
   "outputs": [
    {
     "data": {
      "text/plain": [
       "['alg_telcom_2_2k.xlsx',\n",
       " 'facebook (1).xlsx',\n",
       " 'facebook (2).xlsx',\n",
       " 'instagram (1).xlsx',\n",
       " 'instagram (2).xlsx',\n",
       " 'instagram (3).xlsx',\n",
       " 'instagram (4).xlsx',\n",
       " 'instagram (5).xlsx',\n",
       " 'instagram (6).xlsx',\n",
       " 'instagram (7).xlsx',\n",
       " 'instagram (8).xlsx',\n",
       " 'instagram.xlsx']"
      ]
     },
     "execution_count": 109,
     "metadata": {},
     "output_type": "execute_result"
    }
   ],
   "source": [
    "files_xls = [f for f in files if f[-4:] == 'xlsx']\n",
    "files_xls\n"
   ]
  },
  {
   "cell_type": "code",
   "execution_count": 110,
   "metadata": {},
   "outputs": [
    {
     "name": "stderr",
     "output_type": "stream",
     "text": [
      "C:\\Users\\BIGNETWORK\\AppData\\Local\\Temp\\ipykernel_9536\\2690826426.py:5: FutureWarning: The frame.append method is deprecated and will be removed from pandas in a future version. Use pandas.concat instead.\n",
      "  df = df.append(data)\n",
      "C:\\Users\\BIGNETWORK\\AppData\\Local\\Temp\\ipykernel_9536\\2690826426.py:5: FutureWarning: The frame.append method is deprecated and will be removed from pandas in a future version. Use pandas.concat instead.\n",
      "  df = df.append(data)\n",
      "C:\\Users\\BIGNETWORK\\AppData\\Local\\Temp\\ipykernel_9536\\2690826426.py:5: FutureWarning: The frame.append method is deprecated and will be removed from pandas in a future version. Use pandas.concat instead.\n",
      "  df = df.append(data)\n",
      "C:\\Users\\BIGNETWORK\\AppData\\Local\\Temp\\ipykernel_9536\\2690826426.py:5: FutureWarning: The frame.append method is deprecated and will be removed from pandas in a future version. Use pandas.concat instead.\n",
      "  df = df.append(data)\n",
      "C:\\Users\\BIGNETWORK\\AppData\\Local\\Temp\\ipykernel_9536\\2690826426.py:5: FutureWarning: The frame.append method is deprecated and will be removed from pandas in a future version. Use pandas.concat instead.\n",
      "  df = df.append(data)\n",
      "C:\\Users\\BIGNETWORK\\AppData\\Local\\Temp\\ipykernel_9536\\2690826426.py:5: FutureWarning: The frame.append method is deprecated and will be removed from pandas in a future version. Use pandas.concat instead.\n",
      "  df = df.append(data)\n",
      "C:\\Users\\BIGNETWORK\\AppData\\Local\\Temp\\ipykernel_9536\\2690826426.py:5: FutureWarning: The frame.append method is deprecated and will be removed from pandas in a future version. Use pandas.concat instead.\n",
      "  df = df.append(data)\n",
      "C:\\Users\\BIGNETWORK\\AppData\\Local\\Temp\\ipykernel_9536\\2690826426.py:5: FutureWarning: The frame.append method is deprecated and will be removed from pandas in a future version. Use pandas.concat instead.\n",
      "  df = df.append(data)\n",
      "C:\\Users\\BIGNETWORK\\AppData\\Local\\Temp\\ipykernel_9536\\2690826426.py:5: FutureWarning: The frame.append method is deprecated and will be removed from pandas in a future version. Use pandas.concat instead.\n",
      "  df = df.append(data)\n",
      "C:\\Users\\BIGNETWORK\\AppData\\Local\\Temp\\ipykernel_9536\\2690826426.py:5: FutureWarning: The frame.append method is deprecated and will be removed from pandas in a future version. Use pandas.concat instead.\n",
      "  df = df.append(data)\n",
      "C:\\Users\\BIGNETWORK\\AppData\\Local\\Temp\\ipykernel_9536\\2690826426.py:5: FutureWarning: The frame.append method is deprecated and will be removed from pandas in a future version. Use pandas.concat instead.\n",
      "  df = df.append(data)\n",
      "C:\\Users\\BIGNETWORK\\AppData\\Local\\Temp\\ipykernel_9536\\2690826426.py:5: FutureWarning: The frame.append method is deprecated and will be removed from pandas in a future version. Use pandas.concat instead.\n",
      "  df = df.append(data)\n"
     ]
    }
   ],
   "source": [
    "df = pd.DataFrame()\n",
    "for f in files_xls:\n",
    "    data = pd.read_excel(f'C:/Users/BIGNETWORK/Desktop/PFE/dataset/resaux scraper/{f}')\n",
    "    data.drop(data.index[0:0],inplace=True)\n",
    "    df = df.append(data)"
   ]
  },
  {
   "cell_type": "code",
   "execution_count": 111,
   "metadata": {},
   "outputs": [
    {
     "name": "stdout",
     "output_type": "stream",
     "text": [
      "                                              comments  class\n",
      "0    باينة كتبتوها نهار السبت حتى اليوم باش تبارتاج...    NaN\n",
      "1         لوكان ستنيتو حتى نهار الخميس خير و درتو بيان    NaN\n",
      "2                       الزبون لا دخل له في البكالوريا    NaN\n",
      "3    شركة.... تعجز عن وضع أجهزة تشويش بمراكز الإمتح...    NaN\n",
      "4    دوماج عندي لافامي في الكونت هذا كون عبرتلكم عن...    NaN\n",
      "..                                                 ...    ...\n",
      "785                                                  🔥    NaN\n",
      "786                                               ❤️❤️    NaN\n",
      "787                                               ❤️❤️    NaN\n",
      "788                         NChllh  b rebi ping yhbt 😂    NaN\n",
      "789                                              ❤️❤️😍    NaN\n",
      "\n",
      "[6834 rows x 2 columns]\n"
     ]
    }
   ],
   "source": [
    "print(df)"
   ]
  },
  {
   "cell_type": "code",
   "execution_count": 112,
   "metadata": {},
   "outputs": [],
   "source": [
    "df.to_excel(\"resaux_comments.xlsx\")"
   ]
  },
  {
   "cell_type": "code",
   "execution_count": 2,
   "metadata": {},
   "outputs": [],
   "source": [
    "df0=pd.read_excel(\"C:/Users/BIGNETWORK/Desktop/PFE/dataset/project/git-one/datasets/resaux_comments.xlsx\")\n",
    "df1=pd.read_excel(\"C:/Users/BIGNETWORK/Desktop/PFE/dataset/project/git-one/datasets/hateonly_mehdi.xlsx\")\n",
    "df2=pd.read_excel(\"C:/Users/BIGNETWORK/Desktop/PFE/dataset/project/git-one/datasets/fb_comments.xlsx\")\n",
    "df3=pd.read_excel(\"C:/Users/BIGNETWORK/Desktop/PFE/dataset/project/git-one/datasets/hainer_ranim.xlsx\")\n",
    "df4=pd.read_excel(\"C:/Users/BIGNETWORK/Desktop/PFE/dataset/project/git-one/datasets/neutre_mehdi.xlsx\")"
   ]
  },
  {
   "cell_type": "code",
   "execution_count": 3,
   "metadata": {},
   "outputs": [],
   "source": [
    "df = pd.concat([df0, df1, df2, df3,df4], axis=0, ignore_index=True)"
   ]
  },
  {
   "cell_type": "code",
   "execution_count": 4,
   "metadata": {},
   "outputs": [
    {
     "data": {
      "text/html": [
       "<div>\n",
       "<style scoped>\n",
       "    .dataframe tbody tr th:only-of-type {\n",
       "        vertical-align: middle;\n",
       "    }\n",
       "\n",
       "    .dataframe tbody tr th {\n",
       "        vertical-align: top;\n",
       "    }\n",
       "\n",
       "    .dataframe thead th {\n",
       "        text-align: right;\n",
       "    }\n",
       "</style>\n",
       "<table border=\"1\" class=\"dataframe\">\n",
       "  <thead>\n",
       "    <tr style=\"text-align: right;\">\n",
       "      <th></th>\n",
       "      <th>comments</th>\n",
       "      <th>class</th>\n",
       "    </tr>\n",
       "  </thead>\n",
       "  <tbody>\n",
       "    <tr>\n",
       "      <th>0</th>\n",
       "      <td>باينة كتبتوها نهار السبت حتى اليوم باش تبارتاج...</td>\n",
       "      <td>NaN</td>\n",
       "    </tr>\n",
       "    <tr>\n",
       "      <th>1</th>\n",
       "      <td>لوكان ستنيتو حتى نهار الخميس خير و درتو بيان</td>\n",
       "      <td>NaN</td>\n",
       "    </tr>\n",
       "    <tr>\n",
       "      <th>2</th>\n",
       "      <td>الزبون لا دخل له في البكالوريا</td>\n",
       "      <td>NaN</td>\n",
       "    </tr>\n",
       "    <tr>\n",
       "      <th>3</th>\n",
       "      <td>شركة.... تعجز عن وضع أجهزة تشويش بمراكز الإمتح...</td>\n",
       "      <td>NaN</td>\n",
       "    </tr>\n",
       "    <tr>\n",
       "      <th>4</th>\n",
       "      <td>دوماج عندي لافامي في الكونت هذا كون عبرتلكم عن...</td>\n",
       "      <td>NaN</td>\n",
       "    </tr>\n",
       "    <tr>\n",
       "      <th>...</th>\n",
       "      <td>...</td>\n",
       "      <td>...</td>\n",
       "    </tr>\n",
       "    <tr>\n",
       "      <th>10076</th>\n",
       "      <td>رجعولنا عرض 1500نتاع 40جيغا شهرين مشي شهر هكذا...</td>\n",
       "      <td>0.0</td>\n",
       "    </tr>\n",
       "    <tr>\n",
       "      <th>10077</th>\n",
       "      <td>انظروا إلى التعليقات يا دجيزي بفففففففففففف</td>\n",
       "      <td>0.0</td>\n",
       "    </tr>\n",
       "    <tr>\n",
       "      <th>10078</th>\n",
       "      <td>صح عيدك جيزي شوي اتهلى كونيكسيو ظعيفة وعروظ شو...</td>\n",
       "      <td>0.0</td>\n",
       "    </tr>\n",
       "    <tr>\n",
       "      <th>10079</th>\n",
       "      <td>عيدكم مبارك تقبل الله منا ومنكم صالح الأعمال يارب</td>\n",
       "      <td>0.0</td>\n",
       "    </tr>\n",
       "    <tr>\n",
       "      <th>10080</th>\n",
       "      <td>شوف ستوري</td>\n",
       "      <td>0.0</td>\n",
       "    </tr>\n",
       "  </tbody>\n",
       "</table>\n",
       "<p>10081 rows × 2 columns</p>\n",
       "</div>"
      ],
      "text/plain": [
       "                                                comments  class\n",
       "0      باينة كتبتوها نهار السبت حتى اليوم باش تبارتاج...    NaN\n",
       "1           لوكان ستنيتو حتى نهار الخميس خير و درتو بيان    NaN\n",
       "2                         الزبون لا دخل له في البكالوريا    NaN\n",
       "3      شركة.... تعجز عن وضع أجهزة تشويش بمراكز الإمتح...    NaN\n",
       "4      دوماج عندي لافامي في الكونت هذا كون عبرتلكم عن...    NaN\n",
       "...                                                  ...    ...\n",
       "10076  رجعولنا عرض 1500نتاع 40جيغا شهرين مشي شهر هكذا...    0.0\n",
       "10077        انظروا إلى التعليقات يا دجيزي بفففففففففففف    0.0\n",
       "10078  صح عيدك جيزي شوي اتهلى كونيكسيو ظعيفة وعروظ شو...    0.0\n",
       "10079  عيدكم مبارك تقبل الله منا ومنكم صالح الأعمال يارب    0.0\n",
       "10080                                          شوف ستوري    0.0\n",
       "\n",
       "[10081 rows x 2 columns]"
      ]
     },
     "execution_count": 4,
     "metadata": {},
     "output_type": "execute_result"
    }
   ],
   "source": [
    "df"
   ]
  },
  {
   "cell_type": "code",
   "execution_count": 5,
   "metadata": {},
   "outputs": [
    {
     "data": {
      "text/html": [
       "<div>\n",
       "<style scoped>\n",
       "    .dataframe tbody tr th:only-of-type {\n",
       "        vertical-align: middle;\n",
       "    }\n",
       "\n",
       "    .dataframe tbody tr th {\n",
       "        vertical-align: top;\n",
       "    }\n",
       "\n",
       "    .dataframe thead th {\n",
       "        text-align: right;\n",
       "    }\n",
       "</style>\n",
       "<table border=\"1\" class=\"dataframe\">\n",
       "  <thead>\n",
       "    <tr style=\"text-align: right;\">\n",
       "      <th></th>\n",
       "      <th>comments</th>\n",
       "      <th>class</th>\n",
       "    </tr>\n",
       "  </thead>\n",
       "  <tbody>\n",
       "    <tr>\n",
       "      <th>0</th>\n",
       "      <td>🌬تربح</td>\n",
       "      <td>0.0</td>\n",
       "    </tr>\n",
       "    <tr>\n",
       "      <th>1</th>\n",
       "      <td>كيفاه عرفتو بلي زاهية ليوم بتطياح</td>\n",
       "      <td>NaN</td>\n",
       "    </tr>\n",
       "    <tr>\n",
       "      <th>2</th>\n",
       "      <td>Djezzy بعثتلك بارح مساج ردي عليا نت برك</td>\n",
       "      <td>0.0</td>\n",
       "    </tr>\n",
       "    <tr>\n",
       "      <th>3</th>\n",
       "      <td>هذا المنشور يجي قبل الإمتحانات.. ولا حتى نتوما...</td>\n",
       "      <td>NaN</td>\n",
       "    </tr>\n",
       "    <tr>\n",
       "      <th>4</th>\n",
       "      <td>ياو منزيدس نخدم بيها جازي سرقتولي قاع دراهمي ب...</td>\n",
       "      <td>NaN</td>\n",
       "    </tr>\n",
       "    <tr>\n",
       "      <th>...</th>\n",
       "      <td>...</td>\n",
       "      <td>...</td>\n",
       "    </tr>\n",
       "    <tr>\n",
       "      <th>10076</th>\n",
       "      <td>NaN</td>\n",
       "      <td>NaN</td>\n",
       "    </tr>\n",
       "    <tr>\n",
       "      <th>10077</th>\n",
       "      <td>كل يوم عرض جديد!!!!!!!</td>\n",
       "      <td>NaN</td>\n",
       "    </tr>\n",
       "    <tr>\n",
       "      <th>10078</th>\n",
       "      <td>😡😡😡😡😡</td>\n",
       "      <td>NaN</td>\n",
       "    </tr>\n",
       "    <tr>\n",
       "      <th>10079</th>\n",
       "      <td>تباا لكم جميعااااااا ناس تطور و نتوم تولو للخل...</td>\n",
       "      <td>NaN</td>\n",
       "    </tr>\n",
       "    <tr>\n",
       "      <th>10080</th>\n",
       "      <td>بوبجي واش دخلها في وسط باش تكوبيو علينا</td>\n",
       "      <td>NaN</td>\n",
       "    </tr>\n",
       "  </tbody>\n",
       "</table>\n",
       "<p>10081 rows × 2 columns</p>\n",
       "</div>"
      ],
      "text/plain": [
       "                                                comments  class\n",
       "0                                                  🌬تربح    0.0\n",
       "1                      كيفاه عرفتو بلي زاهية ليوم بتطياح    NaN\n",
       "2                Djezzy بعثتلك بارح مساج ردي عليا نت برك    0.0\n",
       "3      هذا المنشور يجي قبل الإمتحانات.. ولا حتى نتوما...    NaN\n",
       "4      ياو منزيدس نخدم بيها جازي سرقتولي قاع دراهمي ب...    NaN\n",
       "...                                                  ...    ...\n",
       "10076                                                NaN    NaN\n",
       "10077                             كل يوم عرض جديد!!!!!!!    NaN\n",
       "10078                                              😡😡😡😡😡    NaN\n",
       "10079  تباا لكم جميعااااااا ناس تطور و نتوم تولو للخل...    NaN\n",
       "10080            بوبجي واش دخلها في وسط باش تكوبيو علينا    NaN\n",
       "\n",
       "[10081 rows x 2 columns]"
      ]
     },
     "execution_count": 5,
     "metadata": {},
     "output_type": "execute_result"
    }
   ],
   "source": [
    "df = df.sample(frac=1).reset_index(drop=True)\n",
    "df"
   ]
  },
  {
   "cell_type": "code",
   "execution_count": 6,
   "metadata": {},
   "outputs": [],
   "source": [
    "df.to_excel(\"C:/Users/BIGNETWORK/Desktop/PFE/dataset/dataset.xlsx\")"
   ]
  },
  {
   "cell_type": "code",
   "execution_count": 8,
   "metadata": {},
   "outputs": [],
   "source": [
    "df=df.dropna(subset = ['comments'])"
   ]
  },
  {
   "cell_type": "code",
   "execution_count": 9,
   "metadata": {},
   "outputs": [
    {
     "data": {
      "text/plain": [
       "0"
      ]
     },
     "execution_count": 9,
     "metadata": {},
     "output_type": "execute_result"
    }
   ],
   "source": [
    "df['comments'].isna().sum()"
   ]
  },
  {
   "attachments": {},
   "cell_type": "markdown",
   "metadata": {},
   "source": [
    "* Suppresion des Tags, des URLs et les symboles de ponctuation"
   ]
  },
  {
   "cell_type": "markdown",
   "metadata": {},
   "source": []
  },
  {
   "cell_type": "code",
   "execution_count": 22,
   "metadata": {},
   "outputs": [
    {
     "name": "stderr",
     "output_type": "stream",
     "text": [
      "C:\\Users\\BIGNETWORK\\AppData\\Local\\Temp\\ipykernel_13588\\1506944284.py:13: SettingWithCopyWarning: \n",
      "A value is trying to be set on a copy of a slice from a DataFrame.\n",
      "Try using .loc[row_indexer,col_indexer] = value instead\n",
      "\n",
      "See the caveats in the documentation: https://pandas.pydata.org/pandas-docs/stable/user_guide/indexing.html#returning-a-view-versus-a-copy\n",
      "  df['comments_clean'] = df['comments'].apply(clean_text)\n"
     ]
    }
   ],
   "source": [
    "# Define a function to perform the text cleaning operations\n",
    "def clean_text(text):\n",
    "    text = re.sub(r'@\\w+', '', text)\n",
    "    text = re.sub(r'[^\\w\\s]', ' ', text)  # Remove punctuation marks and emojis\n",
    "    text = re.sub(r'[@#&$]\\w+', '', text)  # Remove special characters\n",
    "    #text = re.sub(r'\\d+', '', text)  # Remove numbers \n",
    "    \n",
    "    text = re.sub(r'http\\S+', '', text)  # Remove URLs\n",
    "    return text\n",
    "\n",
    "# Apply the clean_text function to the desired column(s) in the DataFrame\n",
    "if df['comments'].dtype == 'object':\n",
    "    df['comments_clean'] = df['comments'].apply(clean_text)\n"
   ]
  },
  {
   "cell_type": "code",
   "execution_count": 24,
   "metadata": {},
   "outputs": [
    {
     "data": {
      "text/html": [
       "<div>\n",
       "<style scoped>\n",
       "    .dataframe tbody tr th:only-of-type {\n",
       "        vertical-align: middle;\n",
       "    }\n",
       "\n",
       "    .dataframe tbody tr th {\n",
       "        vertical-align: top;\n",
       "    }\n",
       "\n",
       "    .dataframe thead th {\n",
       "        text-align: right;\n",
       "    }\n",
       "</style>\n",
       "<table border=\"1\" class=\"dataframe\">\n",
       "  <thead>\n",
       "    <tr style=\"text-align: right;\">\n",
       "      <th></th>\n",
       "      <th>comments</th>\n",
       "      <th>class</th>\n",
       "      <th>comments_clean</th>\n",
       "    </tr>\n",
       "  </thead>\n",
       "  <tbody>\n",
       "    <tr>\n",
       "      <th>10019</th>\n",
       "      <td>Rana habin nala3bou m3a  w les autres gameurs ...</td>\n",
       "      <td>NaN</td>\n",
       "      <td>Rana habin nala3bou m3a  w les autres gameurs ...</td>\n",
       "    </tr>\n",
       "    <tr>\n",
       "      <th>8673</th>\n",
       "      <td>و تعويضات كيفاش؟ حنا مخلصين شهر محسوب بالساعة ...</td>\n",
       "      <td>NaN</td>\n",
       "      <td>و تعويضات كيفاش  حنا مخلصين شهر محسوب بالساعة ...</td>\n",
       "    </tr>\n",
       "    <tr>\n",
       "      <th>1401</th>\n",
       "      <td>خليك في مجالك.</td>\n",
       "      <td>NaN</td>\n",
       "      <td>خليك في مجالك</td>\n",
       "    </tr>\n",
       "    <tr>\n",
       "      <th>8330</th>\n",
       "      <td>افضل خدمة ربي يحفضهم 😍</td>\n",
       "      <td>NaN</td>\n",
       "      <td>افضل خدمة ربي يحفضهم</td>\n",
       "    </tr>\n",
       "    <tr>\n",
       "      <th>4493</th>\n",
       "      <td>Yaw cnx 000 vive oredoo</td>\n",
       "      <td>NaN</td>\n",
       "      <td>Yaw cnx 000 vive oredoo</td>\n",
       "    </tr>\n",
       "    <tr>\n",
       "      <th>5090</th>\n",
       "      <td>😂😂😂😂 هدو شاهيا علاقه تاعهم بقيمنق بلاد شكوبي</td>\n",
       "      <td>NaN</td>\n",
       "      <td>هدو شاهيا علاقه تاعهم بقيمنق بلاد شكوبي</td>\n",
       "    </tr>\n",
       "    <tr>\n",
       "      <th>6014</th>\n",
       "      <td>مكانش لي يبغيكم ههههه</td>\n",
       "      <td>NaN</td>\n",
       "      <td>مكانش لي يبغيكم ههههه</td>\n",
       "    </tr>\n",
       "    <tr>\n",
       "      <th>6371</th>\n",
       "      <td>عوض الاعتذار تخرجون ببيان يزيد الطين بلة...سكت...</td>\n",
       "      <td>NaN</td>\n",
       "      <td>عوض الاعتذار تخرجون ببيان يزيد الطين بلة   سكت...</td>\n",
       "    </tr>\n",
       "    <tr>\n",
       "      <th>702</th>\n",
       "      <td>❤️</td>\n",
       "      <td>NaN</td>\n",
       "      <td></td>\n",
       "    </tr>\n",
       "    <tr>\n",
       "      <th>3953</th>\n",
       "      <td>نكماتكم كل دقيقة تقطعو طزمها وكي تطلقوها دايرة...</td>\n",
       "      <td>NaN</td>\n",
       "      <td>نكماتكم كل دقيقة تقطعو طزمها وكي تطلقوها دايرة...</td>\n",
       "    </tr>\n",
       "    <tr>\n",
       "      <th>890</th>\n",
       "      <td>Bonjour,Nous vous prions de nous excuser pour ...</td>\n",
       "      <td>0.0</td>\n",
       "      <td>Bonjour Nous vous prions de nous excuser pour ...</td>\n",
       "    </tr>\n",
       "    <tr>\n",
       "      <th>2684</th>\n",
       "      <td>لقيتو رايكم في بلاد ماشية بالدعاوي</td>\n",
       "      <td>NaN</td>\n",
       "      <td>لقيتو رايكم في بلاد ماشية بالدعاوي</td>\n",
       "    </tr>\n",
       "    <tr>\n",
       "      <th>5591</th>\n",
       "      <td>ע. ע. עבדלי تحلاب عيناني🙃😱</td>\n",
       "      <td>0.0</td>\n",
       "      <td>ע  ע  עבדלי تحلاب عيناني</td>\n",
       "    </tr>\n",
       "    <tr>\n",
       "      <th>2232</th>\n",
       "      <td>سيشهد التاريخ ان الحمام الزاجل قام بدوره افضل ...</td>\n",
       "      <td>NaN</td>\n",
       "      <td>سيشهد التاريخ ان الحمام الزاجل قام بدوره افضل ...</td>\n",
       "    </tr>\n",
       "    <tr>\n",
       "      <th>75</th>\n",
       "      <td>تم</td>\n",
       "      <td>NaN</td>\n",
       "      <td>تم</td>\n",
       "    </tr>\n",
       "    <tr>\n",
       "      <th>1256</th>\n",
       "      <td>في الجزائر فقط إدا كان صباعك مريض و مقدروش يعا...</td>\n",
       "      <td>NaN</td>\n",
       "      <td>في الجزائر فقط إدا كان صباعك مريض و مقدروش يعا...</td>\n",
       "    </tr>\n",
       "    <tr>\n",
       "      <th>9402</th>\n",
       "      <td>@bendahouayacine oui c'est valable 30 jours 😊</td>\n",
       "      <td>0.0</td>\n",
       "      <td>oui c est valable 30 jours</td>\n",
       "    </tr>\n",
       "    <tr>\n",
       "      <th>1945</th>\n",
       "      <td>Ma3dnach internet kifach npartagiwha yaw 0000000</td>\n",
       "      <td>NaN</td>\n",
       "      <td>Ma3dnach internet kifach npartagiwha yaw 0000000</td>\n",
       "    </tr>\n",
       "    <tr>\n",
       "      <th>8451</th>\n",
       "      <td>سبب مصائب البلاد هم الإخوان من فيس الدي دمر ال...</td>\n",
       "      <td>1.0</td>\n",
       "      <td>سبب مصائب البلاد هم الإخوان من فيس الدي دمر ال...</td>\n",
       "    </tr>\n",
       "    <tr>\n",
       "      <th>3421</th>\n",
       "      <td>الصفحة وضعت المنشور  قبل 3ايام لكن لسوء الاتصا...</td>\n",
       "      <td>NaN</td>\n",
       "      <td>الصفحة وضعت المنشور  قبل 3ايام لكن لسوء الاتصا...</td>\n",
       "    </tr>\n",
       "    <tr>\n",
       "      <th>8837</th>\n",
       "      <td>Mem  DZ gea tearfo bly yleab pubg edi beynaa 😏</td>\n",
       "      <td>NaN</td>\n",
       "      <td>Mem  DZ gea tearfo bly yleab pubg edi beynaa</td>\n",
       "    </tr>\n",
       "    <tr>\n",
       "      <th>6170</th>\n",
       "      <td>تلتلفتباب</td>\n",
       "      <td>NaN</td>\n",
       "      <td>تلتلفتباب</td>\n",
       "    </tr>\n",
       "    <tr>\n",
       "      <th>875</th>\n",
       "      <td>Lyn3l tbon matkom</td>\n",
       "      <td>NaN</td>\n",
       "      <td>Lyn3l tbon matkom</td>\n",
       "    </tr>\n",
       "    <tr>\n",
       "      <th>3959</th>\n",
       "      <td>لو نعرف لمن أشتكيكم والله لن أتأخر دقيقة واحدة...</td>\n",
       "      <td>1.0</td>\n",
       "      <td>لو نعرف لمن أشتكيكم والله لن أتأخر دقيقة واحدة...</td>\n",
       "    </tr>\n",
       "    <tr>\n",
       "      <th>5746</th>\n",
       "      <td>حسنو الانترنيت من فظلكم</td>\n",
       "      <td>NaN</td>\n",
       "      <td>حسنو الانترنيت من فظلكم</td>\n",
       "    </tr>\n",
       "  </tbody>\n",
       "</table>\n",
       "</div>"
      ],
      "text/plain": [
       "                                                comments  class  \\\n",
       "10019  Rana habin nala3bou m3a  w les autres gameurs ...    NaN   \n",
       "8673   و تعويضات كيفاش؟ حنا مخلصين شهر محسوب بالساعة ...    NaN   \n",
       "1401                                      خليك في مجالك.    NaN   \n",
       "8330                              افضل خدمة ربي يحفضهم 😍    NaN   \n",
       "4493                             Yaw cnx 000 vive oredoo    NaN   \n",
       "5090        😂😂😂😂 هدو شاهيا علاقه تاعهم بقيمنق بلاد شكوبي    NaN   \n",
       "6014                               مكانش لي يبغيكم ههههه    NaN   \n",
       "6371   عوض الاعتذار تخرجون ببيان يزيد الطين بلة...سكت...    NaN   \n",
       "702                                                   ❤️    NaN   \n",
       "3953   نكماتكم كل دقيقة تقطعو طزمها وكي تطلقوها دايرة...    NaN   \n",
       "890    Bonjour,Nous vous prions de nous excuser pour ...    0.0   \n",
       "2684                  لقيتو رايكم في بلاد ماشية بالدعاوي    NaN   \n",
       "5591                          ע. ע. עבדלי تحلاب عيناني🙃😱    0.0   \n",
       "2232   سيشهد التاريخ ان الحمام الزاجل قام بدوره افضل ...    NaN   \n",
       "75                                                    تم    NaN   \n",
       "1256   في الجزائر فقط إدا كان صباعك مريض و مقدروش يعا...    NaN   \n",
       "9402       @bendahouayacine oui c'est valable 30 jours 😊    0.0   \n",
       "1945    Ma3dnach internet kifach npartagiwha yaw 0000000    NaN   \n",
       "8451   سبب مصائب البلاد هم الإخوان من فيس الدي دمر ال...    1.0   \n",
       "3421   الصفحة وضعت المنشور  قبل 3ايام لكن لسوء الاتصا...    NaN   \n",
       "8837      Mem  DZ gea tearfo bly yleab pubg edi beynaa 😏    NaN   \n",
       "6170                                           تلتلفتباب    NaN   \n",
       "875                                    Lyn3l tbon matkom    NaN   \n",
       "3959   لو نعرف لمن أشتكيكم والله لن أتأخر دقيقة واحدة...    1.0   \n",
       "5746                            حسنو الانترنيت من فظلكم     NaN   \n",
       "\n",
       "                                          comments_clean  \n",
       "10019  Rana habin nala3bou m3a  w les autres gameurs ...  \n",
       "8673   و تعويضات كيفاش  حنا مخلصين شهر محسوب بالساعة ...  \n",
       "1401                                      خليك في مجالك   \n",
       "8330                              افضل خدمة ربي يحفضهم    \n",
       "4493                             Yaw cnx 000 vive oredoo  \n",
       "5090             هدو شاهيا علاقه تاعهم بقيمنق بلاد شكوبي  \n",
       "6014                               مكانش لي يبغيكم ههههه  \n",
       "6371   عوض الاعتذار تخرجون ببيان يزيد الطين بلة   سكت...  \n",
       "702                                                       \n",
       "3953   نكماتكم كل دقيقة تقطعو طزمها وكي تطلقوها دايرة...  \n",
       "890    Bonjour Nous vous prions de nous excuser pour ...  \n",
       "2684                  لقيتو رايكم في بلاد ماشية بالدعاوي  \n",
       "5591                          ע  ע  עבדלי تحلاب عيناني    \n",
       "2232   سيشهد التاريخ ان الحمام الزاجل قام بدوره افضل ...  \n",
       "75                                                    تم  \n",
       "1256   في الجزائر فقط إدا كان صباعك مريض و مقدروش يعا...  \n",
       "9402                        oui c est valable 30 jours    \n",
       "1945    Ma3dnach internet kifach npartagiwha yaw 0000000  \n",
       "8451   سبب مصائب البلاد هم الإخوان من فيس الدي دمر ال...  \n",
       "3421   الصفحة وضعت المنشور  قبل 3ايام لكن لسوء الاتصا...  \n",
       "8837      Mem  DZ gea tearfo bly yleab pubg edi beynaa    \n",
       "6170                                           تلتلفتباب  \n",
       "875                                    Lyn3l tbon matkom  \n",
       "3959   لو نعرف لمن أشتكيكم والله لن أتأخر دقيقة واحدة...  \n",
       "5746                            حسنو الانترنيت من فظلكم   "
      ]
     },
     "execution_count": 24,
     "metadata": {},
     "output_type": "execute_result"
    }
   ],
   "source": [
    "df.sample(25)"
   ]
  },
  {
   "cell_type": "code",
   "execution_count": 25,
   "metadata": {},
   "outputs": [
    {
     "data": {
      "text/plain": [
       "0"
      ]
     },
     "execution_count": 25,
     "metadata": {},
     "output_type": "execute_result"
    }
   ],
   "source": [
    "df['comments_clean'].isna().sum()"
   ]
  },
  {
   "cell_type": "code",
   "execution_count": 26,
   "metadata": {},
   "outputs": [
    {
     "name": "stderr",
     "output_type": "stream",
     "text": [
      "C:\\Users\\BIGNETWORK\\AppData\\Local\\Temp\\ipykernel_13588\\3493959318.py:1: SettingWithCopyWarning: \n",
      "A value is trying to be set on a copy of a slice from a DataFrame\n",
      "\n",
      "See the caveats in the documentation: https://pandas.pydata.org/pandas-docs/stable/user_guide/indexing.html#returning-a-view-versus-a-copy\n",
      "  df['comments_clean'].replace('', np.nan, inplace=True)\n"
     ]
    },
    {
     "data": {
      "text/plain": [
       "11"
      ]
     },
     "execution_count": 26,
     "metadata": {},
     "output_type": "execute_result"
    }
   ],
   "source": [
    "df['comments_clean'].replace('', np.nan, inplace=True)\n",
    "missing_values = df[df['comments_clean'].isnull()]\n",
    "#df=df.dropna(subset = ['comments_clean'])\n",
    "len(missing_values)"
   ]
  },
  {
   "cell_type": "code",
   "execution_count": 27,
   "metadata": {},
   "outputs": [],
   "source": [
    "df=df.dropna(subset = ['comments_clean'])"
   ]
  },
  {
   "cell_type": "code",
   "execution_count": null,
   "metadata": {},
   "outputs": [],
   "source": []
  },
  {
   "cell_type": "code",
   "execution_count": 29,
   "metadata": {},
   "outputs": [],
   "source": [
    "from langdetect import detect\n",
    "from difflib import SequenceMatcher"
   ]
  },
  {
   "cell_type": "code",
   "execution_count": 156,
   "metadata": {},
   "outputs": [],
   "source": [
    "def similar(a, b):\n",
    "# Utilisation de la méthode SequenceMatcher pour calculer la similarité entre deux chaînes de caractères\n",
    "    return SequenceMatcher(None, a, b).ratio()\n",
    "def detecter_langage(texte):\n",
    "    # Détection de la langue avec langdetect\n",
    "    langage = detect(texte)\n",
    "    \n",
    "#  Si le texte est similaire à l'anglais, au français ou à l'arabe, il est classé comme dialecte algérien\n",
    "    if langage in ['en', 'fr', 'ar']:\n",
    "        similarites = {\n",
    "            'en': similar(texte, 'english'),\n",
    "            'fr': similar(texte, 'français'),\n",
    "            'ar': similar(texte, 'العربية')\n",
    "        }\n",
    "        # Le texte est classé comme dialecte algérien s'il est plus similaire à une de ces langues qu'à l'autre\n",
    "        if max(similarites.values()) == similarites[langage]:\n",
    "            langage = 'dz'\n",
    "    \n",
    "    return langage"
   ]
  },
  {
   "cell_type": "code",
   "execution_count": 157,
   "metadata": {},
   "outputs": [
    {
     "name": "stdout",
     "output_type": "stream",
     "text": [
      "dz\n"
     ]
    }
   ],
   "source": [
    "txt = \"صبرو محبش يطلع فيديو\"\n",
    "print(detecter_langage(txt))\n",
    "  #  df['len'] = df['comments_nett'].apply(detecter_langage)"
   ]
  },
  {
   "cell_type": "code",
   "execution_count": 158,
   "metadata": {},
   "outputs": [],
   "source": [
    "for index, row in df.iterrows():\n",
    "    text = str(row['comments_clean'])\n",
    "    if text:\n",
    "        try:\n",
    "            lang = detecter_langage(text)\n",
    "            df.at[index, 'language'] = lang\n",
    "        except:\n",
    "            pass"
   ]
  },
  {
   "cell_type": "code",
   "execution_count": null,
   "metadata": {},
   "outputs": [],
   "source": []
  }
 ],
 "metadata": {
  "kernelspec": {
   "display_name": "Python 3",
   "language": "python",
   "name": "python3"
  },
  "language_info": {
   "codemirror_mode": {
    "name": "ipython",
    "version": 3
   },
   "file_extension": ".py",
   "mimetype": "text/x-python",
   "name": "python",
   "nbconvert_exporter": "python",
   "pygments_lexer": "ipython3",
   "version": "3.10.10"
  },
  "orig_nbformat": 4
 },
 "nbformat": 4,
 "nbformat_minor": 2
}
