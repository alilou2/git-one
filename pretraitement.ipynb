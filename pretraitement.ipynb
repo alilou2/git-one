{
 "cells": [
  {
   "cell_type": "code",
   "execution_count": 1,
   "metadata": {},
   "outputs": [
    {
     "name": "stderr",
     "output_type": "stream",
     "text": [
      "C:\\Users\\BIGNETWORK\\AppData\\Local\\Packages\\PythonSoftwareFoundation.Python.3.10_qbz5n2kfra8p0\\LocalCache\\local-packages\\Python310\\site-packages\\tqdm\\auto.py:21: TqdmWarning: IProgress not found. Please update jupyter and ipywidgets. See https://ipywidgets.readthedocs.io/en/stable/user_install.html\n",
      "  from .autonotebook import tqdm as notebook_tqdm\n"
     ]
    }
   ],
   "source": [
    "import pandas as pd\n",
    "import numpy as np\n",
    "import os\n",
    "import re\n",
    "import matplotlib.pyplot as plt\n",
    "%matplotlib inline\n",
    "import seaborn as sns\n",
    "import plotly.express as px\n",
    "import spacy\n",
    "import emoji\n",
    "import nltk\n",
    "#import spacy_udpipe\n",
    "#nltk.download('stopwords')\n",
    "from nltk.corpus import stopwords, wordnet\n",
    "from nltk.tokenize import word_tokenize , RegexpTokenizer\n",
    "from nltk.stem import SnowballStemmer\n",
    "#from nltk.stem.isri import ISRIStemmer\n",
    "#from nltk.stem import WordNetLemmatizer\n",
    "import qalsadi.lemmatizer\n",
    "#from nltk.stem.snowball import FrenchStemmer\n",
    "#from transformers import pipeline\n",
    "from langdetect import detect_langs, DetectorFactory,LangDetectException\n",
    "#from tashaphyne.stemming import ArabicLightStemmer\n",
    "from fuzzywuzzy import fuzz,process\n",
    "import tensorflow as tf\n",
    "import tensorflow_hub as hub\n",
    "from sklearn.feature_extraction.text import TfidfVectorizer\n",
    "from sklearn.model_selection import train_test_split,cross_val_score\n",
    "from sklearn.linear_model import LogisticRegression\n",
    "from sklearn.svm import SVC,LinearSVC\n",
    "from transformers import BertModel, BertTokenizer\n"
   ]
  },
  {
   "cell_type": "code",
   "execution_count": 2,
   "metadata": {},
   "outputs": [],
   "source": [
    "df0=pd.read_excel(\"C:/Users/BIGNETWORK/Desktop/PFE/dataset/project/git-one/datasets/resaux_comments.xlsx\")\n",
    "df1=pd.read_excel(\"C:/Users/BIGNETWORK/Desktop/PFE/dataset/project/git-one/datasets/hateonly_mehdi.xlsx\")\n",
    "df2=pd.read_excel(\"C:/Users/BIGNETWORK/Desktop/PFE/dataset/project/git-one/datasets/fb_comments.xlsx\")\n",
    "df3=pd.read_excel(\"C:/Users/BIGNETWORK/Desktop/PFE/dataset/project/git-one/datasets/hainer_ranim.xlsx\")\n",
    "df4=pd.read_excel(\"C:/Users/BIGNETWORK/Desktop/PFE/dataset/project/git-one/datasets/neutre_mehdi.xlsx\")\n",
    "df5=pd.read_excel(\"C:/Users/BIGNETWORK/Desktop/PFE/dataset/project/git-one/datasets/newest.xlsx\")"
   ]
  },
  {
   "cell_type": "code",
   "execution_count": 3,
   "metadata": {},
   "outputs": [],
   "source": [
    "df = pd.concat([df0, df1, df2, df3,df4,df5], axis=0, ignore_index=True)"
   ]
  },
  {
   "cell_type": "code",
   "execution_count": 4,
   "metadata": {},
   "outputs": [
    {
     "data": {
      "text/html": [
       "<div>\n",
       "<style scoped>\n",
       "    .dataframe tbody tr th:only-of-type {\n",
       "        vertical-align: middle;\n",
       "    }\n",
       "\n",
       "    .dataframe tbody tr th {\n",
       "        vertical-align: top;\n",
       "    }\n",
       "\n",
       "    .dataframe thead th {\n",
       "        text-align: right;\n",
       "    }\n",
       "</style>\n",
       "<table border=\"1\" class=\"dataframe\">\n",
       "  <thead>\n",
       "    <tr style=\"text-align: right;\">\n",
       "      <th></th>\n",
       "      <th>comments</th>\n",
       "      <th>class</th>\n",
       "    </tr>\n",
       "  </thead>\n",
       "  <tbody>\n",
       "    <tr>\n",
       "      <th>0</th>\n",
       "      <td>اذا قعدت تدير على جيزي مرة الجاي تصور فيديو به...</td>\n",
       "      <td>0.0</td>\n",
       "    </tr>\n",
       "    <tr>\n",
       "      <th>1</th>\n",
       "      <td>جمعة جمعة وكمل الباك مي نكما.تكم</td>\n",
       "      <td>NaN</td>\n",
       "    </tr>\n",
       "    <tr>\n",
       "      <th>2</th>\n",
       "      <td>النزاهة؟؟ و النزاهة في الخدمات و حق المشتركين ...</td>\n",
       "      <td>0.0</td>\n",
       "    </tr>\n",
       "    <tr>\n",
       "      <th>3</th>\n",
       "      <td>Votre réseau est devenu médiocre malheureusement</td>\n",
       "      <td>0.0</td>\n",
       "    </tr>\n",
       "    <tr>\n",
       "      <th>4</th>\n",
       "      <td>اكيد ما حبش يرجع الأموال المنهوبة التي ينتظرها...</td>\n",
       "      <td>1.0</td>\n",
       "    </tr>\n",
       "    <tr>\n",
       "      <th>...</th>\n",
       "      <td>...</td>\n",
       "      <td>...</td>\n",
       "    </tr>\n",
       "    <tr>\n",
       "      <th>18458</th>\n",
       "      <td>غير الخرطي والكذب مكان والو غير تفلكسي يسرقولك...</td>\n",
       "      <td>0.0</td>\n",
       "    </tr>\n",
       "    <tr>\n",
       "      <th>18459</th>\n",
       "      <td>ني صحة عيدكم ني شكوبي سراقين ياناس اخطاكم من ج...</td>\n",
       "      <td>-1.0</td>\n",
       "    </tr>\n",
       "    <tr>\n",
       "      <th>18460</th>\n",
       "      <td>إنقطاع في تغطية شبكة الهاتف النقال  مناطق  في ...</td>\n",
       "      <td>0.0</td>\n",
       "    </tr>\n",
       "    <tr>\n",
       "      <th>18461</th>\n",
       "      <td>Kraht djizi mn l3bd adha saamt yo9tl</td>\n",
       "      <td>1.0</td>\n",
       "    </tr>\n",
       "    <tr>\n",
       "      <th>18462</th>\n",
       "      <td>@ssihem78 ou kifach lazem une autre carte sim !</td>\n",
       "      <td>0.0</td>\n",
       "    </tr>\n",
       "  </tbody>\n",
       "</table>\n",
       "<p>18463 rows × 2 columns</p>\n",
       "</div>"
      ],
      "text/plain": [
       "                                                comments  class\n",
       "0      اذا قعدت تدير على جيزي مرة الجاي تصور فيديو به...    0.0\n",
       "1                       جمعة جمعة وكمل الباك مي نكما.تكم    NaN\n",
       "2      النزاهة؟؟ و النزاهة في الخدمات و حق المشتركين ...    0.0\n",
       "3       Votre réseau est devenu médiocre malheureusement    0.0\n",
       "4      اكيد ما حبش يرجع الأموال المنهوبة التي ينتظرها...    1.0\n",
       "...                                                  ...    ...\n",
       "18458  غير الخرطي والكذب مكان والو غير تفلكسي يسرقولك...    0.0\n",
       "18459  ني صحة عيدكم ني شكوبي سراقين ياناس اخطاكم من ج...   -1.0\n",
       "18460  إنقطاع في تغطية شبكة الهاتف النقال  مناطق  في ...    0.0\n",
       "18461               Kraht djizi mn l3bd adha saamt yo9tl    1.0\n",
       "18462    @ssihem78 ou kifach lazem une autre carte sim !    0.0\n",
       "\n",
       "[18463 rows x 2 columns]"
      ]
     },
     "execution_count": 4,
     "metadata": {},
     "output_type": "execute_result"
    }
   ],
   "source": [
    "df = df.sample(frac=1).reset_index(drop=True)\n",
    "df"
   ]
  },
  {
   "cell_type": "code",
   "execution_count": 169,
   "metadata": {},
   "outputs": [],
   "source": [
    "df.to_excel(\"C:/Users/BIGNETWORK/Desktop/PFE/dataset/dataset.xlsx\")"
   ]
  },
  {
   "cell_type": "code",
   "execution_count": 5,
   "metadata": {},
   "outputs": [],
   "source": [
    "df=df.dropna(subset = ['comments'])"
   ]
  },
  {
   "cell_type": "code",
   "execution_count": 6,
   "metadata": {},
   "outputs": [
    {
     "data": {
      "text/plain": [
       "0"
      ]
     },
     "execution_count": 6,
     "metadata": {},
     "output_type": "execute_result"
    }
   ],
   "source": [
    "df['comments'].isna().sum()"
   ]
  },
  {
   "attachments": {},
   "cell_type": "markdown",
   "metadata": {},
   "source": [
    "*** \n",
    "---\n",
    "___"
   ]
  },
  {
   "attachments": {},
   "cell_type": "markdown",
   "metadata": {},
   "source": [
    "## <span style='font-family:Georgia'> Preprocessing of Text."
   ]
  },
  {
   "attachments": {},
   "cell_type": "markdown",
   "metadata": {},
   "source": [
    "### <span style='font-family:serif'> Function to Remove Emojis"
   ]
  },
  {
   "cell_type": "code",
   "execution_count": 7,
   "metadata": {},
   "outputs": [],
   "source": [
    "def strip_emoji(text):\n",
    "    return emoji.replace_emoji(text,replace=\"\")"
   ]
  },
  {
   "attachments": {},
   "cell_type": "markdown",
   "metadata": {},
   "source": [
    "### <span style='font-family:serif'> Removing stop words"
   ]
  },
  {
   "cell_type": "code",
   "execution_count": 8,
   "metadata": {},
   "outputs": [],
   "source": [
    "# Load stopwords for each language\n",
    "with open('C:/Users/BIGNETWORK/Desktop/PFE/dataset/project/git-one/Algerian-Arabic-stop-words.txt', 'r', encoding='utf-8') as f:\n",
    "    stop_words_ar_dz = set([line.strip() for line in f])\n",
    "stop_words_en = set(stopwords.words('english'))\n",
    "stop_words_fr = set(stopwords.words('french'))\n",
    "# Create a custom tokenizer for Arabic words\n",
    "tokenizer = RegexpTokenizer('\\w+|\\$[\\d\\.]+|\\S+')\n",
    "# Define a function to remove stop words from a text\n",
    "def remove_stopwords(text):\n",
    "    words = tokenizer.tokenize(text)\n",
    "    words_filtered = []\n",
    "    for word in words:\n",
    "        if word not in stop_words_ar_dz and word not in stop_words_en and word not in stop_words_fr:\n",
    "            words_filtered.append(word)\n",
    "    return ' '.join(words_filtered)\n"
   ]
  },
  {
   "attachments": {},
   "cell_type": "markdown",
   "metadata": {},
   "source": [
    "### <span style='font-family:serif'> Fucntion to remove special characters, URLs, duplicated letters, punctuations"
   ]
  },
  {
   "cell_type": "code",
   "execution_count": 9,
   "metadata": {},
   "outputs": [],
   "source": [
    "# Define a function to perform the text cleaning operations\n",
    "def clean_text(text):\n",
    "    text = re.sub(r'[\\r\\n]+', ' ', text).lower()  \n",
    "    text = re.sub(r\"(?:\\@|https?\\://)\\S+\", \"\", text) #URLs\n",
    "    #text = re.sub(r'@\\w+', '', text)\n",
    "    text = re.sub(r'[^\\w\\s]', ' ', text)  # Remove punctuation marks \n",
    "    text = re.sub(r'\\b\\d+\\b', '', text) # Remove only standalone numbers\n",
    "    text = re.sub(r'[@#&$]\\w+', '', text)  # Remove special characters\n",
    "    text = re.sub(r'(\\w{1})(\\1{2,})', r'\\1', text) # remove duplicated letters\n",
    "    return text"
   ]
  },
  {
   "cell_type": "code",
   "execution_count": 10,
   "metadata": {},
   "outputs": [
    {
     "name": "stdout",
     "output_type": "stream",
     "text": [
      "ان من نفلكسي لا  ولا  الف لان وينروح انقبض الانترانت بطل \n"
     ]
    }
   ],
   "source": [
    "print(clean_text('ان.من.نفلكسي.لا.1500.ولا.1000.الف.لان.وينروح.انقبض.الانترانت.بطل.'))"
   ]
  },
  {
   "attachments": {},
   "cell_type": "markdown",
   "metadata": {},
   "source": [
    "### <span style='font-family:serif'> Function to remove mutiple sequence spaces"
   ]
  },
  {
   "cell_type": "code",
   "execution_count": 11,
   "metadata": {},
   "outputs": [],
   "source": [
    "def remove_mult_spaces(text):\n",
    "    return re.sub(\"\\s\\s+\" , \" \", text)"
   ]
  },
  {
   "attachments": {},
   "cell_type": "markdown",
   "metadata": {},
   "source": [
    "### <span style='font-family:serif'> Function for language detection"
   ]
  },
  {
   "cell_type": "code",
   "execution_count": 12,
   "metadata": {},
   "outputs": [],
   "source": [
    "DetectorFactory.seed = 0  # Set the random seed for reproducibility\n",
    "# Set the detection threshold to 0.7\n",
    "DetectorFactory.threshold = 0.7\n",
    "def lang_det(texte):\n",
    "    try:\n",
    "        langs = detect_langs(texte)\n",
    "        for lang in langs:\n",
    "            if lang.prob >= 0.999994:\n",
    "                langage = lang.lang\n",
    "            else:\n",
    "                langage = 'dz'\n",
    "        if langage not in ['en','fr']:\n",
    "            langage = 'dz'\n",
    "    except LangDetectException:\n",
    "        langage = 'dz'\n",
    "    \n",
    "    return langage"
   ]
  },
  {
   "cell_type": "code",
   "execution_count": 13,
   "metadata": {},
   "outputs": [
    {
     "name": "stdout",
     "output_type": "stream",
     "text": [
      "fr\n"
     ]
    }
   ],
   "source": [
    "print(lang_det('Je ne sais pas pourquoi.  Ça marche très bien sauf le vendredi a partir de 13h  le moment du hirak . C  un problème.'))"
   ]
  },
  {
   "attachments": {},
   "cell_type": "markdown",
   "metadata": {},
   "source": [
    "### <span style='font-family:serif'> Fonction that translate from Arabizi to Algerian Arabic alphabet using mapping dictionary"
   ]
  },
  {
   "cell_type": "code",
   "execution_count": 14,
   "metadata": {},
   "outputs": [
    {
     "name": "stdout",
     "output_type": "stream",
     "text": [
      "نافليكسي و سنكس تعول علاه وين راهي لفايدا سنكس راهي ڥري تعاييي ريصو ماتڨتوش تصاڨموه وله يلا عايب عليكوم \n"
     ]
    }
   ],
   "source": [
    "# Define the mapping dictionary\n",
    "mapping = {\n",
    "    'eau':'و','ai':'ي','ae':'ع','a': 'ا','cc':'ك','ca':'ك','co':'ك', 'gh':'غ', 'kh':'خ','sh':'ش',\n",
    "    'ch':'ش','dj':'ج','g': 'ڨ', 'h': 'ه', 'i': 'ي', 'j': 'ج', 'k': 'ك', 'l': 'ل','e': '', 'f': 'ف',\n",
    "    'm': 'م', 'n': 'ن', 'ou': 'و', 'o': 'و', 'p': 'ب', 'q': 'ق', 'r': 'ر','d': 'د',\n",
    "    's': 'ص', 't': 'ت', 'u': 'ي', 'v': 'ڥ', 'w': 'و', 'x': 'كس','b': 'ب', 'c': 'س',\n",
    "    'y': 'ي', 'z': 'ز','9':'ق','7':'ح','é':'ي','3':'ع','1':'يا','5':'خ',\n",
    "}\n",
    "# Define the translation function\n",
    "def arabizi_to_arabic(text):\n",
    "    # Replace each Arabizi letter with its corresponding Arabic alphabet dialect letter\n",
    "    for letter, value in mapping.items():\n",
    "        text = re.sub(letter, value, text)\n",
    "    return text\n",
    "\n",
    "# Example usage\n",
    "arabizi_text = \"naflixy w cnx t3oul 3lah win rahi lfayda cnx rahi vrai t3ayii réseau matgtouch tsagmouh wlh ila 3ayb 3likoum \"\n",
    "arabic_text = arabizi_to_arabic(arabizi_text)\n",
    "print(arabic_text)"
   ]
  },
  {
   "attachments": {},
   "cell_type": "markdown",
   "metadata": {},
   "source": [
    "### <span style='font-family:serif'> Function to  apply stemming to words"
   ]
  },
  {
   "cell_type": "code",
   "execution_count": 15,
   "metadata": {},
   "outputs": [],
   "source": [
    "def stem_words(text):\n",
    "    language = lang_det(text)\n",
    "    stemmer = None\n",
    "    words = tokenizer.tokenize(text)\n",
    "    if language == 'dz':\n",
    "        text=arabizi_to_arabic(text)\n",
    "        stemmed_text = text\n",
    "    elif language == 'fr':\n",
    "        stemmer = SnowballStemmer('french')\n",
    "        stemmed_words = [stemmer.stem(word) for word in words]\n",
    "        stemmed_text = ' '.join(stemmed_words)\n",
    "    elif language == 'en':\n",
    "        stemmer = SnowballStemmer('english')\n",
    "        stemmed_words = [stemmer.stem(word) for word in words]\n",
    "        stemmed_text = ' '.join(stemmed_words)\n",
    "    else:\n",
    "        return text # No stemmer available for this language\n",
    "    \n",
    "    return stemmed_text"
   ]
  },
  {
   "attachments": {},
   "cell_type": "markdown",
   "metadata": {},
   "source": [
    "### <span style='font-family:serif'> Function to apply lemmatization to words"
   ]
  },
  {
   "cell_type": "code",
   "execution_count": 24,
   "metadata": {},
   "outputs": [
    {
     "name": "stderr",
     "output_type": "stream",
     "text": [
      "[nltk_data] Downloading package wordnet to\n",
      "[nltk_data]     C:\\Users\\BIGNETWORK\\AppData\\Roaming\\nltk_data...\n",
      "[nltk_data]   Package wordnet is already up-to-date!\n",
      "[nltk_data] Downloading package punkt to\n",
      "[nltk_data]     C:\\Users\\BIGNETWORK\\AppData\\Roaming\\nltk_data...\n",
      "[nltk_data]   Package punkt is already up-to-date!\n"
     ]
    },
    {
     "data": {
      "text/plain": [
       "True"
      ]
     },
     "execution_count": 24,
     "metadata": {},
     "output_type": "execute_result"
    }
   ],
   "source": [
    "nltk.download('wordnet')\n",
    "nltk.download('punkt')"
   ]
  },
  {
   "cell_type": "code",
   "execution_count": 16,
   "metadata": {},
   "outputs": [],
   "source": [
    "\n",
    "nlp_en = spacy.load('en_core_web_sm')\n",
    "nlp_fr = spacy.load('fr_core_news_sm')\n",
    "def lemmatize(text):\n",
    "    # Tokenize the text\n",
    "    words = tokenizer.tokenize(text)\n",
    "\n",
    "    # Define lemmatizer for each language\n",
    "    lemma_dz = qalsadi.lemmatizer.Lemmatizer()\n",
    "    # Lemmatize each word in the text\n",
    "    lemmatized_words = []\n",
    "    lang = lang_det(text)\n",
    "    if lang =='en':\n",
    "        doc = nlp_en(text)\n",
    "        for token in doc:\n",
    "            lemma = token.lemma_\n",
    "            lemmatized_words.append(lemma)\n",
    "    elif lang =='fr':\n",
    "        doc = nlp_fr(text)\n",
    "        for token in doc:\n",
    "            lemma = token.lemma_\n",
    "            lemmatized_words.append(lemma)\n",
    "    elif lang =='dz':\n",
    "        for word in words:\n",
    "            lemma = lemma_dz.lemmatize(word)\n",
    "            lemmatized_words.append(lemma)\n",
    "    \n",
    "    # Join the lemmatized words to form the lemmatized text\n",
    "    lemmatized_text = ' '.join(lemmatized_words)\n",
    "    \n",
    "    return lemmatized_text"
   ]
  },
  {
   "attachments": {},
   "cell_type": "markdown",
   "metadata": {},
   "source": [
    "### <span style='font-family:serif'> Function to Preprocess the text by applying all above functions"
   ]
  },
  {
   "cell_type": "code",
   "execution_count": 17,
   "metadata": {},
   "outputs": [],
   "source": [
    "def preprocess1(text):\n",
    "    text = strip_emoji(text)\n",
    "    text = clean_text(text)\n",
    "    text = remove_mult_spaces(text)\n",
    "    return text\n"
   ]
  },
  {
   "cell_type": "code",
   "execution_count": 18,
   "metadata": {},
   "outputs": [],
   "source": [
    "def preprocess2(text):\n",
    "    text = stem_words(text)\n",
    "    text = remove_stopwords(text)\n",
    "    text = lemmatize(text)\n",
    "    return text"
   ]
  },
  {
   "cell_type": "code",
   "execution_count": 98,
   "metadata": {},
   "outputs": [],
   "source": [
    "if df['comments'].dtype == 'object':\n",
    "    df['comments_clean'] = df['comments'].apply(preprocess1)"
   ]
  },
  {
   "cell_type": "code",
   "execution_count": 19,
   "metadata": {},
   "outputs": [],
   "source": [
    "if df1['comments'].dtype == 'object':\n",
    "    df1['comments_clean'] = df1['comments'].apply(preprocess1)"
   ]
  },
  {
   "cell_type": "code",
   "execution_count": 99,
   "metadata": {},
   "outputs": [
    {
     "data": {
      "text/plain": [
       "0"
      ]
     },
     "execution_count": 99,
     "metadata": {},
     "output_type": "execute_result"
    }
   ],
   "source": [
    "df['comments_clean'].replace('', np.nan, inplace=True)\n",
    "missing_values = df[df['comments_clean'].isnull()]\n",
    "#df=df.dropna(subset = ['comments_clean'])\n",
    "len(missing_values)"
   ]
  },
  {
   "cell_type": "code",
   "execution_count": 20,
   "metadata": {},
   "outputs": [
    {
     "data": {
      "text/plain": [
       "9"
      ]
     },
     "execution_count": 20,
     "metadata": {},
     "output_type": "execute_result"
    }
   ],
   "source": [
    "df1['comments_clean'].replace('', np.nan, inplace=True)\n",
    "missing_values = df1[df1['comments_clean'].isnull()]\n",
    "#df=df.dropna(subset = ['comments_clean'])\n",
    "len(missing_values)"
   ]
  },
  {
   "cell_type": "code",
   "execution_count": 100,
   "metadata": {},
   "outputs": [],
   "source": [
    "df=df.dropna(subset = ['comments_clean'])"
   ]
  },
  {
   "cell_type": "code",
   "execution_count": 21,
   "metadata": {},
   "outputs": [],
   "source": [
    "df1=df1.dropna(subset = ['comments_clean'])"
   ]
  },
  {
   "cell_type": "code",
   "execution_count": 22,
   "metadata": {},
   "outputs": [
    {
     "data": {
      "text/html": [
       "<div>\n",
       "<style scoped>\n",
       "    .dataframe tbody tr th:only-of-type {\n",
       "        vertical-align: middle;\n",
       "    }\n",
       "\n",
       "    .dataframe tbody tr th {\n",
       "        vertical-align: top;\n",
       "    }\n",
       "\n",
       "    .dataframe thead th {\n",
       "        text-align: right;\n",
       "    }\n",
       "</style>\n",
       "<table border=\"1\" class=\"dataframe\">\n",
       "  <thead>\n",
       "    <tr style=\"text-align: right;\">\n",
       "      <th></th>\n",
       "      <th>comments</th>\n",
       "      <th>class</th>\n",
       "      <th>comments_clean</th>\n",
       "    </tr>\n",
       "  </thead>\n",
       "  <tbody>\n",
       "    <tr>\n",
       "      <th>0</th>\n",
       "      <td>Conx ta3koum dayra ki lhaaaam w say</td>\n",
       "      <td>1</td>\n",
       "      <td>conx ta3koum dayra ki lham w say</td>\n",
       "    </tr>\n",
       "    <tr>\n",
       "      <th>1</th>\n",
       "      <td>@djezzy.dz  connection  khraaaaa welat</td>\n",
       "      <td>-1</td>\n",
       "      <td>connection khra welat</td>\n",
       "    </tr>\n",
       "    <tr>\n",
       "      <th>2</th>\n",
       "      <td>Barkawna bla 5orti cnx ta3kom dayra kile5ra</td>\n",
       "      <td>-1</td>\n",
       "      <td>barkawna bla 5orti cnx ta3kom dayra kile5ra</td>\n",
       "    </tr>\n",
       "    <tr>\n",
       "      <th>3</th>\n",
       "      <td>Conx merdique</td>\n",
       "      <td>1</td>\n",
       "      <td>conx merdique</td>\n",
       "    </tr>\n",
       "    <tr>\n",
       "      <th>4</th>\n",
       "      <td>cnx dyalkom ki zbl 7acha l3ibad li chafo l cmntr</td>\n",
       "      <td>-1</td>\n",
       "      <td>cnx dyalkom ki zbl 7acha l3ibad li chafo l cmntr</td>\n",
       "    </tr>\n",
       "    <tr>\n",
       "      <th>...</th>\n",
       "      <td>...</td>\n",
       "      <td>...</td>\n",
       "      <td>...</td>\n",
       "    </tr>\n",
       "    <tr>\n",
       "      <th>352</th>\n",
       "      <td>Kadabiin 🖕🖕🖕🖕🖕🖕🖕🖕🖕🖕</td>\n",
       "      <td>-1</td>\n",
       "      <td>kadabiin</td>\n",
       "    </tr>\n",
       "    <tr>\n",
       "      <th>353</th>\n",
       "      <td>@sami_mo0 ils nous ont arnaqué hchawhalna 😒😒</td>\n",
       "      <td>1</td>\n",
       "      <td>ils nous ont arnaqué hchawhalna</td>\n",
       "    </tr>\n",
       "    <tr>\n",
       "      <th>354</th>\n",
       "      <td>Waraah conx ya thahnaa warahiiii</td>\n",
       "      <td>-1</td>\n",
       "      <td>waraah conx ya thahnaa warahi</td>\n",
       "    </tr>\n",
       "    <tr>\n",
       "      <th>355</th>\n",
       "      <td>Réseau 9r3a 😒😒 3ndi djezzy c vr des offres mla...</td>\n",
       "      <td>1</td>\n",
       "      <td>réseau 9r3a 3ndi djezzy c vr des offres mlah m...</td>\n",
       "    </tr>\n",
       "    <tr>\n",
       "      <th>356</th>\n",
       "      <td>Votre connexion Internet c'est de la merde !!!</td>\n",
       "      <td>1</td>\n",
       "      <td>votre connexion internet c est de la merde</td>\n",
       "    </tr>\n",
       "  </tbody>\n",
       "</table>\n",
       "<p>348 rows × 3 columns</p>\n",
       "</div>"
      ],
      "text/plain": [
       "                                              comments  class  \\\n",
       "0                  Conx ta3koum dayra ki lhaaaam w say      1   \n",
       "1               @djezzy.dz  connection  khraaaaa welat     -1   \n",
       "2          Barkawna bla 5orti cnx ta3kom dayra kile5ra     -1   \n",
       "3                                        Conx merdique      1   \n",
       "4     cnx dyalkom ki zbl 7acha l3ibad li chafo l cmntr     -1   \n",
       "..                                                 ...    ...   \n",
       "352                                Kadabiin 🖕🖕🖕🖕🖕🖕🖕🖕🖕🖕     -1   \n",
       "353       @sami_mo0 ils nous ont arnaqué hchawhalna 😒😒      1   \n",
       "354                   Waraah conx ya thahnaa warahiiii     -1   \n",
       "355  Réseau 9r3a 😒😒 3ndi djezzy c vr des offres mla...      1   \n",
       "356     Votre connexion Internet c'est de la merde !!!      1   \n",
       "\n",
       "                                        comments_clean  \n",
       "0                     conx ta3koum dayra ki lham w say  \n",
       "1                                connection khra welat  \n",
       "2          barkawna bla 5orti cnx ta3kom dayra kile5ra  \n",
       "3                                        conx merdique  \n",
       "4     cnx dyalkom ki zbl 7acha l3ibad li chafo l cmntr  \n",
       "..                                                 ...  \n",
       "352                                          kadabiin   \n",
       "353                   ils nous ont arnaqué hchawhalna   \n",
       "354                      waraah conx ya thahnaa warahi  \n",
       "355  réseau 9r3a 3ndi djezzy c vr des offres mlah m...  \n",
       "356        votre connexion internet c est de la merde   \n",
       "\n",
       "[348 rows x 3 columns]"
      ]
     },
     "execution_count": 22,
     "metadata": {},
     "output_type": "execute_result"
    }
   ],
   "source": [
    "df1"
   ]
  },
  {
   "attachments": {},
   "cell_type": "markdown",
   "metadata": {},
   "source": [
    "### <span style='font-family:serif'> Regroupement et traitement de fautes d’orthographe"
   ]
  },
  {
   "cell_type": "code",
   "execution_count": 23,
   "metadata": {},
   "outputs": [],
   "source": [
    "# function to get soundex code for a given word\n",
    "def get_soundex(word):\n",
    "    code = ''\n",
    "    for char in word.upper():\n",
    "        if char in ['B', 'F', 'P', 'V']:\n",
    "            code += '1'\n",
    "        elif char in ['C', 'G', 'J', 'K', 'Q', 'S', 'X', 'Z']:\n",
    "            code += '2'\n",
    "        elif char in ['D', 'T']:\n",
    "            code += '3'\n",
    "        elif char == 'L':\n",
    "            code += '4'\n",
    "        elif char in ['M', 'N']:\n",
    "            code += '5'\n",
    "        elif char == 'R':\n",
    "            code += '6'\n",
    "        else:\n",
    "            code += '0'\n",
    "    return code\n",
    "\n",
    "# set threshold for similarity score\n",
    "threshold =88\n",
    "fuzzy_threshold = 90\n",
    "\n",
    "# create dictionary to hold fuzzywuzzy scores and their associated words\n",
    "fuzzy_dict = {}\n",
    "\n",
    "# create dictionary to hold soundex codes and their associated words\n",
    "code_dict = {}\n",
    "\n",
    "# iterate over all words in the comments\n",
    "for comment in df1['comments_clean']:\n",
    "    words = tokenizer.tokenize(comment)\n",
    "    for word in words:\n",
    "        # check if word is in Arabic script or not\n",
    "        if any('\\u0600' <= c <= '\\u06FF' for c in word):\n",
    "            continue  # skip Arabic words\n",
    "        # calculate soundex code for the word\n",
    "        code = get_soundex(word)\n",
    "        # add word to the dictionary\n",
    "        if code in code_dict:\n",
    "            code_dict[code].append(word)\n",
    "        else:\n",
    "            code_dict[code] = [word]\n",
    "        \n",
    "        # calculate fuzzywuzzy score for the word\n",
    "        fuzzy_scores = process.extract(word, words)\n",
    "        for score, match in fuzzy_scores:\n",
    "            if isinstance(score, (int, float)) and score >= fuzzy_threshold and match != word:\n",
    "                if word in fuzzy_dict:\n",
    "                     fuzzy_dict[word].append(match)\n",
    "                else:\n",
    "                     fuzzy_dict[word] = [match]\n",
    "            \n",
    "# create dictionary to hold word replacements\n",
    "replace_dict = {}\n",
    "\n",
    "# iterate over all soundex codes and associated words\n",
    "for code, words in code_dict.items():\n",
    "    # skip codes with only one word\n",
    "    if len(words) == 1:\n",
    "        continue\n",
    "    # compare all pairs of words with the same code\n",
    "    for i in range(len(words)):\n",
    "        for j in range(i+1, len(words)):\n",
    "            score = fuzz.token_sort_ratio(words[i], words[j])\n",
    "            # if the similarity score is above the threshold, add the word pair to the replacement dictionary\n",
    "            if score >= threshold:\n",
    "                replace_dict[words[i]] = words[j]\n",
    "                replace_dict[words[j]] = words[i]\n",
    "\n",
    "# iterate over all comments and replace words with their soundex group words\n",
    "for i in range(len(df1)):\n",
    "    #print(df.loc[i, 'comments_clean'])\n",
    "    try:\n",
    "        words =tokenizer.tokenize(df1.loc[i, 'comments_clean'])\n",
    "        for j in range(len(words)):\n",
    "            # check if word is in Arabic script or not\n",
    "            if any('\\u0600' <= c <= '\\u06FF' for c in words[j]):\n",
    "                continue  # skip Arabic words\n",
    "            # calculate soundex code for the word\n",
    "            code = get_soundex(words[j])\n",
    "            # check if the code has associated words\n",
    "            if code in code_dict:\n",
    "                # check if the word has a replacement\n",
    "                if words[j] in replace_dict:\n",
    "                    words[j] = replace_dict[words[j]]\n",
    "                else:\n",
    "                    # check if any of the associated words have a replacement\n",
    "                    for word in code_dict[code]:\n",
    "                        if word in replace_dict:\n",
    "                            words[j] = replace_dict[word]\n",
    "                            break\n",
    "    except:\n",
    "        continue\n",
    "    # join the words back into a string and replace the comment in the dataframe\n",
    "    df1.loc[i, 'comments_corr'] = ' '.join(words)\n",
    "    # check if 'comments_corr' is NaN and set it to original value\n",
    "\n",
    "    '''if not pd.isna(df.loc[i, 'comments_clean']):\n",
    "        df.loc[i, 'comments_corr'].replace(df.loc[i, 'comments_clean'], np.nan, inplace=True)\n",
    "'''\n",
    "df1['comments_corr'].fillna(df1['comments_clean'], inplace=True)"
   ]
  },
  {
   "cell_type": "code",
   "execution_count": 26,
   "metadata": {},
   "outputs": [
    {
     "data": {
      "text/html": [
       "<div>\n",
       "<style scoped>\n",
       "    .dataframe tbody tr th:only-of-type {\n",
       "        vertical-align: middle;\n",
       "    }\n",
       "\n",
       "    .dataframe tbody tr th {\n",
       "        vertical-align: top;\n",
       "    }\n",
       "\n",
       "    .dataframe thead th {\n",
       "        text-align: right;\n",
       "    }\n",
       "</style>\n",
       "<table border=\"1\" class=\"dataframe\">\n",
       "  <thead>\n",
       "    <tr style=\"text-align: right;\">\n",
       "      <th></th>\n",
       "      <th>comments</th>\n",
       "      <th>class</th>\n",
       "      <th>comments_clean</th>\n",
       "      <th>comments_corr</th>\n",
       "    </tr>\n",
       "  </thead>\n",
       "  <tbody>\n",
       "    <tr>\n",
       "      <th>197</th>\n",
       "      <td>هدا رجعتو عليه ياسراقين</td>\n",
       "      <td>-1</td>\n",
       "      <td>هدا رجعتو عليه ياسراقين</td>\n",
       "      <td>هدا رجعتو عليه ياسراقين</td>\n",
       "    </tr>\n",
       "    <tr>\n",
       "      <th>2</th>\n",
       "      <td>Barkawna bla 5orti cnx ta3kom dayra kile5ra</td>\n",
       "      <td>-1</td>\n",
       "      <td>barkawna bla 5orti cnx ta3kom dayra kile5ra</td>\n",
       "      <td>barkawna bla 5orti cnx ta3kom dayra kile5ra</td>\n",
       "    </tr>\n",
       "    <tr>\n",
       "      <th>95</th>\n",
       "      <td>Roho t9wdo hdi conx hdi t3yo bikom ba djezzy t...</td>\n",
       "      <td>-1</td>\n",
       "      <td>roho t9wdo hdi conx hdi t3yo bikom ba djezzy t...</td>\n",
       "      <td>roho t9wdo hdi conx hdi t3yo bikom fi djezzy t...</td>\n",
       "    </tr>\n",
       "    <tr>\n",
       "      <th>37</th>\n",
       "      <td>ماكانش انترنات يا السراقين</td>\n",
       "      <td>-1</td>\n",
       "      <td>ماكانش انترنات يا السراقين</td>\n",
       "      <td>ماكانش انترنات يا السراقين</td>\n",
       "    </tr>\n",
       "    <tr>\n",
       "      <th>146</th>\n",
       "      <td>Djezzy سراقيين باقي يومين على الفاتورة تخلصوا ...</td>\n",
       "      <td>-1</td>\n",
       "      <td>djezzy سراقيين باقي يومين على الفاتورة تخلصوا ...</td>\n",
       "      <td>djezzy سراقيين باقي يومين على الفاتورة تخلصوا ...</td>\n",
       "    </tr>\n",
       "    <tr>\n",
       "      <th>314</th>\n",
       "      <td>وعلاش كونكسيو تاعكم تقيل تعايو راهج</td>\n",
       "      <td>-1</td>\n",
       "      <td>وعلاش كونكسيو تاعكم تقيل تعايو راهج</td>\n",
       "      <td>وعلاش كونكسيو تاعكم تقيل تعايو راهج</td>\n",
       "    </tr>\n",
       "    <tr>\n",
       "      <th>70</th>\n",
       "      <td>Nik matkoum kamel ki djezzy ki oredoo ki mobil...</td>\n",
       "      <td>-1</td>\n",
       "      <td>nik matkoum kamel ki djezzy ki oredoo ki mobil...</td>\n",
       "      <td>nik matkoum kamel ki djezzy ki oredoo ki mobil...</td>\n",
       "    </tr>\n",
       "    <tr>\n",
       "      <th>103</th>\n",
       "      <td>تربحو شعر كونكسيو كي شعر نتوما كي شعر يخي شكوبي</td>\n",
       "      <td>1</td>\n",
       "      <td>تربحو شعر كونكسيو كي شعر نتوما كي شعر يخي شكوبي</td>\n",
       "      <td>تربحو شعر كونكسيو كي شعر نتوما كي شعر يخي شكوبي</td>\n",
       "    </tr>\n",
       "    <tr>\n",
       "      <th>218</th>\n",
       "      <td>ياو ملي فليكسيت وانا ندعي عليكم او قريب يخلاص ...</td>\n",
       "      <td>1</td>\n",
       "      <td>ياو ملي فليكسيت وانا ندعي عليكم او قريب يخلاص ...</td>\n",
       "      <td>ياو ملي فليكسيت وانا ندعي عليكم او قريب يخلاص ...</td>\n",
       "    </tr>\n",
       "    <tr>\n",
       "      <th>161</th>\n",
       "      <td>كنت راح نشري جيزي قريت التعليقات بدلت رايي نكر...</td>\n",
       "      <td>1</td>\n",
       "      <td>كنت راح نشري جيزي قريت التعليقات بدلت رايي نكر...</td>\n",
       "      <td>كنت راح نشري جيزي قريت التعليقات بدلت رايي نكر...</td>\n",
       "    </tr>\n",
       "    <tr>\n",
       "      <th>348</th>\n",
       "      <td>ما عندنا 4g. في الجزائر جازي شبكه يهوديه.........</td>\n",
       "      <td>1</td>\n",
       "      <td>ما عندنا 4g في الجزائر جازي شبكه يهوديه لا تسر...</td>\n",
       "      <td>ما عندنا 4g في الجزائر جازي شبكه يهوديه لا تسر...</td>\n",
       "    </tr>\n",
       "    <tr>\n",
       "      <th>85</th>\n",
       "      <td>خرطى تسرقو وفيها محدودية سرقييين منافقييين</td>\n",
       "      <td>-1</td>\n",
       "      <td>خرطى تسرقو وفيها محدودية سرقين منافقين</td>\n",
       "      <td>خرطى تسرقو وفيها محدودية سرقين منافقين</td>\n",
       "    </tr>\n",
       "    <tr>\n",
       "      <th>187</th>\n",
       "      <td>سراقين الله ينعلكم كونيكسيون تع شعر تقيلة على ...</td>\n",
       "      <td>-1</td>\n",
       "      <td>سراقين الله ينعلكم كونيكسيون تع شعر تقيلة على ...</td>\n",
       "      <td>سراقين الله ينعلكم كونيكسيون تع شعر تقيلة على ...</td>\n",
       "    </tr>\n",
       "    <tr>\n",
       "      <th>273</th>\n",
       "      <td>ياا اليهوووود اخخخ تفو</td>\n",
       "      <td>-1</td>\n",
       "      <td>ياا اليهود اخ تفو</td>\n",
       "      <td>ياا اليهود اخ تفو</td>\n",
       "    </tr>\n",
       "    <tr>\n",
       "      <th>339</th>\n",
       "      <td>Ya les escrocs</td>\n",
       "      <td>-1</td>\n",
       "      <td>ya les escrocs</td>\n",
       "      <td>ya les escrocs</td>\n",
       "    </tr>\n",
       "    <tr>\n",
       "      <th>289</th>\n",
       "      <td>سواردكم حرام كونبكسيون زبالة ماتليقش و ريزو ير...</td>\n",
       "      <td>1</td>\n",
       "      <td>سواردكم حرام كونبكسيون زبالة ماتليقش و ريزو ير...</td>\n",
       "      <td>سواردكم حرام كونبكسيون زبالة ماتليقش و ريزو ير...</td>\n",
       "    </tr>\n",
       "    <tr>\n",
       "      <th>354</th>\n",
       "      <td>Waraah conx ya thahnaa warahiiii</td>\n",
       "      <td>-1</td>\n",
       "      <td>waraah conx ya thahnaa warahi</td>\n",
       "      <td>waraah conx ya thahnaa warahi</td>\n",
       "    </tr>\n",
       "    <tr>\n",
       "      <th>320</th>\n",
       "      <td>Enfin une offre correct même si votre réseau e...</td>\n",
       "      <td>1</td>\n",
       "      <td>enfin une offre correct même si votre réseau e...</td>\n",
       "      <td>enfin une offre correct même ki votre réseau e...</td>\n",
       "    </tr>\n",
       "    <tr>\n",
       "      <th>257</th>\n",
       "      <td>Le seule pays du monde li au lieu de commenter...</td>\n",
       "      <td>1</td>\n",
       "      <td>le seule pays du monde li au lieu de commenter...</td>\n",
       "      <td>le seule pays du monde li ça lieu de commenter...</td>\n",
       "    </tr>\n",
       "    <tr>\n",
       "      <th>343</th>\n",
       "      <td>😂😂😂😂😂😂لماذا الكذب والخداع</td>\n",
       "      <td>1</td>\n",
       "      <td>لماذا الكذب والخداع</td>\n",
       "      <td>لماذا الكذب والخداع</td>\n",
       "    </tr>\n",
       "  </tbody>\n",
       "</table>\n",
       "</div>"
      ],
      "text/plain": [
       "                                              comments  class  \\\n",
       "197                            هدا رجعتو عليه ياسراقين     -1   \n",
       "2          Barkawna bla 5orti cnx ta3kom dayra kile5ra     -1   \n",
       "95   Roho t9wdo hdi conx hdi t3yo bikom ba djezzy t...     -1   \n",
       "37                          ماكانش انترنات يا السراقين     -1   \n",
       "146  Djezzy سراقيين باقي يومين على الفاتورة تخلصوا ...     -1   \n",
       "314                وعلاش كونكسيو تاعكم تقيل تعايو راهج     -1   \n",
       "70   Nik matkoum kamel ki djezzy ki oredoo ki mobil...     -1   \n",
       "103    تربحو شعر كونكسيو كي شعر نتوما كي شعر يخي شكوبي      1   \n",
       "218  ياو ملي فليكسيت وانا ندعي عليكم او قريب يخلاص ...      1   \n",
       "161  كنت راح نشري جيزي قريت التعليقات بدلت رايي نكر...      1   \n",
       "348  ما عندنا 4g. في الجزائر جازي شبكه يهوديه.........      1   \n",
       "85          خرطى تسرقو وفيها محدودية سرقييين منافقييين     -1   \n",
       "187  سراقين الله ينعلكم كونيكسيون تع شعر تقيلة على ...     -1   \n",
       "273                             ياا اليهوووود اخخخ تفو     -1   \n",
       "339                                     Ya les escrocs     -1   \n",
       "289  سواردكم حرام كونبكسيون زبالة ماتليقش و ريزو ير...      1   \n",
       "354                   Waraah conx ya thahnaa warahiiii     -1   \n",
       "320  Enfin une offre correct même si votre réseau e...      1   \n",
       "257  Le seule pays du monde li au lieu de commenter...      1   \n",
       "343                          😂😂😂😂😂😂لماذا الكذب والخداع      1   \n",
       "\n",
       "                                        comments_clean  \\\n",
       "197                            هدا رجعتو عليه ياسراقين   \n",
       "2          barkawna bla 5orti cnx ta3kom dayra kile5ra   \n",
       "95   roho t9wdo hdi conx hdi t3yo bikom ba djezzy t...   \n",
       "37                          ماكانش انترنات يا السراقين   \n",
       "146  djezzy سراقيين باقي يومين على الفاتورة تخلصوا ...   \n",
       "314                وعلاش كونكسيو تاعكم تقيل تعايو راهج   \n",
       "70   nik matkoum kamel ki djezzy ki oredoo ki mobil...   \n",
       "103    تربحو شعر كونكسيو كي شعر نتوما كي شعر يخي شكوبي   \n",
       "218  ياو ملي فليكسيت وانا ندعي عليكم او قريب يخلاص ...   \n",
       "161  كنت راح نشري جيزي قريت التعليقات بدلت رايي نكر...   \n",
       "348  ما عندنا 4g في الجزائر جازي شبكه يهوديه لا تسر...   \n",
       "85              خرطى تسرقو وفيها محدودية سرقين منافقين   \n",
       "187  سراقين الله ينعلكم كونيكسيون تع شعر تقيلة على ...   \n",
       "273                                  ياا اليهود اخ تفو   \n",
       "339                                     ya les escrocs   \n",
       "289  سواردكم حرام كونبكسيون زبالة ماتليقش و ريزو ير...   \n",
       "354                      waraah conx ya thahnaa warahi   \n",
       "320  enfin une offre correct même si votre réseau e...   \n",
       "257  le seule pays du monde li au lieu de commenter...   \n",
       "343                                لماذا الكذب والخداع   \n",
       "\n",
       "                                         comments_corr  \n",
       "197                            هدا رجعتو عليه ياسراقين  \n",
       "2          barkawna bla 5orti cnx ta3kom dayra kile5ra  \n",
       "95   roho t9wdo hdi conx hdi t3yo bikom fi djezzy t...  \n",
       "37                          ماكانش انترنات يا السراقين  \n",
       "146  djezzy سراقيين باقي يومين على الفاتورة تخلصوا ...  \n",
       "314                وعلاش كونكسيو تاعكم تقيل تعايو راهج  \n",
       "70   nik matkoum kamel ki djezzy ki oredoo ki mobil...  \n",
       "103    تربحو شعر كونكسيو كي شعر نتوما كي شعر يخي شكوبي  \n",
       "218  ياو ملي فليكسيت وانا ندعي عليكم او قريب يخلاص ...  \n",
       "161  كنت راح نشري جيزي قريت التعليقات بدلت رايي نكر...  \n",
       "348  ما عندنا 4g في الجزائر جازي شبكه يهوديه لا تسر...  \n",
       "85              خرطى تسرقو وفيها محدودية سرقين منافقين  \n",
       "187  سراقين الله ينعلكم كونيكسيون تع شعر تقيلة على ...  \n",
       "273                                  ياا اليهود اخ تفو  \n",
       "339                                     ya les escrocs  \n",
       "289  سواردكم حرام كونبكسيون زبالة ماتليقش و ريزو ير...  \n",
       "354                      waraah conx ya thahnaa warahi  \n",
       "320  enfin une offre correct même ki votre réseau e...  \n",
       "257  le seule pays du monde li ça lieu de commenter...  \n",
       "343                                لماذا الكذب والخداع  "
      ]
     },
     "execution_count": 26,
     "metadata": {},
     "output_type": "execute_result"
    }
   ],
   "source": [
    "df1.sample(20)"
   ]
  },
  {
   "cell_type": "code",
   "execution_count": null,
   "metadata": {},
   "outputs": [],
   "source": [
    "if df['comments'].dtype == 'object':\n",
    "    df['comments_clean'] = df['comments_corr'].apply(preprocess2)"
   ]
  },
  {
   "cell_type": "code",
   "execution_count": 27,
   "metadata": {},
   "outputs": [],
   "source": [
    "if df1['comments'].dtype == 'object':\n",
    "    df1['comments_clean'] = df1['comments_corr'].apply(preprocess2)"
   ]
  },
  {
   "attachments": {},
   "cell_type": "markdown",
   "metadata": {},
   "source": [
    "### <span style='font-family:serif'> Dealing with Duplicates"
   ]
  },
  {
   "cell_type": "code",
   "execution_count": 190,
   "metadata": {},
   "outputs": [
    {
     "data": {
      "text/plain": [
       "0"
      ]
     },
     "execution_count": 190,
     "metadata": {},
     "output_type": "execute_result"
    }
   ],
   "source": [
    "df[\"comments_clean\"].duplicated().sum()"
   ]
  },
  {
   "cell_type": "code",
   "execution_count": 28,
   "metadata": {},
   "outputs": [
    {
     "data": {
      "text/plain": [
       "17"
      ]
     },
     "execution_count": 28,
     "metadata": {},
     "output_type": "execute_result"
    }
   ],
   "source": [
    "df1[\"comments_clean\"].duplicated().sum()"
   ]
  },
  {
   "cell_type": "code",
   "execution_count": 191,
   "metadata": {},
   "outputs": [],
   "source": [
    "df= df.drop_duplicates(subset=[\"comments_clean\"], keep=\"first\")"
   ]
  },
  {
   "cell_type": "code",
   "execution_count": 29,
   "metadata": {},
   "outputs": [],
   "source": [
    "df1= df1.drop_duplicates(subset=[\"comments_clean\"], keep=\"first\")"
   ]
  },
  {
   "attachments": {},
   "cell_type": "markdown",
   "metadata": {},
   "source": [
    "#### <span style='font-family:serif'>Duplicates removed"
   ]
  },
  {
   "attachments": {},
   "cell_type": "markdown",
   "metadata": {},
   "source": [
    "### <span style='font-family:serif'> Tokenization"
   ]
  },
  {
   "cell_type": "code",
   "execution_count": 31,
   "metadata": {},
   "outputs": [],
   "source": [
    "tokenizer = RegexpTokenizer(r'\\w+')\n",
    "def tokenization(text):\n",
    "    words=tokenizer.tokenize(text)\n",
    "    return words"
   ]
  },
  {
   "cell_type": "code",
   "execution_count": 88,
   "metadata": {},
   "outputs": [
    {
     "name": "stderr",
     "output_type": "stream",
     "text": [
      "C:\\Users\\BIGNETWORK\\AppData\\Local\\Temp\\ipykernel_14068\\3791954718.py:1: SettingWithCopyWarning: \n",
      "A value is trying to be set on a copy of a slice from a DataFrame.\n",
      "Try using .loc[row_indexer,col_indexer] = value instead\n",
      "\n",
      "See the caveats in the documentation: https://pandas.pydata.org/pandas-docs/stable/user_guide/indexing.html#returning-a-view-versus-a-copy\n",
      "  df['comments_clean']=df['comments_clean'].apply(str)\n",
      "C:\\Users\\BIGNETWORK\\AppData\\Local\\Temp\\ipykernel_14068\\3791954718.py:3: SettingWithCopyWarning: \n",
      "A value is trying to be set on a copy of a slice from a DataFrame.\n",
      "Try using .loc[row_indexer,col_indexer] = value instead\n",
      "\n",
      "See the caveats in the documentation: https://pandas.pydata.org/pandas-docs/stable/user_guide/indexing.html#returning-a-view-versus-a-copy\n",
      "  df['comments_list'] = df['comments_clean'].apply(tokenization)\n"
     ]
    },
    {
     "data": {
      "text/html": [
       "<div>\n",
       "<style scoped>\n",
       "    .dataframe tbody tr th:only-of-type {\n",
       "        vertical-align: middle;\n",
       "    }\n",
       "\n",
       "    .dataframe tbody tr th {\n",
       "        vertical-align: top;\n",
       "    }\n",
       "\n",
       "    .dataframe thead th {\n",
       "        text-align: right;\n",
       "    }\n",
       "</style>\n",
       "<table border=\"1\" class=\"dataframe\">\n",
       "  <thead>\n",
       "    <tr style=\"text-align: right;\">\n",
       "      <th></th>\n",
       "      <th>comments</th>\n",
       "      <th>class</th>\n",
       "      <th>comments_clean</th>\n",
       "      <th>comments_list</th>\n",
       "    </tr>\n",
       "  </thead>\n",
       "  <tbody>\n",
       "    <tr>\n",
       "      <th>1033</th>\n",
       "      <td>تكذب ومتحشمش لنترنت كامل مكاش</td>\n",
       "      <td>NaN</td>\n",
       "      <td>تكذب ومتحشمش لنترنت كامل</td>\n",
       "      <td>[تكذب, ومتحشمش, لنترنت, كامل]</td>\n",
       "    </tr>\n",
       "    <tr>\n",
       "      <th>94</th>\n",
       "      <td>صباح الخير هذا وين راهم قريب يكملوا الباك عاد ...</td>\n",
       "      <td>NaN</td>\n",
       "      <td>صباح خير راهم قريب كمل الباك عاد خبرتونا</td>\n",
       "      <td>[صباح, خير, راهم, قريب, كمل, الباك, عاد, خبرتونا]</td>\n",
       "    </tr>\n",
       "    <tr>\n",
       "      <th>2238</th>\n",
       "      <td>Arafat Abdallaoui ايه</td>\n",
       "      <td>0.0</td>\n",
       "      <td>ارافات ابدالاوي ايه</td>\n",
       "      <td>[ارافات, ابدالاوي, ايه]</td>\n",
       "    </tr>\n",
       "    <tr>\n",
       "      <th>903</th>\n",
       "      <td>Slm chkoun ya3tini Num ta3 khadamat Djezzy ran...</td>\n",
       "      <td>0.0</td>\n",
       "      <td>صلم شكا ياعتيني نيم خادامات دجزي ران ماحتاجاتو...</td>\n",
       "      <td>[صلم, شكا, ياعتيني, نيم, خادامات, دجزي, ران, م...</td>\n",
       "    </tr>\n",
       "    <tr>\n",
       "      <th>4260</th>\n",
       "      <td>سقمو غير حق الناس امنبعد تبرعو حقنا امديهناش ب...</td>\n",
       "      <td>NaN</td>\n",
       "      <td>سقم حق ناس امنبعد تبرع حق امديهناش باغي تصدق</td>\n",
       "      <td>[سقم, حق, ناس, امنبعد, تبرع, حق, امديهناش, باغ...</td>\n",
       "    </tr>\n",
       "    <tr>\n",
       "      <th>5846</th>\n",
       "      <td>ننصحكم بجيزي هبال</td>\n",
       "      <td>NaN</td>\n",
       "      <td>نصح جيزة هبال</td>\n",
       "      <td>[نصح, جيزة, هبال]</td>\n",
       "    </tr>\n",
       "    <tr>\n",
       "      <th>9207</th>\n",
       "      <td>الخروج من بلاد بوصبع الهايشة</td>\n",
       "      <td>1.0</td>\n",
       "      <td>خروج بلاد بوصبع الهايشة</td>\n",
       "      <td>[خروج, بلاد, بوصبع, الهايشة]</td>\n",
       "    </tr>\n",
       "    <tr>\n",
       "      <th>4497</th>\n",
       "      <td>المقاطعة هي الحل</td>\n",
       "      <td>NaN</td>\n",
       "      <td>مقاطع حل</td>\n",
       "      <td>[مقاطع, حل]</td>\n",
       "    </tr>\n",
       "    <tr>\n",
       "      <th>4192</th>\n",
       "      <td>zid 3aytlo l3abdo khouya o sam3olhom klmate</td>\n",
       "      <td>NaN</td>\n",
       "      <td>زيد عايتلو عابد خوى صامعولهوم لمة</td>\n",
       "      <td>[زيد, عايتلو, عابد, خوى, صامعولهوم, لمة]</td>\n",
       "    </tr>\n",
       "    <tr>\n",
       "      <th>2996</th>\n",
       "      <td>@lo.uz  wsh mn ma puce khoya yarham waldik</td>\n",
       "      <td>0.0</td>\n",
       "      <td>باس خوى يارهام ديك</td>\n",
       "      <td>[باس, خوى, يارهام, ديك]</td>\n",
       "    </tr>\n",
       "    <tr>\n",
       "      <th>710</th>\n",
       "      <td>أضعف شبكة للهاتف النقال في العالم و الله ماتزي...</td>\n",
       "      <td>NaN</td>\n",
       "      <td>ضعف شبكة هاتف نقال عالم لها ماتزيدوا تديو ألف ...</td>\n",
       "      <td>[ضعف, شبكة, هاتف, نقال, عالم, لها, ماتزيدوا, ت...</td>\n",
       "    </tr>\n",
       "    <tr>\n",
       "      <th>96</th>\n",
       "      <td>البيان درتوه بالسبت قبل الباك .. اليوم وين لحق</td>\n",
       "      <td>NaN</td>\n",
       "      <td>بيان درتوه سبت قبل الباك يوم حق</td>\n",
       "      <td>[بيان, درتوه, سبت, قبل, الباك, يوم, حق]</td>\n",
       "    </tr>\n",
       "    <tr>\n",
       "      <th>9734</th>\n",
       "      <td>40kbs</td>\n",
       "      <td>0.0</td>\n",
       "      <td>40كبص</td>\n",
       "      <td>[40كبص]</td>\n",
       "    </tr>\n",
       "    <tr>\n",
       "      <th>3393</th>\n",
       "      <td>Djezzy وأنا كذلك أغلقت بدون سبب</td>\n",
       "      <td>0.0</td>\n",
       "      <td>دجزي أنا غلق بدون سب</td>\n",
       "      <td>[دجزي, أنا, غلق, بدون, سب]</td>\n",
       "    </tr>\n",
       "    <tr>\n",
       "      <th>5150</th>\n",
       "      <td>Three years later...</td>\n",
       "      <td>NaN</td>\n",
       "      <td>thre year later</td>\n",
       "      <td>[thre, year, later]</td>\n",
       "    </tr>\n",
       "    <tr>\n",
       "      <th>3517</th>\n",
       "      <td>اذا نت ما رجال ريبوندو برك في لميصاج</td>\n",
       "      <td>NaN</td>\n",
       "      <td>اذا رجال ريبوندو لميصاج</td>\n",
       "      <td>[اذا, رجال, ريبوندو, لميصاج]</td>\n",
       "    </tr>\n",
       "    <tr>\n",
       "      <th>9698</th>\n",
       "      <td>شفتو لاكونكسيون تاعكم كي عاملة حتى اليوم باه ل...</td>\n",
       "      <td>NaN</td>\n",
       "      <td>شفت لاكونكسيون تاع عامل يوم باه حق ست ياأفشل ا...</td>\n",
       "      <td>[شفت, لاكونكسيون, تاع, عامل, يوم, باه, حق, ست,...</td>\n",
       "    </tr>\n",
       "    <tr>\n",
       "      <th>5650</th>\n",
       "      <td>hadik hyia m3a la connexion ta3kom kifach yerh...</td>\n",
       "      <td>NaN</td>\n",
       "      <td>هاد مع سونكسيون تاعكوم يرهام باباكوم وجى سونكس...</td>\n",
       "      <td>[هاد, مع, سونكسيون, تاعكوم, يرهام, باباكوم, وج...</td>\n",
       "    </tr>\n",
       "    <tr>\n",
       "      <th>4679</th>\n",
       "      <td>و الله سيريو وش بيك ايه وش بيك درتي علينا الذراع</td>\n",
       "      <td>NaN</td>\n",
       "      <td>لها سيريو ايه در على ذراع</td>\n",
       "      <td>[لها, سيريو, ايه, در, على, ذراع]</td>\n",
       "    </tr>\n",
       "    <tr>\n",
       "      <th>8107</th>\n",
       "      <td>شبكة كي وجوهكم</td>\n",
       "      <td>NaN</td>\n",
       "      <td>شبكة وجوه</td>\n",
       "      <td>[شبكة, وجوه]</td>\n",
       "    </tr>\n",
       "  </tbody>\n",
       "</table>\n",
       "</div>"
      ],
      "text/plain": [
       "                                               comments  class  \\\n",
       "1033                      تكذب ومتحشمش لنترنت كامل مكاش    NaN   \n",
       "94    صباح الخير هذا وين راهم قريب يكملوا الباك عاد ...    NaN   \n",
       "2238                              Arafat Abdallaoui ايه    0.0   \n",
       "903   Slm chkoun ya3tini Num ta3 khadamat Djezzy ran...    0.0   \n",
       "4260  سقمو غير حق الناس امنبعد تبرعو حقنا امديهناش ب...    NaN   \n",
       "5846                                  ننصحكم بجيزي هبال    NaN   \n",
       "9207                       الخروج من بلاد بوصبع الهايشة    1.0   \n",
       "4497                                   المقاطعة هي الحل    NaN   \n",
       "4192        zid 3aytlo l3abdo khouya o sam3olhom klmate    NaN   \n",
       "2996         @lo.uz  wsh mn ma puce khoya yarham waldik    0.0   \n",
       "710   أضعف شبكة للهاتف النقال في العالم و الله ماتزي...    NaN   \n",
       "96       البيان درتوه بالسبت قبل الباك .. اليوم وين لحق    NaN   \n",
       "9734                                              40kbs    0.0   \n",
       "3393                    Djezzy وأنا كذلك أغلقت بدون سبب    0.0   \n",
       "5150                               Three years later...    NaN   \n",
       "3517               اذا نت ما رجال ريبوندو برك في لميصاج    NaN   \n",
       "9698  شفتو لاكونكسيون تاعكم كي عاملة حتى اليوم باه ل...    NaN   \n",
       "5650  hadik hyia m3a la connexion ta3kom kifach yerh...    NaN   \n",
       "4679   و الله سيريو وش بيك ايه وش بيك درتي علينا الذراع    NaN   \n",
       "8107                                     شبكة كي وجوهكم    NaN   \n",
       "\n",
       "                                         comments_clean  \\\n",
       "1033                           تكذب ومتحشمش لنترنت كامل   \n",
       "94             صباح خير راهم قريب كمل الباك عاد خبرتونا   \n",
       "2238                                ارافات ابدالاوي ايه   \n",
       "903   صلم شكا ياعتيني نيم خادامات دجزي ران ماحتاجاتو...   \n",
       "4260       سقم حق ناس امنبعد تبرع حق امديهناش باغي تصدق   \n",
       "5846                                      نصح جيزة هبال   \n",
       "9207                            خروج بلاد بوصبع الهايشة   \n",
       "4497                                           مقاطع حل   \n",
       "4192                  زيد عايتلو عابد خوى صامعولهوم لمة   \n",
       "2996                                 باس خوى يارهام ديك   \n",
       "710   ضعف شبكة هاتف نقال عالم لها ماتزيدوا تديو ألف ...   \n",
       "96                      بيان درتوه سبت قبل الباك يوم حق   \n",
       "9734                                              40كبص   \n",
       "3393                               دجزي أنا غلق بدون سب   \n",
       "5150                                    thre year later   \n",
       "3517                            اذا رجال ريبوندو لميصاج   \n",
       "9698  شفت لاكونكسيون تاع عامل يوم باه حق ست ياأفشل ا...   \n",
       "5650  هاد مع سونكسيون تاعكوم يرهام باباكوم وجى سونكس...   \n",
       "4679                          لها سيريو ايه در على ذراع   \n",
       "8107                                          شبكة وجوه   \n",
       "\n",
       "                                          comments_list  \n",
       "1033                      [تكذب, ومتحشمش, لنترنت, كامل]  \n",
       "94    [صباح, خير, راهم, قريب, كمل, الباك, عاد, خبرتونا]  \n",
       "2238                            [ارافات, ابدالاوي, ايه]  \n",
       "903   [صلم, شكا, ياعتيني, نيم, خادامات, دجزي, ران, م...  \n",
       "4260  [سقم, حق, ناس, امنبعد, تبرع, حق, امديهناش, باغ...  \n",
       "5846                                  [نصح, جيزة, هبال]  \n",
       "9207                       [خروج, بلاد, بوصبع, الهايشة]  \n",
       "4497                                        [مقاطع, حل]  \n",
       "4192           [زيد, عايتلو, عابد, خوى, صامعولهوم, لمة]  \n",
       "2996                            [باس, خوى, يارهام, ديك]  \n",
       "710   [ضعف, شبكة, هاتف, نقال, عالم, لها, ماتزيدوا, ت...  \n",
       "96              [بيان, درتوه, سبت, قبل, الباك, يوم, حق]  \n",
       "9734                                            [40كبص]  \n",
       "3393                         [دجزي, أنا, غلق, بدون, سب]  \n",
       "5150                                [thre, year, later]  \n",
       "3517                       [اذا, رجال, ريبوندو, لميصاج]  \n",
       "9698  [شفت, لاكونكسيون, تاع, عامل, يوم, باه, حق, ست,...  \n",
       "5650  [هاد, مع, سونكسيون, تاعكوم, يرهام, باباكوم, وج...  \n",
       "4679                   [لها, سيريو, ايه, در, على, ذراع]  \n",
       "8107                                       [شبكة, وجوه]  "
      ]
     },
     "execution_count": 88,
     "metadata": {},
     "output_type": "execute_result"
    }
   ],
   "source": [
    "df['comments_clean']=df['comments_clean'].apply(str)\n",
    "if df['comments_clean'].dtype == 'object':\n",
    "    df['comments_list'] = df['comments_clean'].apply(tokenization)\n",
    "df.sample(20)"
   ]
  },
  {
   "cell_type": "code",
   "execution_count": 32,
   "metadata": {},
   "outputs": [
    {
     "name": "stderr",
     "output_type": "stream",
     "text": [
      "C:\\Users\\BIGNETWORK\\AppData\\Local\\Temp\\ipykernel_12432\\1621538110.py:1: SettingWithCopyWarning: \n",
      "A value is trying to be set on a copy of a slice from a DataFrame.\n",
      "Try using .loc[row_indexer,col_indexer] = value instead\n",
      "\n",
      "See the caveats in the documentation: https://pandas.pydata.org/pandas-docs/stable/user_guide/indexing.html#returning-a-view-versus-a-copy\n",
      "  df1['comments_clean']=df1['comments_clean'].apply(str)\n",
      "C:\\Users\\BIGNETWORK\\AppData\\Local\\Temp\\ipykernel_12432\\1621538110.py:3: SettingWithCopyWarning: \n",
      "A value is trying to be set on a copy of a slice from a DataFrame.\n",
      "Try using .loc[row_indexer,col_indexer] = value instead\n",
      "\n",
      "See the caveats in the documentation: https://pandas.pydata.org/pandas-docs/stable/user_guide/indexing.html#returning-a-view-versus-a-copy\n",
      "  df1['comments_list'] = df1['comments_clean'].apply(tokenization)\n"
     ]
    },
    {
     "data": {
      "text/html": [
       "<div>\n",
       "<style scoped>\n",
       "    .dataframe tbody tr th:only-of-type {\n",
       "        vertical-align: middle;\n",
       "    }\n",
       "\n",
       "    .dataframe tbody tr th {\n",
       "        vertical-align: top;\n",
       "    }\n",
       "\n",
       "    .dataframe thead th {\n",
       "        text-align: right;\n",
       "    }\n",
       "</style>\n",
       "<table border=\"1\" class=\"dataframe\">\n",
       "  <thead>\n",
       "    <tr style=\"text-align: right;\">\n",
       "      <th></th>\n",
       "      <th>comments</th>\n",
       "      <th>class</th>\n",
       "      <th>comments_clean</th>\n",
       "      <th>comments_corr</th>\n",
       "      <th>comments_list</th>\n",
       "    </tr>\n",
       "  </thead>\n",
       "  <tbody>\n",
       "    <tr>\n",
       "      <th>137</th>\n",
       "      <td>على الكونيكسيوا الزينة تاعكم الله يذلكم</td>\n",
       "      <td>-1</td>\n",
       "      <td>الكونيكسيوا زين تاع الله أذل</td>\n",
       "      <td>على الكونيكسيوا الزينة تاعكم الله يذلكم</td>\n",
       "      <td>[الكونيكسيوا, زين, تاع, الله, أذل]</td>\n",
       "    </tr>\n",
       "    <tr>\n",
       "      <th>24</th>\n",
       "      <td>خخخخخ😂 كونيكسيو كي سلحفاة وزيد تدخل لليوتيوب ت...</td>\n",
       "      <td>-1</td>\n",
       "      <td>خ كونيكسيو سلحفاة زيد تدخل لليوتيوب تفرج فيديو...</td>\n",
       "      <td>خ كونيكسيو كي سلحفاة وزيد تدخل لليوتيوب تتفرج ...</td>\n",
       "      <td>[خ, كونيكسيو, سلحفاة, زيد, تدخل, لليوتيوب, تفر...</td>\n",
       "    </tr>\n",
       "    <tr>\n",
       "      <th>103</th>\n",
       "      <td>تربحو شعر كونكسيو كي شعر نتوما كي شعر يخي شكوبي</td>\n",
       "      <td>1</td>\n",
       "      <td>تربح شعر كونكسيو شعر نتوما شعر وخى شكوبي</td>\n",
       "      <td>تربحو شعر كونكسيو كي شعر نتوما كي شعر يخي شكوبي</td>\n",
       "      <td>[تربح, شعر, كونكسيو, شعر, نتوما, شعر, وخى, شكوبي]</td>\n",
       "    </tr>\n",
       "    <tr>\n",
       "      <th>37</th>\n",
       "      <td>ماكانش انترنات يا السراقين</td>\n",
       "      <td>-1</td>\n",
       "      <td>انترنات سراق</td>\n",
       "      <td>ماكانش انترنات يا السراقين</td>\n",
       "      <td>[انترنات, سراق]</td>\n",
       "    </tr>\n",
       "    <tr>\n",
       "      <th>209</th>\n",
       "      <td>3lh mchi kima rana ga3 manzidouch netulisiw dj...</td>\n",
       "      <td>-1</td>\n",
       "      <td>علا مشي مانزيدوش نتيليصيو جزز بصق راص زبال درا...</td>\n",
       "      <td>3la mchi kima rana ga3 manzidouch netulisiw dj...</td>\n",
       "      <td>[علا, مشي, مانزيدوش, نتيليصيو, جزز, بصق, راص, ...</td>\n",
       "    </tr>\n",
       "    <tr>\n",
       "      <th>354</th>\n",
       "      <td>Waraah conx ya thahnaa warahiiii</td>\n",
       "      <td>-1</td>\n",
       "      <td>وارااه كنكس تهاهناا واراهي</td>\n",
       "      <td>waraah conx ya thahnaa warahi</td>\n",
       "      <td>[وارااه, كنكس, تهاهناا, واراهي]</td>\n",
       "    </tr>\n",
       "    <tr>\n",
       "      <th>272</th>\n",
       "      <td>Yakhi la connexion ta3 ezmar 😢</td>\n",
       "      <td>1</td>\n",
       "      <td>ياخي كننكسيون زمار</td>\n",
       "      <td>yakhi la connexion ta3 ezmar</td>\n",
       "      <td>[ياخي, كننكسيون, زمار]</td>\n",
       "    </tr>\n",
       "    <tr>\n",
       "      <th>258</th>\n",
       "      <td>انترنت انتل راهي جيا غير وجدو مقبرتكم</td>\n",
       "      <td>1</td>\n",
       "      <td>انترنت نتل راهي وجى وجدو مقبر</td>\n",
       "      <td>انترنت انتل راهي جيا غير وجدو مقبرتكم</td>\n",
       "      <td>[انترنت, نتل, راهي, وجى, وجدو, مقبر]</td>\n",
       "    </tr>\n",
       "    <tr>\n",
       "      <th>227</th>\n",
       "      <td>Djezzy هية أسوأ شركت أتصالات في كل الجزائر و م...</td>\n",
       "      <td>1</td>\n",
       "      <td>جزز هي أسوأ شرك أتصالات جزائر ممكن عالم كنى رق...</td>\n",
       "      <td>djezzy هية أسوأ شركت أتصالات في كل الجزائر و م...</td>\n",
       "      <td>[جزز, هي, أسوأ, شرك, أتصالات, جزائر, ممكن, عال...</td>\n",
       "    </tr>\n",
       "    <tr>\n",
       "      <th>107</th>\n",
       "      <td>قودو قودو ديرا كلخرا</td>\n",
       "      <td>-1</td>\n",
       "      <td>قود قود دير كلخرا</td>\n",
       "      <td>قودو قودو ديرا كلخرا</td>\n",
       "      <td>[قود, قود, دير, كلخرا]</td>\n",
       "    </tr>\n",
       "  </tbody>\n",
       "</table>\n",
       "</div>"
      ],
      "text/plain": [
       "                                              comments  class  \\\n",
       "137            على الكونيكسيوا الزينة تاعكم الله يذلكم     -1   \n",
       "24   خخخخخ😂 كونيكسيو كي سلحفاة وزيد تدخل لليوتيوب ت...     -1   \n",
       "103    تربحو شعر كونكسيو كي شعر نتوما كي شعر يخي شكوبي      1   \n",
       "37                          ماكانش انترنات يا السراقين     -1   \n",
       "209  3lh mchi kima rana ga3 manzidouch netulisiw dj...     -1   \n",
       "354                   Waraah conx ya thahnaa warahiiii     -1   \n",
       "272                     Yakhi la connexion ta3 ezmar 😢      1   \n",
       "258              انترنت انتل راهي جيا غير وجدو مقبرتكم      1   \n",
       "227  Djezzy هية أسوأ شركت أتصالات في كل الجزائر و م...      1   \n",
       "107                               قودو قودو ديرا كلخرا     -1   \n",
       "\n",
       "                                        comments_clean  \\\n",
       "137                       الكونيكسيوا زين تاع الله أذل   \n",
       "24   خ كونيكسيو سلحفاة زيد تدخل لليوتيوب تفرج فيديو...   \n",
       "103           تربح شعر كونكسيو شعر نتوما شعر وخى شكوبي   \n",
       "37                                        انترنات سراق   \n",
       "209  علا مشي مانزيدوش نتيليصيو جزز بصق راص زبال درا...   \n",
       "354                         وارااه كنكس تهاهناا واراهي   \n",
       "272                                 ياخي كننكسيون زمار   \n",
       "258                      انترنت نتل راهي وجى وجدو مقبر   \n",
       "227  جزز هي أسوأ شرك أتصالات جزائر ممكن عالم كنى رق...   \n",
       "107                                  قود قود دير كلخرا   \n",
       "\n",
       "                                         comments_corr  \\\n",
       "137            على الكونيكسيوا الزينة تاعكم الله يذلكم   \n",
       "24   خ كونيكسيو كي سلحفاة وزيد تدخل لليوتيوب تتفرج ...   \n",
       "103    تربحو شعر كونكسيو كي شعر نتوما كي شعر يخي شكوبي   \n",
       "37                          ماكانش انترنات يا السراقين   \n",
       "209  3la mchi kima rana ga3 manzidouch netulisiw dj...   \n",
       "354                      waraah conx ya thahnaa warahi   \n",
       "272                       yakhi la connexion ta3 ezmar   \n",
       "258              انترنت انتل راهي جيا غير وجدو مقبرتكم   \n",
       "227  djezzy هية أسوأ شركت أتصالات في كل الجزائر و م...   \n",
       "107                               قودو قودو ديرا كلخرا   \n",
       "\n",
       "                                         comments_list  \n",
       "137                 [الكونيكسيوا, زين, تاع, الله, أذل]  \n",
       "24   [خ, كونيكسيو, سلحفاة, زيد, تدخل, لليوتيوب, تفر...  \n",
       "103  [تربح, شعر, كونكسيو, شعر, نتوما, شعر, وخى, شكوبي]  \n",
       "37                                     [انترنات, سراق]  \n",
       "209  [علا, مشي, مانزيدوش, نتيليصيو, جزز, بصق, راص, ...  \n",
       "354                    [وارااه, كنكس, تهاهناا, واراهي]  \n",
       "272                             [ياخي, كننكسيون, زمار]  \n",
       "258               [انترنت, نتل, راهي, وجى, وجدو, مقبر]  \n",
       "227  [جزز, هي, أسوأ, شرك, أتصالات, جزائر, ممكن, عال...  \n",
       "107                             [قود, قود, دير, كلخرا]  "
      ]
     },
     "execution_count": 32,
     "metadata": {},
     "output_type": "execute_result"
    }
   ],
   "source": [
    "df1['comments_clean']=df1['comments_clean'].apply(str)\n",
    "if df1['comments_clean'].dtype == 'object':\n",
    "    df1['comments_list'] = df1['comments_clean'].apply(tokenization)\n",
    "df1.sample(10)"
   ]
  },
  {
   "attachments": {},
   "cell_type": "markdown",
   "metadata": {},
   "source": [
    "### <span style='font-family:serif'> Checking length of various tweet texts\n"
   ]
  },
  {
   "cell_type": "code",
   "execution_count": 90,
   "metadata": {},
   "outputs": [
    {
     "name": "stderr",
     "output_type": "stream",
     "text": [
      "C:\\Users\\BIGNETWORK\\AppData\\Local\\Temp\\ipykernel_14068\\2185639929.py:5: SettingWithCopyWarning: \n",
      "A value is trying to be set on a copy of a slice from a DataFrame.\n",
      "Try using .loc[row_indexer,col_indexer] = value instead\n",
      "\n",
      "See the caveats in the documentation: https://pandas.pydata.org/pandas-docs/stable/user_guide/indexing.html#returning-a-view-versus-a-copy\n",
      "  df['text_len'] = text_len\n"
     ]
    }
   ],
   "source": [
    "text_len = []\n",
    "for text in df.comments_list:\n",
    "    comment_len = len(text)\n",
    "    text_len.append(comment_len)\n",
    "df['text_len'] = text_len"
   ]
  },
  {
   "cell_type": "code",
   "execution_count": 95,
   "metadata": {},
   "outputs": [
    {
     "data": {
      "image/png": "[encoded data removed]",
      "text/plain": [
       "<Figure size 1500x800 with 1 Axes>"
      ]
     },
     "metadata": {},
     "output_type": "display_data"
    }
   ],
   "source": [
    "plt.figure(figsize=(15,8))\n",
    "ax = sns.countplot(x='text_len', data=df, palette='mako')\n",
    "plt.title('Count of words in comments', fontsize=20)\n",
    "plt.yticks([])\n",
    "ax.bar_label(ax.containers[0])\n",
    "plt.ylabel('count')\n",
    "plt.xlabel('')\n",
    "plt.show()\n"
   ]
  },
  {
   "cell_type": "code",
   "execution_count": 33,
   "metadata": {},
   "outputs": [],
   "source": [
    "X,Y = df1['comments_clean'],df1['class']"
   ]
  },
  {
   "cell_type": "code",
   "execution_count": 34,
   "metadata": {},
   "outputs": [
    {
     "name": "stdout",
     "output_type": "stream",
     "text": [
      "(231,) (231,) (100,) (100,)\n"
     ]
    }
   ],
   "source": [
    "X_train, X_test, y_train, y_test = train_test_split(X, Y, test_size = 0.3, random_state = 42)\n",
    "print(X_train.shape, y_train.shape, X_test.shape, y_test.shape)"
   ]
  },
  {
   "cell_type": "code",
   "execution_count": 51,
   "metadata": {},
   "outputs": [],
   "source": [
    "from transformers import DistilBertTokenizer, DistilBertModel"
   ]
  },
  {
   "cell_type": "code",
   "execution_count": 42,
   "metadata": {},
   "outputs": [
    {
     "name": "stderr",
     "output_type": "stream",
     "text": [
      "\n",
      "\u001b[A\n",
      "\u001b[A\n",
      "\u001b[A\n",
      "\u001b[A\n",
      "\u001b[A\n",
      "\u001b[A\n",
      "\u001b[A\n",
      "\u001b[A\n",
      "\u001b[A\n",
      "\u001b[A\n",
      "\u001b[A\n",
      "\u001b[A\n",
      "\u001b[A\n",
      "\u001b[A\n",
      "\u001b[A\n",
      "\u001b[A\n",
      "\u001b[A\n",
      "\u001b[A\n",
      "\u001b[A\n",
      "\u001b[A\n",
      "\u001b[A\n",
      "\u001b[A\n",
      "\u001b[A\n",
      "\u001b[A\n",
      "\u001b[A\n",
      "\u001b[A\n",
      "\u001b[A\n",
      "\u001b[A\n",
      "\u001b[A\n",
      "\u001b[A\n",
      "\u001b[A\n",
      "\u001b[A\n",
      "\u001b[A\n",
      "\u001b[A\n",
      "\u001b[A\n",
      "\u001b[A\n",
      "\u001b[A\n",
      "\u001b[A\n",
      "\u001b[A\n",
      "\u001b[A\n",
      "\u001b[A\n",
      "\u001b[A\n",
      "\u001b[A\n",
      "\u001b[A\n",
      "\u001b[A\n",
      "\u001b[A\n",
      "\u001b[A\n",
      "\u001b[A\n",
      "\u001b[A\n",
      "\u001b[A\n",
      "\u001b[A\n",
      "\u001b[A\n",
      "\u001b[A\n",
      "\u001b[A\n",
      "\u001b[A\n",
      "\u001b[A\n",
      "\u001b[A\n",
      "\u001b[A\n",
      "\u001b[A\n",
      "\u001b[A\n",
      "\u001b[A\n",
      "\u001b[A\n",
      "\u001b[A\n",
      "\u001b[A\n",
      "\u001b[A\n",
      "\u001b[A\n",
      "\u001b[A\n",
      "\u001b[A\n",
      "\u001b[A\n",
      "\u001b[A\n",
      "\u001b[A\n",
      "\u001b[A\n",
      "\u001b[A\n",
      "\u001b[A\n",
      "\u001b[A\n",
      "\u001b[A\n",
      "\u001b[A\n",
      "\u001b[A\n",
      "\u001b[A\n",
      "\u001b[A\n",
      "\u001b[A\n",
      "\u001b[A\n",
      "\u001b[A\n",
      "\u001b[A\n",
      "\u001b[A\n",
      "\u001b[A\n",
      "\u001b[A\n",
      "\u001b[A\n",
      "\u001b[A\n",
      "\u001b[A\n",
      "\u001b[A\n",
      "\u001b[A\n",
      "\u001b[A\n",
      "\u001b[A\n",
      "\u001b[A\n",
      "\u001b[A\n",
      "\u001b[A\n",
      "\u001b[A\n",
      "\u001b[A\n",
      "\u001b[A\n",
      "\u001b[A\n",
      "\u001b[A\n",
      "Downloading pytorch_model.bin: 100%|██████████| 542M/542M [1:18:11<00:00, 115kB/s]\n",
      "Some weights of the model checkpoint at distilbert-base-multilingual-cased were not used when initializing DistilBertModel: ['vocab_layer_norm.bias', 'vocab_projector.weight', 'vocab_projector.bias', 'vocab_transform.bias', 'vocab_transform.weight', 'vocab_layer_norm.weight']\n",
      "- This IS expected if you are initializing DistilBertModel from the checkpoint of a model trained on another task or with another architecture (e.g. initializing a BertForSequenceClassification model from a BertForPreTraining model).\n",
      "- This IS NOT expected if you are initializing DistilBertModel from the checkpoint of a model that you expect to be exactly identical (initializing a BertForSequenceClassification model from a BertForSequenceClassification model).\n"
     ]
    }
   ],
   "source": [
    "model = DistilBertModel.from_pretrained('distilbert-base-multilingual-cased')"
   ]
  },
  {
   "cell_type": "code",
   "execution_count": 43,
   "metadata": {},
   "outputs": [],
   "source": [
    "tokenizer = DistilBertTokenizer.from_pretrained('distilbert-base-multilingual-cased')"
   ]
  },
  {
   "cell_type": "code",
   "execution_count": 44,
   "metadata": {},
   "outputs": [
    {
     "data": {
      "text/plain": [
       "('saved_model_dist\\\\tokenizer_config.json',\n",
       " 'saved_model_dist\\\\special_tokens_map.json',\n",
       " 'saved_model_dist\\\\vocab.txt',\n",
       " 'saved_model_dist\\\\added_tokens.json')"
      ]
     },
     "execution_count": 44,
     "metadata": {},
     "output_type": "execute_result"
    }
   ],
   "source": [
    "#Save the model and tokenizer to a directory\n",
    "model.save_pretrained('saved_model_dist')\n",
    "tokenizer.save_pretrained('saved_model_dist')"
   ]
  },
  {
   "cell_type": "code",
   "execution_count": 45,
   "metadata": {},
   "outputs": [],
   "source": [
    "train_encodings = tokenizer(list(X_train), truncation=True, padding=True, max_length=512)\n",
    "test_encodings = tokenizer(list(X_test), truncation=True, padding=True, max_length=512)\n",
    "\n",
    "# Convert data to numpy arrays\n",
    "X_train_input_ids = np.array(train_encodings['input_ids'])\n",
    "X_train_attention_masks = np.array(train_encodings['attention_mask'])\n",
    "\n",
    "X_test_input_ids = np.array(test_encodings['input_ids'])\n",
    "X_test_attention_masks = np.array(test_encodings['attention_mask'])\n",
    "\n",
    "# Convert input to PyTorch tensors\n",
    "X_train_input_ids = torch.tensor(train_encodings['input_ids'])\n",
    "X_train_attention_masks = torch.tensor(train_encodings['attention_mask'])\n",
    "X_test_input_ids = torch.tensor(test_encodings['input_ids'])\n",
    "X_test_attention_masks = torch.tensor(test_encodings['attention_mask'])\n",
    "\n",
    "# Get word embeddings\n",
    "train_embeddings = model(X_train_input_ids, X_train_attention_masks)[0][:, 0, :]\n",
    "test_embeddings = model(X_test_input_ids, X_test_attention_masks)[0][:, 0, :]"
   ]
  },
  {
   "cell_type": "code",
   "execution_count": 48,
   "metadata": {},
   "outputs": [],
   "source": [
    "log_reg = LogisticRegression()\n"
   ]
  },
  {
   "cell_type": "code",
   "execution_count": 50,
   "metadata": {},
   "outputs": [
    {
     "name": "stderr",
     "output_type": "stream",
     "text": [
      "C:\\Users\\BIGNETWORK\\AppData\\Local\\Packages\\PythonSoftwareFoundation.Python.3.10_qbz5n2kfra8p0\\LocalCache\\local-packages\\Python310\\site-packages\\sklearn\\model_selection\\_split.py:700: UserWarning: The least populated class in y has only 1 members, which is less than n_splits=5.\n",
      "  warnings.warn(\n"
     ]
    },
    {
     "data": {
      "text/plain": [
       "0.5581583386579522"
      ]
     },
     "execution_count": 50,
     "metadata": {},
     "output_type": "execute_result"
    }
   ],
   "source": [
    "log_cv_score = cross_val_score(log_reg, train_embeddings.detach().numpy(), y_train, cv=5, scoring='f1_macro', n_jobs=-1)\n",
    "mean_log_cv = np.mean(log_cv_score)\n",
    "mean_log_cv\n"
   ]
  },
  {
   "cell_type": "code",
   "execution_count": null,
   "metadata": {},
   "outputs": [],
   "source": []
  }
 ],
 "metadata": {
  "kernelspec": {
   "display_name": "Python 3",
   "language": "python",
   "name": "python3"
  },
  "language_info": {
   "codemirror_mode": {
    "name": "ipython",
    "version": 3
   },
   "file_extension": ".py",
   "mimetype": "text/x-python",
   "name": "python",
   "nbconvert_exporter": "python",
   "pygments_lexer": "ipython3",
   "version": "3.10.11"
  },
  "orig_nbformat": 4,
  "vscode": {
   "interpreter": {
    "hash": "64a6b5e2244e422069341277cd1317ebf2b03c7f83a07567628f5bb1b1823540"
   }
  }
 },
 "nbformat": 4,
 "nbformat_minor": 2
}
