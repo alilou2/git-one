{
 "cells": [
  {
   "cell_type": "code",
   "execution_count": 24,
   "metadata": {},
   "outputs": [],
   "source": [
    "import pandas as pd\n",
    "import os\n",
    "import re"
   ]
  },
  {
   "cell_type": "code",
   "execution_count": 21,
   "metadata": {},
   "outputs": [
    {
     "data": {
      "text/plain": [
       "['alg_telcom_2_2k.xlsx',\n",
       " 'facebook (1).xlsx',\n",
       " 'facebook (2).xlsx',\n",
       " 'instagram (1).xlsx',\n",
       " 'instagram (2).xlsx',\n",
       " 'instagram (3).xlsx',\n",
       " 'instagram (4).xlsx',\n",
       " 'instagram (5).xlsx',\n",
       " 'instagram (6).xlsx',\n",
       " 'instagram (7).xlsx',\n",
       " 'instagram (8).xlsx',\n",
       " 'instagram.xlsx']"
      ]
     },
     "execution_count": 21,
     "metadata": {},
     "output_type": "execute_result"
    }
   ],
   "source": [
    "path = ('C:/Users/BIGNETWORK/Desktop/PFE/dataset/resaux scraper')\n",
    "files = os.listdir(path)\n",
    "files"
   ]
  },
  {
   "cell_type": "code",
   "execution_count": 22,
   "metadata": {},
   "outputs": [
    {
     "data": {
      "text/plain": [
       "['alg_telcom_2_2k.xlsx',\n",
       " 'facebook (1).xlsx',\n",
       " 'facebook (2).xlsx',\n",
       " 'instagram (1).xlsx',\n",
       " 'instagram (2).xlsx',\n",
       " 'instagram (3).xlsx',\n",
       " 'instagram (4).xlsx',\n",
       " 'instagram (5).xlsx',\n",
       " 'instagram (6).xlsx',\n",
       " 'instagram (7).xlsx',\n",
       " 'instagram (8).xlsx',\n",
       " 'instagram.xlsx']"
      ]
     },
     "execution_count": 22,
     "metadata": {},
     "output_type": "execute_result"
    }
   ],
   "source": [
    "files_xls = [f for f in files if f[-4:] == 'xlsx']\n",
    "files_xls\n"
   ]
  },
  {
   "cell_type": "code",
   "execution_count": 23,
   "metadata": {},
   "outputs": [
    {
     "name": "stdout",
     "output_type": "stream",
     "text": [
      "alg_telcom_2_2k.xlsx\n",
      "facebook (1).xlsx\n"
     ]
    },
    {
     "name": "stderr",
     "output_type": "stream",
     "text": [
      "C:\\Users\\BIGNETWORK\\AppData\\Local\\Temp\\ipykernel_23664\\1588672978.py:6: FutureWarning: The frame.append method is deprecated and will be removed from pandas in a future version. Use pandas.concat instead.\n",
      "  df = df.append(data)\n",
      "C:\\Users\\BIGNETWORK\\AppData\\Local\\Temp\\ipykernel_23664\\1588672978.py:6: FutureWarning: The frame.append method is deprecated and will be removed from pandas in a future version. Use pandas.concat instead.\n",
      "  df = df.append(data)\n",
      "C:\\Users\\BIGNETWORK\\AppData\\Local\\Temp\\ipykernel_23664\\1588672978.py:6: FutureWarning: The frame.append method is deprecated and will be removed from pandas in a future version. Use pandas.concat instead.\n",
      "  df = df.append(data)\n",
      "C:\\Users\\BIGNETWORK\\AppData\\Local\\Temp\\ipykernel_23664\\1588672978.py:6: FutureWarning: The frame.append method is deprecated and will be removed from pandas in a future version. Use pandas.concat instead.\n",
      "  df = df.append(data)\n",
      "C:\\Users\\BIGNETWORK\\AppData\\Local\\Temp\\ipykernel_23664\\1588672978.py:6: FutureWarning: The frame.append method is deprecated and will be removed from pandas in a future version. Use pandas.concat instead.\n",
      "  df = df.append(data)\n",
      "C:\\Users\\BIGNETWORK\\AppData\\Local\\Temp\\ipykernel_23664\\1588672978.py:6: FutureWarning: The frame.append method is deprecated and will be removed from pandas in a future version. Use pandas.concat instead.\n",
      "  df = df.append(data)\n"
     ]
    },
    {
     "name": "stdout",
     "output_type": "stream",
     "text": [
      "facebook (2).xlsx\n",
      "instagram (1).xlsx\n",
      "instagram (2).xlsx\n",
      "instagram (3).xlsx\n",
      "instagram (4).xlsx\n",
      "instagram (5).xlsx\n",
      "instagram (6).xlsx\n",
      "instagram (7).xlsx\n",
      "instagram (8).xlsx\n",
      "instagram.xlsx\n"
     ]
    },
    {
     "name": "stderr",
     "output_type": "stream",
     "text": [
      "C:\\Users\\BIGNETWORK\\AppData\\Local\\Temp\\ipykernel_23664\\1588672978.py:6: FutureWarning: The frame.append method is deprecated and will be removed from pandas in a future version. Use pandas.concat instead.\n",
      "  df = df.append(data)\n",
      "C:\\Users\\BIGNETWORK\\AppData\\Local\\Temp\\ipykernel_23664\\1588672978.py:6: FutureWarning: The frame.append method is deprecated and will be removed from pandas in a future version. Use pandas.concat instead.\n",
      "  df = df.append(data)\n",
      "C:\\Users\\BIGNETWORK\\AppData\\Local\\Temp\\ipykernel_23664\\1588672978.py:6: FutureWarning: The frame.append method is deprecated and will be removed from pandas in a future version. Use pandas.concat instead.\n",
      "  df = df.append(data)\n",
      "C:\\Users\\BIGNETWORK\\AppData\\Local\\Temp\\ipykernel_23664\\1588672978.py:6: FutureWarning: The frame.append method is deprecated and will be removed from pandas in a future version. Use pandas.concat instead.\n",
      "  df = df.append(data)\n",
      "C:\\Users\\BIGNETWORK\\AppData\\Local\\Temp\\ipykernel_23664\\1588672978.py:6: FutureWarning: The frame.append method is deprecated and will be removed from pandas in a future version. Use pandas.concat instead.\n",
      "  df = df.append(data)\n",
      "C:\\Users\\BIGNETWORK\\AppData\\Local\\Temp\\ipykernel_23664\\1588672978.py:6: FutureWarning: The frame.append method is deprecated and will be removed from pandas in a future version. Use pandas.concat instead.\n",
      "  df = df.append(data)\n"
     ]
    }
   ],
   "source": [
    "df = pd.DataFrame()\n",
    "for f in files_xls:\n",
    "    print(f)\n",
    "    data = pd.read_excel(f'C:/Users/BIGNETWORK/Desktop/PFE/dataset/resaux scraper/{f}')\n",
    "    data.drop(data.index[0:0],inplace=True)\n",
    "    df = df.append(data)"
   ]
  },
  {
   "cell_type": "code",
   "execution_count": 24,
   "metadata": {},
   "outputs": [
    {
     "name": "stdout",
     "output_type": "stream",
     "text": [
      "                                              comments  class\n",
      "0    باينة كتبتوها نهار السبت حتى اليوم باش تبارتاج...    NaN\n",
      "1         لوكان ستنيتو حتى نهار الخميس خير و درتو بيان    NaN\n",
      "2                       الزبون لا دخل له في البكالوريا    NaN\n",
      "3    شركة.... تعجز عن وضع أجهزة تشويش بمراكز الإمتح...    NaN\n",
      "4    دوماج عندي لافامي في الكونت هذا كون عبرتلكم عن...    NaN\n",
      "..                                                 ...    ...\n",
      "785                                                  🔥    NaN\n",
      "786                                               ❤️❤️    NaN\n",
      "787                                               ❤️❤️    NaN\n",
      "788                         NChllh  b rebi ping yhbt 😂    NaN\n",
      "789                                              ❤️❤️😍    NaN\n",
      "\n",
      "[6834 rows x 2 columns]\n"
     ]
    }
   ],
   "source": [
    "print(df)"
   ]
  },
  {
   "cell_type": "code",
   "execution_count": 25,
   "metadata": {},
   "outputs": [],
   "source": [
    "df.to_excel(\"resaux_comments.xlsx\")"
   ]
  },
  {
   "cell_type": "code",
   "execution_count": 26,
   "metadata": {},
   "outputs": [
    {
     "data": {
      "text/html": [
       "<div>\n",
       "<style scoped>\n",
       "    .dataframe tbody tr th:only-of-type {\n",
       "        vertical-align: middle;\n",
       "    }\n",
       "\n",
       "    .dataframe tbody tr th {\n",
       "        vertical-align: top;\n",
       "    }\n",
       "\n",
       "    .dataframe thead th {\n",
       "        text-align: right;\n",
       "    }\n",
       "</style>\n",
       "<table border=\"1\" class=\"dataframe\">\n",
       "  <thead>\n",
       "    <tr style=\"text-align: right;\">\n",
       "      <th></th>\n",
       "      <th>comments</th>\n",
       "      <th>class</th>\n",
       "    </tr>\n",
       "  </thead>\n",
       "  <tbody>\n",
       "    <tr>\n",
       "      <th>372</th>\n",
       "      <td>انتوم تسرقو بكردي😂</td>\n",
       "      <td>NaN</td>\n",
       "    </tr>\n",
       "    <tr>\n",
       "      <th>107</th>\n",
       "      <td>👎</td>\n",
       "      <td>NaN</td>\n",
       "    </tr>\n",
       "    <tr>\n",
       "      <th>37</th>\n",
       "      <td>جوائز مانات بوبجي 🤣🤣🤣🤣 ياخي تبهديلة 😂</td>\n",
       "      <td>NaN</td>\n",
       "    </tr>\n",
       "    <tr>\n",
       "      <th>423</th>\n",
       "      <td>الجيزي ياالسراقين</td>\n",
       "      <td>NaN</td>\n",
       "    </tr>\n",
       "    <tr>\n",
       "      <th>494</th>\n",
       "      <td>اسوء شبكة في العالم</td>\n",
       "      <td>NaN</td>\n",
       "    </tr>\n",
       "    <tr>\n",
       "      <th>283</th>\n",
       "      <td>و تكون حتى 100 لي ثقيل ثقيل😉</td>\n",
       "      <td>NaN</td>\n",
       "    </tr>\n",
       "    <tr>\n",
       "      <th>252</th>\n",
       "      <td>🤣</td>\n",
       "      <td>NaN</td>\n",
       "    </tr>\n",
       "    <tr>\n",
       "      <th>691</th>\n",
       "      <td>اريد توقيف الخط دون الذهب إلى  وكالة جيزي</td>\n",
       "      <td>NaN</td>\n",
       "    </tr>\n",
       "    <tr>\n",
       "      <th>1039</th>\n",
       "      <td>تجديد مختلف السرفرات الرسمية واشتراكات الiptv ...</td>\n",
       "      <td>NaN</td>\n",
       "    </tr>\n",
       "    <tr>\n",
       "      <th>2006</th>\n",
       "      <td>على الاقل ابعثوا رسائل الاعتذار....... وعوضوا ...</td>\n",
       "      <td>NaN</td>\n",
       "    </tr>\n",
       "  </tbody>\n",
       "</table>\n",
       "</div>"
      ],
      "text/plain": [
       "                                               comments  class\n",
       "372                                  انتوم تسرقو بكردي😂    NaN\n",
       "107                                                   👎    NaN\n",
       "37                جوائز مانات بوبجي 🤣🤣🤣🤣 ياخي تبهديلة 😂    NaN\n",
       "423                                   الجيزي ياالسراقين    NaN\n",
       "494                                 اسوء شبكة في العالم    NaN\n",
       "283                        و تكون حتى 100 لي ثقيل ثقيل😉    NaN\n",
       "252                                                   🤣    NaN\n",
       "691           اريد توقيف الخط دون الذهب إلى  وكالة جيزي    NaN\n",
       "1039  تجديد مختلف السرفرات الرسمية واشتراكات الiptv ...    NaN\n",
       "2006  على الاقل ابعثوا رسائل الاعتذار....... وعوضوا ...    NaN"
      ]
     },
     "execution_count": 26,
     "metadata": {},
     "output_type": "execute_result"
    }
   ],
   "source": [
    "df.sample(10)"
   ]
  },
  {
   "cell_type": "code",
   "execution_count": 38,
   "metadata": {},
   "outputs": [],
   "source": [
    "df0=pd.read_excel(\"C:/Users/BIGNETWORK/Desktop/PFE/dataset/project/git-one/datasets/resaux_comments.xlsx\")\n",
    "df1=pd.read_excel(\"C:/Users/BIGNETWORK/Desktop/PFE/dataset/project/git-one/datasets/hateonly_mehdi.xlsx\")\n",
    "df2=pd.read_excel(\"C:/Users/BIGNETWORK/Desktop/PFE/dataset/project/git-one/datasets/fb_comments.xlsx\")\n",
    "df3=pd.read_excel(\"C:/Users/BIGNETWORK/Desktop/PFE/dataset/project/git-one/datasets/hainer_ranim.xlsx\")\n",
    "df4=pd.read_excel(\"C:/Users/BIGNETWORK/Desktop/PFE/dataset/project/git-one/datasets/neutre_mehdi.xlsx\")"
   ]
  },
  {
   "cell_type": "code",
   "execution_count": 39,
   "metadata": {},
   "outputs": [],
   "source": [
    "df = pd.concat([df0, df1, df2, df3,df4], axis=0, ignore_index=True)"
   ]
  },
  {
   "cell_type": "code",
   "execution_count": 40,
   "metadata": {},
   "outputs": [
    {
     "data": {
      "text/html": [
       "<div>\n",
       "<style scoped>\n",
       "    .dataframe tbody tr th:only-of-type {\n",
       "        vertical-align: middle;\n",
       "    }\n",
       "\n",
       "    .dataframe tbody tr th {\n",
       "        vertical-align: top;\n",
       "    }\n",
       "\n",
       "    .dataframe thead th {\n",
       "        text-align: right;\n",
       "    }\n",
       "</style>\n",
       "<table border=\"1\" class=\"dataframe\">\n",
       "  <thead>\n",
       "    <tr style=\"text-align: right;\">\n",
       "      <th></th>\n",
       "      <th>comments</th>\n",
       "      <th>class</th>\n",
       "    </tr>\n",
       "  </thead>\n",
       "  <tbody>\n",
       "    <tr>\n",
       "      <th>0</th>\n",
       "      <td>باينة كتبتوها نهار السبت حتى اليوم باش تبارتاج...</td>\n",
       "      <td>NaN</td>\n",
       "    </tr>\n",
       "    <tr>\n",
       "      <th>1</th>\n",
       "      <td>لوكان ستنيتو حتى نهار الخميس خير و درتو بيان</td>\n",
       "      <td>NaN</td>\n",
       "    </tr>\n",
       "    <tr>\n",
       "      <th>2</th>\n",
       "      <td>الزبون لا دخل له في البكالوريا</td>\n",
       "      <td>NaN</td>\n",
       "    </tr>\n",
       "    <tr>\n",
       "      <th>3</th>\n",
       "      <td>شركة.... تعجز عن وضع أجهزة تشويش بمراكز الإمتح...</td>\n",
       "      <td>NaN</td>\n",
       "    </tr>\n",
       "    <tr>\n",
       "      <th>4</th>\n",
       "      <td>دوماج عندي لافامي في الكونت هذا كون عبرتلكم عن...</td>\n",
       "      <td>NaN</td>\n",
       "    </tr>\n",
       "    <tr>\n",
       "      <th>...</th>\n",
       "      <td>...</td>\n",
       "      <td>...</td>\n",
       "    </tr>\n",
       "    <tr>\n",
       "      <th>10076</th>\n",
       "      <td>رجعولنا عرض 1500نتاع 40جيغا شهرين مشي شهر هكذا...</td>\n",
       "      <td>0.0</td>\n",
       "    </tr>\n",
       "    <tr>\n",
       "      <th>10077</th>\n",
       "      <td>انظروا إلى التعليقات يا دجيزي بفففففففففففف</td>\n",
       "      <td>0.0</td>\n",
       "    </tr>\n",
       "    <tr>\n",
       "      <th>10078</th>\n",
       "      <td>صح عيدك جيزي شوي اتهلى كونيكسيو ظعيفة وعروظ شو...</td>\n",
       "      <td>0.0</td>\n",
       "    </tr>\n",
       "    <tr>\n",
       "      <th>10079</th>\n",
       "      <td>عيدكم مبارك تقبل الله منا ومنكم صالح الأعمال يارب</td>\n",
       "      <td>0.0</td>\n",
       "    </tr>\n",
       "    <tr>\n",
       "      <th>10080</th>\n",
       "      <td>شوف ستوري</td>\n",
       "      <td>0.0</td>\n",
       "    </tr>\n",
       "  </tbody>\n",
       "</table>\n",
       "<p>10081 rows × 2 columns</p>\n",
       "</div>"
      ],
      "text/plain": [
       "                                                comments  class\n",
       "0      باينة كتبتوها نهار السبت حتى اليوم باش تبارتاج...    NaN\n",
       "1           لوكان ستنيتو حتى نهار الخميس خير و درتو بيان    NaN\n",
       "2                         الزبون لا دخل له في البكالوريا    NaN\n",
       "3      شركة.... تعجز عن وضع أجهزة تشويش بمراكز الإمتح...    NaN\n",
       "4      دوماج عندي لافامي في الكونت هذا كون عبرتلكم عن...    NaN\n",
       "...                                                  ...    ...\n",
       "10076  رجعولنا عرض 1500نتاع 40جيغا شهرين مشي شهر هكذا...    0.0\n",
       "10077        انظروا إلى التعليقات يا دجيزي بفففففففففففف    0.0\n",
       "10078  صح عيدك جيزي شوي اتهلى كونيكسيو ظعيفة وعروظ شو...    0.0\n",
       "10079  عيدكم مبارك تقبل الله منا ومنكم صالح الأعمال يارب    0.0\n",
       "10080                                          شوف ستوري    0.0\n",
       "\n",
       "[10081 rows x 2 columns]"
      ]
     },
     "execution_count": 40,
     "metadata": {},
     "output_type": "execute_result"
    }
   ],
   "source": [
    "df"
   ]
  },
  {
   "cell_type": "code",
   "execution_count": 41,
   "metadata": {},
   "outputs": [
    {
     "data": {
      "text/html": [
       "<div>\n",
       "<style scoped>\n",
       "    .dataframe tbody tr th:only-of-type {\n",
       "        vertical-align: middle;\n",
       "    }\n",
       "\n",
       "    .dataframe tbody tr th {\n",
       "        vertical-align: top;\n",
       "    }\n",
       "\n",
       "    .dataframe thead th {\n",
       "        text-align: right;\n",
       "    }\n",
       "</style>\n",
       "<table border=\"1\" class=\"dataframe\">\n",
       "  <thead>\n",
       "    <tr style=\"text-align: right;\">\n",
       "      <th></th>\n",
       "      <th>comments</th>\n",
       "      <th>class</th>\n",
       "    </tr>\n",
       "  </thead>\n",
       "  <tbody>\n",
       "    <tr>\n",
       "      <th>0</th>\n",
       "      <td>ربحو على ظهرنا</td>\n",
       "      <td>NaN</td>\n",
       "    </tr>\n",
       "    <tr>\n",
       "      <th>1</th>\n",
       "      <td>@venecia_daniels_4😍😍😍 look</td>\n",
       "      <td>0.0</td>\n",
       "    </tr>\n",
       "    <tr>\n",
       "      <th>2</th>\n",
       "      <td>على اقل امبعد تعطولنا اسبوع انترنت باطل للتعويض</td>\n",
       "      <td>NaN</td>\n",
       "    </tr>\n",
       "    <tr>\n",
       "      <th>3</th>\n",
       "      <td>سيشهد التاريخ ان الحمام الزاجل قام بدوره افضل ...</td>\n",
       "      <td>NaN</td>\n",
       "    </tr>\n",
       "    <tr>\n",
       "      <th>4</th>\n",
       "      <td>Mine jito</td>\n",
       "      <td>NaN</td>\n",
       "    </tr>\n",
       "    <tr>\n",
       "      <th>...</th>\n",
       "      <td>...</td>\n",
       "      <td>...</td>\n",
       "    </tr>\n",
       "    <tr>\n",
       "      <th>10076</th>\n",
       "      <td>كيفاش نحاول لجيزي بيناتنا</td>\n",
       "      <td>0.0</td>\n",
       "    </tr>\n",
       "    <tr>\n",
       "      <th>10077</th>\n",
       "      <td>لي راه حاكم paramètres شكون ؟؟</td>\n",
       "      <td>NaN</td>\n",
       "    </tr>\n",
       "    <tr>\n",
       "      <th>10078</th>\n",
       "      <td>مكانتش عندهم الانترنت فقيرة اتصلات الجزائر لبا...</td>\n",
       "      <td>NaN</td>\n",
       "    </tr>\n",
       "    <tr>\n",
       "      <th>10079</th>\n",
       "      <td>NaN</td>\n",
       "      <td>NaN</td>\n",
       "    </tr>\n",
       "    <tr>\n",
       "      <th>10080</th>\n",
       "      <td>مخك خلوها عندكم سقمو غير ريزو بركات🐸🐸💩</td>\n",
       "      <td>NaN</td>\n",
       "    </tr>\n",
       "  </tbody>\n",
       "</table>\n",
       "<p>10081 rows × 2 columns</p>\n",
       "</div>"
      ],
      "text/plain": [
       "                                                comments  class\n",
       "0                                         ربحو على ظهرنا    NaN\n",
       "1                             @venecia_daniels_4😍😍😍 look    0.0\n",
       "2        على اقل امبعد تعطولنا اسبوع انترنت باطل للتعويض    NaN\n",
       "3      سيشهد التاريخ ان الحمام الزاجل قام بدوره افضل ...    NaN\n",
       "4                                              Mine jito    NaN\n",
       "...                                                  ...    ...\n",
       "10076                          كيفاش نحاول لجيزي بيناتنا    0.0\n",
       "10077                     لي راه حاكم paramètres شكون ؟؟    NaN\n",
       "10078  مكانتش عندهم الانترنت فقيرة اتصلات الجزائر لبا...    NaN\n",
       "10079                                                NaN    NaN\n",
       "10080             مخك خلوها عندكم سقمو غير ريزو بركات🐸🐸💩    NaN\n",
       "\n",
       "[10081 rows x 2 columns]"
      ]
     },
     "execution_count": 41,
     "metadata": {},
     "output_type": "execute_result"
    }
   ],
   "source": [
    "df = df.sample(frac=1).reset_index(drop=True)\n",
    "df"
   ]
  },
  {
   "cell_type": "code",
   "execution_count": 42,
   "metadata": {},
   "outputs": [],
   "source": [
    "df.to_excel(\"C:/Users/BIGNETWORK/Desktop/PFE/dataset/dataset.xlsx\")"
   ]
  },
  {
   "cell_type": "code",
   "execution_count": 48,
   "metadata": {},
   "outputs": [],
   "source": [
    "df=df.dropna(subset = ['comments'])"
   ]
  },
  {
   "cell_type": "code",
   "execution_count": 49,
   "metadata": {},
   "outputs": [
    {
     "data": {
      "text/plain": [
       "0"
      ]
     },
     "execution_count": 49,
     "metadata": {},
     "output_type": "execute_result"
    }
   ],
   "source": [
    "df['comments'].isna().sum()"
   ]
  },
  {
   "attachments": {},
   "cell_type": "markdown",
   "metadata": {},
   "source": [
    "* Suppresion des Tags, des URLs et les symboles de ponctuation"
   ]
  },
  {
   "cell_type": "code",
   "execution_count": 50,
   "metadata": {},
   "outputs": [
    {
     "name": "stderr",
     "output_type": "stream",
     "text": [
      "C:\\Users\\BIGNETWORK\\AppData\\Local\\Temp\\ipykernel_23916\\3377891732.py:11: SettingWithCopyWarning: \n",
      "A value is trying to be set on a copy of a slice from a DataFrame.\n",
      "Try using .loc[row_indexer,col_indexer] = value instead\n",
      "\n",
      "See the caveats in the documentation: https://pandas.pydata.org/pandas-docs/stable/user_guide/indexing.html#returning-a-view-versus-a-copy\n",
      "  df['comments_clean'] = df['comments'].apply(clean_text)\n"
     ]
    }
   ],
   "source": [
    "# Define a function to perform the text cleaning operations\n",
    "def clean_text(text):\n",
    "    text = re.sub(r'[^\\w\\s]', '', text)  # Remove punctuation marks\n",
    "    text = re.sub(r'[@#&$]\\w+', '', text)  # Remove special characters\n",
    "    text = re.sub(r'\\d+', '', text)  # Remove numbers\n",
    "    text = re.sub(r'http\\S+', '', text)  # Remove URLs\n",
    "    return text\n",
    "\n",
    "# Apply the clean_text function to the desired column(s) in the DataFrame\n",
    "if df['comments'].dtype == 'object':\n",
    "    df['comments_clean'] = df['comments'].apply(clean_text)\n"
   ]
  },
  {
   "cell_type": "code",
   "execution_count": 51,
   "metadata": {},
   "outputs": [
    {
     "data": {
      "text/html": [
       "<div>\n",
       "<style scoped>\n",
       "    .dataframe tbody tr th:only-of-type {\n",
       "        vertical-align: middle;\n",
       "    }\n",
       "\n",
       "    .dataframe tbody tr th {\n",
       "        vertical-align: top;\n",
       "    }\n",
       "\n",
       "    .dataframe thead th {\n",
       "        text-align: right;\n",
       "    }\n",
       "</style>\n",
       "<table border=\"1\" class=\"dataframe\">\n",
       "  <thead>\n",
       "    <tr style=\"text-align: right;\">\n",
       "      <th></th>\n",
       "      <th>comments</th>\n",
       "      <th>class</th>\n",
       "      <th>comments_clean</th>\n",
       "    </tr>\n",
       "  </thead>\n",
       "  <tbody>\n",
       "    <tr>\n",
       "      <th>0</th>\n",
       "      <td>ربحو على ظهرنا</td>\n",
       "      <td>NaN</td>\n",
       "      <td>ربحو على ظهرنا</td>\n",
       "    </tr>\n",
       "    <tr>\n",
       "      <th>1</th>\n",
       "      <td>@venecia_daniels_4😍😍😍 look</td>\n",
       "      <td>0.0</td>\n",
       "      <td>venecia_daniels_ look</td>\n",
       "    </tr>\n",
       "    <tr>\n",
       "      <th>2</th>\n",
       "      <td>على اقل امبعد تعطولنا اسبوع انترنت باطل للتعويض</td>\n",
       "      <td>NaN</td>\n",
       "      <td>على اقل امبعد تعطولنا اسبوع انترنت باطل للتعويض</td>\n",
       "    </tr>\n",
       "    <tr>\n",
       "      <th>3</th>\n",
       "      <td>سيشهد التاريخ ان الحمام الزاجل قام بدوره افضل ...</td>\n",
       "      <td>NaN</td>\n",
       "      <td>سيشهد التاريخ ان الحمام الزاجل قام بدوره افضل ...</td>\n",
       "    </tr>\n",
       "    <tr>\n",
       "      <th>4</th>\n",
       "      <td>Mine jito</td>\n",
       "      <td>NaN</td>\n",
       "      <td>Mine jito</td>\n",
       "    </tr>\n",
       "    <tr>\n",
       "      <th>...</th>\n",
       "      <td>...</td>\n",
       "      <td>...</td>\n",
       "      <td>...</td>\n",
       "    </tr>\n",
       "    <tr>\n",
       "      <th>10074</th>\n",
       "      <td>مرحبا،تفضل بطلبك نحن في الخدمة.نسرين من جازي 🙂</td>\n",
       "      <td>0.0</td>\n",
       "      <td>مرحباتفضل بطلبك نحن في الخدمةنسرين من جازي</td>\n",
       "    </tr>\n",
       "    <tr>\n",
       "      <th>10076</th>\n",
       "      <td>كيفاش نحاول لجيزي بيناتنا</td>\n",
       "      <td>0.0</td>\n",
       "      <td>كيفاش نحاول لجيزي بيناتنا</td>\n",
       "    </tr>\n",
       "    <tr>\n",
       "      <th>10077</th>\n",
       "      <td>لي راه حاكم paramètres شكون ؟؟</td>\n",
       "      <td>NaN</td>\n",
       "      <td>لي راه حاكم paramètres شكون</td>\n",
       "    </tr>\n",
       "    <tr>\n",
       "      <th>10078</th>\n",
       "      <td>مكانتش عندهم الانترنت فقيرة اتصلات الجزائر لبا...</td>\n",
       "      <td>NaN</td>\n",
       "      <td>مكانتش عندهم الانترنت فقيرة اتصلات الجزائر لبا...</td>\n",
       "    </tr>\n",
       "    <tr>\n",
       "      <th>10080</th>\n",
       "      <td>مخك خلوها عندكم سقمو غير ريزو بركات🐸🐸💩</td>\n",
       "      <td>NaN</td>\n",
       "      <td>مخك خلوها عندكم سقمو غير ريزو بركات</td>\n",
       "    </tr>\n",
       "  </tbody>\n",
       "</table>\n",
       "<p>9840 rows × 3 columns</p>\n",
       "</div>"
      ],
      "text/plain": [
       "                                                comments  class  \\\n",
       "0                                         ربحو على ظهرنا    NaN   \n",
       "1                             @venecia_daniels_4😍😍😍 look    0.0   \n",
       "2        على اقل امبعد تعطولنا اسبوع انترنت باطل للتعويض    NaN   \n",
       "3      سيشهد التاريخ ان الحمام الزاجل قام بدوره افضل ...    NaN   \n",
       "4                                              Mine jito    NaN   \n",
       "...                                                  ...    ...   \n",
       "10074     مرحبا،تفضل بطلبك نحن في الخدمة.نسرين من جازي 🙂    0.0   \n",
       "10076                          كيفاش نحاول لجيزي بيناتنا    0.0   \n",
       "10077                     لي راه حاكم paramètres شكون ؟؟    NaN   \n",
       "10078  مكانتش عندهم الانترنت فقيرة اتصلات الجزائر لبا...    NaN   \n",
       "10080             مخك خلوها عندكم سقمو غير ريزو بركات🐸🐸💩    NaN   \n",
       "\n",
       "                                          comments_clean  \n",
       "0                                         ربحو على ظهرنا  \n",
       "1                                  venecia_daniels_ look  \n",
       "2        على اقل امبعد تعطولنا اسبوع انترنت باطل للتعويض  \n",
       "3      سيشهد التاريخ ان الحمام الزاجل قام بدوره افضل ...  \n",
       "4                                              Mine jito  \n",
       "...                                                  ...  \n",
       "10074        مرحباتفضل بطلبك نحن في الخدمةنسرين من جازي   \n",
       "10076                          كيفاش نحاول لجيزي بيناتنا  \n",
       "10077                       لي راه حاكم paramètres شكون   \n",
       "10078  مكانتش عندهم الانترنت فقيرة اتصلات الجزائر لبا...  \n",
       "10080                مخك خلوها عندكم سقمو غير ريزو بركات  \n",
       "\n",
       "[9840 rows x 3 columns]"
      ]
     },
     "execution_count": 51,
     "metadata": {},
     "output_type": "execute_result"
    }
   ],
   "source": [
    "df"
   ]
  },
  {
   "cell_type": "code",
   "execution_count": 55,
   "metadata": {},
   "outputs": [
    {
     "data": {
      "text/plain": [
       "0"
      ]
     },
     "execution_count": 55,
     "metadata": {},
     "output_type": "execute_result"
    }
   ],
   "source": [
    "df['comments'].isna().sum()"
   ]
  },
  {
   "cell_type": "code",
   "execution_count": null,
   "metadata": {},
   "outputs": [],
   "source": []
  }
 ],
 "metadata": {
  "kernelspec": {
   "display_name": "Python 3",
   "language": "python",
   "name": "python3"
  },
  "language_info": {
   "codemirror_mode": {
    "name": "ipython",
    "version": 3
   },
   "file_extension": ".py",
   "mimetype": "text/x-python",
   "name": "python",
   "nbconvert_exporter": "python",
   "pygments_lexer": "ipython3",
   "version": "3.10.10"
  },
  "orig_nbformat": 4
 },
 "nbformat": 4,
 "nbformat_minor": 2
}
