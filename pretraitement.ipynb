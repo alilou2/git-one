{
 "cells": [
  {
   "cell_type": "code",
   "execution_count": 1,
   "metadata": {},
   "outputs": [],
   "source": [
    "import pandas as pd\n",
    "import numpy as np\n",
    "import re\n",
    "import matplotlib.pyplot as plt\n",
    "%matplotlib inline\n",
    "import seaborn as sns\n",
    "import plotly.express as px\n",
    "import spacy\n",
    "import emoji\n",
    "import nltk\n",
    "import torch\n",
    "import torch.nn as nn\n",
    "#nltk.download('stopwords')\n",
    "from nltk.corpus import stopwords, wordnet\n",
    "from nltk.tokenize import word_tokenize , RegexpTokenizer\n",
    "from nltk.stem import SnowballStemmer\n",
    "import qalsadi.lemmatizer\n",
    "from fuzzywuzzy import fuzz,process\n",
    "import tensorflow as tf\n",
    "import tensorflow_hub as hub\n",
    "from sklearn.feature_extraction.text import TfidfVectorizer\n",
    "from sklearn.model_selection import train_test_split,cross_val_score\n",
    "from sklearn.linear_model import LogisticRegression\n",
    "from sklearn.svm import SVC,LinearSVC\n",
    "#from transformers import BertModel, BertTokenizer\n",
    "from collections import defaultdict\n",
    "from sklearn.ensemble import AdaBoostClassifier\n",
    "from sklearn.model_selection import GridSearchCV"
   ]
  },
  {
   "cell_type": "code",
   "execution_count": 2,
   "metadata": {},
   "outputs": [
    {
     "name": "stderr",
     "output_type": "stream",
     "text": [
      "C:\\Users\\BIGNETWORK\\AppData\\Local\\Packages\\PythonSoftwareFoundation.Python.3.10_qbz5n2kfra8p0\\LocalCache\\local-packages\\Python310\\site-packages\\tqdm\\auto.py:21: TqdmWarning: IProgress not found. Please update jupyter and ipywidgets. See https://ipywidgets.readthedocs.io/en/stable/user_install.html\n",
      "  from .autonotebook import tqdm as notebook_tqdm\n"
     ]
    }
   ],
   "source": [
    "from transformers import DistilBertTokenizer, DistilBertModel,AutoTokenizer, AutoModelForSequenceClassification\n",
    "from transformers import pipeline"
   ]
  },
  {
   "cell_type": "code",
   "execution_count": 3,
   "metadata": {},
   "outputs": [],
   "source": [
    "df0=pd.read_excel(\"C:/Users/BIGNETWORK/Desktop/PFE/dataset/project/git-one/datasets/resaux_comments.xlsx\")\n",
    "df1=pd.read_excel(\"C:/Users/BIGNETWORK/Desktop/PFE/dataset/project/git-one/datasets/facebook (4).xlsx\")\n",
    "df2=pd.read_excel(\"C:/Users/BIGNETWORK/Desktop/PFE/dataset/project/git-one/datasets/fb_comments.xlsx\")\n",
    "df3=pd.read_excel(\"C:/Users/BIGNETWORK/Desktop/PFE/dataset/project/git-one/datasets/hainer_ranim.xlsx\")\n",
    "df4=pd.read_excel(\"C:/Users/BIGNETWORK/Desktop/PFE/dataset/project/git-one/datasets/neutre_mehdi.xlsx\")\n",
    "df5=pd.read_excel(\"C:/Users/BIGNETWORK/Desktop/PFE/dataset/project/git-one/datasets/newest.xlsx\")\n",
    "df6=pd.read_excel(\"C:/Users/BIGNETWORK/Desktop/PFE/dataset/project/git-one/datasets/hateonly_mehdi.xlsx\")"
   ]
  },
  {
   "cell_type": "code",
   "execution_count": 4,
   "metadata": {},
   "outputs": [],
   "source": [
    "df = pd.concat([df0, df6, df2, df3,df4,df5], axis=0, ignore_index=True)"
   ]
  },
  {
   "cell_type": "code",
   "execution_count": 5,
   "metadata": {},
   "outputs": [
    {
     "data": {
      "text/html": [
       "<div>\n",
       "<style scoped>\n",
       "    .dataframe tbody tr th:only-of-type {\n",
       "        vertical-align: middle;\n",
       "    }\n",
       "\n",
       "    .dataframe tbody tr th {\n",
       "        vertical-align: top;\n",
       "    }\n",
       "\n",
       "    .dataframe thead th {\n",
       "        text-align: right;\n",
       "    }\n",
       "</style>\n",
       "<table border=\"1\" class=\"dataframe\">\n",
       "  <thead>\n",
       "    <tr style=\"text-align: right;\">\n",
       "      <th></th>\n",
       "      <th>comments</th>\n",
       "      <th>class</th>\n",
       "    </tr>\n",
       "  </thead>\n",
       "  <tbody>\n",
       "    <tr>\n",
       "      <th>0</th>\n",
       "      <td>Rana m3ak hbibi PHANTOME🔥🔥🔥 Djezzy nebghaw rad</td>\n",
       "      <td>0.0</td>\n",
       "    </tr>\n",
       "    <tr>\n",
       "      <th>1</th>\n",
       "      <td>تلفون عندي مايحملهاش ممكن تتبرعولي بتلفون كهدي...</td>\n",
       "      <td>0.0</td>\n",
       "    </tr>\n",
       "    <tr>\n",
       "      <th>2</th>\n",
       "      <td>كفاش هاذي</td>\n",
       "      <td>0.0</td>\n",
       "    </tr>\n",
       "    <tr>\n",
       "      <th>3</th>\n",
       "      <td>@dina_burghezilor @abdelali_harafa10 @chouna-ben</td>\n",
       "      <td>0.0</td>\n",
       "    </tr>\n",
       "    <tr>\n",
       "      <th>4</th>\n",
       "      <td>كيفاه عرفتو بلي زاهية ليوم بتطياح</td>\n",
       "      <td>-1.0</td>\n",
       "    </tr>\n",
       "    <tr>\n",
       "      <th>...</th>\n",
       "      <td>...</td>\n",
       "      <td>...</td>\n",
       "    </tr>\n",
       "    <tr>\n",
       "      <th>18946</th>\n",
       "      <td>Djezzy</td>\n",
       "      <td>0.0</td>\n",
       "    </tr>\n",
       "    <tr>\n",
       "      <th>18947</th>\n",
       "      <td>المودام تاني يديه معاه</td>\n",
       "      <td>0.0</td>\n",
       "    </tr>\n",
       "    <tr>\n",
       "      <th>18948</th>\n",
       "      <td>❤️</td>\n",
       "      <td>0.0</td>\n",
       "    </tr>\n",
       "    <tr>\n",
       "      <th>18949</th>\n",
       "      <td>شكون هدا ...مدايرين به حكاية ...ناس اي تحوس عل...</td>\n",
       "      <td>0.0</td>\n",
       "    </tr>\n",
       "    <tr>\n",
       "      <th>18950</th>\n",
       "      <td>الله لا تربحكم يا جيزي وعلاه جيزي هبال نحيتو 1...</td>\n",
       "      <td>1.0</td>\n",
       "    </tr>\n",
       "  </tbody>\n",
       "</table>\n",
       "<p>18951 rows × 2 columns</p>\n",
       "</div>"
      ],
      "text/plain": [
       "                                                comments  class\n",
       "0         Rana m3ak hbibi PHANTOME🔥🔥🔥 Djezzy nebghaw rad    0.0\n",
       "1      تلفون عندي مايحملهاش ممكن تتبرعولي بتلفون كهدي...    0.0\n",
       "2                                              كفاش هاذي    0.0\n",
       "3       @dina_burghezilor @abdelali_harafa10 @chouna-ben    0.0\n",
       "4                      كيفاه عرفتو بلي زاهية ليوم بتطياح   -1.0\n",
       "...                                                  ...    ...\n",
       "18946                                             Djezzy    0.0\n",
       "18947                             المودام تاني يديه معاه    0.0\n",
       "18948                                                 ❤️    0.0\n",
       "18949  شكون هدا ...مدايرين به حكاية ...ناس اي تحوس عل...    0.0\n",
       "18950  الله لا تربحكم يا جيزي وعلاه جيزي هبال نحيتو 1...    1.0\n",
       "\n",
       "[18951 rows x 2 columns]"
      ]
     },
     "execution_count": 5,
     "metadata": {},
     "output_type": "execute_result"
    }
   ],
   "source": [
    "df = df.sample(frac=1).reset_index(drop=True)\n",
    "df"
   ]
  },
  {
   "cell_type": "code",
   "execution_count": 128,
   "metadata": {},
   "outputs": [],
   "source": [
    "df.to_excel(\"C:/Users/BIGNETWORK/Desktop/PFE/dataset/dataset.xlsx\")"
   ]
  },
  {
   "cell_type": "code",
   "execution_count": 6,
   "metadata": {},
   "outputs": [],
   "source": [
    "df=df.dropna(subset = ['comments'])"
   ]
  },
  {
   "cell_type": "code",
   "execution_count": 7,
   "metadata": {},
   "outputs": [],
   "source": [
    "df1=df1.dropna(subset = ['comments'])"
   ]
  },
  {
   "cell_type": "code",
   "execution_count": 8,
   "metadata": {},
   "outputs": [
    {
     "data": {
      "text/plain": [
       "0"
      ]
     },
     "execution_count": 8,
     "metadata": {},
     "output_type": "execute_result"
    }
   ],
   "source": [
    "df['comments'].isna().sum()"
   ]
  },
  {
   "cell_type": "code",
   "execution_count": 9,
   "metadata": {},
   "outputs": [
    {
     "data": {
      "text/plain": [
       " 0.0    13930\n",
       " 1.0     2798\n",
       "-1.0     1687\n",
       "Name: class, dtype: int64"
      ]
     },
     "execution_count": 9,
     "metadata": {},
     "output_type": "execute_result"
    }
   ],
   "source": [
    "df['class'].value_counts()"
   ]
  },
  {
   "attachments": {},
   "cell_type": "markdown",
   "metadata": {},
   "source": [
    "*** \n",
    "---\n",
    "___"
   ]
  },
  {
   "attachments": {},
   "cell_type": "markdown",
   "metadata": {},
   "source": [
    "## <span style='font-family:Georgia'> Preprocessing of Text."
   ]
  },
  {
   "attachments": {},
   "cell_type": "markdown",
   "metadata": {},
   "source": [
    "### <span style='font-family:serif'> Function to Remove Emojis"
   ]
  },
  {
   "cell_type": "code",
   "execution_count": 10,
   "metadata": {},
   "outputs": [],
   "source": [
    "def strip_emoji(text):\n",
    "    return emoji.replace_emoji(text,replace=\"\")"
   ]
  },
  {
   "attachments": {},
   "cell_type": "markdown",
   "metadata": {},
   "source": [
    "### <span style='font-family:serif'> Removing stop words"
   ]
  },
  {
   "cell_type": "code",
   "execution_count": 11,
   "metadata": {},
   "outputs": [],
   "source": [
    "# Load stopwords for each language\n",
    "with open('Algerian-Arabic-stop-words.txt', 'r', encoding='utf-8') as f:\n",
    "    stop_words_ar_dz = set([line.strip() for line in f])\n",
    "stop_words_en = set(stopwords.words('english'))\n",
    "stop_words_fr = set(stopwords.words('french'))\n",
    "# Create a custom tokenizer for Arabic words\n",
    "tokenizer = RegexpTokenizer('\\w+|\\$[\\d\\.]+|\\S+')\n",
    "# Define a function to remove stop words from a text\n",
    "def remove_stopwords(text):\n",
    "    words = tokenizer.tokenize(text)\n",
    "    words_filtered = []\n",
    "    for word in words:\n",
    "        if word not in stop_words_ar_dz and word not in stop_words_en and word not in stop_words_fr:\n",
    "            words_filtered.append(word)\n",
    "    return ' '.join(words_filtered)\n"
   ]
  },
  {
   "attachments": {},
   "cell_type": "markdown",
   "metadata": {},
   "source": [
    "### <span style='font-family:serif'> Fucntion to remove special characters, URLs, duplicated letters, punctuations"
   ]
  },
  {
   "cell_type": "code",
   "execution_count": 12,
   "metadata": {},
   "outputs": [],
   "source": [
    "# Define a function to perform the text cleaning operations\n",
    "def clean_text(text):\n",
    "    text = re.sub(r'[\\r\\n]+', ' ', text).lower()  \n",
    "    text = re.sub(r\"(?:\\@|https?\\://)\\S+\", \"\", text) #URLs\n",
    "    #text = re.sub(r'@\\w+', '', text)\n",
    "    text = re.sub(r'[^\\w\\s]', ' ', text)  # Remove punctuation marks \n",
    "    text = re.sub(r'\\b\\d+\\b', '', text) # Remove only standalone numbers\n",
    "    text = re.sub(r'[@#&$]\\w+', '', text)  # Remove special characters\n",
    "    text = re.sub(r'(\\w{1})(\\1{2,})', r'\\1', text) # remove duplicated letters\n",
    "    return text"
   ]
  },
  {
   "cell_type": "code",
   "execution_count": 218,
   "metadata": {},
   "outputs": [
    {
     "name": "stdout",
     "output_type": "stream",
     "text": [
      "ان من نفلكسي لا  ولا  الف لان وينروح انقبض الانترانت بطل \n"
     ]
    }
   ],
   "source": [
    "print(clean_text('ان.من.نفلكسي.لا.1500.ولا.1000.الف.لان.وينروح.انقبض.الانترانت.بطل.'))"
   ]
  },
  {
   "attachments": {},
   "cell_type": "markdown",
   "metadata": {},
   "source": [
    "### <span style='font-family:serif'> Function to remove mutiple sequence spaces"
   ]
  },
  {
   "cell_type": "code",
   "execution_count": 13,
   "metadata": {},
   "outputs": [],
   "source": [
    "def remove_mult_spaces(text):\n",
    "    return re.sub(\"\\s\\s+\" , \" \", text)"
   ]
  },
  {
   "attachments": {},
   "cell_type": "markdown",
   "metadata": {},
   "source": [
    "### <span style='font-family:serif'> Function for language detection"
   ]
  },
  {
   "cell_type": "code",
   "execution_count": null,
   "metadata": {},
   "outputs": [],
   "source": [
    "'''DetectorFactory.seed = 0  # Set the random seed for reproducibility\n",
    "# Set the detection threshold to 0.7\n",
    "DetectorFactory.threshold = 0.7\n",
    "def lang_det(texte):\n",
    "    try:\n",
    "        langs = detect_langs(texte)\n",
    "        for lang in langs:\n",
    "            if lang.prob >= 0.999994:\n",
    "                langage = lang.lang\n",
    "            else:\n",
    "                langage = 'dz'\n",
    "        if langage not in ['en','fr']:\n",
    "            langage = 'dz'\n",
    "    except LangDetectException:\n",
    "        langage = 'dz'\n",
    "    \n",
    "    return langage'''"
   ]
  },
  {
   "attachments": {},
   "cell_type": "markdown",
   "metadata": {},
   "source": [
    "- downloading and saving the model papluca/xlm-roberta-base-language-detection from huggung face"
   ]
  },
  {
   "cell_type": "code",
   "execution_count": 18,
   "metadata": {},
   "outputs": [
    {
     "name": "stderr",
     "output_type": "stream",
     "text": [
      "Downloading pytorch_model.bin: 100%|██████████| 1.11G/1.11G [18:34<00:00, 998kB/s] \n",
      "C:\\Users\\BIGNETWORK\\AppData\\Local\\Packages\\PythonSoftwareFoundation.Python.3.10_qbz5n2kfra8p0\\LocalCache\\local-packages\\Python310\\site-packages\\huggingface_hub\\file_download.py:133: UserWarning: `huggingface_hub` cache-system uses symlinks by default to efficiently store duplicated files but your machine does not support them in C:\\Users\\BIGNETWORK\\.cache\\huggingface\\hub. Caching files will still work but in a degraded version that might require more space on your disk. This warning can be disabled by setting the `HF_HUB_DISABLE_SYMLINKS_WARNING` environment variable. For more details, see https://huggingface.co/docs/huggingface_hub/how-to-cache#limitations.\n",
      "To support symlinks on Windows, you either need to activate Developer Mode or to run Python as an administrator. In order to see activate developer mode, see this article: https://docs.microsoft.com/en-us/windows/apps/get-started/enable-your-device-for-development\n",
      "  warnings.warn(message)\n"
     ]
    }
   ],
   "source": [
    "#model_name = \"papluca/xlm-roberta-base-language-detection\"\n",
    "#model = AutoModelForSequenceClassification.from_pretrained(model_name)\n",
    "#tokenizer = AutoTokenizer.from_pretrained(model_name)\n",
    "#Save the model and tokenizer to a directory\n",
    "#model.save_pretrained('saved_model_langdetec')\n",
    "#tokenizer.save_pretrained('saved_model_langdetec')"
   ]
  },
  {
   "cell_type": "code",
   "execution_count": 14,
   "metadata": {},
   "outputs": [],
   "source": [
    "#load the model and tokenizer \n",
    "model_lang = AutoModelForSequenceClassification.from_pretrained('saved_model_langdetec')\n",
    "tokenizer_lang = AutoTokenizer.from_pretrained('saved_model_langdetec')"
   ]
  },
  {
   "cell_type": "code",
   "execution_count": 15,
   "metadata": {},
   "outputs": [],
   "source": [
    "classifier = pipeline(\"text-classification\", model=model_lang, tokenizer=tokenizer_lang)\n",
    "\n",
    "def lang_det(texte):\n",
    "    \n",
    "    result = classifier(texte)\n",
    "    \n",
    "    if result[0][\"score\"] >= 0.2:\n",
    "        langage = result[0][\"label\"]\n",
    "    else:\n",
    "        langage = 'dz'\n",
    "    if langage not in ['en','fr']:\n",
    "        langage = 'dz'\n",
    "    \n",
    "    \n",
    "    return langage"
   ]
  },
  {
   "cell_type": "code",
   "execution_count": 99,
   "metadata": {},
   "outputs": [
    {
     "name": "stdout",
     "output_type": "stream",
     "text": [
      "fr\n"
     ]
    }
   ],
   "source": [
    "print(lang_det('Je suis MORTEEEE 😂😂😂😂😂😂😂'))"
   ]
  },
  {
   "attachments": {},
   "cell_type": "markdown",
   "metadata": {},
   "source": [
    "### <span style='font-family:serif'> Fonction that translate from Arabizi to Algerian Arabic alphabet using mapping dictionary"
   ]
  },
  {
   "cell_type": "code",
   "execution_count": 16,
   "metadata": {},
   "outputs": [
    {
     "name": "stdout",
     "output_type": "stream",
     "text": [
      "جزي مع بعد نقدر نخرجكم من رحمت ربي 😑\n"
     ]
    }
   ],
   "source": [
    "# Define the mapping dictionary\n",
    "mapping = {\n",
    "    'ai':'ي','ae':'ع','au': 'و','tion':'صيو', 'gh':'غ', 'kh':'خ','sh':'ش','dj':'ج','zz': 'ز',\n",
    "    'ch':'ش','ga': 'ڨ','go': 'ڨ','g': 'ج', 'h': 'ه', 'i': 'ي', 'j': 'ج', 'k': 'ك', 'l': 'ل','e': '', 'f': 'ف',\n",
    "    'm': 'م', 'n': 'ن', 'ou': 'و','a': '','c':'ك', 'o': '', 'p': 'ب', 'q': 'ك', 'r': 'ر','d': 'د',\n",
    "    's': 'س', 't': 'ت', 'u': '', 'v': 'ڥ', 'w': 'و', 'x': 'كس','b': 'ب','6':'ط',\n",
    "    'y': 'ي', 'z': 'ز','9':'ق','7':'ح','é':'','3':'ع','1':'يا','5':'خ','è':''\n",
    "}\n",
    "# Define the translation function\n",
    "def arabizi_to_arabic(text):\n",
    "\n",
    "    '''pattern = '[aeêiouAEIOU]'\n",
    "    # remplacement des voyelles par une chaîne vide\n",
    "    text = re.sub(pattern, '', text)'''\n",
    "    # Replace each Arabizi letter with its corresponding Arabic alphabet dialect letter\n",
    "    for letter, value in mapping.items():\n",
    "        \n",
    "        text = re.sub(letter, value, text)\n",
    "    return text\n",
    "\n",
    "\n",
    "# Example usage\n",
    "arabizi_text = \"djezzy m3a ba3d ne9edro n5arjokom mn ra7mt rabi 😑\"\n",
    "arabic_text = arabizi_to_arabic(arabizi_text)\n",
    "print(arabic_text)"
   ]
  },
  {
   "attachments": {},
   "cell_type": "markdown",
   "metadata": {},
   "source": [
    "### <span style='font-family:serif'> Function to  apply stemming to words"
   ]
  },
  {
   "cell_type": "code",
   "execution_count": 17,
   "metadata": {},
   "outputs": [],
   "source": [
    "def stem_words(text):\n",
    "    language = lang_det(text)\n",
    "    stemmer = None\n",
    "    words = tokenizer.tokenize(text)\n",
    "    if language == 'dz':\n",
    "        text=arabizi_to_arabic(text)\n",
    "        stemmed_text = text\n",
    "    elif language == 'fr':\n",
    "        stemmer = SnowballStemmer('french')\n",
    "        stemmed_words = [stemmer.stem(word) for word in words]\n",
    "        stemmed_text = ' '.join(stemmed_words)\n",
    "    elif language == 'en':\n",
    "        stemmer = SnowballStemmer('english')\n",
    "        stemmed_words = [stemmer.stem(word) for word in words]\n",
    "        stemmed_text = ' '.join(stemmed_words)\n",
    "    else:\n",
    "        return text # No stemmer available for this language\n",
    "    \n",
    "    return stemmed_text"
   ]
  },
  {
   "cell_type": "code",
   "execution_count": 102,
   "metadata": {},
   "outputs": [
    {
     "name": "stdout",
     "output_type": "stream",
     "text": [
      "eat\n"
     ]
    }
   ],
   "source": [
    "print(stem_words('eating'))"
   ]
  },
  {
   "attachments": {},
   "cell_type": "markdown",
   "metadata": {},
   "source": [
    "### <span style='font-family:serif'> Function to apply lemmatization to words"
   ]
  },
  {
   "cell_type": "code",
   "execution_count": 18,
   "metadata": {},
   "outputs": [
    {
     "name": "stderr",
     "output_type": "stream",
     "text": [
      "[nltk_data] Downloading package wordnet to\n",
      "[nltk_data]     C:\\Users\\BIGNETWORK\\AppData\\Roaming\\nltk_data...\n",
      "[nltk_data]   Package wordnet is already up-to-date!\n",
      "[nltk_data] Downloading package punkt to\n",
      "[nltk_data]     C:\\Users\\BIGNETWORK\\AppData\\Roaming\\nltk_data...\n",
      "[nltk_data]   Package punkt is already up-to-date!\n"
     ]
    },
    {
     "data": {
      "text/plain": [
       "True"
      ]
     },
     "execution_count": 18,
     "metadata": {},
     "output_type": "execute_result"
    }
   ],
   "source": [
    "nltk.download('wordnet')\n",
    "nltk.download('punkt')"
   ]
  },
  {
   "cell_type": "code",
   "execution_count": 18,
   "metadata": {},
   "outputs": [],
   "source": [
    "\n",
    "nlp_en = spacy.load('en_core_web_sm')\n",
    "nlp_fr = spacy.load('fr_core_news_sm')\n",
    "def lemmatize(text):\n",
    "    # Tokenize the text\n",
    "    words = tokenizer.tokenize(text)\n",
    "\n",
    "    # Define lemmatizer for each language\n",
    "    lemma_dz = qalsadi.lemmatizer.Lemmatizer()\n",
    "    # Lemmatize each word in the text\n",
    "    lemmatized_words = []\n",
    "    lang = lang_det(text)\n",
    "    if lang =='en':\n",
    "        doc = nlp_en(text)\n",
    "        for token in doc:\n",
    "            lemma = token.lemma_\n",
    "            lemmatized_words.append(lemma)\n",
    "    elif lang =='fr':\n",
    "        doc = nlp_fr(text)\n",
    "        for token in doc:\n",
    "            lemma = token.lemma_\n",
    "            lemmatized_words.append(lemma)\n",
    "    elif lang =='dz':\n",
    "        for word in words:\n",
    "            lemma = lemma_dz.lemmatize(word)\n",
    "            lemmatized_words.append(lemma)\n",
    "    \n",
    "    # Join the lemmatized words to form the lemmatized text\n",
    "    lemmatized_text = ' '.join(lemmatized_words)\n",
    "    \n",
    "    return lemmatized_text"
   ]
  },
  {
   "cell_type": "code",
   "execution_count": 224,
   "metadata": {},
   "outputs": [
    {
     "name": "stdout",
     "output_type": "stream",
     "text": [
      "normalement lorsque le nombre dabonner augmenter il devoir créer dautre site\n"
     ]
    }
   ],
   "source": [
    "print(lemmatize('normalement lorsque le nombre d''abonnés augmente ils doivent créer d''autres sites'))"
   ]
  },
  {
   "cell_type": "code",
   "execution_count": 19,
   "metadata": {},
   "outputs": [
    {
     "name": "stdout",
     "output_type": "stream",
     "text": [
      "يجب أن تبقى المرأة في المنزل وتموت\n",
      "يمكنك الرد علي في prv\n"
     ]
    }
   ],
   "source": [
    "import mtranslate as mt\n",
    "english_text = 'women should stay at home and die'\n",
    "arabic_text = mt.translate(english_text, 'ar')\n",
    "print(arabic_text)\n",
    "\n",
    "french_text = 'vous pouver me repondre au prv'\n",
    "arabic_text = mt.translate(french_text, 'ar')\n",
    "print(arabic_text)\n"
   ]
  },
  {
   "attachments": {},
   "cell_type": "markdown",
   "metadata": {},
   "source": [
    "### <span style='font-family:serif'> Function to Preprocess the text by applying all above functions"
   ]
  },
  {
   "cell_type": "code",
   "execution_count": 20,
   "metadata": {},
   "outputs": [],
   "source": [
    "def preprocess1(text):\n",
    "    text = strip_emoji(text)\n",
    "    text = clean_text(text)\n",
    "    text = remove_mult_spaces(text)\n",
    "    return text\n"
   ]
  },
  {
   "cell_type": "code",
   "execution_count": 21,
   "metadata": {},
   "outputs": [],
   "source": [
    "def preprocess2(text):\n",
    "    text = stem_words(text)\n",
    "    text = remove_stopwords(text)\n",
    "    text = lemmatize(text)\n",
    "    return text"
   ]
  },
  {
   "cell_type": "code",
   "execution_count": 104,
   "metadata": {},
   "outputs": [
    {
     "name": "stderr",
     "output_type": "stream",
     "text": [
      "C:\\Users\\BIGNETWORK\\AppData\\Local\\Temp\\ipykernel_12276\\1939872065.py:2: SettingWithCopyWarning: \n",
      "A value is trying to be set on a copy of a slice from a DataFrame.\n",
      "Try using .loc[row_indexer,col_indexer] = value instead\n",
      "\n",
      "See the caveats in the documentation: https://pandas.pydata.org/pandas-docs/stable/user_guide/indexing.html#returning-a-view-versus-a-copy\n",
      "  df['comments_clean'] = df['comments'].apply(preprocess1)\n"
     ]
    }
   ],
   "source": [
    "if df['comments'].dtype == 'object':\n",
    "    df['comments_clean'] = df['comments'].apply(preprocess1)"
   ]
  },
  {
   "cell_type": "code",
   "execution_count": 22,
   "metadata": {},
   "outputs": [],
   "source": [
    "if df1['comments'].dtype == 'object':\n",
    "    df1['comments_clean'] = df1['comments'].apply(preprocess1)"
   ]
  },
  {
   "cell_type": "code",
   "execution_count": null,
   "metadata": {},
   "outputs": [],
   "source": [
    "df['comments_clean'].replace('', np.nan, inplace=True)\n",
    "missing_values = df[df['comments_clean'].isnull()]\n",
    "#df=df.dropna(subset = ['comments_clean'])\n",
    "len(missing_values)"
   ]
  },
  {
   "cell_type": "code",
   "execution_count": 23,
   "metadata": {},
   "outputs": [
    {
     "data": {
      "text/plain": [
       "1"
      ]
     },
     "execution_count": 23,
     "metadata": {},
     "output_type": "execute_result"
    }
   ],
   "source": [
    "df1['comments_clean'].replace('', np.nan, inplace=True)\n",
    "missing_values = df1[df1['comments_clean'].isnull()]\n",
    "#df=df.dropna(subset = ['comments_clean'])\n",
    "len(missing_values)"
   ]
  },
  {
   "cell_type": "code",
   "execution_count": 229,
   "metadata": {},
   "outputs": [],
   "source": [
    "df=df.dropna(subset = ['comments_clean'])"
   ]
  },
  {
   "cell_type": "code",
   "execution_count": 24,
   "metadata": {},
   "outputs": [],
   "source": [
    "df1=df1.dropna(subset = ['comments_clean'])"
   ]
  },
  {
   "cell_type": "code",
   "execution_count": 84,
   "metadata": {},
   "outputs": [
    {
     "data": {
      "text/html": [
       "<div>\n",
       "<style scoped>\n",
       "    .dataframe tbody tr th:only-of-type {\n",
       "        vertical-align: middle;\n",
       "    }\n",
       "\n",
       "    .dataframe tbody tr th {\n",
       "        vertical-align: top;\n",
       "    }\n",
       "\n",
       "    .dataframe thead th {\n",
       "        text-align: right;\n",
       "    }\n",
       "</style>\n",
       "<table border=\"1\" class=\"dataframe\">\n",
       "  <thead>\n",
       "    <tr style=\"text-align: right;\">\n",
       "      <th></th>\n",
       "      <th>comments</th>\n",
       "      <th>class</th>\n",
       "      <th>comments_corr</th>\n",
       "    </tr>\n",
       "  </thead>\n",
       "  <tbody>\n",
       "    <tr>\n",
       "      <th>0</th>\n",
       "      <td>عوضلي المدة لي قطعتلي فيها انترنات .كنكسيو مسڨ...</td>\n",
       "      <td>0.0</td>\n",
       "      <td>الله لا نربحكم ونتمنالكم كامل الخصارة على الكو...</td>\n",
       "    </tr>\n",
       "    <tr>\n",
       "      <th>1</th>\n",
       "      <td>3andi la famille fel Facebook si non ntiya7</td>\n",
       "      <td>1.0</td>\n",
       "      <td>اعدلو الريزو تعكم برك من بعد ساهل و العروض الز...</td>\n",
       "    </tr>\n",
       "    <tr>\n",
       "      <th>2</th>\n",
       "      <td>شكون قاللكم بلي رانا متفهمين الوضع؟!!</td>\n",
       "      <td>0.0</td>\n",
       "      <td>افشل شريحة الموبيليس رغم الضغط وهاربة عليكم نت...</td>\n",
       "    </tr>\n",
       "    <tr>\n",
       "      <th>3</th>\n",
       "      <td>الله ينعلكم خالو المغتربين في حالهم لي فيهم اك...</td>\n",
       "      <td>-1.0</td>\n",
       "      <td>الفين و عمر واحد ولا راجل ومازلنا نقصو فالتدفق...</td>\n",
       "    </tr>\n",
       "    <tr>\n",
       "      <th>4</th>\n",
       "      <td>روحي جيبي شرفك من نظام الأسد يا عجوز</td>\n",
       "      <td>-1.0</td>\n",
       "      <td>منسحقش كدواتكم نسحق انا من ملبحة</td>\n",
       "    </tr>\n",
       "    <tr>\n",
       "      <th>...</th>\n",
       "      <td>...</td>\n",
       "      <td>...</td>\n",
       "      <td>...</td>\n",
       "    </tr>\n",
       "    <tr>\n",
       "      <th>18950</th>\n",
       "      <td>كل هذه المداخيل من السرقة في العروض  وووووووو</td>\n",
       "      <td>1.0</td>\n",
       "      <td>NaN</td>\n",
       "    </tr>\n",
       "    <tr>\n",
       "      <th>31</th>\n",
       "      <td>NaN</td>\n",
       "      <td>NaN</td>\n",
       "      <td>نزلت التطبيق وفتحتو قالي أرسل دعوة لخمس أرقام ...</td>\n",
       "    </tr>\n",
       "    <tr>\n",
       "      <th>38</th>\n",
       "      <td>NaN</td>\n",
       "      <td>NaN</td>\n",
       "      <td>لماذا لايتم الرد على إنشغالاتنا</td>\n",
       "    </tr>\n",
       "    <tr>\n",
       "      <th>126</th>\n",
       "      <td>NaN</td>\n",
       "      <td>NaN</td>\n",
       "      <td>لماذا ليس عندي عروض امتياز</td>\n",
       "    </tr>\n",
       "    <tr>\n",
       "      <th>162</th>\n",
       "      <td>NaN</td>\n",
       "      <td>NaN</td>\n",
       "      <td>سلام جيزي اريد الاستفسار حول عن امكانية تحويل ...</td>\n",
       "    </tr>\n",
       "  </tbody>\n",
       "</table>\n",
       "<p>18450 rows × 3 columns</p>\n",
       "</div>"
      ],
      "text/plain": [
       "                                                comments  class  \\\n",
       "0      عوضلي المدة لي قطعتلي فيها انترنات .كنكسيو مسڨ...    0.0   \n",
       "1            3andi la famille fel Facebook si non ntiya7    1.0   \n",
       "2                  شكون قاللكم بلي رانا متفهمين الوضع؟!!    0.0   \n",
       "3      الله ينعلكم خالو المغتربين في حالهم لي فيهم اك...   -1.0   \n",
       "4                   روحي جيبي شرفك من نظام الأسد يا عجوز   -1.0   \n",
       "...                                                  ...    ...   \n",
       "18950      كل هذه المداخيل من السرقة في العروض  وووووووو    1.0   \n",
       "31                                                   NaN    NaN   \n",
       "38                                                   NaN    NaN   \n",
       "126                                                  NaN    NaN   \n",
       "162                                                  NaN    NaN   \n",
       "\n",
       "                                           comments_corr  \n",
       "0      الله لا نربحكم ونتمنالكم كامل الخصارة على الكو...  \n",
       "1      اعدلو الريزو تعكم برك من بعد ساهل و العروض الز...  \n",
       "2      افشل شريحة الموبيليس رغم الضغط وهاربة عليكم نت...  \n",
       "3      الفين و عمر واحد ولا راجل ومازلنا نقصو فالتدفق...  \n",
       "4                       منسحقش كدواتكم نسحق انا من ملبحة  \n",
       "...                                                  ...  \n",
       "18950                                                NaN  \n",
       "31     نزلت التطبيق وفتحتو قالي أرسل دعوة لخمس أرقام ...  \n",
       "38                       لماذا لايتم الرد على إنشغالاتنا  \n",
       "126                           لماذا ليس عندي عروض امتياز  \n",
       "162    سلام جيزي اريد الاستفسار حول عن امكانية تحويل ...  \n",
       "\n",
       "[18450 rows x 3 columns]"
      ]
     },
     "execution_count": 84,
     "metadata": {},
     "output_type": "execute_result"
    }
   ],
   "source": []
  },
  {
   "attachments": {},
   "cell_type": "markdown",
   "metadata": {},
   "source": [
    "### <span style='font-family:serif'> Regroupement et traitement de fautes d’orthographe"
   ]
  },
  {
   "cell_type": "code",
   "execution_count": null,
   "metadata": {},
   "outputs": [],
   "source": [
    "#df1 = df1.drop('comments_corr', axis=1)"
   ]
  },
  {
   "attachments": {},
   "cell_type": "markdown",
   "metadata": {},
   "source": [
    "### <span style='font-family:serif'> Function to return the soundex code"
   ]
  },
  {
   "cell_type": "code",
   "execution_count": 25,
   "metadata": {},
   "outputs": [],
   "source": [
    "# function to get soundex code for a given word\n",
    "def get_soundex(word):\n",
    "    soundex_map = {\n",
    "        'BFPV': '1',\n",
    "        'CGJKQSXZ': '2',\n",
    "        'DT': '3',\n",
    "        'L': '4',\n",
    "        'MN': '5',\n",
    "        'R': '6',\n",
    "        'AEIOUHWY': '0'\n",
    "    }\n",
    "    # Step 1: Keep the first letter of the word\n",
    "    code = word[0].upper()\n",
    "    \n",
    "    # Step 2: Replace all remaining letters based on the soundex mapping\n",
    "    for char in word[1:].upper():\n",
    "        for key, value in soundex_map.items():\n",
    "            if char in key:\n",
    "                code += value\n",
    "                break\n",
    "    \n",
    "    # Step 3: Remove consecutive duplicates except for the first letter\n",
    "    code = code[0] + ''.join(char for i, char in enumerate(code[1:], start=1) if char != code[i-1] and char != '0')\n",
    "    \n",
    "    # Step 4: Pad or truncate to a length of 4 characters\n",
    "    code = code + '000'\n",
    "    return code[:4]"
   ]
  },
  {
   "cell_type": "code",
   "execution_count": 26,
   "metadata": {},
   "outputs": [],
   "source": [
    "# set threshold for similarity score\n",
    "threshold = 70\n",
    "\n",
    "# create dictionary to hold fuzzywuzzy scores and their associated words\n",
    "fuzzy_dict = defaultdict(list)\n",
    "\n",
    "# create dictionary to hold soundex codes and their associated words\n",
    "code_dict = defaultdict(list)\n",
    "\n",
    "# create a list containing all the words in the comments\n",
    "words_list = [word for comment in df1['comments_clean'] for word in tokenizer.tokenize(comment) if not any('\\u0600' <= c <= '\\u06FF' for c in word)]\n",
    "\n",
    "# iterate over all words in the comments\n",
    "for word in words_list:\n",
    "    # calculate soundex code for the word\n",
    "    code = get_soundex(word)\n",
    "    # add word to the dictionary\n",
    "    code_dict[code].append(word)\n",
    "\n",
    "# iterate over all words in code_dict\n",
    "for code, words in code_dict.items():\n",
    "    # calculate fuzzywuzzy score for each pair of words\n",
    "    for i in range(len(words)):\n",
    "        for j in range(i+1, len(words)):\n",
    "            score = fuzz.token_sort_ratio(words[i], words[j])\n",
    "            # if the similarity score is above the threshold, update the fuzzy dictionary\n",
    "            if score >= threshold:\n",
    "                fuzzy_dict[words[i]].append((score, words[j]))\n",
    "\n",
    "# create dictionary to hold word replacements and their associated fuzzywuzzy scores\n",
    "replace_dict = {}\n",
    "\n",
    "# iterate over all soundex codes and associated words to find word replacement wich is the one having the maximum score in the cod_dict\n",
    "for code, words in code_dict.items():\n",
    "    # skip codes with only one word\n",
    "    if len(words) == 1:\n",
    "        continue\n",
    "    # compare all pairs of words with the same code\n",
    "    for i in range(len(words)):\n",
    "        max_score = 0\n",
    "        max_match = None\n",
    "        for j in range(i+1, len(words)):\n",
    "            score = fuzz.token_sort_ratio(words[i], words[j])\n",
    "            # if the similarity score is above the threshold, update the replacement dictionary\n",
    "            if score >= threshold:\n",
    "                if score > max_score:\n",
    "                    max_score = score\n",
    "                    max_match = words[j]\n",
    "        if max_match is not None:\n",
    "            replace_dict[words[i]] = max_match\n",
    "\n",
    "# iterate over all comments and replace words with their soundex group words\n",
    "for i in range(len(df1)):\n",
    "    try:\n",
    "        words =tokenizer.tokenize(df1.loc[i,'comments_clean'])\n",
    "        for j in range(len(words)):\n",
    "            # check if word is in Arabic script or not\n",
    "            if any('\\u0600' <= c <= '\\u06FF' for c in words[j]):\n",
    "                continue  # skip Arabic words\n",
    "            # calculate soundex code for the word\n",
    "            code = get_soundex(words[j])\n",
    "            # check if the code has associated words\n",
    "            if code in code_dict:\n",
    "                # check if the word has a replacement\n",
    "                if words[j] in replace_dict:\n",
    "                    words[j] = replace_dict[words[j]]\n",
    "                else:\n",
    "                    # check if any of the associated words have a replacement\n",
    "                    max_score = 0\n",
    "                    max_match = None\n",
    "                    for score, match in fuzzy_dict[words[j]]:\n",
    "                        if match in replace_dict:\n",
    "                            score = fuzz.token_sort_ratio(words[j], replace_dict[match])\n",
    "                            if score > max_score:\n",
    "                                max_score = score\n",
    "                                max_match = replace_dict[match]\n",
    "                    if max_match is not None:\n",
    "                        words[j] = max_match\n",
    "    except:\n",
    "        continue\n",
    "    # join the words back into a string and replace the comment in the dataframe\n",
    "    df1.loc[i, 'comments_corr'] = ' '.join(words)\n",
    "#check if 'comments_corr' is NaN and set it to original value\n",
    "df1['comments_corr'].fillna(df1['comments_clean'], inplace=True)\n",
    "\n"
   ]
  },
  {
   "cell_type": "code",
   "execution_count": 27,
   "metadata": {},
   "outputs": [
    {
     "data": {
      "text/html": [
       "<div>\n",
       "<style scoped>\n",
       "    .dataframe tbody tr th:only-of-type {\n",
       "        vertical-align: middle;\n",
       "    }\n",
       "\n",
       "    .dataframe tbody tr th {\n",
       "        vertical-align: top;\n",
       "    }\n",
       "\n",
       "    .dataframe thead th {\n",
       "        text-align: right;\n",
       "    }\n",
       "</style>\n",
       "<table border=\"1\" class=\"dataframe\">\n",
       "  <thead>\n",
       "    <tr style=\"text-align: right;\">\n",
       "      <th></th>\n",
       "      <th>comments</th>\n",
       "      <th>class</th>\n",
       "      <th>comments_clean</th>\n",
       "      <th>comments_corr</th>\n",
       "    </tr>\n",
       "  </thead>\n",
       "  <tbody>\n",
       "    <tr>\n",
       "      <th>129</th>\n",
       "      <td>كي نتوما كي لكونيكسيو تاعكم تعيي تقرف</td>\n",
       "      <td>1</td>\n",
       "      <td>كي نتوما كي لكونيكسيو تاعكم تعيي تقرف</td>\n",
       "      <td>كي نتوما كي لكونيكسيو تاعكم تعيي تقرف</td>\n",
       "    </tr>\n",
       "    <tr>\n",
       "      <th>182</th>\n",
       "      <td>ناس تنظم مسابقة لربح هواتف واكثر قيمة. وانتم  ...</td>\n",
       "      <td>0</td>\n",
       "      <td>ناس تنظم مسابقة لربح هواتف واكثر قيمة وانتم فر...</td>\n",
       "      <td>ناس تنظم مسابقة لربح هواتف واكثر قيمة وانتم فر...</td>\n",
       "    </tr>\n",
       "    <tr>\n",
       "      <th>165</th>\n",
       "      <td>لدي طابلات cidea المشكل أن الأنترنت لم تشتغل ف...</td>\n",
       "      <td>0</td>\n",
       "      <td>لدي طابلات cidea المشكل أن الأنترنت لم تشتغل ف...</td>\n",
       "      <td>لدي طابلات cidea المشكل أن الأنترنت لم تشتغل ف...</td>\n",
       "    </tr>\n",
       "    <tr>\n",
       "      <th>159</th>\n",
       "      <td>أشحال وانا نفليكسي 1500 دج  40Mo.....</td>\n",
       "      <td>0</td>\n",
       "      <td>أشحال وانا نفليكسي دج 40mo</td>\n",
       "      <td>أشحال وانا نفليكسي دج 40mo</td>\n",
       "    </tr>\n",
       "    <tr>\n",
       "      <th>176</th>\n",
       "      <td>علاش رجعتولي لبيس من هايلة الى هايلة بزاف ونحي...</td>\n",
       "      <td>0</td>\n",
       "      <td>علاش رجعتولي لبيس من هايلة الى هايلة بزاف ونحي...</td>\n",
       "      <td>علاش رجعتولي لبيس من هايلة الى هايلة بزاف ونحي...</td>\n",
       "    </tr>\n",
       "    <tr>\n",
       "      <th>5</th>\n",
       "      <td>بدراهمنا و مادرتولناش كونكسيو زينا كي دول المج...</td>\n",
       "      <td>1</td>\n",
       "      <td>بدراهمنا و مادرتولناش كونكسيو زينا كي دول المج...</td>\n",
       "      <td>بدراهمنا و مادرتولناش كونكسيو زينا كي دول المج...</td>\n",
       "    </tr>\n",
       "    <tr>\n",
       "      <th>154</th>\n",
       "      <td>لماذا لايتم الرد على إنشغالاتنا؟؟؟؟؟؟</td>\n",
       "      <td>0</td>\n",
       "      <td>لماذا لايتم الرد على إنشغالاتنا</td>\n",
       "      <td>لماذا لايتم الرد على إنشغالاتنا</td>\n",
       "    </tr>\n",
       "    <tr>\n",
       "      <th>111</th>\n",
       "      <td>شكون نسجله في تطبيق جازي يحصل على 8 GB الانترنت</td>\n",
       "      <td>0</td>\n",
       "      <td>شكون نسجله في تطبيق جازي يحصل على gb الانترنت</td>\n",
       "      <td>شكون نسجله في تطبيق جازي يحصل على gb الانترنت</td>\n",
       "    </tr>\n",
       "    <tr>\n",
       "      <th>237</th>\n",
       "      <td>واش المطلوب منا واش نديرو؟</td>\n",
       "      <td>0</td>\n",
       "      <td>واش المطلوب منا واش نديرو</td>\n",
       "      <td>واش المطلوب منا واش نديرو</td>\n",
       "    </tr>\n",
       "    <tr>\n",
       "      <th>200</th>\n",
       "      <td>رجعولي ل100ألف</td>\n",
       "      <td>0</td>\n",
       "      <td>رجعولي ل100ألف</td>\n",
       "      <td>رجعولي ل100ألف</td>\n",
       "    </tr>\n",
       "    <tr>\n",
       "      <th>22</th>\n",
       "      <td>تسرقو فينا عيني عينك وخصني غير نسلف منعندكم بت...</td>\n",
       "      <td>1</td>\n",
       "      <td>تسرقو فينا عيني عينك وخصني غير نسلف منعندكم بت...</td>\n",
       "      <td>تسرقو فينا عيني عينك وخصني غير نسلف منعندكم بت...</td>\n",
       "    </tr>\n",
       "    <tr>\n",
       "      <th>227</th>\n",
       "      <td>Vous prouver me repondre au prv ?!!</td>\n",
       "      <td>0</td>\n",
       "      <td>vous prouver me repondre au prv</td>\n",
       "      <td>vous prouver me repondre au prv</td>\n",
       "    </tr>\n",
       "    <tr>\n",
       "      <th>134</th>\n",
       "      <td>هل تم تحويل قسيمتي لجوميا</td>\n",
       "      <td>0</td>\n",
       "      <td>هل تم تحويل قسيمتي لجوميا</td>\n",
       "      <td>هل تم تحويل قسيمتي لجوميا</td>\n",
       "    </tr>\n",
       "    <tr>\n",
       "      <th>53</th>\n",
       "      <td>علاه مزالو ناس يكونكثيو جيزي ولا</td>\n",
       "      <td>0</td>\n",
       "      <td>علاه مزالو ناس يكونكثيو جيزي ولا</td>\n",
       "      <td>علاه مزالو ناس يكونكثيو جيزي ولا</td>\n",
       "    </tr>\n",
       "    <tr>\n",
       "      <th>97</th>\n",
       "      <td>نشكركم على مجهودكم احسن كوناكسيو في جيزي</td>\n",
       "      <td>0</td>\n",
       "      <td>نشكركم على مجهودكم احسن كوناكسيو في جيزي</td>\n",
       "      <td>نشكركم على مجهودكم احسن كوناكسيو في جيزي</td>\n",
       "    </tr>\n",
       "    <tr>\n",
       "      <th>184</th>\n",
       "      <td>سجني</td>\n",
       "      <td>0</td>\n",
       "      <td>سجني</td>\n",
       "      <td>سجني</td>\n",
       "    </tr>\n",
       "    <tr>\n",
       "      <th>27</th>\n",
       "      <td>كي نقدر ندخل بكونكسيو تاعكم راني نطلب لشتا ما ...</td>\n",
       "      <td>0</td>\n",
       "      <td>كي نقدر ندخل بكونكسيو تاعكم راني نطلب لشتا ما ...</td>\n",
       "      <td>كي نقدر ندخل بكونكسيو تاعكم راني نطلب لشتا ما ...</td>\n",
       "    </tr>\n",
       "    <tr>\n",
       "      <th>79</th>\n",
       "      <td>سقمو الريزو  تعبتونا</td>\n",
       "      <td>0</td>\n",
       "      <td>سقمو الريزو تعبتونا</td>\n",
       "      <td>سقمو الريزو تعبتونا</td>\n",
       "    </tr>\n",
       "    <tr>\n",
       "      <th>0</th>\n",
       "      <td>الله لا نربحكم ونتمنالكم كامل الخصارة على الكو...</td>\n",
       "      <td>1</td>\n",
       "      <td>الله لا نربحكم ونتمنالكم كامل الخصارة على الكو...</td>\n",
       "      <td>الله لا نربحكم ونتمنالكم كامل الخصارة على الكو...</td>\n",
       "    </tr>\n",
       "    <tr>\n",
       "      <th>110</th>\n",
       "      <td>نقدر نرجع الرقم لي كان عندي من قبل ؟</td>\n",
       "      <td>0</td>\n",
       "      <td>نقدر نرجع الرقم لي كان عندي من قبل</td>\n",
       "      <td>نقدر نرجع الرقم لي كان عندي من قبل</td>\n",
       "    </tr>\n",
       "  </tbody>\n",
       "</table>\n",
       "</div>"
      ],
      "text/plain": [
       "                                              comments  class  \\\n",
       "129              كي نتوما كي لكونيكسيو تاعكم تعيي تقرف      1   \n",
       "182  ناس تنظم مسابقة لربح هواتف واكثر قيمة. وانتم  ...      0   \n",
       "165  لدي طابلات cidea المشكل أن الأنترنت لم تشتغل ف...      0   \n",
       "159              أشحال وانا نفليكسي 1500 دج  40Mo.....      0   \n",
       "176  علاش رجعتولي لبيس من هايلة الى هايلة بزاف ونحي...      0   \n",
       "5    بدراهمنا و مادرتولناش كونكسيو زينا كي دول المج...      1   \n",
       "154              لماذا لايتم الرد على إنشغالاتنا؟؟؟؟؟؟      0   \n",
       "111    شكون نسجله في تطبيق جازي يحصل على 8 GB الانترنت      0   \n",
       "237                         واش المطلوب منا واش نديرو؟      0   \n",
       "200                                     رجعولي ل100ألف      0   \n",
       "22   تسرقو فينا عيني عينك وخصني غير نسلف منعندكم بت...      1   \n",
       "227                Vous prouver me repondre au prv ?!!      0   \n",
       "134                          هل تم تحويل قسيمتي لجوميا      0   \n",
       "53                    علاه مزالو ناس يكونكثيو جيزي ولا      0   \n",
       "97            نشكركم على مجهودكم احسن كوناكسيو في جيزي      0   \n",
       "184                                               سجني      0   \n",
       "27   كي نقدر ندخل بكونكسيو تاعكم راني نطلب لشتا ما ...      0   \n",
       "79                                سقمو الريزو  تعبتونا      0   \n",
       "0    الله لا نربحكم ونتمنالكم كامل الخصارة على الكو...      1   \n",
       "110               نقدر نرجع الرقم لي كان عندي من قبل ؟      0   \n",
       "\n",
       "                                        comments_clean  \\\n",
       "129              كي نتوما كي لكونيكسيو تاعكم تعيي تقرف   \n",
       "182  ناس تنظم مسابقة لربح هواتف واكثر قيمة وانتم فر...   \n",
       "165  لدي طابلات cidea المشكل أن الأنترنت لم تشتغل ف...   \n",
       "159                        أشحال وانا نفليكسي دج 40mo    \n",
       "176  علاش رجعتولي لبيس من هايلة الى هايلة بزاف ونحي...   \n",
       "5    بدراهمنا و مادرتولناش كونكسيو زينا كي دول المج...   \n",
       "154                   لماذا لايتم الرد على إنشغالاتنا    \n",
       "111      شكون نسجله في تطبيق جازي يحصل على gb الانترنت   \n",
       "237                         واش المطلوب منا واش نديرو    \n",
       "200                                     رجعولي ل100ألف   \n",
       "22   تسرقو فينا عيني عينك وخصني غير نسلف منعندكم بت...   \n",
       "227                   vous prouver me repondre au prv    \n",
       "134                          هل تم تحويل قسيمتي لجوميا   \n",
       "53                    علاه مزالو ناس يكونكثيو جيزي ولا   \n",
       "97            نشكركم على مجهودكم احسن كوناكسيو في جيزي   \n",
       "184                                               سجني   \n",
       "27   كي نقدر ندخل بكونكسيو تاعكم راني نطلب لشتا ما ...   \n",
       "79                                 سقمو الريزو تعبتونا   \n",
       "0    الله لا نربحكم ونتمنالكم كامل الخصارة على الكو...   \n",
       "110                نقدر نرجع الرقم لي كان عندي من قبل    \n",
       "\n",
       "                                         comments_corr  \n",
       "129              كي نتوما كي لكونيكسيو تاعكم تعيي تقرف  \n",
       "182  ناس تنظم مسابقة لربح هواتف واكثر قيمة وانتم فر...  \n",
       "165  لدي طابلات cidea المشكل أن الأنترنت لم تشتغل ف...  \n",
       "159                         أشحال وانا نفليكسي دج 40mo  \n",
       "176  علاش رجعتولي لبيس من هايلة الى هايلة بزاف ونحي...  \n",
       "5    بدراهمنا و مادرتولناش كونكسيو زينا كي دول المج...  \n",
       "154                    لماذا لايتم الرد على إنشغالاتنا  \n",
       "111      شكون نسجله في تطبيق جازي يحصل على gb الانترنت  \n",
       "237                         واش المطلوب منا واش نديرو   \n",
       "200                                     رجعولي ل100ألف  \n",
       "22   تسرقو فينا عيني عينك وخصني غير نسلف منعندكم بت...  \n",
       "227                    vous prouver me repondre au prv  \n",
       "134                          هل تم تحويل قسيمتي لجوميا  \n",
       "53                    علاه مزالو ناس يكونكثيو جيزي ولا  \n",
       "97            نشكركم على مجهودكم احسن كوناكسيو في جيزي  \n",
       "184                                               سجني  \n",
       "27   كي نقدر ندخل بكونكسيو تاعكم راني نطلب لشتا ما ...  \n",
       "79                                 سقمو الريزو تعبتونا  \n",
       "0    الله لا نربحكم ونتمنالكم كامل الخصارة على الكو...  \n",
       "110                 نقدر نرجع الرقم لي كان عندي من قبل  "
      ]
     },
     "execution_count": 27,
     "metadata": {},
     "output_type": "execute_result"
    }
   ],
   "source": [
    "df1.sample(20)"
   ]
  },
  {
   "cell_type": "code",
   "execution_count": null,
   "metadata": {},
   "outputs": [],
   "source": [
    "if df['comments'].dtype == 'object':\n",
    "    df['comments_clean'] = df['comments_corr'].apply(preprocess2)"
   ]
  },
  {
   "cell_type": "code",
   "execution_count": 28,
   "metadata": {},
   "outputs": [],
   "source": [
    "if df1['comments'].dtype == 'object':\n",
    "    df1['comments_clean'] = df1['comments_corr'].apply(preprocess2)"
   ]
  },
  {
   "attachments": {},
   "cell_type": "markdown",
   "metadata": {},
   "source": [
    "### <span style='font-family:serif'> Dealing with Duplicates"
   ]
  },
  {
   "cell_type": "code",
   "execution_count": 52,
   "metadata": {},
   "outputs": [
    {
     "data": {
      "text/plain": [
       "1749"
      ]
     },
     "execution_count": 52,
     "metadata": {},
     "output_type": "execute_result"
    }
   ],
   "source": [
    "df[\"comments_clean\"].duplicated().sum()"
   ]
  },
  {
   "cell_type": "code",
   "execution_count": 29,
   "metadata": {},
   "outputs": [
    {
     "data": {
      "text/plain": [
       "9"
      ]
     },
     "execution_count": 29,
     "metadata": {},
     "output_type": "execute_result"
    }
   ],
   "source": [
    "df1[\"comments_clean\"].duplicated().sum()"
   ]
  },
  {
   "cell_type": "code",
   "execution_count": 53,
   "metadata": {},
   "outputs": [],
   "source": [
    "df= df.drop_duplicates(subset=[\"comments_clean\"], keep=\"first\")"
   ]
  },
  {
   "cell_type": "code",
   "execution_count": 30,
   "metadata": {},
   "outputs": [],
   "source": [
    "df1= df1.drop_duplicates(subset=[\"comments_clean\"], keep=\"first\")"
   ]
  },
  {
   "attachments": {},
   "cell_type": "markdown",
   "metadata": {},
   "source": [
    "#### <span style='font-family:serif'>Duplicates removed"
   ]
  },
  {
   "attachments": {},
   "cell_type": "markdown",
   "metadata": {},
   "source": [
    "### <span style='font-family:serif'> Tokenization"
   ]
  },
  {
   "cell_type": "code",
   "execution_count": 48,
   "metadata": {},
   "outputs": [],
   "source": [
    "tokenizer = RegexpTokenizer(r'\\w+')\n",
    "def tokenization(text):\n",
    "    words=tokenizer.tokenize(text)\n",
    "    return words"
   ]
  },
  {
   "cell_type": "code",
   "execution_count": null,
   "metadata": {},
   "outputs": [],
   "source": [
    "df['comments_clean']=df['comments_clean'].apply(str)\n",
    "if df['comments_clean'].dtype == 'object':\n",
    "    df['comments_list'] = df['comments_clean'].apply(tokenization)\n"
   ]
  },
  {
   "cell_type": "code",
   "execution_count": null,
   "metadata": {},
   "outputs": [],
   "source": [
    "df1['comments_clean']=df1['comments_clean'].apply(str)\n",
    "if df1['comments_clean'].dtype == 'object':\n",
    "    df1['comments_list'] = df1['comments_clean'].apply(tokenization)\n",
    "df1[df1['class']==0].sample(10)"
   ]
  },
  {
   "cell_type": "code",
   "execution_count": 56,
   "metadata": {},
   "outputs": [],
   "source": [
    "df=df.dropna(subset = ['class','comments_clean'])"
   ]
  },
  {
   "attachments": {},
   "cell_type": "markdown",
   "metadata": {},
   "source": [
    "### <span style='font-family:serif'> Checking length of various tweet texts\n"
   ]
  },
  {
   "cell_type": "code",
   "execution_count": 55,
   "metadata": {},
   "outputs": [
    {
     "name": "stderr",
     "output_type": "stream",
     "text": [
      "C:\\Users\\BIGNETWORK\\AppData\\Local\\Temp\\ipykernel_6208\\2185639929.py:5: SettingWithCopyWarning: \n",
      "A value is trying to be set on a copy of a slice from a DataFrame.\n",
      "Try using .loc[row_indexer,col_indexer] = value instead\n",
      "\n",
      "See the caveats in the documentation: https://pandas.pydata.org/pandas-docs/stable/user_guide/indexing.html#returning-a-view-versus-a-copy\n",
      "  df['text_len'] = text_len\n"
     ]
    }
   ],
   "source": [
    "text_len = []\n",
    "for text in df.comments_list:\n",
    "    comment_len = len(text)\n",
    "    text_len.append(comment_len)\n",
    "df['text_len'] = text_len"
   ]
  },
  {
   "cell_type": "code",
   "execution_count": 56,
   "metadata": {},
   "outputs": [
    {
     "data": {
      "image/png": "[encoded data removed]",
      "text/plain": [
       "<Figure size 1500x800 with 1 Axes>"
      ]
     },
     "metadata": {},
     "output_type": "display_data"
    }
   ],
   "source": [
    "plt.figure(figsize=(15,8))\n",
    "ax = sns.countplot(x='text_len', data=df, palette='mako')\n",
    "plt.title('Count of words in comments', fontsize=20)\n",
    "plt.yticks([])\n",
    "ax.bar_label(ax.containers[0])\n",
    "plt.ylabel('count')\n",
    "plt.xlabel('')\n",
    "plt.show()\n"
   ]
  },
  {
   "attachments": {},
   "cell_type": "markdown",
   "metadata": {},
   "source": [
    "### <span style='font-family:serif'> Split train dataset into train, validation and test sets"
   ]
  },
  {
   "cell_type": "code",
   "execution_count": 123,
   "metadata": {},
   "outputs": [],
   "source": [
    "from keras.datasets import imdb\n",
    "from keras.models import Sequential\n",
    "from keras.layers import Dense\n",
    "from keras.layers import Flatten\n",
    "from keras.layers.convolutional import Conv1D\n",
    "from keras.layers.convolutional import MaxPooling1D\n",
    "from keras.layers import Embedding\n",
    "from tensorflow.keras.preprocessing.sequence import pad_sequences\n",
    "\n",
    "\n"
   ]
  },
  {
   "cell_type": "code",
   "execution_count": 113,
   "metadata": {},
   "outputs": [],
   "source": [
    "X,Y = df1['comments_clean'],df1['class']"
   ]
  },
  {
   "cell_type": "code",
   "execution_count": 114,
   "metadata": {},
   "outputs": [
    {
     "name": "stdout",
     "output_type": "stream",
     "text": [
      "(159,) (159,) (69,) (69,)\n"
     ]
    }
   ],
   "source": [
    "X_train, X_test, y_train, y_test = train_test_split(X, Y, test_size = 0.3, stratify =Y, random_state = 42)\n",
    "print(X_train.shape, y_train.shape, X_test.shape, y_test.shape)\n"
   ]
  },
  {
   "cell_type": "code",
   "execution_count": 83,
   "metadata": {},
   "outputs": [],
   "source": [
    "Y= np.asarray(Y)\n",
    "X= np.asarray(X)"
   ]
  },
  {
   "cell_type": "code",
   "execution_count": 125,
   "metadata": {},
   "outputs": [
    {
     "name": "stdout",
     "output_type": "stream",
     "text": [
      "(159, 816)\n",
      "(69, 816)\n"
     ]
    }
   ],
   "source": [
    "tf_idf = TfidfVectorizer()\n",
    "X_train_tf = tf_idf.fit_transform(X_train)\n",
    "X_test_tf = tf_idf.transform(X_test)\n",
    "print(X_train_tf.shape)\n",
    "print(X_test_tf.shape)"
   ]
  },
  {
   "cell_type": "code",
   "execution_count": 135,
   "metadata": {},
   "outputs": [],
   "source": [
    "train_encodings = tokenizer_(list(X_train), truncation=True, padding=True, max_length=512)\n",
    "test_encodings = tokenizer_(list(X_test), truncation=True, padding=True, max_length=512)\n",
    "\n",
    "# Convert data to numpy arrays\n",
    "X_train_input_ids = np.array(train_encodings['input_ids'])\n",
    "X_train_attention_masks = np.array(train_encodings['attention_mask'])\n",
    "\n",
    "X_test_input_ids = np.array(test_encodings['input_ids'])\n",
    "X_test_attention_masks = np.array(test_encodings['attention_mask'])\n",
    "\n",
    "# Convert input to PyTorch tensors\n",
    "X_train_input_ids = torch.tensor(train_encodings['input_ids'])\n",
    "X_train_attention_masks = torch.tensor(train_encodings['attention_mask'])\n",
    "X_test_input_ids = torch.tensor(test_encodings['input_ids'])\n",
    "X_test_attention_masks = torch.tensor(test_encodings['attention_mask'])\n",
    "\n",
    "# Get word embeddings\n",
    "train_embeddings = bert(X_train_input_ids, X_train_attention_masks)[0][:, 0, :]\n",
    "test_embeddings = bert(X_test_input_ids, X_test_attention_masks)[0][:, 0, :]"
   ]
  },
  {
   "cell_type": "code",
   "execution_count": 142,
   "metadata": {},
   "outputs": [
    {
     "data": {
      "text/plain": [
       "tensor([[-0.1178,  0.1320,  0.3211,  ...,  0.2187,  0.0167, -0.1036],\n",
       "        [-0.0548,  0.0359,  0.4911,  ...,  0.1453, -0.0169, -0.0817],\n",
       "        [ 0.1305,  0.1047,  0.1949,  ...,  0.3528,  0.1118, -0.1444],\n",
       "        ...,\n",
       "        [ 0.0438,  0.0199,  0.4123,  ...,  0.0352, -0.0540, -0.0363],\n",
       "        [ 0.0318,  0.0049,  0.2826,  ...,  0.2295,  0.0332, -0.1066],\n",
       "        [-0.0336, -0.0137,  0.6291,  ...,  0.1760,  0.0385, -0.1408]],\n",
       "       grad_fn=<SliceBackward0>)"
      ]
     },
     "execution_count": 142,
     "metadata": {},
     "output_type": "execute_result"
    }
   ],
   "source": [
    "train_embeddings"
   ]
  },
  {
   "cell_type": "code",
   "execution_count": 140,
   "metadata": {},
   "outputs": [
    {
     "ename": "TypeError",
     "evalue": "'tuple' object is not callable",
     "output_type": "error",
     "traceback": [
      "\u001b[1;31m---------------------------------------------------------------------------\u001b[0m",
      "\u001b[1;31mTypeError\u001b[0m                                 Traceback (most recent call last)",
      "Cell \u001b[1;32mIn[140], line 2\u001b[0m\n\u001b[0;32m      1\u001b[0m y_train_hot\u001b[39m=\u001b[39mpd\u001b[39m.\u001b[39mget_dummies(Y)\n\u001b[1;32m----> 2\u001b[0m y_train_hot\u001b[39m.\u001b[39;49mshape()\n",
      "\u001b[1;31mTypeError\u001b[0m: 'tuple' object is not callable"
     ]
    }
   ],
   "source": [
    "y_train_hot=pd.get_dummies(Y)"
   ]
  },
  {
   "cell_type": "code",
   "execution_count": 66,
   "metadata": {},
   "outputs": [],
   "source": [
    "train_encodings = tokenizer_(train_texts, truncation = True, padding = True  )\n",
    "val_encodings = tokenizer_(val_texts, truncation = True, padding = True )"
   ]
  },
  {
   "cell_type": "code",
   "execution_count": 67,
   "metadata": {},
   "outputs": [],
   "source": [
    "train_dataset = tf.data.Dataset.from_tensor_slices((\n",
    "    dict(train_encodings),\n",
    "    train_labels\n",
    "))\n",
    "\n",
    "\n",
    "val_dataset = tf.data.Dataset.from_tensor_slices((\n",
    "    dict(val_encodings),\n",
    "    val_labels\n",
    "))"
   ]
  },
  {
   "cell_type": "code",
   "execution_count": 68,
   "metadata": {},
   "outputs": [],
   "source": [
    "from transformers import  TFTrainer, TFTrainingArguments"
   ]
  },
  {
   "cell_type": "code",
   "execution_count": null,
   "metadata": {},
   "outputs": [],
   "source": []
  },
  {
   "cell_type": "code",
   "execution_count": 43,
   "metadata": {},
   "outputs": [],
   "source": [
    "train_encodings = tokenizer_(list(X_train), truncation=True, padding=True, max_length=512)\n",
    "test_encodings = tokenizer_(list(X_test), truncation=True, padding=True, max_length=512)\n",
    "\n",
    "# Convert data to numpy arrays\n",
    "X_train_input_ids = np.array(train_encodings['input_ids'])\n",
    "X_train_attention_masks = np.array(train_encodings['attention_mask'])\n",
    "\n",
    "X_test_input_ids = np.array(test_encodings['input_ids'])\n",
    "X_test_attention_masks = np.array(test_encodings['attention_mask'])\n",
    "\n",
    "# Convert input to PyTorch tensors\n",
    "X_train_input_ids = torch.tensor(train_encodings['input_ids'])\n",
    "X_train_attention_masks = torch.tensor(train_encodings['attention_mask'])\n",
    "X_test_input_ids = torch.tensor(test_encodings['input_ids'])\n",
    "X_test_attention_masks = torch.tensor(test_encodings['attention_mask'])\n",
    "\n",
    "# Get word embeddings\n",
    "train_embeddings = bert(X_train_input_ids, X_train_attention_masks)[0][:, 0, :]\n",
    "test_embeddings = bert(X_test_input_ids, X_test_attention_masks)[0][:, 0, :]"
   ]
  },
  {
   "cell_type": "code",
   "execution_count": 36,
   "metadata": {},
   "outputs": [],
   "source": [
    "train_text, temp_text, train_labels, temp_labels = train_test_split(X, Y, \n",
    "                                                                    random_state=2018, \n",
    "                                                                    test_size=0.3, \n",
    "                                                                    stratify=Y)\n",
    "\n",
    "# we will use temp_text and temp_labels to create validation and test set\n",
    "val_text, test_text, val_labels, test_labels = train_test_split(temp_text, temp_labels, \n",
    "                                                                random_state=2018, \n",
    "                                                                test_size=0.5, \n",
    "                                                                stratify=temp_labels)"
   ]
  },
  {
   "attachments": {},
   "cell_type": "markdown",
   "metadata": {},
   "source": [
    "#### <span style='font-family:serif'>loading bert model"
   ]
  },
  {
   "cell_type": "code",
   "execution_count": 116,
   "metadata": {},
   "outputs": [
    {
     "name": "stderr",
     "output_type": "stream",
     "text": [
      "Downloading tf_model.h5: 100%|██████████| 911M/911M [17:28<00:00, 869kB/s]  \n",
      "C:\\Users\\BIGNETWORK\\AppData\\Local\\Packages\\PythonSoftwareFoundation.Python.3.10_qbz5n2kfra8p0\\LocalCache\\local-packages\\Python310\\site-packages\\huggingface_hub\\file_download.py:133: UserWarning: `huggingface_hub` cache-system uses symlinks by default to efficiently store duplicated files but your machine does not support them in C:\\Users\\BIGNETWORK\\.cache\\huggingface\\hub. Caching files will still work but in a degraded version that might require more space on your disk. This warning can be disabled by setting the `HF_HUB_DISABLE_SYMLINKS_WARNING` environment variable. For more details, see https://huggingface.co/docs/huggingface_hub/how-to-cache#limitations.\n",
      "To support symlinks on Windows, you either need to activate Developer Mode or to run Python as an administrator. In order to see activate developer mode, see this article: https://docs.microsoft.com/en-us/windows/apps/get-started/enable-your-device-for-development\n",
      "  warnings.warn(message)\n",
      "All TF 2.0 model weights were used when initializing DistilBertModel.\n",
      "\n",
      "All the weights of DistilBertModel were initialized from the TF 2.0 model.\n",
      "If your task is similar to the task the model of the checkpoint was trained on, you can already use DistilBertModel for predictions without further training.\n"
     ]
    }
   ],
   "source": [
    "#model = DistilBertModel.from_pretrained('distilbert-base-multilingual-cased')\n",
    "#tokenizer = DistilBertTokenizer.from_pretrained('distilbert-base-multilingual-cased')\n",
    "#Save the model and tokenizer to a directory\n",
    "#model.save_pretrained('saved_model_dist_tf')\n",
    "#tokenizer.save_pretrained('saved_model_dist_tf')"
   ]
  },
  {
   "cell_type": "code",
   "execution_count": 40,
   "metadata": {},
   "outputs": [],
   "source": [
    "# Load the model and tokenizer from the directory\n",
    "bert = DistilBertModel.from_pretrained('saved_model_dist')\n",
    "tokenizer_ = DistilBertTokenizer.from_pretrained('saved_model_dist')"
   ]
  },
  {
   "cell_type": "code",
   "execution_count": 41,
   "metadata": {},
   "outputs": [
    {
     "name": "stdout",
     "output_type": "stream",
     "text": [
      "{'input_ids': [[101, 10531, 10124, 169, 10347, 10976, 13192, 69635, 34108, 102, 0], [101, 11951, 11337, 13435, 118, 91695, 169, 10347, 10976, 13192, 102]], 'attention_mask': [[1, 1, 1, 1, 1, 1, 1, 1, 1, 1, 0], [1, 1, 1, 1, 1, 1, 1, 1, 1, 1, 1]]}\n"
     ]
    }
   ],
   "source": [
    "# sample data\n",
    "text = [\"this is a bert model tutorial\", \"we will fine-tune a bert model\"]\n",
    "\n",
    "# encode text\n",
    "sent_id = tokenizer_.batch_encode_plus(text, padding=True, return_token_type_ids=False)\n",
    "print(sent_id)"
   ]
  },
  {
   "attachments": {},
   "cell_type": "markdown",
   "metadata": {},
   "source": [
    "- Tokenization"
   ]
  },
  {
   "cell_type": "code",
   "execution_count": 42,
   "metadata": {},
   "outputs": [
    {
     "data": {
      "text/plain": [
       "<AxesSubplot: >"
      ]
     },
     "execution_count": 42,
     "metadata": {},
     "output_type": "execute_result"
    },
    {
     "data": {
      "image/png": "[encoded data removed]",
      "text/plain": [
       "<Figure size 640x480 with 1 Axes>"
      ]
     },
     "metadata": {},
     "output_type": "display_data"
    }
   ],
   "source": [
    "# get length of all the messages in the train set\n",
    "seq_len = [len(i.split()) for i in train_text]\n",
    "\n",
    "pd.Series(seq_len).hist(bins = 30)"
   ]
  },
  {
   "cell_type": "code",
   "execution_count": 43,
   "metadata": {},
   "outputs": [],
   "source": [
    "max_seq_len = 10"
   ]
  },
  {
   "cell_type": "code",
   "execution_count": 44,
   "metadata": {},
   "outputs": [
    {
     "name": "stderr",
     "output_type": "stream",
     "text": [
      "C:\\Users\\BIGNETWORK\\AppData\\Local\\Packages\\PythonSoftwareFoundation.Python.3.10_qbz5n2kfra8p0\\LocalCache\\local-packages\\Python310\\site-packages\\transformers\\tokenization_utils_base.py:2354: FutureWarning: The `pad_to_max_length` argument is deprecated and will be removed in a future version, use `padding=True` or `padding='longest'` to pad to the longest sequence in the batch, or use `padding='max_length'` to pad to a max length. In this case, you can give a specific length with `max_length` (e.g. `max_length=45`) or leave max_length to None to pad to the maximal input size of the model (e.g. 512 for Bert).\n",
      "  warnings.warn(\n"
     ]
    }
   ],
   "source": [
    "# tokenize and encode sequences in the training set\n",
    "tokens_train = tokenizer_.batch_encode_plus(\n",
    "    train_text.tolist(),\n",
    "    max_length = max_seq_len,\n",
    "    pad_to_max_length=True,\n",
    "    truncation=True,\n",
    "    return_token_type_ids=False\n",
    ")\n",
    "\n",
    "# tokenize and encode sequences in the validation set\n",
    "tokens_val = tokenizer_.batch_encode_plus(\n",
    "    val_text.tolist(),\n",
    "    max_length = max_seq_len,\n",
    "    pad_to_max_length=True,\n",
    "    truncation=True,\n",
    "    return_token_type_ids=False\n",
    ")\n",
    "\n",
    "# tokenize and encode sequences in the test set\n",
    "tokens_test = tokenizer_.batch_encode_plus(\n",
    "    test_text.tolist(),\n",
    "    max_length = max_seq_len,\n",
    "    pad_to_max_length=True,\n",
    "    truncation=True,\n",
    "    return_token_type_ids=False\n",
    ")"
   ]
  },
  {
   "attachments": {},
   "cell_type": "markdown",
   "metadata": {},
   "source": [
    "## <span style='font-family:serif'>Convert Integer Sequences to Tensors"
   ]
  },
  {
   "cell_type": "code",
   "execution_count": 45,
   "metadata": {},
   "outputs": [],
   "source": [
    "# for train set\n",
    "train_seq = torch.tensor(tokens_train['input_ids'])\n",
    "train_mask = torch.tensor(tokens_train['attention_mask'])\n",
    "train_y = torch.tensor(train_labels.tolist())\n",
    "\n",
    "# for validation set\n",
    "val_seq = torch.tensor(tokens_val['input_ids'])\n",
    "val_mask = torch.tensor(tokens_val['attention_mask'])\n",
    "val_y = torch.tensor(val_labels.tolist())\n",
    "\n",
    "# for test set\n",
    "test_seq = torch.tensor(tokens_test['input_ids'])\n",
    "test_mask = torch.tensor(tokens_test['attention_mask'])\n",
    "test_y = torch.tensor(test_labels.tolist())"
   ]
  },
  {
   "attachments": {},
   "cell_type": "markdown",
   "metadata": {},
   "source": [
    "## <span style='font-family:serif'>Create DataLoaders"
   ]
  },
  {
   "cell_type": "code",
   "execution_count": 46,
   "metadata": {},
   "outputs": [],
   "source": [
    "from torch.utils.data import TensorDataset, DataLoader, RandomSampler, SequentialSampler\n",
    "\n",
    "#define a batch size\n",
    "batch_size = 32\n",
    "\n",
    "# wrap tensors\n",
    "train_data = TensorDataset(train_seq, train_mask, train_y)\n",
    "\n",
    "# sampler for sampling the data during training\n",
    "train_sampler = RandomSampler(train_data)\n",
    "\n",
    "# dataLoader for train set\n",
    "train_dataloader = DataLoader(train_data, sampler=train_sampler, batch_size=batch_size)\n",
    "\n",
    "# wrap tensors\n",
    "val_data = TensorDataset(val_seq, val_mask, val_y)\n",
    "\n",
    "# sampler for sampling the data during training\n",
    "val_sampler = SequentialSampler(val_data)\n",
    "\n",
    "# dataLoader for validation set\n",
    "val_dataloader = DataLoader(val_data, sampler = val_sampler, batch_size=batch_size)"
   ]
  },
  {
   "attachments": {},
   "cell_type": "markdown",
   "metadata": {},
   "source": [
    "## <span style='font-family:serif'>Freeze BERT Parameters"
   ]
  },
  {
   "cell_type": "code",
   "execution_count": 153,
   "metadata": {},
   "outputs": [],
   "source": [
    "# freeze all the parameters\n",
    "for param in bert.parameters():\n",
    "    param.requires_grad = False"
   ]
  },
  {
   "attachments": {},
   "cell_type": "markdown",
   "metadata": {},
   "source": [
    "## <span style='font-family:serif'>Define Model Architecture"
   ]
  },
  {
   "cell_type": "code",
   "execution_count": 162,
   "metadata": {},
   "outputs": [
    {
     "name": "stdout",
     "output_type": "stream",
     "text": [
      "{'input_ids': [[101, 10531, 10124, 169, 10347, 10976, 13192, 69635, 34108, 102, 0], [101, 11951, 11337, 13435, 118, 91695, 169, 10347, 10976, 13192, 102]], 'attention_mask': [[1, 1, 1, 1, 1, 1, 1, 1, 1, 1, 0], [1, 1, 1, 1, 1, 1, 1, 1, 1, 1, 1]]}\n"
     ]
    }
   ],
   "source": [
    "print(sent_id)"
   ]
  },
  {
   "cell_type": "code",
   "execution_count": 196,
   "metadata": {},
   "outputs": [],
   "source": [
    "class BERT_Arch(nn.Module):\n",
    "\n",
    "    def __init__(self, bert):\n",
    "      \n",
    "      super(BERT_Arch, self).__init__()\n",
    "\n",
    "      self.bert = bert \n",
    "      \n",
    "      # dropout layer\n",
    "      self.dropout = nn.Dropout(0.1)\n",
    "      \n",
    "      # relu activation function\n",
    "      self.relu =  nn.ReLU()\n",
    "\n",
    "      # dense layer 1\n",
    "      self.fc1 = nn.Linear(768,512)\n",
    "      \n",
    "      # dense layer 2 (Output layer)\n",
    "      self.fc2 = nn.Linear(512,2)\n",
    "\n",
    "      #softmax activation function\n",
    "      self.softmax = nn.LogSoftmax(dim=1)\n",
    "\n",
    "    #define the forward pass\n",
    "    def forward(self, sent_id, mask):\n",
    "\n",
    "      #pass the inputs to the model \n",
    "      print(self.bert(sent_id, attention_mask=mask)) \n",
    "      cls = self.bert(sent_id, attention_mask=mask)\n",
    "      \n",
    "      x = self.fc1(cls)\n",
    "\n",
    "      x = self.relu(x)\n",
    "\n",
    "      x = self.dropout(x)\n",
    "\n",
    "      # output layer\n",
    "      x = self.fc2(x)\n",
    "      \n",
    "      # apply softmax activation\n",
    "      x = self.softmax(x)\n",
    "\n",
    "      return x\n",
    "\n"
   ]
  },
  {
   "cell_type": "code",
   "execution_count": 189,
   "metadata": {},
   "outputs": [],
   "source": [
    "\n",
    "# pass the pre-trained BERT to our define architecture\n",
    "model = BERT_Arch(bert)"
   ]
  },
  {
   "cell_type": "code",
   "execution_count": 190,
   "metadata": {},
   "outputs": [
    {
     "name": "stderr",
     "output_type": "stream",
     "text": [
      "C:\\Users\\BIGNETWORK\\AppData\\Local\\Packages\\PythonSoftwareFoundation.Python.3.10_qbz5n2kfra8p0\\LocalCache\\local-packages\\Python310\\site-packages\\transformers\\optimization.py:391: FutureWarning: This implementation of AdamW is deprecated and will be removed in a future version. Use the PyTorch implementation torch.optim.AdamW instead, or set `no_deprecation_warning=True` to disable this warning\n",
      "  warnings.warn(\n"
     ]
    }
   ],
   "source": [
    "\n",
    "# optimizer from hugging face transformers\n",
    "from transformers import AdamW\n",
    "\n",
    "# define the optimizer\n",
    "optimizer = AdamW(model.parameters(), lr = 1e-3)"
   ]
  },
  {
   "attachments": {},
   "cell_type": "markdown",
   "metadata": {},
   "source": [
    "## <span style='font-family:serif'>Find Class Weights"
   ]
  },
  {
   "cell_type": "code",
   "execution_count": 191,
   "metadata": {},
   "outputs": [
    {
     "name": "stdout",
     "output_type": "stream",
     "text": [
      "[5.88888889 0.41732283 2.30434783]\n"
     ]
    }
   ],
   "source": [
    "from sklearn.utils.class_weight import compute_class_weight\n",
    "\n",
    "#compute the class weights\n",
    "class_wts = compute_class_weight('balanced', classes=np.unique(train_labels), y=train_labels)\n",
    "\n",
    "\n",
    "print(class_wts)"
   ]
  },
  {
   "cell_type": "code",
   "execution_count": 192,
   "metadata": {},
   "outputs": [],
   "source": [
    "# convert class weights to tensor\n",
    "weights= torch.tensor(class_wts,dtype=torch.float)\n",
    "\n",
    "# loss function\n",
    "cross_entropy  = nn.NLLLoss(weight=weights) \n",
    "\n",
    "# number of training epochs\n",
    "epochs = 10"
   ]
  },
  {
   "cell_type": "code",
   "execution_count": 198,
   "metadata": {},
   "outputs": [],
   "source": [
    "# function to train the model\n",
    "def train():\n",
    "    model.train()\n",
    "    total_loss, total_accuracy = 0, 0\n",
    "    total_preds=[]\n",
    "    \n",
    "    for step,batch in enumerate(train_dataloader):\n",
    "        \n",
    "        b_input_ids, b_attn_mask, b_labels = tuple(batch)\n",
    "        \n",
    "        model.zero_grad()        \n",
    "                \n",
    "        outputs = model(b_input_ids, attention_mask=b_attn_mask)\n",
    "        \n",
    "        last_hidden_state = outputs.last_hidden_state\n",
    "        \n",
    "        logits = classifier(last_hidden_state)\n",
    "        \n",
    "        loss = loss_fn(logits, b_labels)\n",
    "        total_loss += loss.item()\n",
    "        \n",
    "        loss.backward()\n",
    "        \n",
    "        torch.nn.utils.clip_grad_norm_(model.parameters(), 1.0)\n",
    "        \n",
    "        optimizer.step()\n",
    "        scheduler.step()\n",
    "        \n",
    "        logits = logits.detach().cpu().numpy()\n",
    "        label_ids = b_labels.to('cpu').numpy()\n",
    "        total_preds.append(logits)\n",
    "        \n",
    "        total_accuracy += flat_accuracy(logits, label_ids)\n",
    "        \n",
    "    avg_loss = total_loss / len(train_dataloader)\n",
    "    avg_accuracy = total_accuracy / len(train_dataloader)\n",
    "    \n",
    "    total_preds = np.concatenate(total_preds, axis=0)\n",
    "    \n",
    "    return avg_loss, avg_accuracy, total_preds\n"
   ]
  },
  {
   "cell_type": "code",
   "execution_count": 194,
   "metadata": {},
   "outputs": [],
   "source": [
    "# function for evaluating the model\n",
    "def evaluate():\n",
    "  \n",
    "  print(\"\\nEvaluating...\")\n",
    "  \n",
    "  # deactivate dropout layers\n",
    "  model.eval()\n",
    "\n",
    "  total_loss, total_accuracy = 0, 0\n",
    "  \n",
    "  # empty list to save the model predictions\n",
    "  total_preds = []\n",
    "\n",
    "  # iterate over batches\n",
    "  for step,batch in enumerate(val_dataloader):\n",
    "    \n",
    "    # Progress update every 50 batches.\n",
    "    if step % 50 == 0 and not step == 0:\n",
    "      \n",
    "      # Calculate elapsed time in minutes.\n",
    "      elapsed = format_time(time.time() - t0)\n",
    "            \n",
    "      # Report progress.\n",
    "      print('  Batch {:>5,}  of  {:>5,}.'.format(step, len(val_dataloader)))\n",
    "\n",
    "    \n",
    "\n",
    "    sent_id, mask, labels = batch\n",
    "\n",
    "    # deactivate autograd\n",
    "    with torch.no_grad():\n",
    "      \n",
    "      # model predictions\n",
    "      preds = model(sent_id, mask)\n",
    "\n",
    "      # compute the validation loss between actual and predicted values\n",
    "      loss = cross_entropy(preds,labels)\n",
    "\n",
    "      total_loss = total_loss + loss.item()\n",
    "\n",
    "      preds = preds.detach().cpu().numpy()\n",
    "\n",
    "      total_preds.append(preds)\n",
    "\n",
    "  # compute the validation loss of the epoch\n",
    "  avg_loss = total_loss / len(val_dataloader) \n",
    "\n",
    "  # reshape the predictions in form of (number of samples, no. of classes)\n",
    "  total_preds  = np.concatenate(total_preds, axis=0)\n",
    "\n",
    "  return avg_loss, total_preds"
   ]
  },
  {
   "cell_type": "code",
   "execution_count": 199,
   "metadata": {},
   "outputs": [
    {
     "name": "stdout",
     "output_type": "stream",
     "text": [
      "\n",
      " Epoch 1 / 10\n"
     ]
    },
    {
     "ename": "TypeError",
     "evalue": "BERT_Arch.forward() got an unexpected keyword argument 'attention_mask'",
     "output_type": "error",
     "traceback": [
      "\u001b[1;31m---------------------------------------------------------------------------\u001b[0m",
      "\u001b[1;31mTypeError\u001b[0m                                 Traceback (most recent call last)",
      "Cell \u001b[1;32mIn[199], line 14\u001b[0m\n\u001b[0;32m     11\u001b[0m \u001b[39mprint\u001b[39m(\u001b[39m'\u001b[39m\u001b[39m\\n\u001b[39;00m\u001b[39m Epoch \u001b[39m\u001b[39m{:}\u001b[39;00m\u001b[39m / \u001b[39m\u001b[39m{:}\u001b[39;00m\u001b[39m'\u001b[39m\u001b[39m.\u001b[39mformat(epoch \u001b[39m+\u001b[39m \u001b[39m1\u001b[39m, epochs))\n\u001b[0;32m     13\u001b[0m \u001b[39m#train model\u001b[39;00m\n\u001b[1;32m---> 14\u001b[0m train_loss, _ \u001b[39m=\u001b[39m train()\n\u001b[0;32m     16\u001b[0m \u001b[39m#evaluate model\u001b[39;00m\n\u001b[0;32m     17\u001b[0m valid_loss, _ \u001b[39m=\u001b[39m evaluate()\n",
      "Cell \u001b[1;32mIn[198], line 13\u001b[0m, in \u001b[0;36mtrain\u001b[1;34m()\u001b[0m\n\u001b[0;32m      9\u001b[0m b_input_ids, b_attn_mask, b_labels \u001b[39m=\u001b[39m \u001b[39mtuple\u001b[39m(batch)\n\u001b[0;32m     11\u001b[0m model\u001b[39m.\u001b[39mzero_grad()        \n\u001b[1;32m---> 13\u001b[0m outputs \u001b[39m=\u001b[39m model(b_input_ids, attention_mask\u001b[39m=\u001b[39;49mb_attn_mask)\n\u001b[0;32m     15\u001b[0m last_hidden_state \u001b[39m=\u001b[39m outputs\u001b[39m.\u001b[39mlast_hidden_state\n\u001b[0;32m     17\u001b[0m logits \u001b[39m=\u001b[39m classifier(last_hidden_state)\n",
      "File \u001b[1;32m~\\AppData\\Local\\Packages\\PythonSoftwareFoundation.Python.3.10_qbz5n2kfra8p0\\LocalCache\\local-packages\\Python310\\site-packages\\torch\\nn\\modules\\module.py:1501\u001b[0m, in \u001b[0;36mModule._call_impl\u001b[1;34m(self, *args, **kwargs)\u001b[0m\n\u001b[0;32m   1496\u001b[0m \u001b[39m# If we don't have any hooks, we want to skip the rest of the logic in\u001b[39;00m\n\u001b[0;32m   1497\u001b[0m \u001b[39m# this function, and just call forward.\u001b[39;00m\n\u001b[0;32m   1498\u001b[0m \u001b[39mif\u001b[39;00m \u001b[39mnot\u001b[39;00m (\u001b[39mself\u001b[39m\u001b[39m.\u001b[39m_backward_hooks \u001b[39mor\u001b[39;00m \u001b[39mself\u001b[39m\u001b[39m.\u001b[39m_backward_pre_hooks \u001b[39mor\u001b[39;00m \u001b[39mself\u001b[39m\u001b[39m.\u001b[39m_forward_hooks \u001b[39mor\u001b[39;00m \u001b[39mself\u001b[39m\u001b[39m.\u001b[39m_forward_pre_hooks\n\u001b[0;32m   1499\u001b[0m         \u001b[39mor\u001b[39;00m _global_backward_pre_hooks \u001b[39mor\u001b[39;00m _global_backward_hooks\n\u001b[0;32m   1500\u001b[0m         \u001b[39mor\u001b[39;00m _global_forward_hooks \u001b[39mor\u001b[39;00m _global_forward_pre_hooks):\n\u001b[1;32m-> 1501\u001b[0m     \u001b[39mreturn\u001b[39;00m forward_call(\u001b[39m*\u001b[39margs, \u001b[39m*\u001b[39m\u001b[39m*\u001b[39mkwargs)\n\u001b[0;32m   1502\u001b[0m \u001b[39m# Do not call functions when jit is used\u001b[39;00m\n\u001b[0;32m   1503\u001b[0m full_backward_hooks, non_full_backward_hooks \u001b[39m=\u001b[39m [], []\n",
      "\u001b[1;31mTypeError\u001b[0m: BERT_Arch.forward() got an unexpected keyword argument 'attention_mask'"
     ]
    }
   ],
   "source": [
    "# set initial loss to infinite\n",
    "best_valid_loss = float('inf')\n",
    "\n",
    "# empty lists to store training and validation loss of each epoch\n",
    "train_losses=[]\n",
    "valid_losses=[]\n",
    "\n",
    "#for each epoch\n",
    "for epoch in range(epochs):\n",
    "     \n",
    "    print('\\n Epoch {:} / {:}'.format(epoch + 1, epochs))\n",
    "    \n",
    "    #train model\n",
    "    train_loss, _ = train()\n",
    "    \n",
    "    #evaluate model\n",
    "    valid_loss, _ = evaluate()\n",
    "    \n",
    "    #save the best model\n",
    "    if valid_loss < best_valid_loss:\n",
    "        best_valid_loss = valid_loss\n",
    "        torch.save(model.state_dict(), 'saved_weights.pt')\n",
    "    \n",
    "    # append training and validation loss\n",
    "    train_losses.append(train_loss)\n",
    "    valid_losses.append(valid_loss)\n",
    "    \n",
    "    print(f'\\nTraining Loss: {train_loss:.3f}')\n",
    "    print(f'Validation Loss: {valid_loss:.3f}')"
   ]
  },
  {
   "cell_type": "code",
   "execution_count": 29,
   "metadata": {},
   "outputs": [],
   "source": [
    "train_encodings = tokenizer(list(X_train), truncation=True, padding=True, max_length=512)\n",
    "test_encodings = tokenizer(list(X_test), truncation=True, padding=True, max_length=512)\n",
    "\n",
    "# Convert data to numpy arrays\n",
    "X_train_input_ids = np.array(train_encodings['input_ids'])\n",
    "X_train_attention_masks = np.array(train_encodings['attention_mask'])\n",
    "\n",
    "X_test_input_ids = np.array(test_encodings['input_ids'])\n",
    "X_test_attention_masks = np.array(test_encodings['attention_mask'])\n",
    "\n",
    "# Convert input to PyTorch tensors\n",
    "X_train_input_ids = torch.tensor(train_encodings['input_ids'])\n",
    "X_train_attention_masks = torch.tensor(train_encodings['attention_mask'])\n",
    "X_test_input_ids = torch.tensor(test_encodings['input_ids'])\n",
    "X_test_attention_masks = torch.tensor(test_encodings['attention_mask'])\n",
    "\n",
    "# Get word embeddings\n",
    "train_embeddings = model(X_train_input_ids, X_train_attention_masks)[0][:, 0, :]\n",
    "test_embeddings = model(X_test_input_ids, X_test_attention_masks)[0][:, 0, :]"
   ]
  },
  {
   "attachments": {},
   "cell_type": "markdown",
   "metadata": {},
   "source": [
    "Freeze BERT Parameters"
   ]
  },
  {
   "cell_type": "code",
   "execution_count": 31,
   "metadata": {},
   "outputs": [
    {
     "data": {
      "text/plain": [
       "torch.Size([190, 768])"
      ]
     },
     "execution_count": 31,
     "metadata": {},
     "output_type": "execute_result"
    }
   ],
   "source": [
    "train_embeddings.shape"
   ]
  },
  {
   "cell_type": "code",
   "execution_count": 110,
   "metadata": {},
   "outputs": [],
   "source": [
    "\n",
    "'''from gensim.models import Word2Vec\n",
    "\n",
    "# Splitting the sentences into words\n",
    "sentences = [sentence.split() for sentence in X_train]\n",
    "\n",
    "# Training the Word2Vec model\n",
    "model = Word2Vec(sentences, vector_size=100, window=5, min_count=1, workers=4)\n",
    "\n",
    "# Generating embeddings for the training set\n",
    "X_train_embeddings = []\n",
    "for sentence in sentences:\n",
    "    sentence_embeddings = []\n",
    "    for word in sentence:\n",
    "        if word in model.wv:\n",
    "            sentence_embeddings.append(model.wv[word])\n",
    "    if sentence_embeddings:\n",
    "        X_train_embeddings.append(np.concatenate(sentence_embeddings))\n",
    "\n",
    "# Generating embeddings for the test set\n",
    "X_test_embeddings = []\n",
    "for sentence in [sentence.split() for sentence in X_test]:\n",
    "    sentence_embeddings = []\n",
    "    for word in sentence:\n",
    "        if word in model.wv:\n",
    "            sentence_embeddings.append(model.wv[word])\n",
    "    if sentence_embeddings:\n",
    "        X_test_embeddings.append(np.concatenate(sentence_embeddings))'''\n"
   ]
  },
  {
   "cell_type": "code",
   "execution_count": 59,
   "metadata": {},
   "outputs": [
    {
     "data": {
      "text/plain": [
       "torch.Size([181, 768])"
      ]
     },
     "execution_count": 59,
     "metadata": {},
     "output_type": "execute_result"
    }
   ],
   "source": [
    "train_embeddings.shape"
   ]
  },
  {
   "cell_type": "code",
   "execution_count": 69,
   "metadata": {},
   "outputs": [],
   "source": [
    "log_reg = LogisticRegression()\n"
   ]
  },
  {
   "cell_type": "code",
   "execution_count": 74,
   "metadata": {},
   "outputs": [
    {
     "data": {
      "text/plain": [
       "0.5476177127143964"
      ]
     },
     "execution_count": 74,
     "metadata": {},
     "output_type": "execute_result"
    }
   ],
   "source": [
    "log_cv_score = cross_val_score(log_reg, X_train_tf, y_train, cv=20, scoring='f1_macro', n_jobs=-1)\n",
    "mean_log_cv = np.mean(log_cv_score)\n",
    "mean_log_cv\n"
   ]
  },
  {
   "cell_type": "code",
   "execution_count": 75,
   "metadata": {},
   "outputs": [],
   "source": [
    "lin_svc = LinearSVC()"
   ]
  },
  {
   "cell_type": "code",
   "execution_count": 78,
   "metadata": {},
   "outputs": [
    {
     "data": {
      "text/plain": [
       "0.6281864749085628"
      ]
     },
     "execution_count": 78,
     "metadata": {},
     "output_type": "execute_result"
    }
   ],
   "source": [
    "lin_svc_cv_score = cross_val_score(lin_svc,X_train_tf,y_train,cv=10,scoring='f1_macro',n_jobs=-1)\n",
    "mean_lin_svc_cv = np.mean(lin_svc_cv_score)\n",
    "mean_lin_svc_cv"
   ]
  },
  {
   "cell_type": "code",
   "execution_count": 80,
   "metadata": {},
   "outputs": [],
   "source": [
    "adab = AdaBoostClassifier()"
   ]
  },
  {
   "cell_type": "code",
   "execution_count": 82,
   "metadata": {},
   "outputs": [
    {
     "data": {
      "text/plain": [
       "0.5439758097314462"
      ]
     },
     "execution_count": 82,
     "metadata": {},
     "output_type": "execute_result"
    }
   ],
   "source": [
    "adab_cv_score = cross_val_score(adab,X_train_tf,y_train,cv=10,scoring='f1_macro',n_jobs=-1)\n",
    "mean_adab_cv = np.mean(adab_cv_score)\n",
    "mean_adab_cv"
   ]
  },
  {
   "cell_type": "code",
   "execution_count": 84,
   "metadata": {},
   "outputs": [
    {
     "name": "stderr",
     "output_type": "stream",
     "text": [
      "C:\\Users\\BIGNETWORK\\AppData\\Local\\Packages\\PythonSoftwareFoundation.Python.3.10_qbz5n2kfra8p0\\LocalCache\\local-packages\\Python310\\site-packages\\sklearn\\svm\\_base.py:1244: ConvergenceWarning: Liblinear failed to converge, increase the number of iterations.\n",
      "  warnings.warn(\n"
     ]
    },
    {
     "data": {
      "text/html": [
       "<style>#sk-container-id-1 {color: black;background-color: white;}#sk-container-id-1 pre{padding: 0;}#sk-container-id-1 div.sk-toggleable {background-color: white;}#sk-container-id-1 label.sk-toggleable__label {cursor: pointer;display: block;width: 100%;margin-bottom: 0;padding: 0.3em;box-sizing: border-box;text-align: center;}#sk-container-id-1 label.sk-toggleable__label-arrow:before {content: \"▸\";float: left;margin-right: 0.25em;color: #696969;}#sk-container-id-1 label.sk-toggleable__label-arrow:hover:before {color: black;}#sk-container-id-1 div.sk-estimator:hover label.sk-toggleable__label-arrow:before {color: black;}#sk-container-id-1 div.sk-toggleable__content {max-height: 0;max-width: 0;overflow: hidden;text-align: left;background-color: #f0f8ff;}#sk-container-id-1 div.sk-toggleable__content pre {margin: 0.2em;color: black;border-radius: 0.25em;background-color: #f0f8ff;}#sk-container-id-1 input.sk-toggleable__control:checked~div.sk-toggleable__content {max-height: 200px;max-width: 100%;overflow: auto;}#sk-container-id-1 input.sk-toggleable__control:checked~label.sk-toggleable__label-arrow:before {content: \"▾\";}#sk-container-id-1 div.sk-estimator input.sk-toggleable__control:checked~label.sk-toggleable__label {background-color: #d4ebff;}#sk-container-id-1 div.sk-label input.sk-toggleable__control:checked~label.sk-toggleable__label {background-color: #d4ebff;}#sk-container-id-1 input.sk-hidden--visually {border: 0;clip: rect(1px 1px 1px 1px);clip: rect(1px, 1px, 1px, 1px);height: 1px;margin: -1px;overflow: hidden;padding: 0;position: absolute;width: 1px;}#sk-container-id-1 div.sk-estimator {font-family: monospace;background-color: #f0f8ff;border: 1px dotted black;border-radius: 0.25em;box-sizing: border-box;margin-bottom: 0.5em;}#sk-container-id-1 div.sk-estimator:hover {background-color: #d4ebff;}#sk-container-id-1 div.sk-parallel-item::after {content: \"\";width: 100%;border-bottom: 1px solid gray;flex-grow: 1;}#sk-container-id-1 div.sk-label:hover label.sk-toggleable__label {background-color: #d4ebff;}#sk-container-id-1 div.sk-serial::before {content: \"\";position: absolute;border-left: 1px solid gray;box-sizing: border-box;top: 0;bottom: 0;left: 50%;z-index: 0;}#sk-container-id-1 div.sk-serial {display: flex;flex-direction: column;align-items: center;background-color: white;padding-right: 0.2em;padding-left: 0.2em;position: relative;}#sk-container-id-1 div.sk-item {position: relative;z-index: 1;}#sk-container-id-1 div.sk-parallel {display: flex;align-items: stretch;justify-content: center;background-color: white;position: relative;}#sk-container-id-1 div.sk-item::before, #sk-container-id-1 div.sk-parallel-item::before {content: \"\";position: absolute;border-left: 1px solid gray;box-sizing: border-box;top: 0;bottom: 0;left: 50%;z-index: -1;}#sk-container-id-1 div.sk-parallel-item {display: flex;flex-direction: column;z-index: 1;position: relative;background-color: white;}#sk-container-id-1 div.sk-parallel-item:first-child::after {align-self: flex-end;width: 50%;}#sk-container-id-1 div.sk-parallel-item:last-child::after {align-self: flex-start;width: 50%;}#sk-container-id-1 div.sk-parallel-item:only-child::after {width: 0;}#sk-container-id-1 div.sk-dashed-wrapped {border: 1px dashed gray;margin: 0 0.4em 0.5em 0.4em;box-sizing: border-box;padding-bottom: 0.4em;background-color: white;}#sk-container-id-1 div.sk-label label {font-family: monospace;font-weight: bold;display: inline-block;line-height: 1.2em;}#sk-container-id-1 div.sk-label-container {text-align: center;}#sk-container-id-1 div.sk-container {/* jupyter's `normalize.less` sets `[hidden] { display: none; }` but bootstrap.min.css set `[hidden] { display: none !important; }` so we also need the `!important` here to be able to override the default hidden behavior on the sphinx rendered scikit-learn.org. See: https://github.com/scikit-learn/scikit-learn/issues/21755 */display: inline-block !important;position: relative;}#sk-container-id-1 div.sk-text-repr-fallback {display: none;}</style><div id=\"sk-container-id-1\" class=\"sk-top-container\"><div class=\"sk-text-repr-fallback\"><pre>GridSearchCV(cv=5, estimator=LinearSVC(), n_jobs=-1,\n",
       "             param_grid={&#x27;C&#x27;: [0.0001, 0.001, 0.01, 0.1, 1, 10],\n",
       "                         &#x27;fit_intercept&#x27;: [True, False],\n",
       "                         &#x27;loss&#x27;: [&#x27;hinge&#x27;, &#x27;squared_hinge&#x27;]},\n",
       "             return_train_score=True, scoring=&#x27;f1_macro&#x27;)</pre><b>In a Jupyter environment, please rerun this cell to show the HTML representation or trust the notebook. <br />On GitHub, the HTML representation is unable to render, please try loading this page with nbviewer.org.</b></div><div class=\"sk-container\" hidden><div class=\"sk-item sk-dashed-wrapped\"><div class=\"sk-label-container\"><div class=\"sk-label sk-toggleable\"><input class=\"sk-toggleable__control sk-hidden--visually\" id=\"sk-estimator-id-1\" type=\"checkbox\" ><label for=\"sk-estimator-id-1\" class=\"sk-toggleable__label sk-toggleable__label-arrow\">GridSearchCV</label><div class=\"sk-toggleable__content\"><pre>GridSearchCV(cv=5, estimator=LinearSVC(), n_jobs=-1,\n",
       "             param_grid={&#x27;C&#x27;: [0.0001, 0.001, 0.01, 0.1, 1, 10],\n",
       "                         &#x27;fit_intercept&#x27;: [True, False],\n",
       "                         &#x27;loss&#x27;: [&#x27;hinge&#x27;, &#x27;squared_hinge&#x27;]},\n",
       "             return_train_score=True, scoring=&#x27;f1_macro&#x27;)</pre></div></div></div><div class=\"sk-parallel\"><div class=\"sk-parallel-item\"><div class=\"sk-item\"><div class=\"sk-label-container\"><div class=\"sk-label sk-toggleable\"><input class=\"sk-toggleable__control sk-hidden--visually\" id=\"sk-estimator-id-2\" type=\"checkbox\" ><label for=\"sk-estimator-id-2\" class=\"sk-toggleable__label sk-toggleable__label-arrow\">estimator: LinearSVC</label><div class=\"sk-toggleable__content\"><pre>LinearSVC()</pre></div></div></div><div class=\"sk-serial\"><div class=\"sk-item\"><div class=\"sk-estimator sk-toggleable\"><input class=\"sk-toggleable__control sk-hidden--visually\" id=\"sk-estimator-id-3\" type=\"checkbox\" ><label for=\"sk-estimator-id-3\" class=\"sk-toggleable__label sk-toggleable__label-arrow\">LinearSVC</label><div class=\"sk-toggleable__content\"><pre>LinearSVC()</pre></div></div></div></div></div></div></div></div></div></div>"
      ],
      "text/plain": [
       "GridSearchCV(cv=5, estimator=LinearSVC(), n_jobs=-1,\n",
       "             param_grid={'C': [0.0001, 0.001, 0.01, 0.1, 1, 10],\n",
       "                         'fit_intercept': [True, False],\n",
       "                         'loss': ['hinge', 'squared_hinge']},\n",
       "             return_train_score=True, scoring='f1_macro')"
      ]
     },
     "execution_count": 84,
     "metadata": {},
     "output_type": "execute_result"
    }
   ],
   "source": [
    "svc1 = LinearSVC()\n",
    "param_grid = {'C':[0.0001,0.001,0.01,0.1,1,10],\n",
    "'loss':['hinge','squared_hinge'],\n",
    "'fit_intercept':[True,False]}\n",
    "grid_search = GridSearchCV(svc1,param_grid,cv=5,scoring='f1_macro',n_jobs=-1,verbose=0,return_train_score=True)\n",
    "grid_search.fit(X_train_tf,y_train)\n"
   ]
  },
  {
   "cell_type": "code",
   "execution_count": 85,
   "metadata": {},
   "outputs": [
    {
     "data": {
      "text/html": [
       "<style>#sk-container-id-2 {color: black;background-color: white;}#sk-container-id-2 pre{padding: 0;}#sk-container-id-2 div.sk-toggleable {background-color: white;}#sk-container-id-2 label.sk-toggleable__label {cursor: pointer;display: block;width: 100%;margin-bottom: 0;padding: 0.3em;box-sizing: border-box;text-align: center;}#sk-container-id-2 label.sk-toggleable__label-arrow:before {content: \"▸\";float: left;margin-right: 0.25em;color: #696969;}#sk-container-id-2 label.sk-toggleable__label-arrow:hover:before {color: black;}#sk-container-id-2 div.sk-estimator:hover label.sk-toggleable__label-arrow:before {color: black;}#sk-container-id-2 div.sk-toggleable__content {max-height: 0;max-width: 0;overflow: hidden;text-align: left;background-color: #f0f8ff;}#sk-container-id-2 div.sk-toggleable__content pre {margin: 0.2em;color: black;border-radius: 0.25em;background-color: #f0f8ff;}#sk-container-id-2 input.sk-toggleable__control:checked~div.sk-toggleable__content {max-height: 200px;max-width: 100%;overflow: auto;}#sk-container-id-2 input.sk-toggleable__control:checked~label.sk-toggleable__label-arrow:before {content: \"▾\";}#sk-container-id-2 div.sk-estimator input.sk-toggleable__control:checked~label.sk-toggleable__label {background-color: #d4ebff;}#sk-container-id-2 div.sk-label input.sk-toggleable__control:checked~label.sk-toggleable__label {background-color: #d4ebff;}#sk-container-id-2 input.sk-hidden--visually {border: 0;clip: rect(1px 1px 1px 1px);clip: rect(1px, 1px, 1px, 1px);height: 1px;margin: -1px;overflow: hidden;padding: 0;position: absolute;width: 1px;}#sk-container-id-2 div.sk-estimator {font-family: monospace;background-color: #f0f8ff;border: 1px dotted black;border-radius: 0.25em;box-sizing: border-box;margin-bottom: 0.5em;}#sk-container-id-2 div.sk-estimator:hover {background-color: #d4ebff;}#sk-container-id-2 div.sk-parallel-item::after {content: \"\";width: 100%;border-bottom: 1px solid gray;flex-grow: 1;}#sk-container-id-2 div.sk-label:hover label.sk-toggleable__label {background-color: #d4ebff;}#sk-container-id-2 div.sk-serial::before {content: \"\";position: absolute;border-left: 1px solid gray;box-sizing: border-box;top: 0;bottom: 0;left: 50%;z-index: 0;}#sk-container-id-2 div.sk-serial {display: flex;flex-direction: column;align-items: center;background-color: white;padding-right: 0.2em;padding-left: 0.2em;position: relative;}#sk-container-id-2 div.sk-item {position: relative;z-index: 1;}#sk-container-id-2 div.sk-parallel {display: flex;align-items: stretch;justify-content: center;background-color: white;position: relative;}#sk-container-id-2 div.sk-item::before, #sk-container-id-2 div.sk-parallel-item::before {content: \"\";position: absolute;border-left: 1px solid gray;box-sizing: border-box;top: 0;bottom: 0;left: 50%;z-index: -1;}#sk-container-id-2 div.sk-parallel-item {display: flex;flex-direction: column;z-index: 1;position: relative;background-color: white;}#sk-container-id-2 div.sk-parallel-item:first-child::after {align-self: flex-end;width: 50%;}#sk-container-id-2 div.sk-parallel-item:last-child::after {align-self: flex-start;width: 50%;}#sk-container-id-2 div.sk-parallel-item:only-child::after {width: 0;}#sk-container-id-2 div.sk-dashed-wrapped {border: 1px dashed gray;margin: 0 0.4em 0.5em 0.4em;box-sizing: border-box;padding-bottom: 0.4em;background-color: white;}#sk-container-id-2 div.sk-label label {font-family: monospace;font-weight: bold;display: inline-block;line-height: 1.2em;}#sk-container-id-2 div.sk-label-container {text-align: center;}#sk-container-id-2 div.sk-container {/* jupyter's `normalize.less` sets `[hidden] { display: none; }` but bootstrap.min.css set `[hidden] { display: none !important; }` so we also need the `!important` here to be able to override the default hidden behavior on the sphinx rendered scikit-learn.org. See: https://github.com/scikit-learn/scikit-learn/issues/21755 */display: inline-block !important;position: relative;}#sk-container-id-2 div.sk-text-repr-fallback {display: none;}</style><div id=\"sk-container-id-2\" class=\"sk-top-container\"><div class=\"sk-text-repr-fallback\"><pre>LinearSVC(C=10, loss=&#x27;hinge&#x27;)</pre><b>In a Jupyter environment, please rerun this cell to show the HTML representation or trust the notebook. <br />On GitHub, the HTML representation is unable to render, please try loading this page with nbviewer.org.</b></div><div class=\"sk-container\" hidden><div class=\"sk-item\"><div class=\"sk-estimator sk-toggleable\"><input class=\"sk-toggleable__control sk-hidden--visually\" id=\"sk-estimator-id-4\" type=\"checkbox\" checked><label for=\"sk-estimator-id-4\" class=\"sk-toggleable__label sk-toggleable__label-arrow\">LinearSVC</label><div class=\"sk-toggleable__content\"><pre>LinearSVC(C=10, loss=&#x27;hinge&#x27;)</pre></div></div></div></div></div>"
      ],
      "text/plain": [
       "LinearSVC(C=10, loss='hinge')"
      ]
     },
     "execution_count": 85,
     "metadata": {},
     "output_type": "execute_result"
    }
   ],
   "source": [
    "grid_search.best_estimator_"
   ]
  },
  {
   "cell_type": "code",
   "execution_count": 86,
   "metadata": {},
   "outputs": [
    {
     "data": {
      "text/plain": [
       "0.622473330995484"
      ]
     },
     "execution_count": 86,
     "metadata": {},
     "output_type": "execute_result"
    }
   ],
   "source": [
    "grid_search.best_score_"
   ]
  },
  {
   "cell_type": "code",
   "execution_count": null,
   "metadata": {},
   "outputs": [],
   "source": []
  }
 ],
 "metadata": {
  "kernelspec": {
   "display_name": "Python 3",
   "language": "python",
   "name": "python3"
  },
  "language_info": {
   "codemirror_mode": {
    "name": "ipython",
    "version": 3
   },
   "file_extension": ".py",
   "mimetype": "text/x-python",
   "name": "python",
   "nbconvert_exporter": "python",
   "pygments_lexer": "ipython3",
   "version": "3.10.11"
  },
  "orig_nbformat": 4,
  "vscode": {
   "interpreter": {
    "hash": "64a6b5e2244e422069341277cd1317ebf2b03c7f83a07567628f5bb1b1823540"
   }
  }
 },
 "nbformat": 4,
 "nbformat_minor": 2
}
