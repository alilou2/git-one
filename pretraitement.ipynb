{
 "cells": [
  {
   "cell_type": "code",
   "execution_count": 1,
   "metadata": {},
   "outputs": [],
   "source": [
    "import pandas as pd\n",
    "import numpy as np\n",
    "import re\n",
    "import matplotlib.pyplot as plt\n",
    "%matplotlib inline\n",
    "import seaborn as sns\n",
    "import plotly.express as px\n",
    "import spacy\n",
    "import emoji\n",
    "import nltk\n",
    "import gensim\n",
    "import torch\n",
    "import torch.nn as nn\n",
    "#nltk.download('stopwords')\n",
    "from nltk.corpus import stopwords, wordnet\n",
    "from nltk.tokenize import word_tokenize , RegexpTokenizer\n",
    "from nltk.stem import SnowballStemmer\n",
    "import qalsadi.lemmatizer\n",
    "from fuzzywuzzy import fuzz,process\n",
    "import tensorflow as tf\n",
    "import tensorflow_hub as hub\n",
    "from sklearn.feature_extraction.text import TfidfVectorizer\n",
    "from sklearn.model_selection import train_test_split,cross_val_score\n",
    "from tensorflow.keras import models, layers, regularizers, optimizers\n",
    "from sklearn.model_selection import StratifiedKFold\n",
    "from sklearn.linear_model import LogisticRegression\n",
    "from sklearn.svm import SVC,LinearSVC\n",
    "#from transformers import BertModel, BertTokenizer\n",
    "from collections import defaultdict\n",
    "from sklearn.ensemble import AdaBoostClassifier\n",
    "from sklearn.model_selection import GridSearchCV\n",
    "from sklearn.metrics import accuracy_score, f1_score, confusion_matrix, classification_report"
   ]
  },
  {
   "cell_type": "code",
   "execution_count": 10,
   "metadata": {},
   "outputs": [
    {
     "name": "stderr",
     "output_type": "stream",
     "text": [
      "C:\\Users\\BIGNETWORK\\AppData\\Local\\Packages\\PythonSoftwareFoundation.Python.3.10_qbz5n2kfra8p0\\LocalCache\\local-packages\\Python310\\site-packages\\tqdm\\auto.py:21: TqdmWarning: IProgress not found. Please update jupyter and ipywidgets. See https://ipywidgets.readthedocs.io/en/stable/user_install.html\n",
      "  from .autonotebook import tqdm as notebook_tqdm\n"
     ]
    }
   ],
   "source": [
    "from transformers import DistilBertTokenizer, DistilBertModel,AutoTokenizer, AutoModelForSequenceClassification\n",
    "from transformers import pipeline"
   ]
  },
  {
   "cell_type": "code",
   "execution_count": 350,
   "metadata": {},
   "outputs": [],
   "source": [
    "df0=pd.read_excel(\"C:/Users/BIGNETWORK/Desktop/PFE/dataset/project/git-one/datasets/resaux_comments.xlsx\")\n",
    "df1=pd.read_excel(\"C:/Users/BIGNETWORK/Desktop/PFE/dataset/project/git-one/datasets/fb_comments.xlsx\")\n",
    "df2=pd.read_excel(\"C:/Users/BIGNETWORK/Desktop/PFE/dataset/project/git-one/datasets/hainer_ranim.xlsx\")\n",
    "df3=pd.read_excel(\"C:/Users/BIGNETWORK/Desktop/PFE/dataset/project/git-one/datasets/newest.xlsx\")\n",
    "df4=pd.read_excel(\"C:/Users/BIGNETWORK/Desktop/PFE/dataset/project/git-one/datasets/hateonly_mehdi.xlsx\")"
   ]
  },
  {
   "cell_type": "code",
   "execution_count": 83,
   "metadata": {},
   "outputs": [],
   "source": [
    "df6=pd.read_excel(\"C:/Users/BIGNETWORK/Desktop/PFE/dataset/project/git-one/datasets/web.xlsx\")"
   ]
  },
  {
   "cell_type": "code",
   "execution_count": 351,
   "metadata": {},
   "outputs": [],
   "source": [
    "df = pd.concat([df0, df1, df2, df3,df4], axis=0, ignore_index=True)"
   ]
  },
  {
   "cell_type": "code",
   "execution_count": 430,
   "metadata": {},
   "outputs": [],
   "source": [
    "dff = pd.concat([df0, df1, df2, df3,df4], axis=0, ignore_index=True)"
   ]
  },
  {
   "cell_type": "code",
   "execution_count": null,
   "metadata": {},
   "outputs": [],
   "source": [
    "df = df.sample(frac=1).reset_index(drop=True)\n",
    "df"
   ]
  },
  {
   "cell_type": "code",
   "execution_count": 89,
   "metadata": {},
   "outputs": [],
   "source": [
    "#df.to_excel(\"C:/Users/BIGNETWORK/Desktop/PFE/dataset/datasetgoogle_arab.xlsx\")\n",
    "#df_fr.to_excel(\"C:/Users/BIGNETWORK/Desktop/PFE/dataset/datasetgoogle_fr.xlsx\")\n",
    "#df_en.to_excel(\"C:/Users/BIGNETWORK/Desktop/PFE/dataset/datasetgoogle_en.xlsx\")"
   ]
  },
  {
   "cell_type": "code",
   "execution_count": 439,
   "metadata": {},
   "outputs": [],
   "source": [
    "df=df.dropna(subset = ['comments'])"
   ]
  },
  {
   "cell_type": "code",
   "execution_count": 424,
   "metadata": {},
   "outputs": [
    {
     "data": {
      "text/plain": [
       "0"
      ]
     },
     "execution_count": 424,
     "metadata": {},
     "output_type": "execute_result"
    }
   ],
   "source": [
    "df['comments'].isna().sum()"
   ]
  },
  {
   "cell_type": "code",
   "execution_count": 94,
   "metadata": {},
   "outputs": [
    {
     "data": {
      "text/plain": [
       " 0    9461\n",
       " 1    3101\n",
       "-1    3065\n",
       "Name: class, dtype: int64"
      ]
     },
     "execution_count": 94,
     "metadata": {},
     "output_type": "execute_result"
    }
   ],
   "source": [
    "df['class'].value_counts()"
   ]
  },
  {
   "attachments": {},
   "cell_type": "markdown",
   "metadata": {},
   "source": [
    "*** \n",
    "---\n",
    "___"
   ]
  },
  {
   "attachments": {},
   "cell_type": "markdown",
   "metadata": {},
   "source": [
    "## <span style='font-family:Georgia'> Preprocessing of Text."
   ]
  },
  {
   "attachments": {},
   "cell_type": "markdown",
   "metadata": {},
   "source": [
    "### <span style='font-family:serif'> Function to Remove Emojis"
   ]
  },
  {
   "cell_type": "code",
   "execution_count": 3,
   "metadata": {},
   "outputs": [],
   "source": [
    "def strip_emoji(text):\n",
    "    return emoji.replace_emoji(text,replace=\"\")"
   ]
  },
  {
   "attachments": {},
   "cell_type": "markdown",
   "metadata": {},
   "source": [
    "### <span style='font-family:serif'> Removing stop words"
   ]
  },
  {
   "cell_type": "code",
   "execution_count": 4,
   "metadata": {},
   "outputs": [],
   "source": [
    "# Load stopwords for each language\n",
    "with open('Algerian-Arabic-stop-words.txt', 'r', encoding='utf-8') as f:\n",
    "    stop_words_ar_dz = set([line.strip() for line in f])\n",
    "stop_words_en = set(stopwords.words('english'))\n",
    "stop_words_fr = set(stopwords.words('french'))\n",
    "# Create a custom tokenizer for Arabic words\n",
    "tokenizer = RegexpTokenizer('\\w+|\\$[\\d\\.]+|\\S+')\n",
    "# Define a function to remove stop words from a text\n",
    "def remove_stopwords(text):\n",
    "    words = tokenizer.tokenize(text)\n",
    "    words_filtered = []\n",
    "    for word in words:\n",
    "        if word not in stop_words_ar_dz and word not in stop_words_en and word not in stop_words_fr:\n",
    "            words_filtered.append(word)\n",
    "    return ' '.join(words_filtered)\n"
   ]
  },
  {
   "attachments": {},
   "cell_type": "markdown",
   "metadata": {},
   "source": [
    "### <span style='font-family:serif'> Fucntion to remove special characters, URLs, duplicated letters, punctuations"
   ]
  },
  {
   "cell_type": "code",
   "execution_count": 5,
   "metadata": {},
   "outputs": [],
   "source": [
    "# Define a function to perform the text cleaning operations\n",
    "def clean_text(text):\n",
    "    text = text.replace(\"_\", \" \").replace(\"⁰\", \"\")\n",
    "    text = re.sub(r'[\\r\\n]+', ' ', text).lower()  \n",
    "    text = re.sub(r\"(?:\\@|https?\\://)\\S+\", \"\", text) #URLs\n",
    "    #text = re.sub(r'@\\w+', '', text)\n",
    "    text = re.sub(r'[^\\w\\s]', ' ', text)  # Remove punctuation marks \n",
    "    text = re.sub(r'\\b\\d+\\b', '', text) # Remove only standalone numbers\n",
    "    text = re.sub(r'[@#&$]\\w+', '', text)  # Remove special characters\n",
    "    text = re.sub(r'(\\w)\\1+', r'\\1', text) # remove duplicated letters\n",
    "    return text"
   ]
  },
  {
   "cell_type": "code",
   "execution_count": 689,
   "metadata": {},
   "outputs": [
    {
     "name": "stdout",
     "output_type": "stream",
     "text": [
      " èāêôãûîšlâɱíóøçïčý موبليس هي لعرا فيهم كامل \n"
     ]
    }
   ],
   "source": [
    "print(clean_text('https://chat.openai.com/c/6db5d454-e400-4faa-ab02-356b96ce62be èāêôãûÎŠlâɱíóøçïčý موبليس هي لعرا فيهم كاامل 00⁰000000000000'))"
   ]
  },
  {
   "attachments": {},
   "cell_type": "markdown",
   "metadata": {},
   "source": [
    "### <span style='font-family:serif'> Function to remove mutiple sequence spaces"
   ]
  },
  {
   "cell_type": "code",
   "execution_count": 6,
   "metadata": {},
   "outputs": [],
   "source": [
    "def remove_mult_spaces(text):\n",
    "    return re.sub(\"\\s\\s+\" , \" \", text)"
   ]
  },
  {
   "attachments": {},
   "cell_type": "markdown",
   "metadata": {},
   "source": [
    "### <span style='font-family:serif'> Function to replace abreviation with the original word"
   ]
  },
  {
   "cell_type": "code",
   "execution_count": 7,
   "metadata": {},
   "outputs": [],
   "source": [
    "with open('regroupement.txt', 'r',encoding='utf-8') as f:\n",
    "    lines = f.readlines()\n",
    "    dictionary = {}\n",
    "    for line in lines:\n",
    "        key, values = line.split(':')\n",
    "        values = values.strip().split(',')\n",
    "        for value in values:\n",
    "            dictionary[value.strip()] = key.strip()\n"
   ]
  },
  {
   "cell_type": "code",
   "execution_count": 8,
   "metadata": {},
   "outputs": [],
   "source": [
    "def abreviation(text):\n",
    "    words = text.split()\n",
    "    new_words = [dictionary.get(word, word) for word in words]\n",
    "    return ' '.join(new_words)\n"
   ]
  },
  {
   "cell_type": "code",
   "execution_count": 367,
   "metadata": {},
   "outputs": [
    {
     "name": "stdout",
     "output_type": "stream",
     "text": [
      "connexion rahi bezaf t9ila\n"
     ]
    }
   ],
   "source": [
    "print(abreviation('conix rahi bezaf takila'))"
   ]
  },
  {
   "attachments": {},
   "cell_type": "markdown",
   "metadata": {},
   "source": [
    "### <span style='font-family:serif'> Function for language detection"
   ]
  },
  {
   "attachments": {},
   "cell_type": "markdown",
   "metadata": {},
   "source": [
    "- downloading and saving the model papluca/xlm-roberta-base-language-detection from huggung face"
   ]
  },
  {
   "cell_type": "code",
   "execution_count": 18,
   "metadata": {},
   "outputs": [
    {
     "name": "stderr",
     "output_type": "stream",
     "text": [
      "Downloading pytorch_model.bin: 100%|██████████| 1.11G/1.11G [18:34<00:00, 998kB/s] \n",
      "C:\\Users\\BIGNETWORK\\AppData\\Local\\Packages\\PythonSoftwareFoundation.Python.3.10_qbz5n2kfra8p0\\LocalCache\\local-packages\\Python310\\site-packages\\huggingface_hub\\file_download.py:133: UserWarning: `huggingface_hub` cache-system uses symlinks by default to efficiently store duplicated files but your machine does not support them in C:\\Users\\BIGNETWORK\\.cache\\huggingface\\hub. Caching files will still work but in a degraded version that might require more space on your disk. This warning can be disabled by setting the `HF_HUB_DISABLE_SYMLINKS_WARNING` environment variable. For more details, see https://huggingface.co/docs/huggingface_hub/how-to-cache#limitations.\n",
      "To support symlinks on Windows, you either need to activate Developer Mode or to run Python as an administrator. In order to see activate developer mode, see this article: https://docs.microsoft.com/en-us/windows/apps/get-started/enable-your-device-for-development\n",
      "  warnings.warn(message)\n"
     ]
    }
   ],
   "source": [
    "#model_name = \"papluca/xlm-roberta-base-language-detection\"\n",
    "#model = AutoModelForSequenceClassification.from_pretrained(model_name)\n",
    "#tokenizer = AutoTokenizer.from_pretrained(model_name)\n",
    "#Save the model and tokenizer to a directory\n",
    "#model.save_pretrained('saved_model_langdetec')\n",
    "#tokenizer.save_pretrained('saved_model_langdetec')"
   ]
  },
  {
   "cell_type": "code",
   "execution_count": 11,
   "metadata": {},
   "outputs": [],
   "source": [
    "#load the model and tokenizer \n",
    "model_lang = AutoModelForSequenceClassification.from_pretrained('saved_model_langdetec')\n",
    "tokenizer_lang = AutoTokenizer.from_pretrained('saved_model_langdetec')"
   ]
  },
  {
   "cell_type": "code",
   "execution_count": 12,
   "metadata": {},
   "outputs": [],
   "source": [
    "classifier = pipeline(\"text-classification\", model=model_lang, tokenizer=tokenizer_lang)\n",
    "\n",
    "def lang_det(texte):\n",
    "    texte=texte[:514]\n",
    "    result = classifier(texte)\n",
    "    \n",
    "    if result[0][\"score\"] >= 0.2:\n",
    "        langage = result[0][\"label\"]\n",
    "    else:\n",
    "        langage = 'dz'\n",
    "    if langage not in ['en','fr']:\n",
    "        langage = 'dz'\n",
    "    \n",
    "    \n",
    "    return langage"
   ]
  },
  {
   "cell_type": "code",
   "execution_count": 684,
   "metadata": {},
   "outputs": [
    {
     "name": "stdout",
     "output_type": "stream",
     "text": [
      "fr\n"
     ]
    }
   ],
   "source": [
    "print(lang_det('suivant'))"
   ]
  },
  {
   "attachments": {},
   "cell_type": "markdown",
   "metadata": {},
   "source": [
    "### <span style='font-family:serif'> Fonction that translate from Arabizi to Algerian Arabic alphabet using mapping dictionary"
   ]
  },
  {
   "cell_type": "code",
   "execution_count": 13,
   "metadata": {},
   "outputs": [
    {
     "name": "stdout",
     "output_type": "stream",
     "text": [
      "له يلعنكم\n"
     ]
    }
   ],
   "source": [
    "# Define the mapping dictionary\n",
    "mapping = {\n",
    "    'ai':'ي','ae':'ع','au': 'و','tion':'صيو', 'gh':'غ', 'kh':'خ','sh':'ش','dj':'ج','zz': 'ز','dh':'ض',\n",
    "    'ch':'ش','ga': 'ڨ','go': 'ڨ','g': 'ج', 'h': 'ه', 'i': 'ي', 'j': 'ج', 'k': 'ك', 'l': 'ل','e': '', 'f': 'ف',\n",
    "    'm': 'م', 'n': 'ن', 'ou': 'و','a': '','c':'ك', 'o': '', 'p': 'ب', 'q': 'ك', 'r': 'ر','d': 'د',\n",
    "    's': 'س', 't': 'ت', 'u': 'ي', 'v': 'ف', 'w': 'و', 'x': 'كس','b': 'ب','6':'ط','2':'ا','8':'',\n",
    "    'y': 'ي', 'z': 'ز','9':'ق','7':'ح','é':'','3':'ع','5':'خ','0':'','1':'','4':'',\n",
    "}\n",
    "# Define the translation function\n",
    "def arabizi_to_arabic(text):\n",
    "\n",
    "    pattern = '[ĩèāêôãûÎŠâɱíóøçïčýù]'\n",
    "    \n",
    "    text = re.sub(pattern, '', text)\n",
    "    # Replace each Arabizi letter with its corresponding Arabic alphabet dialect letter\n",
    "    for letter, value in mapping.items():\n",
    "        \n",
    "        text = re.sub(letter, value, text)\n",
    "    return text\n",
    "\n",
    "\n",
    "# Example usage\n",
    "arabizi_text = \"alah yal3ankom\"\n",
    "arabic_text = arabizi_to_arabic(arabizi_text)\n",
    "print(arabic_text)"
   ]
  },
  {
   "attachments": {},
   "cell_type": "markdown",
   "metadata": {},
   "source": [
    "### <span style='font-family:serif'> Function to  apply stemming to words"
   ]
  },
  {
   "cell_type": "code",
   "execution_count": 14,
   "metadata": {},
   "outputs": [],
   "source": [
    "def stem_words(text , language):\n",
    "    stemmer = None\n",
    "    words = tokenizer.tokenize(text)\n",
    "    if language == 'dz':\n",
    "        text=arabizi_to_arabic(text)\n",
    "        stemmed_text = text\n",
    "    elif language == 'fr':\n",
    "        stemmer = SnowballStemmer('french')\n",
    "        stemmed_words = [stemmer.stem(word) for word in words]\n",
    "        stemmed_text = ' '.join(stemmed_words)\n",
    "    elif language == 'en':\n",
    "        stemmer = SnowballStemmer('english')\n",
    "        stemmed_words = [stemmer.stem(word) for word in words]\n",
    "        stemmed_text = ' '.join(stemmed_words)\n",
    "    else:\n",
    "        return text # No stemmer available for this language\n",
    "    \n",
    "    return stemmed_text"
   ]
  },
  {
   "cell_type": "code",
   "execution_count": 154,
   "metadata": {},
   "outputs": [
    {
     "name": "stdout",
     "output_type": "stream",
     "text": [
      "eat banan hello\n"
     ]
    }
   ],
   "source": [
    "print(stem_words('eating banan hello',\"en\"))"
   ]
  },
  {
   "attachments": {},
   "cell_type": "markdown",
   "metadata": {},
   "source": [
    "### <span style='font-family:serif'> Function to apply lemmatization to words"
   ]
  },
  {
   "cell_type": "code",
   "execution_count": 18,
   "metadata": {},
   "outputs": [
    {
     "name": "stderr",
     "output_type": "stream",
     "text": [
      "[nltk_data] Downloading package wordnet to\n",
      "[nltk_data]     C:\\Users\\BIGNETWORK\\AppData\\Roaming\\nltk_data...\n",
      "[nltk_data]   Package wordnet is already up-to-date!\n",
      "[nltk_data] Downloading package punkt to\n",
      "[nltk_data]     C:\\Users\\BIGNETWORK\\AppData\\Roaming\\nltk_data...\n",
      "[nltk_data]   Package punkt is already up-to-date!\n"
     ]
    },
    {
     "data": {
      "text/plain": [
       "True"
      ]
     },
     "execution_count": 18,
     "metadata": {},
     "output_type": "execute_result"
    }
   ],
   "source": [
    "nltk.download('wordnet')\n",
    "nltk.download('punkt')"
   ]
  },
  {
   "cell_type": "code",
   "execution_count": 15,
   "metadata": {},
   "outputs": [],
   "source": [
    "\n",
    "nlp_en = spacy.load('en_core_web_sm')\n",
    "nlp_fr = spacy.load('fr_core_news_sm')\n",
    "def lemmatize(text , lang):\n",
    "    # Tokenize the text\n",
    "    words = tokenizer.tokenize(text)\n",
    "\n",
    "    # Define lemmatizer for each language\n",
    "    lemma_dz = qalsadi.lemmatizer.Lemmatizer()\n",
    "    # Lemmatize each word in the text\n",
    "    lemmatized_words = []\n",
    "    if lang =='en':\n",
    "        doc = nlp_en(text)\n",
    "        for token in doc:\n",
    "            lemma = token.lemma_\n",
    "            lemmatized_words.append(lemma)\n",
    "    elif lang =='fr':\n",
    "        doc = nlp_fr(text)\n",
    "        for token in doc:\n",
    "            lemma = token.lemma_\n",
    "            lemmatized_words.append(lemma)\n",
    "    elif lang =='dz':\n",
    "        for word in words:\n",
    "            lemma = lemma_dz.lemmatize(word)\n",
    "            lemmatized_words.append(lemma)\n",
    "    \n",
    "    # Join the lemmatized words to form the lemmatized text\n",
    "    lemmatized_text = ' '.join(lemmatized_words)\n",
    "    \n",
    "    return lemmatized_text"
   ]
  },
  {
   "cell_type": "code",
   "execution_count": 156,
   "metadata": {},
   "outputs": [
    {
     "name": "stdout",
     "output_type": "stream",
     "text": [
      "hello averyone how be do today\n"
     ]
    }
   ],
   "source": [
    "print(lemmatize('hello averyone how are doing today',\"en\"))"
   ]
  },
  {
   "attachments": {},
   "cell_type": "markdown",
   "metadata": {},
   "source": [
    "### <span style='font-family:serif'> Function to Preprocess the text by applying all above functions"
   ]
  },
  {
   "cell_type": "code",
   "execution_count": 16,
   "metadata": {},
   "outputs": [],
   "source": [
    "def preprocess1(text):\n",
    "    text = strip_emoji(text)\n",
    "    text = clean_text(text)\n",
    "    text = remove_mult_spaces(text)\n",
    "    text = abreviation(text)\n",
    "    return text\n"
   ]
  },
  {
   "cell_type": "code",
   "execution_count": 17,
   "metadata": {},
   "outputs": [],
   "source": [
    "def preprocess2(text):\n",
    "    langue = lang_det(text)\n",
    "    text = stem_words(text , langue)\n",
    "    text = remove_stopwords(text)\n",
    "    text = lemmatize(text , langue)\n",
    "    return text"
   ]
  },
  {
   "cell_type": "code",
   "execution_count": 833,
   "metadata": {},
   "outputs": [],
   "source": [
    "if df['comments'].dtype == 'object':\n",
    "    df['comments_clean'] = df['comments'].apply(preprocess1)"
   ]
  },
  {
   "cell_type": "code",
   "execution_count": 85,
   "metadata": {},
   "outputs": [],
   "source": [
    "if df6['comments'].dtype == 'object':\n",
    "    df6['comments_clean'] = df6['comments'].apply(preprocess1)"
   ]
  },
  {
   "cell_type": "code",
   "execution_count": 406,
   "metadata": {},
   "outputs": [
    {
     "data": {
      "text/plain": [
       "0"
      ]
     },
     "execution_count": 406,
     "metadata": {},
     "output_type": "execute_result"
    }
   ],
   "source": [
    "df['comments_clean'].replace('', np.nan, inplace=True)\n",
    "missing_values = df[df['comments_clean'].isnull()]\n",
    "#df=df.dropna(subset = ['comments_clean'])\n",
    "len(missing_values)"
   ]
  },
  {
   "cell_type": "code",
   "execution_count": 383,
   "metadata": {},
   "outputs": [],
   "source": [
    "df=df.dropna(subset = ['comments_clean'])"
   ]
  },
  {
   "attachments": {},
   "cell_type": "markdown",
   "metadata": {},
   "source": [
    "### <span style='font-family:serif'> Regroupement et traitement de fautes d’orthographe"
   ]
  },
  {
   "attachments": {},
   "cell_type": "markdown",
   "metadata": {},
   "source": [
    "### <span style='font-family:serif'> Function to return the soundex code"
   ]
  },
  {
   "cell_type": "code",
   "execution_count": 21,
   "metadata": {},
   "outputs": [],
   "source": [
    "# function to get soundex code for a given word\n",
    "def get_soundex(word):\n",
    "    soundex_map = {\n",
    "        'BFPV': '1',\n",
    "        'CGJKQSXZ': '2',\n",
    "        'DT': '3',\n",
    "        'L': '4',\n",
    "        'MN': '5',\n",
    "        'R': '6',\n",
    "        'AEIOUHWY': '0'\n",
    "    }\n",
    "    # Step 1: Keep the first letter of the word\n",
    "    code = word[0].upper()\n",
    "    \n",
    "    # Step 2: Replace all remaining letters based on the soundex mapping\n",
    "    for char in word[1:].upper():\n",
    "        for key, value in soundex_map.items():\n",
    "            if char in key:\n",
    "                code += value\n",
    "                break\n",
    "    \n",
    "    # Step 3: Remove consecutive duplicates except for the first letter\n",
    "    code = code[0] + ''.join(char for i, char in enumerate(code[1:], start=1) if char != code[i-1] and char != '0')\n",
    "    \n",
    "    # Step 4: Pad or truncate to a length of 4 characters\n",
    "    code = code + '000'\n",
    "    return code[:4]"
   ]
  },
  {
   "cell_type": "code",
   "execution_count": 86,
   "metadata": {},
   "outputs": [],
   "source": [
    "# set threshold for similarity score\n",
    "threshold = 70\n",
    "\n",
    "# create dictionary to hold fuzzywuzzy scores and their associated words\n",
    "fuzzy_dict = defaultdict(list)\n",
    "\n",
    "# create dictionary to hold soundex codes and their associated words\n",
    "code_dict = defaultdict(list)\n",
    "\n",
    "# create a list containing all the words in the comments\n",
    "words_list = [word for comment in df6['comments_clean'] for word in tokenizer.tokenize(comment) if not any('\\u0600' <= c <= '\\u06FF' for c in word)]\n",
    "\n",
    "# iterate over all words in the comments\n",
    "for word in words_list:\n",
    "    # calculate soundex code for the word\n",
    "    code = get_soundex(word)\n",
    "    # add word to the dictionary\n",
    "    code_dict[code].append(word)\n",
    "\n",
    "# iterate over all words in code_dict\n",
    "for code, words in code_dict.items():\n",
    "    # calculate fuzzywuzzy score for each pair of words\n",
    "    for i in range(len(words)):\n",
    "        for j in range(i+1, len(words)):\n",
    "            score = fuzz.token_sort_ratio(words[i], words[j])\n",
    "            # if the similarity score is above the threshold, update the fuzzy dictionary\n",
    "            if score >= threshold:\n",
    "                fuzzy_dict[words[i]].append((score, words[j]))\n",
    "\n",
    "# create dictionary to hold word replacements and their associated fuzzywuzzy scores\n",
    "replace_dict = {}\n",
    "\n",
    "# iterate over all soundex codes and associated words to find word replacement wich is the one having the maximum score in the cod_dict\n",
    "for code, words in code_dict.items():\n",
    "    # skip codes with only one word\n",
    "    if len(words) == 1:\n",
    "        continue\n",
    "    # compare all pairs of words with the same code\n",
    "    for i in range(len(words)):\n",
    "        max_score = 0\n",
    "        max_match = None\n",
    "        for j in range(i+1, len(words)):\n",
    "            score = fuzz.token_sort_ratio(words[i], words[j])\n",
    "            # if the similarity score is above the threshold, update the replacement dictionary\n",
    "            if score >= threshold:\n",
    "                if score > max_score:\n",
    "                    max_score = score\n",
    "                    max_match = words[j]\n",
    "        if max_match is not None:\n",
    "            replace_dict[words[i]] = max_match\n",
    "\n",
    "# iterate over all comments and replace words with their soundex group words\n",
    "for i in range(len(df6)):\n",
    "    try:\n",
    "        words =tokenizer.tokenize(df6.loc[i,'comments_clean'])\n",
    "        for j in range(len(words)):\n",
    "            # check if word is in Arabic script or not\n",
    "            if any('\\u0600' <= c <= '\\u06FF' for c in words[j]):\n",
    "                continue  # skip Arabic words\n",
    "            # calculate soundex code for the word\n",
    "            code = get_soundex(words[j])\n",
    "            # check if the code has associated words\n",
    "            if code in code_dict:\n",
    "                # check if the word has a replacement\n",
    "                if words[j] in replace_dict:\n",
    "                    words[j] = replace_dict[words[j]]\n",
    "                else:\n",
    "                    # check if any of the associated words have a replacement\n",
    "                    max_score = 0\n",
    "                    max_match = None\n",
    "                    for score, match in fuzzy_dict[words[j]]:\n",
    "                        if match in replace_dict:\n",
    "                            score = fuzz.token_sort_ratio(words[j], replace_dict[match])\n",
    "                            if score > max_score:\n",
    "                                max_score = score\n",
    "                                max_match = replace_dict[match]\n",
    "                    if max_match is not None:\n",
    "                        words[j] = max_match\n",
    "    except:\n",
    "        continue\n",
    "    # join the words back into a string and replace the comment in the dataframe\n",
    "    df6.loc[i, 'comments_corr'] = ' '.join(words)\n",
    "#check if 'comments_corr' is NaN and set it to original value\n",
    "df6['comments_corr'].fillna(df6['comments_clean'], inplace=True)\n",
    "\n"
   ]
  },
  {
   "cell_type": "code",
   "execution_count": 418,
   "metadata": {},
   "outputs": [
    {
     "data": {
      "text/html": [
       "<div>\n",
       "<style scoped>\n",
       "    .dataframe tbody tr th:only-of-type {\n",
       "        vertical-align: middle;\n",
       "    }\n",
       "\n",
       "    .dataframe tbody tr th {\n",
       "        vertical-align: top;\n",
       "    }\n",
       "\n",
       "    .dataframe thead th {\n",
       "        text-align: right;\n",
       "    }\n",
       "</style>\n",
       "<table border=\"1\" class=\"dataframe\">\n",
       "  <thead>\n",
       "    <tr style=\"text-align: right;\">\n",
       "      <th></th>\n",
       "      <th>comments</th>\n",
       "      <th>class</th>\n",
       "      <th>comments_clean</th>\n",
       "      <th>comments_corr</th>\n",
       "    </tr>\n",
       "  </thead>\n",
       "  <tbody>\n",
       "    <tr>\n",
       "      <th>14252</th>\n",
       "      <td>Chkalha</td>\n",
       "      <td>0.0</td>\n",
       "      <td>chkalha</td>\n",
       "      <td>chakla</td>\n",
       "    </tr>\n",
       "    <tr>\n",
       "      <th>1353</th>\n",
       "      <td>Avez-vous des abonnements moins de 1000 DA par...</td>\n",
       "      <td>0.0</td>\n",
       "      <td>avez vous des abonements moins de da par mois</td>\n",
       "      <td>avec vous des abonement moins de da par mois</td>\n",
       "    </tr>\n",
       "    <tr>\n",
       "      <th>9735</th>\n",
       "      <td>Mayji ykmel ramdan mniche aref ge3 chaydir</td>\n",
       "      <td>0.0</td>\n",
       "      <td>mayji ykmel ramdan mniche aref ge3 chaydir</td>\n",
       "      <td>mayji ykmel ramdan manich aref ge chaydir</td>\n",
       "    </tr>\n",
       "    <tr>\n",
       "      <th>16272</th>\n",
       "      <td>9iw</td>\n",
       "      <td>0.0</td>\n",
       "      <td>9iw</td>\n",
       "      <td>9iw</td>\n",
       "    </tr>\n",
       "    <tr>\n",
       "      <th>11659</th>\n",
       "      <td>شغلوا : لاااي لااي لاي لاااي</td>\n",
       "      <td>0.0</td>\n",
       "      <td>شغلوا لاي لاي لاي لاي</td>\n",
       "      <td>شغلوا لاي لاي لاي لاي</td>\n",
       "    </tr>\n",
       "    <tr>\n",
       "      <th>13475</th>\n",
       "      <td>Tsma fiha toghyan😂</td>\n",
       "      <td>0.0</td>\n",
       "      <td>tsma fiha toghyan</td>\n",
       "      <td>tsama fiha toghyan</td>\n",
       "    </tr>\n",
       "    <tr>\n",
       "      <th>3581</th>\n",
       "      <td>انترنت نتاعكم راها بالبايت ميش لاحقا حتى للكيل...</td>\n",
       "      <td>0.0</td>\n",
       "      <td>انترنت نتاعكم راها بالبايت ميش لاحقا حتى لكيلو...</td>\n",
       "      <td>انترنت نتاعكم راها بالبايت ميش لاحقا حتى لكيلو...</td>\n",
       "    </tr>\n",
       "    <tr>\n",
       "      <th>4797</th>\n",
       "      <td>يا جازي اعطوني حقي كل شهر نفليكسي 1500 دج وهيا...</td>\n",
       "      <td>0.0</td>\n",
       "      <td>يا جازي اعطوني حقي كل شهر نفليكسي دج وهيا ثقيل...</td>\n",
       "      <td>يا جازي اعطوني حقي كل شهر نفليكسي دج وهيا ثقيل...</td>\n",
       "    </tr>\n",
       "    <tr>\n",
       "      <th>335</th>\n",
       "      <td>مصر وكاميرون وعيسى حياتو قصدك</td>\n",
       "      <td>0.0</td>\n",
       "      <td>مصر وكاميرون وعيسى حياتو قصدك</td>\n",
       "      <td>مصر وكاميرون وعيسى حياتو قصدك</td>\n",
       "    </tr>\n",
       "    <tr>\n",
       "      <th>14877</th>\n",
       "      <td>Ooredoo Switch ماتوصلوهاش</td>\n",
       "      <td>0.0</td>\n",
       "      <td>oredo switch ماتوصلوهاش</td>\n",
       "      <td>oredo switch ماتوصلوهاش</td>\n",
       "    </tr>\n",
       "  </tbody>\n",
       "</table>\n",
       "</div>"
      ],
      "text/plain": [
       "                                                comments  class  \\\n",
       "14252                                            Chkalha    0.0   \n",
       "1353   Avez-vous des abonnements moins de 1000 DA par...    0.0   \n",
       "9735          Mayji ykmel ramdan mniche aref ge3 chaydir    0.0   \n",
       "16272                                                9iw    0.0   \n",
       "11659                       شغلوا : لاااي لااي لاي لاااي    0.0   \n",
       "13475                                 Tsma fiha toghyan😂    0.0   \n",
       "3581   انترنت نتاعكم راها بالبايت ميش لاحقا حتى للكيل...    0.0   \n",
       "4797   يا جازي اعطوني حقي كل شهر نفليكسي 1500 دج وهيا...    0.0   \n",
       "335                        مصر وكاميرون وعيسى حياتو قصدك    0.0   \n",
       "14877                          Ooredoo Switch ماتوصلوهاش    0.0   \n",
       "\n",
       "                                          comments_clean  \\\n",
       "14252                                            chkalha   \n",
       "1353       avez vous des abonements moins de da par mois   \n",
       "9735          mayji ykmel ramdan mniche aref ge3 chaydir   \n",
       "16272                                                9iw   \n",
       "11659                              شغلوا لاي لاي لاي لاي   \n",
       "13475                                  tsma fiha toghyan   \n",
       "3581   انترنت نتاعكم راها بالبايت ميش لاحقا حتى لكيلو...   \n",
       "4797   يا جازي اعطوني حقي كل شهر نفليكسي دج وهيا ثقيل...   \n",
       "335                        مصر وكاميرون وعيسى حياتو قصدك   \n",
       "14877                            oredo switch ماتوصلوهاش   \n",
       "\n",
       "                                           comments_corr  \n",
       "14252                                             chakla  \n",
       "1353        avec vous des abonement moins de da par mois  \n",
       "9735           mayji ykmel ramdan manich aref ge chaydir  \n",
       "16272                                                9iw  \n",
       "11659                              شغلوا لاي لاي لاي لاي  \n",
       "13475                                 tsama fiha toghyan  \n",
       "3581   انترنت نتاعكم راها بالبايت ميش لاحقا حتى لكيلو...  \n",
       "4797   يا جازي اعطوني حقي كل شهر نفليكسي دج وهيا ثقيل...  \n",
       "335                        مصر وكاميرون وعيسى حياتو قصدك  \n",
       "14877                            oredo switch ماتوصلوهاش  "
      ]
     },
     "execution_count": 418,
     "metadata": {},
     "output_type": "execute_result"
    }
   ],
   "source": [
    "df[df['class']==0].sample(10)"
   ]
  },
  {
   "cell_type": "code",
   "execution_count": 419,
   "metadata": {},
   "outputs": [],
   "source": [
    "if df['comments'].dtype == 'object':\n",
    "    df['comments_clean'] = df['comments_corr'].apply(preprocess2)"
   ]
  },
  {
   "cell_type": "code",
   "execution_count": 87,
   "metadata": {},
   "outputs": [],
   "source": [
    "if df6['comments'].dtype == 'object':\n",
    "    df6['comments_clean'] = df6['comments_corr'].apply(preprocess2)"
   ]
  },
  {
   "cell_type": "code",
   "execution_count": 420,
   "metadata": {},
   "outputs": [
    {
     "data": {
      "text/html": [
       "<div>\n",
       "<style scoped>\n",
       "    .dataframe tbody tr th:only-of-type {\n",
       "        vertical-align: middle;\n",
       "    }\n",
       "\n",
       "    .dataframe tbody tr th {\n",
       "        vertical-align: top;\n",
       "    }\n",
       "\n",
       "    .dataframe thead th {\n",
       "        text-align: right;\n",
       "    }\n",
       "</style>\n",
       "<table border=\"1\" class=\"dataframe\">\n",
       "  <thead>\n",
       "    <tr style=\"text-align: right;\">\n",
       "      <th></th>\n",
       "      <th>comments</th>\n",
       "      <th>class</th>\n",
       "      <th>comments_clean</th>\n",
       "      <th>comments_corr</th>\n",
       "    </tr>\n",
       "  </thead>\n",
       "  <tbody>\n",
       "    <tr>\n",
       "      <th>6202</th>\n",
       "      <td>ليست نهايت العالم.</td>\n",
       "      <td>0.0</td>\n",
       "      <td>نهايت عالم</td>\n",
       "      <td>ليست نهايت العالم</td>\n",
       "    </tr>\n",
       "    <tr>\n",
       "      <th>18409</th>\n",
       "      <td>conx Tnak</td>\n",
       "      <td>-1.0</td>\n",
       "      <td>connexion tnak</td>\n",
       "      <td>connexion tnak</td>\n",
       "    </tr>\n",
       "    <tr>\n",
       "      <th>10612</th>\n",
       "      <td>واقيلا من ضعف الانترنت تاعكم هدا وين لحق الاعت...</td>\n",
       "      <td>0.0</td>\n",
       "      <td>واقيلا ضعف الانترنت تاع هد حق اعتذار تاع</td>\n",
       "      <td>واقيلا من ضعف الانترنت تاعكم هدا وين لحق الاعت...</td>\n",
       "    </tr>\n",
       "    <tr>\n",
       "      <th>7137</th>\n",
       "      <td>هو عفيفي الي ماسك البيدج ولا ايه</td>\n",
       "      <td>0.0</td>\n",
       "      <td>عفيف ماس البيدج ايه</td>\n",
       "      <td>هو عفيفي الي ماسك البيدج ولا ايه</td>\n",
       "    </tr>\n",
       "    <tr>\n",
       "      <th>13915</th>\n",
       "      <td>تقدر دير خير من هك يا خويا مراد بالاشهار هاذا ...</td>\n",
       "      <td>0.0</td>\n",
       "      <td>تقدر دير خير هك خوى مراد بالاشهار هاذا حاب تقو...</td>\n",
       "      <td>تقدر دير khir من هك يا خويا مراد بالاشهار هاذا...</td>\n",
       "    </tr>\n",
       "    <tr>\n",
       "      <th>1730</th>\n",
       "      <td>عجبني</td>\n",
       "      <td>0.0</td>\n",
       "      <td>عجب</td>\n",
       "      <td>عجبني</td>\n",
       "    </tr>\n",
       "    <tr>\n",
       "      <th>536</th>\n",
       "      <td>هذا واش تعرفو الريزو ماتعرفوش تخدموه اخدمولنا ...</td>\n",
       "      <td>0.0</td>\n",
       "      <td>تعرف الريزو ماتعرفوش خدم اخدمولنا الريزو</td>\n",
       "      <td>هذا واش تعرفو الريزو ماتعرفوش تخدموه اخدمولنا ...</td>\n",
       "    </tr>\n",
       "    <tr>\n",
       "      <th>14612</th>\n",
       "      <td>كاش عرض خاص للأنترنت فقط في جيزي بدون رصيد</td>\n",
       "      <td>0.0</td>\n",
       "      <td>عرض خاص لأنترنت فقط جيزة بدون رصيد</td>\n",
       "      <td>كاش عرض خاص لأنترنت فقط في جيزي بدون رصيد</td>\n",
       "    </tr>\n",
       "    <tr>\n",
       "      <th>18506</th>\n",
       "      <td>هذا أنت</td>\n",
       "      <td>0.0</td>\n",
       "      <td></td>\n",
       "      <td>هذا أنت</td>\n",
       "    </tr>\n",
       "    <tr>\n",
       "      <th>10256</th>\n",
       "      <td>l zad nik ta3kom conx li Zebiiiii</td>\n",
       "      <td>-1.0</td>\n",
       "      <td>زاد ناك تاع كننكسين زبى</td>\n",
       "      <td>l zad nik ta3kom connexion li zebi</td>\n",
       "    </tr>\n",
       "    <tr>\n",
       "      <th>9397</th>\n",
       "      <td>واو تغيضك تعبت فلباطل 🚶🚶</td>\n",
       "      <td>0.0</td>\n",
       "      <td>واو أغاض تعب باطل</td>\n",
       "      <td>واو تغيضك تعبت فلباطل</td>\n",
       "    </tr>\n",
       "    <tr>\n",
       "      <th>9803</th>\n",
       "      <td>segmo cnx dyalkoum 4g fi batel khfifa gher wa9...</td>\n",
       "      <td>0.0</td>\n",
       "      <td>سجم كننكسين ديلكوم ج تل خفيف غر ويت نقش ڨع رد</td>\n",
       "      <td>segmou connexion dyalkoum 4g fi batal khfifa g...</td>\n",
       "    </tr>\n",
       "    <tr>\n",
       "      <th>7615</th>\n",
       "      <td>و الله غير تكلوا فينا أو بدرهمنا نفليكسيو باطل...</td>\n",
       "      <td>0.0</td>\n",
       "      <td>لها أكل في درهم نفليكسيو باطل وأنترنت ثقيل كثر...</td>\n",
       "      <td>و اله غير تكلوا فينا أو بدرهمنا نفليكسيو باطل ...</td>\n",
       "    </tr>\n",
       "    <tr>\n",
       "      <th>9283</th>\n",
       "      <td>شكون قالكم رانا صابرين وزيد حنا ثاني ماستر راه...</td>\n",
       "      <td>0.0</td>\n",
       "      <td>شكا قال صابر زيد ثاني ماستر راهم يجرجرو في ونس...</td>\n",
       "      <td>شكون قالكم رانا صابرين وزيد حنا ثاني ماستر راه...</td>\n",
       "    </tr>\n",
       "    <tr>\n",
       "      <th>12645</th>\n",
       "      <td>نعلة الله عليك</td>\n",
       "      <td>-1.0</td>\n",
       "      <td>نعل لها</td>\n",
       "      <td>نعلة اله عليك</td>\n",
       "    </tr>\n",
       "    <tr>\n",
       "      <th>8874</th>\n",
       "      <td>جيزي اكبر شبكة سيئة من ناحية الانترنت تحسب راك...</td>\n",
       "      <td>0.0</td>\n",
       "      <td>جيزة كبر شبكة سيئ ناحي الانترنت حسب تطلب ونى ت...</td>\n",
       "      <td>جيزي اكبر شبكة سيئة من ناحية الانترنت تحسب راك...</td>\n",
       "    </tr>\n",
       "    <tr>\n",
       "      <th>7303</th>\n",
       "      <td>Chaakama</td>\n",
       "      <td>1.0</td>\n",
       "      <td>شكم</td>\n",
       "      <td>chakam</td>\n",
       "    </tr>\n",
       "    <tr>\n",
       "      <th>7166</th>\n",
       "      <td>لي Rej3o rab réseau</td>\n",
       "      <td>-1.0</td>\n",
       "      <td>رجع رب رسو</td>\n",
       "      <td>لي rej3o rabi reseau</td>\n",
       "    </tr>\n",
       "    <tr>\n",
       "      <th>15924</th>\n",
       "      <td>t7ya Mobilis 🙂👍🏻</td>\n",
       "      <td>0.0</td>\n",
       "      <td>thya mobili</td>\n",
       "      <td>thya mobilis</td>\n",
       "    </tr>\n",
       "    <tr>\n",
       "      <th>15515</th>\n",
       "      <td>Tatmanyko dhok zokak ya lfiministe</td>\n",
       "      <td>-1.0</td>\n",
       "      <td>تمنى دهك زك ي لفيمينيست</td>\n",
       "      <td>tatmanyko dahk zokak ya lfiministe</td>\n",
       "    </tr>\n",
       "  </tbody>\n",
       "</table>\n",
       "</div>"
      ],
      "text/plain": [
       "                                                comments  class  \\\n",
       "6202                                  ليست نهايت العالم.    0.0   \n",
       "18409                                          conx Tnak   -1.0   \n",
       "10612  واقيلا من ضعف الانترنت تاعكم هدا وين لحق الاعت...    0.0   \n",
       "7137                    هو عفيفي الي ماسك البيدج ولا ايه    0.0   \n",
       "13915  تقدر دير خير من هك يا خويا مراد بالاشهار هاذا ...    0.0   \n",
       "1730                                               عجبني    0.0   \n",
       "536    هذا واش تعرفو الريزو ماتعرفوش تخدموه اخدمولنا ...    0.0   \n",
       "14612         كاش عرض خاص للأنترنت فقط في جيزي بدون رصيد    0.0   \n",
       "18506                                            هذا أنت    0.0   \n",
       "10256                  l zad nik ta3kom conx li Zebiiiii   -1.0   \n",
       "9397                            واو تغيضك تعبت فلباطل 🚶🚶    0.0   \n",
       "9803   segmo cnx dyalkoum 4g fi batel khfifa gher wa9...    0.0   \n",
       "7615   و الله غير تكلوا فينا أو بدرهمنا نفليكسيو باطل...    0.0   \n",
       "9283   شكون قالكم رانا صابرين وزيد حنا ثاني ماستر راه...    0.0   \n",
       "12645                                     نعلة الله عليك   -1.0   \n",
       "8874   جيزي اكبر شبكة سيئة من ناحية الانترنت تحسب راك...    0.0   \n",
       "7303                                            Chaakama    1.0   \n",
       "7166                                 لي Rej3o rab réseau   -1.0   \n",
       "15924                                   t7ya Mobilis 🙂👍🏻    0.0   \n",
       "15515                 Tatmanyko dhok zokak ya lfiministe   -1.0   \n",
       "\n",
       "                                          comments_clean  \\\n",
       "6202                                          نهايت عالم   \n",
       "18409                                     connexion tnak   \n",
       "10612           واقيلا ضعف الانترنت تاع هد حق اعتذار تاع   \n",
       "7137                                 عفيف ماس البيدج ايه   \n",
       "13915  تقدر دير خير هك خوى مراد بالاشهار هاذا حاب تقو...   \n",
       "1730                                                 عجب   \n",
       "536             تعرف الريزو ماتعرفوش خدم اخدمولنا الريزو   \n",
       "14612                 عرض خاص لأنترنت فقط جيزة بدون رصيد   \n",
       "18506                                                      \n",
       "10256                            زاد ناك تاع كننكسين زبى   \n",
       "9397                                   واو أغاض تعب باطل   \n",
       "9803       سجم كننكسين ديلكوم ج تل خفيف غر ويت نقش ڨع رد   \n",
       "7615   لها أكل في درهم نفليكسيو باطل وأنترنت ثقيل كثر...   \n",
       "9283   شكا قال صابر زيد ثاني ماستر راهم يجرجرو في ونس...   \n",
       "12645                                            نعل لها   \n",
       "8874   جيزة كبر شبكة سيئ ناحي الانترنت حسب تطلب ونى ت...   \n",
       "7303                                                 شكم   \n",
       "7166                                          رجع رب رسو   \n",
       "15924                                        thya mobili   \n",
       "15515                            تمنى دهك زك ي لفيمينيست   \n",
       "\n",
       "                                           comments_corr  \n",
       "6202                                   ليست نهايت العالم  \n",
       "18409                                     connexion tnak  \n",
       "10612  واقيلا من ضعف الانترنت تاعكم هدا وين لحق الاعت...  \n",
       "7137                    هو عفيفي الي ماسك البيدج ولا ايه  \n",
       "13915  تقدر دير khir من هك يا خويا مراد بالاشهار هاذا...  \n",
       "1730                                               عجبني  \n",
       "536    هذا واش تعرفو الريزو ماتعرفوش تخدموه اخدمولنا ...  \n",
       "14612          كاش عرض خاص لأنترنت فقط في جيزي بدون رصيد  \n",
       "18506                                            هذا أنت  \n",
       "10256                 l zad nik ta3kom connexion li zebi  \n",
       "9397                               واو تغيضك تعبت فلباطل  \n",
       "9803   segmou connexion dyalkoum 4g fi batal khfifa g...  \n",
       "7615   و اله غير تكلوا فينا أو بدرهمنا نفليكسيو باطل ...  \n",
       "9283   شكون قالكم رانا صابرين وزيد حنا ثاني ماستر راه...  \n",
       "12645                                      نعلة اله عليك  \n",
       "8874   جيزي اكبر شبكة سيئة من ناحية الانترنت تحسب راك...  \n",
       "7303                                              chakam  \n",
       "7166                                لي rej3o rabi reseau  \n",
       "15924                                       thya mobilis  \n",
       "15515                 tatmanyko dahk zokak ya lfiministe  "
      ]
     },
     "execution_count": 420,
     "metadata": {},
     "output_type": "execute_result"
    }
   ],
   "source": [
    "df.sample(20)"
   ]
  },
  {
   "attachments": {},
   "cell_type": "markdown",
   "metadata": {},
   "source": [
    "### <span style='font-family:serif'> Dealing with Duplicates"
   ]
  },
  {
   "cell_type": "code",
   "execution_count": 445,
   "metadata": {},
   "outputs": [
    {
     "data": {
      "text/plain": [
       "0"
      ]
     },
     "execution_count": 445,
     "metadata": {},
     "output_type": "execute_result"
    }
   ],
   "source": [
    "df[\"comments_clean\"].duplicated().sum()"
   ]
  },
  {
   "cell_type": "code",
   "execution_count": 446,
   "metadata": {},
   "outputs": [],
   "source": [
    "df= df.drop_duplicates(subset=[\"comments_clean\"], keep=\"first\")"
   ]
  },
  {
   "attachments": {},
   "cell_type": "markdown",
   "metadata": {},
   "source": [
    "#### <span style='font-family:serif'>Duplicates removed"
   ]
  },
  {
   "attachments": {},
   "cell_type": "markdown",
   "metadata": {},
   "source": [
    "### <span style='font-family:serif'> Tokenization"
   ]
  },
  {
   "cell_type": "code",
   "execution_count": 24,
   "metadata": {},
   "outputs": [],
   "source": [
    "tokenizer = RegexpTokenizer(r'\\w+')\n",
    "def tokenization(text):\n",
    "    words=tokenizer.tokenize(text)\n",
    "    return words"
   ]
  },
  {
   "cell_type": "code",
   "execution_count": 88,
   "metadata": {},
   "outputs": [],
   "source": [
    "df6['comments_clean']=df6['comments_clean'].apply(str)\n",
    "if df6['comments_clean'].dtype == 'object':\n",
    "    df6['comments_list'] = df6['comments_clean'].apply(tokenization)\n"
   ]
  },
  {
   "cell_type": "code",
   "execution_count": 26,
   "metadata": {},
   "outputs": [],
   "source": [
    "#df=pd.read_excel(\"C:/Users/BIGNETWORK/Desktop/PFE/dataset/datasetgoogle.xlsx\")"
   ]
  },
  {
   "attachments": {},
   "cell_type": "markdown",
   "metadata": {},
   "source": [
    "### <span style='font-family:serif'> Checking length of various tweet texts\n"
   ]
  },
  {
   "cell_type": "code",
   "execution_count": 449,
   "metadata": {},
   "outputs": [],
   "source": [
    "text_len = []\n",
    "for text in df.comments_list:\n",
    "    comment_len = len(text)\n",
    "    text_len.append(comment_len)\n",
    "df['text_len'] = text_len"
   ]
  },
  {
   "cell_type": "code",
   "execution_count": 455,
   "metadata": {},
   "outputs": [
    {
     "data": {
      "image/png": "[encoded data removed]",
      "text/plain": [
       "<Figure size 1600x800 with 1 Axes>"
      ]
     },
     "metadata": {},
     "output_type": "display_data"
    }
   ],
   "source": [
    "plt.figure(figsize=(16,8))\n",
    "ax = sns.countplot(x='text_len', data=dff, palette='mako')\n",
    "plt.title('nombre de mots dans les commentaires ', fontsize=20)\n",
    "plt.yticks([])\n",
    "ax.bar_label(ax.containers[0])\n",
    "plt.ylabel('nombre de mots')\n",
    "plt.xlabel('')\n",
    "plt.show()\n"
   ]
  },
  {
   "attachments": {},
   "cell_type": "markdown",
   "metadata": {},
   "source": [
    "### <span style='font-family:serif'>Removing text without words"
   ]
  },
  {
   "cell_type": "code",
   "execution_count": null,
   "metadata": {},
   "outputs": [],
   "source": [
    "df = df[df['text_len']!=0]"
   ]
  },
  {
   "cell_type": "code",
   "execution_count": 26,
   "metadata": {},
   "outputs": [],
   "source": [
    "from wordcloud import WordCloud, ImageColorGenerator\n",
    "from PIL import Image\n",
    "import arabic_reshaper\n",
    "from bidi.algorithm import get_display"
   ]
  },
  {
   "cell_type": "code",
   "execution_count": 497,
   "metadata": {},
   "outputs": [],
   "source": [
    "def plot_wordcloud(class_type):\n",
    "    string = \"\"\n",
    "    for i in df[df['class'] == class_type].comments_clean.values:\n",
    "        string = string + \" \" + i.strip()\n",
    "    font_path = 'C:/Users/BIGNETWORK/Desktop/PFE/dataset/project/Janna LT Bold/Janna LT Bold.ttf'\n",
    "    # Reshape Arabic text for proper rendering\n",
    "    reshaped_text = arabic_reshaper.reshape(string)\n",
    "    reshaped_text = get_display(reshaped_text)\n",
    "    custom_mask = np.array(Image.open('C:/Users/BIGNETWORK/Desktop/PFE/dataset/project/logo_djezzy_play.png'))\n",
    "    mask_colors = ImageColorGenerator(custom_mask)\n",
    "    wordcloud = WordCloud(background_color='white',max_words=1600, max_font_size=100,\n",
    "                          random_state=42, width=custom_mask.shape[1], height=custom_mask.shape[0],\n",
    "                          mask=custom_mask, min_font_size=10, color_func=mask_colors,font_path=font_path).generate(reshaped_text)\n",
    "\n",
    "    plt.figure(figsize=(7, 6))\n",
    "    plt.imshow(wordcloud, interpolation='bilinear')\n",
    "    plt.axis('off')\n",
    "    plt.tight_layout()\n",
    "    plt.title('Word Cloud')\n",
    "    plt.show()"
   ]
  },
  {
   "cell_type": "code",
   "execution_count": 498,
   "metadata": {},
   "outputs": [
    {
     "data": {
      "image/png": "[encoded data removed]",
      "text/plain": [
       "<Figure size 700x600 with 1 Axes>"
      ]
     },
     "metadata": {},
     "output_type": "display_data"
    }
   ],
   "source": [
    "plot_wordcloud(0)"
   ]
  },
  {
   "attachments": {},
   "cell_type": "markdown",
   "metadata": {},
   "source": [
    "### <span style='font-family:serif'>Exploratory Data Analysis"
   ]
  },
  {
   "cell_type": "code",
   "execution_count": 95,
   "metadata": {},
   "outputs": [
    {
     "name": "stderr",
     "output_type": "stream",
     "text": [
      "C:\\Users\\BIGNETWORK\\AppData\\Local\\Temp\\ipykernel_8376\\3761965591.py:6: MatplotlibDeprecationWarning: The seaborn styles shipped by Matplotlib are deprecated since 3.6, as they no longer correspond to the styles shipped by seaborn. However, they will remain available as 'seaborn-v0_8-<style>'. Alternatively, directly use the seaborn API instead.\n",
      "  plt.style.use('seaborn-whitegrid')\n"
     ]
    },
    {
     "data": {
      "image/png": "[encoded data removed]",
      "text/plain": [
       "<Figure size 600x400 with 1 Axes>"
      ]
     },
     "metadata": {},
     "output_type": "display_data"
    }
   ],
   "source": [
    "\n",
    "# Count the number of comments in each class\n",
    "class_counts = df['class'].value_counts()\n",
    "\n",
    "# Set the figure size and background color\n",
    "plt.figure(figsize=(6, 4))\n",
    "plt.style.use('seaborn-whitegrid')\n",
    "colors = ['#040032', '#0C0091', '#382DB1']\n",
    "\n",
    "# Create the bar plot\n",
    "bars = plt.bar(class_counts.index, class_counts.values, color=colors)\n",
    "\n",
    "# Add labels and title\n",
    "plt.xlabel('Class')\n",
    "plt.ylabel('Nombre des commentaires')\n",
    "plt.title('Distribution des commentaires dans chaque classe')\n",
    "\n",
    "# Add value labels to the bars\n",
    "for bar in bars:\n",
    "    height = bar.get_height()\n",
    "    plt.text(bar.get_x() + bar.get_width() / 2, height, height,\n",
    "             ha='center', va='bottom', color='white', fontweight='bold')\n",
    "\n",
    "# Add legend for each class\n",
    "legend_labels = ['neutre', 'offensif', 'hate']\n",
    "plt.legend(bars, legend_labels)\n",
    "\n",
    "# Show the plot\n",
    "plt.tight_layout()\n",
    "plt.show()\n"
   ]
  },
  {
   "cell_type": "code",
   "execution_count": 431,
   "metadata": {},
   "outputs": [],
   "source": [
    "df['comments_lang'] = df['comments'].apply(lang_det)"
   ]
  },
  {
   "cell_type": "code",
   "execution_count": 521,
   "metadata": {},
   "outputs": [
    {
     "data": {
      "text/plain": [
       "dz    15398\n",
       "fr      656\n",
       "en      163\n",
       "Name: comments_lang, dtype: int64"
      ]
     },
     "execution_count": 521,
     "metadata": {},
     "output_type": "execute_result"
    }
   ],
   "source": [
    "df['comments_lang'].value_counts()"
   ]
  },
  {
   "cell_type": "code",
   "execution_count": 461,
   "metadata": {},
   "outputs": [
    {
     "data": {
      "image/png": "[encoded data removed]",
      "text/plain": [
       "<Figure size 600x500 with 1 Axes>"
      ]
     },
     "metadata": {},
     "output_type": "display_data"
    }
   ],
   "source": [
    "# Compter le nombre de commentaires par langue\n",
    "langue_counts = df['comments_lang'].value_counts()\n",
    "\n",
    "# Créer le graphique\n",
    "plt.figure(figsize=(6, 5))\n",
    "langue_counts.plot(kind='bar', color='#05003B')\n",
    "\n",
    "# Définir les étiquettes des axes et du titre\n",
    "plt.xlabel('Langue')\n",
    "plt.ylabel('Nombre de commentaires')\n",
    "plt.title('Nombre de commentaires par langue')\n",
    "\n",
    "# Afficher le graphique\n",
    "plt.show()"
   ]
  },
  {
   "attachments": {},
   "cell_type": "markdown",
   "metadata": {},
   "source": [
    "### <span style='font-family:serif'> Split train dataset into train, validation and test sets"
   ]
  },
  {
   "cell_type": "code",
   "execution_count": null,
   "metadata": {},
   "outputs": [],
   "source": [
    "df_fr = pd.DataFrame(columns=df.columns)\n",
    "df_en = pd.DataFrame(columns=df.columns)\n",
    "for index, row in df.iterrows():\n",
    "    try:\n",
    "        language = row['comments_lang']\n",
    "        if language == 'fr':\n",
    "            df_fr = df_fr.append(row)\n",
    "            df.drop(index, inplace=True)\n",
    "        elif language == 'en':\n",
    "            df_en = df_en.append(row)\n",
    "            df.drop(index, inplace=True)\n",
    "    except:\n",
    "        # Language detection failed, you can handle or skip such cases based on your needs\n",
    "        pass"
   ]
  },
  {
   "cell_type": "code",
   "execution_count": 90,
   "metadata": {},
   "outputs": [],
   "source": [
    "df=pd.read_excel(\"C:/Users/BIGNETWORK/Desktop/PFE/dataset/datasetgoogle_arab.xlsx\")"
   ]
  },
  {
   "cell_type": "code",
   "execution_count": 96,
   "metadata": {},
   "outputs": [],
   "source": [
    "X,Y = df['comments_clean'],df['class']"
   ]
  },
  {
   "cell_type": "code",
   "execution_count": null,
   "metadata": {},
   "outputs": [],
   "source": [
    "sentence_vectors = model_ar.encode_sentences(X,combine_strategy=\"mean\")"
   ]
  },
  {
   "cell_type": "code",
   "execution_count": null,
   "metadata": {},
   "outputs": [],
   "source": [
    "Y = np.where(Y==-1, 2, Y)"
   ]
  },
  {
   "cell_type": "code",
   "execution_count": null,
   "metadata": {},
   "outputs": [],
   "source": [
    "from imblearn.under_sampling import RandomUnderSampler\n",
    "from imblearn.over_sampling import RandomOverSampler\n",
    "from collections import Counter\n",
    "\n",
    "# Apply RandomOverSampler with a specified sampling strategy for each class\n",
    "over = RandomOverSampler(sampling_strategy={0: 9455, 1: 5000, 2: 5000})\n",
    "X_over, Y_over = over.fit_resample(sentence_vectors, Y)\n",
    "\n",
    "# Apply RandomUnderSampler to balance the dataset\n",
    "under = RandomUnderSampler(random_state=42)\n",
    "X_balanced, Y_balanced = under.fit_resample(X_over, Y_over)\n",
    "\n",
    "print(Counter(Y_balanced))"
   ]
  },
  {
   "cell_type": "code",
   "execution_count": 111,
   "metadata": {},
   "outputs": [
    {
     "name": "stdout",
     "output_type": "stream",
     "text": [
      "(11289,) (11289,) (2345,) (2345,) (1993,) (1993,)\n"
     ]
    }
   ],
   "source": [
    "# Split the data into train, test, and validation sets\n",
    "X_train, X_test, y_train, y_test = train_test_split(X_balanced, Y_balanced, test_size=0.15, stratify=Y_balanced, random_state=42)\n",
    "X_train, X_val, y_train, y_val = train_test_split(X_train, y_train, test_size=0.15, stratify=y_train, random_state=42)\n",
    "\n",
    "print(X_train.shape, y_train.shape, X_test.shape, y_test.shape, X_val.shape)"
   ]
  },
  {
   "attachments": {},
   "cell_type": "markdown",
   "metadata": {},
   "source": [
    "### <span style='font-family:serif'>downlaod the model bert for word representation"
   ]
  },
  {
   "cell_type": "code",
   "execution_count": null,
   "metadata": {},
   "outputs": [],
   "source": [
    "from simpletransformers.language_representation import RepresentationModel\n",
    "model = RepresentationModel(\n",
    "        model_type=\"bert\",\n",
    "        model_name=\"bert-base-uncased\",\n",
    "        use_cuda=False\n",
    "    )"
   ]
  },
  {
   "cell_type": "code",
   "execution_count": 39,
   "metadata": {},
   "outputs": [
    {
     "name": "stderr",
     "output_type": "stream",
     "text": [
      "Some weights of the model checkpoint at bert-base-multilingual-cased were not used when initializing BertForTextRepresentation: ['cls.predictions.transform.dense.weight', 'cls.predictions.transform.LayerNorm.bias', 'cls.predictions.bias', 'cls.seq_relationship.bias', 'cls.predictions.transform.dense.bias', 'cls.predictions.transform.LayerNorm.weight', 'cls.predictions.decoder.weight', 'cls.seq_relationship.weight']\n",
      "- This IS expected if you are initializing BertForTextRepresentation from the checkpoint of a model trained on another task or with another architecture (e.g. initializing a BertForSequenceClassification model from a BertForPreTraining model).\n",
      "- This IS NOT expected if you are initializing BertForTextRepresentation from the checkpoint of a model that you expect to be exactly identical (initializing a BertForSequenceClassification model from a BertForSequenceClassification model).\n"
     ]
    }
   ],
   "source": [
    "model_ar = RepresentationModel(\n",
    "    model_type=\"bert\",\n",
    "    model_name=\"bert-base-multilingual-cased\",\n",
    "    use_cuda=False\n",
    ")"
   ]
  },
  {
   "cell_type": "code",
   "execution_count": 222,
   "metadata": {},
   "outputs": [],
   "source": [
    "from sklearn.metrics import precision_score, recall_score, f1_score\n",
    "def precision(y_true, y_pred):\n",
    "    y_pred = tf.argmax(y_pred, axis=1)\n",
    "    return tf.py_function(lambda y_true, y_pred: precision_score(y_true, y_pred, average='weighted', zero_division=1), (y_true, y_pred), tf.float32)\n",
    "\n",
    "def recall(y_true, y_pred):\n",
    "    y_pred = tf.argmax(y_pred, axis=1)\n",
    "    return tf.py_function(lambda y_true, y_pred: recall_score(y_true, y_pred, average='weighted', zero_division=1), (y_true, y_pred), tf.float32)\n",
    "\n",
    "def f1(y_true, y_pred):\n",
    "    y_pred = tf.argmax(y_pred, axis=1)\n",
    "    return tf.py_function(lambda y_true, y_pred: f1_score(y_true, y_pred, average='weighted', zero_division=1), (y_true, y_pred), tf.float32)"
   ]
  },
  {
   "attachments": {},
   "cell_type": "markdown",
   "metadata": {},
   "source": [
    "* GRU"
   ]
  },
  {
   "cell_type": "code",
   "execution_count": 821,
   "metadata": {},
   "outputs": [
    {
     "name": "stdout",
     "output_type": "stream",
     "text": [
      "Epoch 1/30\n",
      "1282/1282 [==============================] - 38s 22ms/step - loss: 1.8458 - accuracy: 0.3928 - precision: 0.7344 - recall: 0.3928 - f1: 0.2845 - val_loss: 1.1526 - val_accuracy: 0.2606 - val_precision: 0.7811 - val_recall: 0.2606 - val_f1: 0.1762\n",
      "Epoch 2/30\n",
      "1282/1282 [==============================] - 28s 22ms/step - loss: 1.6830 - accuracy: 0.5090 - precision: 0.6774 - recall: 0.5090 - f1: 0.4582 - val_loss: 1.0610 - val_accuracy: 0.3966 - val_precision: 0.6998 - val_recall: 0.3966 - val_f1: 0.4012\n",
      "Epoch 3/30\n",
      "1282/1282 [==============================] - 27s 21ms/step - loss: 1.5757 - accuracy: 0.5649 - precision: 0.6569 - recall: 0.5649 - f1: 0.5491 - val_loss: 1.0293 - val_accuracy: 0.4638 - val_precision: 0.7001 - val_recall: 0.4638 - val_f1: 0.4891\n",
      "Epoch 4/30\n",
      "1282/1282 [==============================] - 27s 21ms/step - loss: 1.5101 - accuracy: 0.5988 - precision: 0.6701 - recall: 0.5988 - f1: 0.5925 - val_loss: 0.9979 - val_accuracy: 0.5091 - val_precision: 0.7063 - val_recall: 0.5091 - val_f1: 0.5398\n",
      "Epoch 5/30\n",
      "1282/1282 [==============================] - 29s 23ms/step - loss: 1.4595 - accuracy: 0.6179 - precision: 0.6818 - recall: 0.6180 - f1: 0.6139 - val_loss: 0.9760 - val_accuracy: 0.5456 - val_precision: 0.7048 - val_recall: 0.5456 - val_f1: 0.5733\n",
      "Epoch 6/30\n",
      "1282/1282 [==============================] - 30s 23ms/step - loss: 1.4252 - accuracy: 0.6313 - precision: 0.6925 - recall: 0.6313 - f1: 0.6292 - val_loss: 0.9749 - val_accuracy: 0.5446 - val_precision: 0.7154 - val_recall: 0.5445 - val_f1: 0.5735\n",
      "Epoch 7/30\n",
      "1282/1282 [==============================] - 31s 24ms/step - loss: 1.3998 - accuracy: 0.6403 - precision: 0.7000 - recall: 0.6403 - f1: 0.6379 - val_loss: 0.9710 - val_accuracy: 0.5529 - val_precision: 0.7213 - val_recall: 0.5528 - val_f1: 0.5826\n",
      "Epoch 8/30\n",
      "1282/1282 [==============================] - 32s 25ms/step - loss: 1.3830 - accuracy: 0.6453 - precision: 0.7031 - recall: 0.6453 - f1: 0.6432 - val_loss: 0.9465 - val_accuracy: 0.5706 - val_precision: 0.7169 - val_recall: 0.5706 - val_f1: 0.5979\n",
      "Epoch 9/30\n",
      "1282/1282 [==============================] - 31s 24ms/step - loss: 1.3602 - accuracy: 0.6529 - precision: 0.7078 - recall: 0.6528 - f1: 0.6510 - val_loss: 0.9663 - val_accuracy: 0.5628 - val_precision: 0.7162 - val_recall: 0.5627 - val_f1: 0.5898\n",
      "Epoch 10/30\n",
      "1282/1282 [==============================] - 32s 25ms/step - loss: 1.3427 - accuracy: 0.6600 - precision: 0.7174 - recall: 0.6598 - f1: 0.6583 - val_loss: 0.9717 - val_accuracy: 0.5586 - val_precision: 0.7180 - val_recall: 0.5585 - val_f1: 0.5862\n",
      "Epoch 11/30\n",
      "1282/1282 [==============================] - 28s 22ms/step - loss: 1.3291 - accuracy: 0.6610 - precision: 0.7149 - recall: 0.6610 - f1: 0.6594 - val_loss: 0.9477 - val_accuracy: 0.5810 - val_precision: 0.7198 - val_recall: 0.5809 - val_f1: 0.6057\n",
      "Epoch 12/30\n",
      "1282/1282 [==============================] - 31s 24ms/step - loss: 1.3163 - accuracy: 0.6668 - precision: 0.7206 - recall: 0.6666 - f1: 0.6653 - val_loss: 0.9546 - val_accuracy: 0.5664 - val_precision: 0.7239 - val_recall: 0.5663 - val_f1: 0.5946\n",
      "Epoch 13/30\n",
      "1282/1282 [==============================] - 31s 24ms/step - loss: 1.3083 - accuracy: 0.6685 - precision: 0.7257 - recall: 0.6685 - f1: 0.6681 - val_loss: 0.9439 - val_accuracy: 0.5774 - val_precision: 0.7204 - val_recall: 0.5773 - val_f1: 0.6031\n",
      "Epoch 14/30\n",
      "1282/1282 [==============================] - 29s 23ms/step - loss: 1.2924 - accuracy: 0.6752 - precision: 0.7306 - recall: 0.6753 - f1: 0.6750 - val_loss: 0.9304 - val_accuracy: 0.5821 - val_precision: 0.7263 - val_recall: 0.5819 - val_f1: 0.6091\n",
      "Epoch 15/30\n",
      "1282/1282 [==============================] - 30s 23ms/step - loss: 1.2855 - accuracy: 0.6759 - precision: 0.7271 - recall: 0.6759 - f1: 0.6741 - val_loss: 0.8881 - val_accuracy: 0.6175 - val_precision: 0.7209 - val_recall: 0.6174 - val_f1: 0.6381\n",
      "Epoch 16/30\n",
      "1282/1282 [==============================] - 31s 24ms/step - loss: 1.2704 - accuracy: 0.6819 - precision: 0.7372 - recall: 0.6819 - f1: 0.6803 - val_loss: 0.9492 - val_accuracy: 0.5722 - val_precision: 0.7238 - val_recall: 0.5720 - val_f1: 0.6006\n",
      "Epoch 17/30\n",
      "1282/1282 [==============================] - 29s 23ms/step - loss: 1.2597 - accuracy: 0.6850 - precision: 0.7385 - recall: 0.6849 - f1: 0.6840 - val_loss: 0.9362 - val_accuracy: 0.5805 - val_precision: 0.7290 - val_recall: 0.5803 - val_f1: 0.6093\n",
      "Epoch 18/30\n",
      "1282/1282 [==============================] - 31s 24ms/step - loss: 1.2476 - accuracy: 0.6890 - precision: 0.7427 - recall: 0.6889 - f1: 0.6883 - val_loss: 0.9298 - val_accuracy: 0.5763 - val_precision: 0.7171 - val_recall: 0.5762 - val_f1: 0.6040\n",
      "Epoch 19/30\n",
      "1282/1282 [==============================] - 30s 24ms/step - loss: 1.2390 - accuracy: 0.6901 - precision: 0.7438 - recall: 0.6902 - f1: 0.6892 - val_loss: 0.9156 - val_accuracy: 0.5888 - val_precision: 0.7163 - val_recall: 0.5887 - val_f1: 0.6148\n",
      "Epoch 20/30\n",
      "1282/1282 [==============================] - 31s 24ms/step - loss: 1.2295 - accuracy: 0.6955 - precision: 0.7472 - recall: 0.6954 - f1: 0.6939 - val_loss: 0.9556 - val_accuracy: 0.5670 - val_precision: 0.7171 - val_recall: 0.5668 - val_f1: 0.5946\n",
      "Epoch 21/30\n",
      "1282/1282 [==============================] - 30s 24ms/step - loss: 1.2162 - accuracy: 0.7025 - precision: 0.7562 - recall: 0.7025 - f1: 0.7015 - val_loss: 0.9094 - val_accuracy: 0.5935 - val_precision: 0.7222 - val_recall: 0.5934 - val_f1: 0.6198\n",
      "Epoch 22/30\n",
      "1282/1282 [==============================] - 38s 30ms/step - loss: 1.2107 - accuracy: 0.7039 - precision: 0.7556 - recall: 0.7038 - f1: 0.7027 - val_loss: 0.9652 - val_accuracy: 0.5586 - val_precision: 0.7172 - val_recall: 0.5585 - val_f1: 0.5870\n",
      "Epoch 23/30\n",
      "1282/1282 [==============================] - 33s 26ms/step - loss: 1.2020 - accuracy: 0.7062 - precision: 0.7580 - recall: 0.7062 - f1: 0.7052 - val_loss: 0.9298 - val_accuracy: 0.5862 - val_precision: 0.7200 - val_recall: 0.5861 - val_f1: 0.6125\n",
      "Epoch 24/30\n",
      "1282/1282 [==============================] - 26s 21ms/step - loss: 1.1888 - accuracy: 0.7109 - precision: 0.7623 - recall: 0.7109 - f1: 0.7094 - val_loss: 0.9088 - val_accuracy: 0.6024 - val_precision: 0.7247 - val_recall: 0.6022 - val_f1: 0.6268\n",
      "Epoch 25/30\n",
      "1282/1282 [==============================] - 25s 20ms/step - loss: 1.1805 - accuracy: 0.7145 - precision: 0.7667 - recall: 0.7144 - f1: 0.7132 - val_loss: 0.9112 - val_accuracy: 0.5972 - val_precision: 0.7238 - val_recall: 0.5970 - val_f1: 0.6235\n",
      "Epoch 26/30\n",
      "1282/1282 [==============================] - 30s 23ms/step - loss: 1.1701 - accuracy: 0.7197 - precision: 0.7688 - recall: 0.7197 - f1: 0.7175 - val_loss: 0.8934 - val_accuracy: 0.6066 - val_precision: 0.7253 - val_recall: 0.6064 - val_f1: 0.6309\n",
      "Epoch 27/30\n",
      "1282/1282 [==============================] - 31s 24ms/step - loss: 1.1622 - accuracy: 0.7179 - precision: 0.7671 - recall: 0.7180 - f1: 0.7162 - val_loss: 0.9033 - val_accuracy: 0.6045 - val_precision: 0.7250 - val_recall: 0.6043 - val_f1: 0.6281\n",
      "Epoch 28/30\n",
      "1282/1282 [==============================] - 27s 21ms/step - loss: 1.1517 - accuracy: 0.7234 - precision: 0.7742 - recall: 0.7235 - f1: 0.7225 - val_loss: 0.9016 - val_accuracy: 0.6029 - val_precision: 0.7278 - val_recall: 0.6027 - val_f1: 0.6278\n",
      "Epoch 29/30\n",
      "1282/1282 [==============================] - 24s 19ms/step - loss: 1.1428 - accuracy: 0.7271 - precision: 0.7755 - recall: 0.7272 - f1: 0.7253 - val_loss: 0.9311 - val_accuracy: 0.5847 - val_precision: 0.7255 - val_recall: 0.5845 - val_f1: 0.6124\n",
      "Epoch 30/30\n",
      "1282/1282 [==============================] - 25s 20ms/step - loss: 1.1360 - accuracy: 0.7290 - precision: 0.7772 - recall: 0.7290 - f1: 0.7275 - val_loss: 0.9483 - val_accuracy: 0.5732 - val_precision: 0.7277 - val_recall: 0.5731 - val_f1: 0.6022\n",
      "71/71 [==============================] - 1s 18ms/step - loss: 0.9115 - accuracy: 0.5942 - precision: 0.7364 - recall: 0.5937 - f1: 0.6243\n",
      "Test accuracy: 0.5941515564918518\n",
      "Test precision: 0.7363676428794861\n",
      "Test recall: 0.5937241315841675\n",
      "Test f1-score: 0.6243373155593872\n"
     ]
    }
   ],
   "source": [
    "# Reshape the input data\n",
    "X_train_balanced_reshaped = X_train_balanced.reshape(X_train_balanced.shape[0], 1, X_train_balanced.shape[1])\n",
    "V_val_reshaped = sentence_vectors_val.reshape(sentence_vectors_val.shape[0], 1, sentence_vectors_val.shape[1])\n",
    "# Define the model architecture\n",
    "model_gru = models.Sequential()\n",
    "model_gru.add(layers.GRU(264, input_shape=(X_train_balanced_reshaped.shape[1], X_train_balanced_reshaped.shape[2]), return_sequences=True))\n",
    "model_gru.add(layers.GRU(132, return_sequences=True))\n",
    "model_gru.add(layers.GRU(32))\n",
    "model_gru.add(layers.Dense(64, activation='relu', kernel_regularizer=regularizers.l2(0.002)))\n",
    "model_gru.add(layers.Dropout(0.2))\n",
    "model_gru.add(layers.Dense(3, activation='softmax'))\n",
    "\n",
    "# Compile the model\n",
    "optim = optimizers.Adam(learning_rate=1e-5)\n",
    "model_gru.compile(optimizer=optim, loss='sparse_categorical_crossentropy', metrics=['accuracy', precision ,recall, f1])\n",
    "\n",
    "# Train the model\n",
    "class_weights = {0: 1.5, 1: 2.0, 2: 1.5}  \n",
    "history = model_gru.fit(X_train_balanced_reshaped, y_train_balanced,validation_data=(V_val_reshaped, y_val), epochs=30, batch_size=16, class_weight=class_weights)\n",
    "\n",
    "# Evaluate the model\n",
    "test_loss, test_acc,prec,recall,f1 = model_gru.evaluate(sentence_vectors_test.reshape(sentence_vectors_test.shape[0], 1, sentence_vectors_test.shape[1]), y_test)\n",
    "print('Test accuracy:', test_acc)\n",
    "print('Test precision:', prec)\n",
    "print('Test recall:', recall)\n",
    "print('Test f1-score:', f1)"
   ]
  },
  {
   "cell_type": "code",
   "execution_count": 822,
   "metadata": {},
   "outputs": [
    {
     "name": "stdout",
     "output_type": "stream",
     "text": [
      "71/71 [==============================] - 4s 5ms/step\n",
      "[[792 500 127]\n",
      " [100 242  45]\n",
      " [ 34 110 307]]\n"
     ]
    }
   ],
   "source": [
    "y_pred = model_gru.predict(sentence_vectors_test.reshape(sentence_vectors_test.shape[0], 1, sentence_vectors_test.shape[1]))\n",
    "y_pred_labels = np.argmax(y_pred, axis=1)\n",
    "cm = confusion_matrix(y_test, y_pred_labels)\n",
    "print(cm)"
   ]
  },
  {
   "attachments": {},
   "cell_type": "markdown",
   "metadata": {},
   "source": [
    "* CNN"
   ]
  },
  {
   "cell_type": "code",
   "execution_count": 284,
   "metadata": {},
   "outputs": [
    {
     "data": {
      "text/plain": [
       "(23238, 1, 768)"
      ]
     },
     "execution_count": 284,
     "metadata": {},
     "output_type": "execute_result"
    }
   ],
   "source": [
    "X_train_balanced_reshaped.shape"
   ]
  },
  {
   "cell_type": "code",
   "execution_count": null,
   "metadata": {},
   "outputs": [],
   "source": [
    "# Define the model architecture\n",
    "model_cnn = models.Sequential()\n",
    "model_cnn.add(layers.Conv1D(64, kernel_size=3, activation='relu', input_shape=(X_train_balanced_reshaped.shape[0], X_train_balanced_reshaped.shape[2])))\n",
    "model_cnn.add(layers.MaxPooling1D(pool_size=2))\n",
    "model_cnn.add(layers.Conv1D(32, kernel_size=3, activation='relu'))\n",
    "model_cnn.add(layers.MaxPooling1D(pool_size=2))\n",
    "model_cnn.add(layers.Flatten())\n",
    "model_cnn.add(layers.Dense(3, activation='softmax'))\n",
    "\n",
    "# Compile the model\n",
    "model_cnn.compile(optimizer='adam', loss='sparse_categorical_crossentropy', metrics=['accuracy'])\n",
    "\n",
    "# Train the model\n",
    "history = model_cnn.fit(X_train_balanced_reshaped.reshape(X_train_balanced_reshaped.shape[0], X_train_balanced_reshaped.shape[2]), y_train_balanced, epochs=10, batch_size=32)\n",
    "# Evaluate the model\n",
    "test_loss, test_acc = model_cnn.evaluate(sentence_vectors_test.reshape(sentence_vectors_test.shape[0], 1, sentence_vectors_test.shape[1]), y_test)\n",
    "print('Test accuracy:', test_acc)"
   ]
  },
  {
   "attachments": {},
   "cell_type": "markdown",
   "metadata": {},
   "source": [
    "* CNN + GRU"
   ]
  },
  {
   "cell_type": "code",
   "execution_count": null,
   "metadata": {},
   "outputs": [],
   "source": [
    "# Reshape the input data\n",
    "X_train_balanced_reshaped = X_train_balanced.reshape(X_train_balanced.shape[0], X_train_balanced.shape[1],1)\n",
    "V_val_reshaped = sentence_vectors_val.reshape(sentence_vectors_val.shape[0], sentence_vectors_val.shape[1],1)\n",
    "# Define the model architecture\n",
    "model_cnn_gru = models.Sequential()\n",
    "model_cnn_gru.add(layers.Conv1D(64, kernel_size=3, activation='relu', input_shape=(X_train_balanced_reshaped.shape[1], 1)))\n",
    "model_cnn_gru.add(layers.MaxPooling1D(pool_size=2))\n",
    "model_cnn_gru.add(layers.Dropout(0.2))\n",
    "\n",
    "model_cnn_gru.add(layers.GRU(132, return_sequences=True))\n",
    "model_cnn_gru.add(layers.GlobalMaxPooling1D())\n",
    "model_cnn_gru.add(layers.Dropout(0.2))\n",
    "model_cnn_gru.add(layers.Flatten())\n",
    "model_cnn_gru.add(layers.Dense(3, activation='softmax', kernel_regularizer=regularizers.l2(0.002)))\n",
    "\n",
    "\n",
    "optim = optimizers.Adam(learning_rate=5e-4)\n",
    "# Compile the model\n",
    "model_cnn_gru.compile(optimizer=optim, loss='sparse_categorical_crossentropy', metrics=['accuracy', precision ,recall, f1])\n",
    "\n",
    "# Train the model\n",
    "class_weights = {0: 1.0, 1: 3.0, 2: 2.0}  \n",
    "history = model_cnn_gru.fit(X_train_balanced_reshaped, y_train_balanced, validation_data=(sentence_vectors_val, y_val), epochs=30, batch_size=32, class_weight=class_weights)\n",
    "\n",
    "# Evaluate the model\n",
    "sentence_vectors_test_reshaped = sentence_vectors_test.reshape(sentence_vectors_test.shape[0], sentence_vectors_test.shape[1],1)\n",
    "test_loss, test_acc,prec , recall , f1 = model_cnn_gru.evaluate(sentence_vectors_test_reshaped, y_test)\n",
    "print('Test accuracy:', test_acc)\n",
    "print('Test precision:', prec)\n",
    "print('Test recall:', recall)\n",
    "print('Test f1-score:', f1)\n"
   ]
  },
  {
   "cell_type": "code",
   "execution_count": 85,
   "metadata": {},
   "outputs": [
    {
     "name": "stdout",
     "output_type": "stream",
     "text": [
      "150/150 [==============================] - 6s 16ms/step - loss: 0.7381 - accuracy: 0.7445\n",
      "Test accuracy: 0.7445117831230164\n"
     ]
    }
   ],
   "source": [
    "# Evaluate the model\n",
    "test_loss, test_acc = model_cnn_gru.evaluate(sentence_vectors_test.reshape(sentence_vectors_test.shape[0], 1, sentence_vectors_test.shape[1]), y_test)\n",
    "print('Test accuracy:', test_acc)"
   ]
  },
  {
   "cell_type": "code",
   "execution_count": 86,
   "metadata": {},
   "outputs": [
    {
     "name": "stdout",
     "output_type": "stream",
     "text": [
      "150/150 [==============================] - 4s 16ms/step\n"
     ]
    }
   ],
   "source": [
    "y_pred = model_cnn_gru.predict(X_test_embeddings)"
   ]
  },
  {
   "cell_type": "code",
   "execution_count": 298,
   "metadata": {},
   "outputs": [
    {
     "name": "stdout",
     "output_type": "stream",
     "text": [
      "[[1231 1000 1089]\n",
      " [ 146  332  257]\n",
      " [  65   96  288]]\n"
     ]
    }
   ],
   "source": [
    "y_pred_labels = np.argmax(y_pred, axis=1)\n",
    "cm = confusion_matrix(y_test, y_pred_labels)\n",
    "print(cm)"
   ]
  },
  {
   "cell_type": "code",
   "execution_count": 204,
   "metadata": {},
   "outputs": [
    {
     "name": "stdout",
     "output_type": "stream",
     "text": [
      "Epoch 1/5\n",
      "469/469 [==============================] - 133s 274ms/step - loss: 1.0990 - accuracy: 0.4317 - precision: 0.6394 - recall: 0.4316 - f1: 0.3538 - val_loss: 0.9256 - val_accuracy: 0.5745 - val_precision: 0.6415 - val_recall: 0.5730 - val_f1: 0.5858 - lr: 0.0100\n",
      "Epoch 2/5\n",
      "469/469 [==============================] - 139s 296ms/step - loss: 0.9171 - accuracy: 0.5565 - precision: 0.5992 - recall: 0.5566 - f1: 0.5458 - val_loss: 0.9110 - val_accuracy: 0.5339 - val_precision: 0.6579 - val_recall: 0.5290 - val_f1: 0.5522 - lr: 0.0100\n",
      "Epoch 3/5\n",
      "469/469 [==============================] - 139s 297ms/step - loss: 0.8795 - accuracy: 0.5873 - precision: 0.6268 - recall: 0.5872 - f1: 0.5790 - val_loss: 0.8060 - val_accuracy: 0.6468 - val_precision: 0.6487 - val_recall: 0.6457 - val_f1: 0.6347 - lr: 0.0100\n",
      "Epoch 4/5\n",
      "469/469 [==============================] - 162s 345ms/step - loss: 0.8393 - accuracy: 0.6173 - precision: 0.6484 - recall: 0.6173 - f1: 0.6121 - val_loss: 0.8439 - val_accuracy: 0.6217 - val_precision: 0.6675 - val_recall: 0.6222 - val_f1: 0.6329 - lr: 0.0100\n",
      "Epoch 5/5\n",
      "469/469 [==============================] - ETA: 0s - loss: 0.8018 - accuracy: 0.6378 - precision: 0.6691 - recall: 0.6378 - f1: 0.6341\n",
      "Epoch 5: ReduceLROnPlateau reducing learning rate to 0.004999999888241291.\n",
      "469/469 [==============================] - 139s 297ms/step - loss: 0.8018 - accuracy: 0.6378 - precision: 0.6691 - recall: 0.6378 - f1: 0.6341 - val_loss: 0.8469 - val_accuracy: 0.6021 - val_precision: 0.6465 - val_recall: 0.6016 - val_f1: 0.6118 - lr: 0.0100\n",
      "74/74 [==============================] - 9s 105ms/step - loss: 0.8614 - accuracy: 0.5953 - precision: 0.6508 - recall: 0.5960 - f1: 0.6110\n",
      "Test accuracy: 0.5953091979026794\n",
      "Test precision: 0.6507800221443176\n",
      "Test recall: 0.5960022807121277\n",
      "Test f1-score: 0.6110439896583557\n"
     ]
    }
   ],
   "source": [
    "\n",
    "reduce_lr = keras.callbacks.ReduceLROnPlateau(monitor='val_loss', factor=0.50, patience=2, verbose=1, mode='auto', cooldown=0, min_lr=0.00001)\n",
    "early = keras.callbacks.EarlyStopping(monitor='val_loss', min_delta=0, patience=5, verbose=1, mode='auto')\n",
    "\n",
    "# Reshape the sentence_vectors to match the input shape\n",
    "X_train_emb = np.reshape(X_train_balanced, (X_train_balanced.shape[0], X_train_balanced.shape[1], 1))\n",
    "V_val_reshaped = sentence_vectors_val.reshape(sentence_vectors_val.shape[0], sentence_vectors_val.shape[1],1)\n",
    "\n",
    "model_lstm_cnn = models.Sequential()\n",
    "model_lstm_cnn.add(layers.Conv1D(64, kernel_size=3,padding='same', activation='relu', input_shape=(X_train_emb.shape[1], 1)))\n",
    "model_lstm_cnn.add(layers.Dropout(0.3))\n",
    "model_lstm_cnn.add(layers.MaxPooling1D(pool_size=3))\n",
    "model_lstm_cnn.add(layers.LSTM(132, return_sequences=True))\n",
    "#model_lstm_cnn.add(layers.LSTM(132, return_sequences=True))\n",
    "#model_lstm_cnn.add(layers.Dropout(0.2))\n",
    "model_lstm_cnn.add(layers.Flatten())\n",
    "model_lstm_cnn.add(layers.Dense(3, activation='softmax'))\n",
    "\n",
    "optim = optimizers.Adam(learning_rate=0.01)\n",
    "\n",
    "model_lstm_cnn.compile(optimizer=optim, loss='sparse_categorical_crossentropy', metrics=['accuracy', precision ,recall, f1])\n",
    "\n",
    "history = model_lstm_cnn.fit(X_train_emb, y_train_balanced,validation_data=(sentence_vectors_val, y_val),\n",
    "                            epochs=5, \n",
    "                            batch_size=32,\n",
    "                            callbacks = [reduce_lr, early])\n",
    "\n",
    "# Evaluate the model\n",
    "sentence_vectors_test_reshaped = sentence_vectors_test.reshape(sentence_vectors_test.shape[0], sentence_vectors_test.shape[1],1)\n",
    "test_loss, test_acc,prec , recall , f1 = model_lstm_cnn.evaluate(sentence_vectors_test_reshaped, y_test)\n",
    "print('Test accuracy:', test_acc)\n",
    "print('Test precision:', prec)\n",
    "print('Test recall:', recall)\n",
    "print('Test f1-score:', f1)"
   ]
  },
  {
   "cell_type": "code",
   "execution_count": 225,
   "metadata": {},
   "outputs": [
    {
     "data": {
      "text/plain": [
       "(15000, 768)"
      ]
     },
     "execution_count": 225,
     "metadata": {},
     "output_type": "execute_result"
    }
   ],
   "source": [
    "X_train_balanced.shape"
   ]
  },
  {
   "cell_type": "code",
   "execution_count": null,
   "metadata": {},
   "outputs": [],
   "source": [
    "# Reshape the sentence_vectors to match the input shape\n",
    "X_train_emb = np.reshape(X_train, (X_train.shape[0], X_train.shape[1], 1))\n",
    "V_val_reshaped = X_val.reshape(X_val.shape[0], X_val.shape[1],1)\n",
    "\n",
    "reduce_lr = keras.callbacks.ReduceLROnPlateau(monitor='val_loss', factor=0.50, patience=2, verbose=1, mode='auto', cooldown=0, min_lr=0.00001)\n",
    "early = keras.callbacks.EarlyStopping(monitor='val_loss', min_delta=0, patience=5, verbose=1, mode='auto')\n",
    "\n",
    "\n",
    "# Define the CNN component\n",
    "cnn_input = layers.Input(shape=(X_train_emb.shape[1], 1))\n",
    "cnn = layers.Conv1D(256, kernel_size=3, padding='same', activation='relu')(cnn_input)\n",
    "cnn = layers.Conv1D(256, kernel_size=3, padding='same', activation='relu')(cnn)\n",
    "cnn = layers.MaxPooling1D(pool_size=3)(cnn)\n",
    "cnn = layers.Flatten()(cnn)\n",
    "\n",
    "# Define the LSTM component\n",
    "lstm_input = layers.Input(shape=(X_train_emb.shape[1], 1))\n",
    "lstm = layers.Bidirectional(LSTM(256, return_sequences=True))(lstm_input)\n",
    "lstm = layers.LSTM(units=128, return_sequences=True)(lstm)\n",
    "lstm = layers.Flatten()(lstm)\n",
    "\n",
    "# Concatenate CNN and LSTM outputs\n",
    "combined = layers.Concatenate()([cnn, lstm])\n",
    "\n",
    "# Output layer\n",
    "outputs = layers.Dense(units=3, activation='softmax')(combined)\n",
    "\n",
    "# Create the model\n",
    "model = models.Model(inputs=[cnn_input, lstm_input], outputs=outputs)\n",
    "\n",
    "# Compile the model\n",
    "optimizer = optimizers.Adam(learning_rate=0.0005)\n",
    "model.compile(optimizer=optimizer, loss='sparse_categorical_crossentropy', metrics=['accuracy', precision, recall, f1])\n",
    "\n",
    "# Train the model\n",
    "history = model.fit([X_train_emb, X_train_emb], y_train, validation_data=([V_val_reshaped, V_val_reshaped], y_val),\n",
    "                    epochs=50, batch_size=16, callbacks=[reduce_lr, early])\n",
    "\n",
    "# Evaluate the model\n",
    "X_test_reshaped = X_test.reshape(X_test.shape[0], X_test.shape[1], 1)\n",
    "test_loss, test_acc, prec, recall, f1 = model.evaluate([X_test_reshaped, X_test_reshaped], y_test)\n",
    "print('Test accuracy:', test_acc)\n",
    "print('Test precision:', prec)\n",
    "print('Test recall:', recall)\n",
    "print('Test f1-score:', f1)"
   ]
  },
  {
   "cell_type": "code",
   "execution_count": 157,
   "metadata": {},
   "outputs": [
    {
     "name": "stdout",
     "output_type": "stream",
     "text": [
      "74/74 [==============================] - 14s 173ms/step - loss: 0.8925 - accuracy: 0.5970 - precision: 0.6593 - recall: 0.5977 - f1: 0.6075\n",
      "Test accuracy: 0.5970149040222168\n"
     ]
    }
   ],
   "source": [
    "# Evaluate the model\n",
    "test_loss, test_acc,prec,recall,f1 = model_lstm_cnn.evaluate(sentence_vectors_test.reshape(sentence_vectors_test.shape[0], sentence_vectors_test.shape[1],1), y_test)\n",
    "print('Test accuracy:', test_acc)\n"
   ]
  },
  {
   "cell_type": "code",
   "execution_count": 656,
   "metadata": {},
   "outputs": [
    {
     "name": "stdout",
     "output_type": "stream",
     "text": [
      "73/73 [==============================] - 10s 123ms/step\n",
      "[[950 313 206]\n",
      " [147 160  78]\n",
      " [ 86  58 312]]\n"
     ]
    }
   ],
   "source": [
    "y_pred = model_lstm_cnn.predict(sentence_vectors_test.reshape(sentence_vectors_test.shape[0], sentence_vectors_test.shape[1],1))\n",
    "y_pred_label = tf.argmax(y_pred, axis=1).numpy()\n",
    "cm = confusion_matrix(y_test, y_pred_label)\n",
    "print(cm)"
   ]
  },
  {
   "cell_type": "code",
   "execution_count": 228,
   "metadata": {},
   "outputs": [
    {
     "ename": "RuntimeError",
     "evalue": "Sizes of tensors must match except in dimension 1. Expected size 1 but got size 768 for tensor number 1 in the list.",
     "output_type": "error",
     "traceback": [
      "\u001b[1;31m---------------------------------------------------------------------------\u001b[0m",
      "\u001b[1;31mRuntimeError\u001b[0m                              Traceback (most recent call last)",
      "Cell \u001b[1;32mIn[228], line 142\u001b[0m\n\u001b[0;32m    139\u001b[0m X_train \u001b[39m=\u001b[39m np\u001b[39m.\u001b[39mreshape(X_train_balanced, (\u001b[39m15000\u001b[39m, \u001b[39m1\u001b[39m, \u001b[39m768\u001b[39m))\n\u001b[0;32m    140\u001b[0m input_data \u001b[39m=\u001b[39m torch\u001b[39m.\u001b[39mfrom_numpy(X_train)\u001b[39m.\u001b[39mfloat()\n\u001b[1;32m--> 142\u001b[0m outputs \u001b[39m=\u001b[39m conv_gru(input_data)\n\u001b[0;32m    144\u001b[0m \u001b[39m# Print the output shapes for each layer\u001b[39;00m\n\u001b[0;32m    145\u001b[0m \u001b[39mfor\u001b[39;00m i, output \u001b[39min\u001b[39;00m \u001b[39menumerate\u001b[39m(outputs):\n",
      "File \u001b[1;32m~\\AppData\\Local\\Packages\\PythonSoftwareFoundation.Python.3.10_qbz5n2kfra8p0\\LocalCache\\local-packages\\Python310\\site-packages\\torch\\nn\\modules\\module.py:1501\u001b[0m, in \u001b[0;36mModule._call_impl\u001b[1;34m(self, *args, **kwargs)\u001b[0m\n\u001b[0;32m   1496\u001b[0m \u001b[39m# If we don't have any hooks, we want to skip the rest of the logic in\u001b[39;00m\n\u001b[0;32m   1497\u001b[0m \u001b[39m# this function, and just call forward.\u001b[39;00m\n\u001b[0;32m   1498\u001b[0m \u001b[39mif\u001b[39;00m \u001b[39mnot\u001b[39;00m (\u001b[39mself\u001b[39m\u001b[39m.\u001b[39m_backward_hooks \u001b[39mor\u001b[39;00m \u001b[39mself\u001b[39m\u001b[39m.\u001b[39m_backward_pre_hooks \u001b[39mor\u001b[39;00m \u001b[39mself\u001b[39m\u001b[39m.\u001b[39m_forward_hooks \u001b[39mor\u001b[39;00m \u001b[39mself\u001b[39m\u001b[39m.\u001b[39m_forward_pre_hooks\n\u001b[0;32m   1499\u001b[0m         \u001b[39mor\u001b[39;00m _global_backward_pre_hooks \u001b[39mor\u001b[39;00m _global_backward_hooks\n\u001b[0;32m   1500\u001b[0m         \u001b[39mor\u001b[39;00m _global_forward_hooks \u001b[39mor\u001b[39;00m _global_forward_pre_hooks):\n\u001b[1;32m-> 1501\u001b[0m     \u001b[39mreturn\u001b[39;00m forward_call(\u001b[39m*\u001b[39margs, \u001b[39m*\u001b[39m\u001b[39m*\u001b[39mkwargs)\n\u001b[0;32m   1502\u001b[0m \u001b[39m# Do not call functions when jit is used\u001b[39;00m\n\u001b[0;32m   1503\u001b[0m full_backward_hooks, non_full_backward_hooks \u001b[39m=\u001b[39m [], []\n",
      "Cell \u001b[1;32mIn[228], line 118\u001b[0m, in \u001b[0;36mConvGRU.forward\u001b[1;34m(self, x, hidden)\u001b[0m\n\u001b[0;32m    115\u001b[0m cell_hidden \u001b[39m=\u001b[39m hidden[layer_idx]\n\u001b[0;32m    117\u001b[0m \u001b[39m# pass through layer\u001b[39;00m\n\u001b[1;32m--> 118\u001b[0m upd_cell_hidden \u001b[39m=\u001b[39m cell(input_, cell_hidden)\n\u001b[0;32m    119\u001b[0m upd_hidden\u001b[39m.\u001b[39mappend(upd_cell_hidden)\n\u001b[0;32m    120\u001b[0m \u001b[39m# update input_ to the last updated hidden layer for the next pass\u001b[39;00m\n",
      "File \u001b[1;32m~\\AppData\\Local\\Packages\\PythonSoftwareFoundation.Python.3.10_qbz5n2kfra8p0\\LocalCache\\local-packages\\Python310\\site-packages\\torch\\nn\\modules\\module.py:1501\u001b[0m, in \u001b[0;36mModule._call_impl\u001b[1;34m(self, *args, **kwargs)\u001b[0m\n\u001b[0;32m   1496\u001b[0m \u001b[39m# If we don't have any hooks, we want to skip the rest of the logic in\u001b[39;00m\n\u001b[0;32m   1497\u001b[0m \u001b[39m# this function, and just call forward.\u001b[39;00m\n\u001b[0;32m   1498\u001b[0m \u001b[39mif\u001b[39;00m \u001b[39mnot\u001b[39;00m (\u001b[39mself\u001b[39m\u001b[39m.\u001b[39m_backward_hooks \u001b[39mor\u001b[39;00m \u001b[39mself\u001b[39m\u001b[39m.\u001b[39m_backward_pre_hooks \u001b[39mor\u001b[39;00m \u001b[39mself\u001b[39m\u001b[39m.\u001b[39m_forward_hooks \u001b[39mor\u001b[39;00m \u001b[39mself\u001b[39m\u001b[39m.\u001b[39m_forward_pre_hooks\n\u001b[0;32m   1499\u001b[0m         \u001b[39mor\u001b[39;00m _global_backward_pre_hooks \u001b[39mor\u001b[39;00m _global_backward_hooks\n\u001b[0;32m   1500\u001b[0m         \u001b[39mor\u001b[39;00m _global_forward_hooks \u001b[39mor\u001b[39;00m _global_forward_pre_hooks):\n\u001b[1;32m-> 1501\u001b[0m     \u001b[39mreturn\u001b[39;00m forward_call(\u001b[39m*\u001b[39margs, \u001b[39m*\u001b[39m\u001b[39m*\u001b[39mkwargs)\n\u001b[0;32m   1502\u001b[0m \u001b[39m# Do not call functions when jit is used\u001b[39;00m\n\u001b[0;32m   1503\u001b[0m full_backward_hooks, non_full_backward_hooks \u001b[39m=\u001b[39m [], []\n",
      "Cell \u001b[1;32mIn[228], line 39\u001b[0m, in \u001b[0;36mConvGRUCell.forward\u001b[1;34m(self, input_, prev_state)\u001b[0m\n\u001b[0;32m     36\u001b[0m     prev_state \u001b[39m=\u001b[39m torch\u001b[39m.\u001b[39mzeros(state_size)\u001b[39m.\u001b[39mto(input_\u001b[39m.\u001b[39mdevice)\n\u001b[0;32m     38\u001b[0m \u001b[39m# data size is [batch, feature, seq_length]\u001b[39;00m\n\u001b[1;32m---> 39\u001b[0m stacked_inputs \u001b[39m=\u001b[39m torch\u001b[39m.\u001b[39;49mcat([input_, prev_state], dim\u001b[39m=\u001b[39;49m\u001b[39m1\u001b[39;49m)\n\u001b[0;32m     40\u001b[0m update \u001b[39m=\u001b[39m torch\u001b[39m.\u001b[39msigmoid(\u001b[39mself\u001b[39m\u001b[39m.\u001b[39mupdate_gate(stacked_inputs))\n\u001b[0;32m     41\u001b[0m reset \u001b[39m=\u001b[39m torch\u001b[39m.\u001b[39msigmoid(\u001b[39mself\u001b[39m\u001b[39m.\u001b[39mreset_gate(stacked_inputs))\n",
      "\u001b[1;31mRuntimeError\u001b[0m: Sizes of tensors must match except in dimension 1. Expected size 1 but got size 768 for tensor number 1 in the list."
     ]
    }
   ],
   "source": [
    "import torch\n",
    "import torch.nn as nn\n",
    "import numpy as np\n",
    "import torch.nn.functional as F\n",
    "from torch.nn import init\n",
    "\n",
    "\n",
    "class ConvGRUCell(nn.Module):\n",
    "    \"\"\"\n",
    "    Generate a convolutional GRU cell\n",
    "    \"\"\"\n",
    "\n",
    "    def __init__(self, input_size, hidden_size, kernel_size):\n",
    "        super().__init__()\n",
    "        padding = kernel_size // 2\n",
    "        self.input_size = input_size\n",
    "        self.hidden_size = hidden_size\n",
    "        self.reset_gate = nn.Conv1d(input_size + hidden_size, hidden_size, kernel_size, padding=padding)\n",
    "        self.update_gate = nn.Conv1d(input_size + hidden_size, hidden_size, kernel_size, padding=padding)\n",
    "        self.out_gate = nn.Conv1d(input_size + hidden_size, hidden_size, kernel_size, padding=padding)\n",
    "\n",
    "        init.orthogonal_(self.reset_gate.weight)\n",
    "        init.orthogonal_(self.update_gate.weight)\n",
    "        init.orthogonal_(self.out_gate.weight)\n",
    "        init.constant_(self.reset_gate.bias, 0.)\n",
    "        init.constant_(self.update_gate.bias, 0.)\n",
    "        init.constant_(self.out_gate.bias, 0.)\n",
    "\n",
    "    def forward(self, input_, prev_state):\n",
    "        # get batch and sequence lengths\n",
    "        batch_size, seq_length, _ = input_.size()\n",
    "\n",
    "        # generate empty prev_state, if None is provided\n",
    "        if prev_state is None:\n",
    "            state_size = [batch_size, self.hidden_size, seq_length]\n",
    "            prev_state = torch.zeros(state_size).to(input_.device)\n",
    "\n",
    "        # data size is [batch, feature, seq_length]\n",
    "        stacked_inputs = torch.cat([input_, prev_state], dim=1)\n",
    "        update = torch.sigmoid(self.update_gate(stacked_inputs))\n",
    "        reset = torch.sigmoid(self.reset_gate(stacked_inputs))\n",
    "        out_inputs = torch.tanh(self.out_gate(torch.cat([input_, prev_state * reset], dim=1)))\n",
    "        new_state = prev_state * (1 - update) + out_inputs * update\n",
    "\n",
    "        return new_state\n",
    "\n",
    "\n",
    "class ConvGRU(nn.Module):\n",
    "\n",
    "    def __init__(self, input_size, hidden_sizes, kernel_sizes, n_layers):\n",
    "        '''\n",
    "        Generates a multi-layer convolutional GRU.\n",
    "        Preserves sequence dimensions across cells, only altering depth.\n",
    "        Parameters\n",
    "        ----------\n",
    "        input_size : integer. feature dimension of input tensors.\n",
    "        hidden_sizes : integer or list. feature dimensions of hidden state.\n",
    "            if integer, the same hidden size is used for all cells.\n",
    "        kernel_sizes : integer or list. sizes of Conv1d gate kernels.\n",
    "            if integer, the same kernel size is used for all cells.\n",
    "        n_layers : integer. number of chained `ConvGRUCell`.\n",
    "        '''\n",
    "\n",
    "        super(ConvGRU, self).__init__()\n",
    "\n",
    "        self.input_size = input_size\n",
    "\n",
    "        if isinstance(hidden_sizes, int):\n",
    "            self.hidden_sizes = [hidden_sizes] * n_layers\n",
    "        else:\n",
    "            assert len(hidden_sizes) == n_layers, '`hidden_sizes` must have the same length as n_layers'\n",
    "            self.hidden_sizes = hidden_sizes\n",
    "        if isinstance(kernel_sizes, int):\n",
    "            self.kernel_sizes = [kernel_sizes] * n_layers\n",
    "        else:\n",
    "            assert len(kernel_sizes) == n_layers, '`kernel_sizes` must have the same length as n_layers'\n",
    "            self.kernel_sizes = kernel_sizes\n",
    "\n",
    "        self.n_layers = n_layers\n",
    "\n",
    "        cells = []\n",
    "        for i in range(self.n_layers):\n",
    "            if i == 0:\n",
    "                input_dim = self.input_size\n",
    "            else:\n",
    "                input_dim = self.hidden_sizes[i - 1]\n",
    "\n",
    "            cell = ConvGRUCell(input_dim, self.hidden_sizes[i], self.kernel_sizes[i])\n",
    "            name = 'ConvGRUCell_' + str(i).zfill(2)\n",
    "\n",
    "            setattr(self, name, cell)\n",
    "            cells.append(getattr(self, name))\n",
    "\n",
    "        self.cells = cells\n",
    "\n",
    "    def forward(self, x, hidden=None):\n",
    "        '''\n",
    "        Parameters\n",
    "        ----------\n",
    "        x : 3D input tensor. (batch, seq_length, features).\n",
    "        hidden : list of 3D hidden state representations. (batch, features, seq_length).\n",
    "        Returns\n",
    "        -------\n",
    "        upd_hidden : list of 3D hidden representations. (layer, batch, features, seq_length).\n",
    "        '''\n",
    "        if hidden is None:\n",
    "            hidden = [None] * self.n_layers\n",
    "\n",
    "        input_ = x.permute(0, 2, 1)  # Permute to (batch, features, seq_length)\n",
    "\n",
    "        upd_hidden = []\n",
    "\n",
    "        for layer_idx in range(self.n_layers):\n",
    "            cell = self.cells[layer_idx]\n",
    "            cell_hidden = hidden[layer_idx]\n",
    "\n",
    "            # pass through layer\n",
    "            upd_cell_hidden = cell(input_, cell_hidden)\n",
    "            upd_hidden.append(upd_cell_hidden)\n",
    "            # update input_ to the last updated hidden layer for the next pass\n",
    "            input_ = upd_cell_hidden\n",
    "\n",
    "        # retain tensors in list to allow different hidden sizes\n",
    "        return upd_hidden\n",
    "\n",
    "# Define the input shape and hyperparameters\n",
    "input_size = 10  # Number of input features\n",
    "hidden_sizes = [32, 64]  # Hidden sizes for each layer\n",
    "kernel_sizes = [3, 3]  # Kernel sizes for each layer\n",
    "n_layers = 2  # Number of ConvGRU layers\n",
    "\n",
    "# Create an instance of the ConvGRU model\n",
    "conv_gru = ConvGRU(input_size, hidden_sizes, kernel_sizes, n_layers)\n",
    "\n",
    "# Generate some random input data\n",
    "batch_size = 16\n",
    "seq_length = 20\n",
    "\n",
    "X_train = np.reshape(X_train_balanced, (15000, 1, 768))\n",
    "input_data = torch.from_numpy(X_train).float()\n",
    "\n",
    "outputs = conv_gru(input_data)\n",
    "\n",
    "# Print the output shapes for each layer\n",
    "for i, output in enumerate(outputs):\n",
    "    print(f\"Layer {i+1} output shape: {output.shape}\")"
   ]
  },
  {
   "cell_type": "code",
   "execution_count": 612,
   "metadata": {},
   "outputs": [],
   "source": [
    "from torch.utils.data import DataLoader\n",
    "from transformers import AutoModelForSequenceClassification, AutoTokenizer, AdamW\n",
    "from transformers import Trainer, TrainingArguments"
   ]
  },
  {
   "cell_type": "code",
   "execution_count": 605,
   "metadata": {},
   "outputs": [
    {
     "name": "stdout",
     "output_type": "stream",
     "text": [
      "(473,) (473,) (99,) (99,) (84,)\n"
     ]
    }
   ],
   "source": [
    "X,Y =df_fr['comments_corr'],df_fr['class']\n",
    "X_train, X_test, y_train, y_test = train_test_split(X, Y, test_size=0.15, stratify=Y, random_state=42)\n",
    "X_train, X_val, y_train, y_val = train_test_split(X_train, y_train, test_size=0.15, stratify=y_train, random_state=42)\n",
    "print(X_train.shape, y_train.shape, X_test.shape, y_test.shape,X_val.shape)"
   ]
  },
  {
   "attachments": {},
   "cell_type": "markdown",
   "metadata": {},
   "source": [
    "#### <span style='font-family:serif'>loading bert model"
   ]
  },
  {
   "cell_type": "code",
   "execution_count": 116,
   "metadata": {},
   "outputs": [
    {
     "name": "stderr",
     "output_type": "stream",
     "text": [
      "Downloading tf_model.h5: 100%|██████████| 911M/911M [17:28<00:00, 869kB/s]  \n",
      "C:\\Users\\BIGNETWORK\\AppData\\Local\\Packages\\PythonSoftwareFoundation.Python.3.10_qbz5n2kfra8p0\\LocalCache\\local-packages\\Python310\\site-packages\\huggingface_hub\\file_download.py:133: UserWarning: `huggingface_hub` cache-system uses symlinks by default to efficiently store duplicated files but your machine does not support them in C:\\Users\\BIGNETWORK\\.cache\\huggingface\\hub. Caching files will still work but in a degraded version that might require more space on your disk. This warning can be disabled by setting the `HF_HUB_DISABLE_SYMLINKS_WARNING` environment variable. For more details, see https://huggingface.co/docs/huggingface_hub/how-to-cache#limitations.\n",
      "To support symlinks on Windows, you either need to activate Developer Mode or to run Python as an administrator. In order to see activate developer mode, see this article: https://docs.microsoft.com/en-us/windows/apps/get-started/enable-your-device-for-development\n",
      "  warnings.warn(message)\n",
      "All TF 2.0 model weights were used when initializing DistilBertModel.\n",
      "\n",
      "All the weights of DistilBertModel were initialized from the TF 2.0 model.\n",
      "If your task is similar to the task the model of the checkpoint was trained on, you can already use DistilBertModel for predictions without further training.\n"
     ]
    }
   ],
   "source": [
    "#model = DistilBertModel.from_pretrained('distilbert-base-multilingual-cased')\n",
    "#tokenizer = DistilBertTokenizer.from_pretrained('distilbert-base-multilingual-cased')\n",
    "#Save the model and tokenizer to a directory\n",
    "#model.save_pretrained('saved_model_dist_tf')\n",
    "#tokenizer.save_pretrained('saved_model_dist_tf')"
   ]
  },
  {
   "cell_type": "code",
   "execution_count": 157,
   "metadata": {},
   "outputs": [],
   "source": [
    "# Load the model and tokenizer from the directory\n",
    "bert = DistilBertModel.from_pretrained('saved_model_dist')\n",
    "tokenizer_ = DistilBertTokenizer.from_pretrained('saved_model_dist')"
   ]
  },
  {
   "attachments": {},
   "cell_type": "markdown",
   "metadata": {},
   "source": [
    "- Tokenization"
   ]
  },
  {
   "cell_type": "code",
   "execution_count": 73,
   "metadata": {},
   "outputs": [
    {
     "data": {
      "text/plain": [
       "<AxesSubplot: >"
      ]
     },
     "execution_count": 73,
     "metadata": {},
     "output_type": "execute_result"
    },
    {
     "data": {
      "image/png": "[encoded data removed]",
      "text/plain": [
       "<Figure size 640x480 with 1 Axes>"
      ]
     },
     "metadata": {},
     "output_type": "display_data"
    }
   ],
   "source": [
    "# get length of all the messages in the train set\n",
    "seq_len = [len(i.split()) for i in train_text]\n",
    "\n",
    "pd.Series(seq_len).hist(bins = 30)"
   ]
  },
  {
   "cell_type": "code",
   "execution_count": 29,
   "metadata": {},
   "outputs": [],
   "source": [
    "train_encodings = tokenizer(list(X_train), truncation=True, padding=True, max_length=512)\n",
    "test_encodings = tokenizer(list(X_test), truncation=True, padding=True, max_length=512)\n",
    "\n",
    "# Convert data to numpy arrays\n",
    "X_train_input_ids = np.array(train_encodings['input_ids'])\n",
    "X_train_attention_masks = np.array(train_encodings['attention_mask'])\n",
    "\n",
    "X_test_input_ids = np.array(test_encodings['input_ids'])\n",
    "X_test_attention_masks = np.array(test_encodings['attention_mask'])\n",
    "\n",
    "# Convert input to PyTorch tensors\n",
    "X_train_input_ids = torch.tensor(train_encodings['input_ids'])\n",
    "X_train_attention_masks = torch.tensor(train_encodings['attention_mask'])\n",
    "X_test_input_ids = torch.tensor(test_encodings['input_ids'])\n",
    "X_test_attention_masks = torch.tensor(test_encodings['attention_mask'])\n",
    "\n",
    "# Get word embeddings\n",
    "train_embeddings = model(X_train_input_ids, X_train_attention_masks)[0][:, 0, :]\n",
    "test_embeddings = model(X_test_input_ids, X_test_attention_masks)[0][:, 0, :]"
   ]
  },
  {
   "cell_type": "code",
   "execution_count": 74,
   "metadata": {},
   "outputs": [
    {
     "data": {
      "text/plain": [
       "0.5476177127143964"
      ]
     },
     "execution_count": 74,
     "metadata": {},
     "output_type": "execute_result"
    }
   ],
   "source": [
    "log_cv_score = cross_val_score(log_reg, X_train_tf, y_train, cv=20, scoring='f1_macro', n_jobs=-1)\n",
    "mean_log_cv = np.mean(log_cv_score)\n",
    "mean_log_cv\n"
   ]
  },
  {
   "cell_type": "code",
   "execution_count": 75,
   "metadata": {},
   "outputs": [],
   "source": [
    "lin_svc = LinearSVC()"
   ]
  },
  {
   "cell_type": "code",
   "execution_count": 78,
   "metadata": {},
   "outputs": [
    {
     "data": {
      "text/plain": [
       "0.6281864749085628"
      ]
     },
     "execution_count": 78,
     "metadata": {},
     "output_type": "execute_result"
    }
   ],
   "source": [
    "lin_svc_cv_score = cross_val_score(lin_svc,X_train_tf,y_train,cv=10,scoring='f1_macro',n_jobs=-1)\n",
    "mean_lin_svc_cv = np.mean(lin_svc_cv_score)\n",
    "mean_lin_svc_cv"
   ]
  },
  {
   "cell_type": "code",
   "execution_count": 80,
   "metadata": {},
   "outputs": [],
   "source": [
    "adab = AdaBoostClassifier()"
   ]
  },
  {
   "cell_type": "code",
   "execution_count": 82,
   "metadata": {},
   "outputs": [
    {
     "data": {
      "text/plain": [
       "0.5439758097314462"
      ]
     },
     "execution_count": 82,
     "metadata": {},
     "output_type": "execute_result"
    }
   ],
   "source": [
    "adab_cv_score = cross_val_score(adab,X_train_tf,y_train,cv=10,scoring='f1_macro',n_jobs=-1)\n",
    "mean_adab_cv = np.mean(adab_cv_score)\n",
    "mean_adab_cv"
   ]
  },
  {
   "cell_type": "code",
   "execution_count": 84,
   "metadata": {},
   "outputs": [
    {
     "name": "stderr",
     "output_type": "stream",
     "text": [
      "C:\\Users\\BIGNETWORK\\AppData\\Local\\Packages\\PythonSoftwareFoundation.Python.3.10_qbz5n2kfra8p0\\LocalCache\\local-packages\\Python310\\site-packages\\sklearn\\svm\\_base.py:1244: ConvergenceWarning: Liblinear failed to converge, increase the number of iterations.\n",
      "  warnings.warn(\n"
     ]
    },
    {
     "data": {
      "text/html": [
       "<style>#sk-container-id-1 {color: black;background-color: white;}#sk-container-id-1 pre{padding: 0;}#sk-container-id-1 div.sk-toggleable {background-color: white;}#sk-container-id-1 label.sk-toggleable__label {cursor: pointer;display: block;width: 100%;margin-bottom: 0;padding: 0.3em;box-sizing: border-box;text-align: center;}#sk-container-id-1 label.sk-toggleable__label-arrow:before {content: \"▸\";float: left;margin-right: 0.25em;color: #696969;}#sk-container-id-1 label.sk-toggleable__label-arrow:hover:before {color: black;}#sk-container-id-1 div.sk-estimator:hover label.sk-toggleable__label-arrow:before {color: black;}#sk-container-id-1 div.sk-toggleable__content {max-height: 0;max-width: 0;overflow: hidden;text-align: left;background-color: #f0f8ff;}#sk-container-id-1 div.sk-toggleable__content pre {margin: 0.2em;color: black;border-radius: 0.25em;background-color: #f0f8ff;}#sk-container-id-1 input.sk-toggleable__control:checked~div.sk-toggleable__content {max-height: 200px;max-width: 100%;overflow: auto;}#sk-container-id-1 input.sk-toggleable__control:checked~label.sk-toggleable__label-arrow:before {content: \"▾\";}#sk-container-id-1 div.sk-estimator input.sk-toggleable__control:checked~label.sk-toggleable__label {background-color: #d4ebff;}#sk-container-id-1 div.sk-label input.sk-toggleable__control:checked~label.sk-toggleable__label {background-color: #d4ebff;}#sk-container-id-1 input.sk-hidden--visually {border: 0;clip: rect(1px 1px 1px 1px);clip: rect(1px, 1px, 1px, 1px);height: 1px;margin: -1px;overflow: hidden;padding: 0;position: absolute;width: 1px;}#sk-container-id-1 div.sk-estimator {font-family: monospace;background-color: #f0f8ff;border: 1px dotted black;border-radius: 0.25em;box-sizing: border-box;margin-bottom: 0.5em;}#sk-container-id-1 div.sk-estimator:hover {background-color: #d4ebff;}#sk-container-id-1 div.sk-parallel-item::after {content: \"\";width: 100%;border-bottom: 1px solid gray;flex-grow: 1;}#sk-container-id-1 div.sk-label:hover label.sk-toggleable__label {background-color: #d4ebff;}#sk-container-id-1 div.sk-serial::before {content: \"\";position: absolute;border-left: 1px solid gray;box-sizing: border-box;top: 0;bottom: 0;left: 50%;z-index: 0;}#sk-container-id-1 div.sk-serial {display: flex;flex-direction: column;align-items: center;background-color: white;padding-right: 0.2em;padding-left: 0.2em;position: relative;}#sk-container-id-1 div.sk-item {position: relative;z-index: 1;}#sk-container-id-1 div.sk-parallel {display: flex;align-items: stretch;justify-content: center;background-color: white;position: relative;}#sk-container-id-1 div.sk-item::before, #sk-container-id-1 div.sk-parallel-item::before {content: \"\";position: absolute;border-left: 1px solid gray;box-sizing: border-box;top: 0;bottom: 0;left: 50%;z-index: -1;}#sk-container-id-1 div.sk-parallel-item {display: flex;flex-direction: column;z-index: 1;position: relative;background-color: white;}#sk-container-id-1 div.sk-parallel-item:first-child::after {align-self: flex-end;width: 50%;}#sk-container-id-1 div.sk-parallel-item:last-child::after {align-self: flex-start;width: 50%;}#sk-container-id-1 div.sk-parallel-item:only-child::after {width: 0;}#sk-container-id-1 div.sk-dashed-wrapped {border: 1px dashed gray;margin: 0 0.4em 0.5em 0.4em;box-sizing: border-box;padding-bottom: 0.4em;background-color: white;}#sk-container-id-1 div.sk-label label {font-family: monospace;font-weight: bold;display: inline-block;line-height: 1.2em;}#sk-container-id-1 div.sk-label-container {text-align: center;}#sk-container-id-1 div.sk-container {/* jupyter's `normalize.less` sets `[hidden] { display: none; }` but bootstrap.min.css set `[hidden] { display: none !important; }` so we also need the `!important` here to be able to override the default hidden behavior on the sphinx rendered scikit-learn.org. See: https://github.com/scikit-learn/scikit-learn/issues/21755 */display: inline-block !important;position: relative;}#sk-container-id-1 div.sk-text-repr-fallback {display: none;}</style><div id=\"sk-container-id-1\" class=\"sk-top-container\"><div class=\"sk-text-repr-fallback\"><pre>GridSearchCV(cv=5, estimator=LinearSVC(), n_jobs=-1,\n",
       "             param_grid={&#x27;C&#x27;: [0.0001, 0.001, 0.01, 0.1, 1, 10],\n",
       "                         &#x27;fit_intercept&#x27;: [True, False],\n",
       "                         &#x27;loss&#x27;: [&#x27;hinge&#x27;, &#x27;squared_hinge&#x27;]},\n",
       "             return_train_score=True, scoring=&#x27;f1_macro&#x27;)</pre><b>In a Jupyter environment, please rerun this cell to show the HTML representation or trust the notebook. <br />On GitHub, the HTML representation is unable to render, please try loading this page with nbviewer.org.</b></div><div class=\"sk-container\" hidden><div class=\"sk-item sk-dashed-wrapped\"><div class=\"sk-label-container\"><div class=\"sk-label sk-toggleable\"><input class=\"sk-toggleable__control sk-hidden--visually\" id=\"sk-estimator-id-1\" type=\"checkbox\" ><label for=\"sk-estimator-id-1\" class=\"sk-toggleable__label sk-toggleable__label-arrow\">GridSearchCV</label><div class=\"sk-toggleable__content\"><pre>GridSearchCV(cv=5, estimator=LinearSVC(), n_jobs=-1,\n",
       "             param_grid={&#x27;C&#x27;: [0.0001, 0.001, 0.01, 0.1, 1, 10],\n",
       "                         &#x27;fit_intercept&#x27;: [True, False],\n",
       "                         &#x27;loss&#x27;: [&#x27;hinge&#x27;, &#x27;squared_hinge&#x27;]},\n",
       "             return_train_score=True, scoring=&#x27;f1_macro&#x27;)</pre></div></div></div><div class=\"sk-parallel\"><div class=\"sk-parallel-item\"><div class=\"sk-item\"><div class=\"sk-label-container\"><div class=\"sk-label sk-toggleable\"><input class=\"sk-toggleable__control sk-hidden--visually\" id=\"sk-estimator-id-2\" type=\"checkbox\" ><label for=\"sk-estimator-id-2\" class=\"sk-toggleable__label sk-toggleable__label-arrow\">estimator: LinearSVC</label><div class=\"sk-toggleable__content\"><pre>LinearSVC()</pre></div></div></div><div class=\"sk-serial\"><div class=\"sk-item\"><div class=\"sk-estimator sk-toggleable\"><input class=\"sk-toggleable__control sk-hidden--visually\" id=\"sk-estimator-id-3\" type=\"checkbox\" ><label for=\"sk-estimator-id-3\" class=\"sk-toggleable__label sk-toggleable__label-arrow\">LinearSVC</label><div class=\"sk-toggleable__content\"><pre>LinearSVC()</pre></div></div></div></div></div></div></div></div></div></div>"
      ],
      "text/plain": [
       "GridSearchCV(cv=5, estimator=LinearSVC(), n_jobs=-1,\n",
       "             param_grid={'C': [0.0001, 0.001, 0.01, 0.1, 1, 10],\n",
       "                         'fit_intercept': [True, False],\n",
       "                         'loss': ['hinge', 'squared_hinge']},\n",
       "             return_train_score=True, scoring='f1_macro')"
      ]
     },
     "execution_count": 84,
     "metadata": {},
     "output_type": "execute_result"
    }
   ],
   "source": [
    "svc1 = LinearSVC()\n",
    "param_grid = {'C':[0.0001,0.001,0.01,0.1,1,10],\n",
    "'loss':['hinge','squared_hinge'],\n",
    "'fit_intercept':[True,False]}\n",
    "grid_search = GridSearchCV(svc1,param_grid,cv=5,scoring='f1_macro',n_jobs=-1,verbose=0,return_train_score=True)\n",
    "grid_search.fit(X_train_tf,y_train)\n"
   ]
  },
  {
   "cell_type": "code",
   "execution_count": 85,
   "metadata": {},
   "outputs": [
    {
     "data": {
      "text/html": [
       "<style>#sk-container-id-2 {color: black;background-color: white;}#sk-container-id-2 pre{padding: 0;}#sk-container-id-2 div.sk-toggleable {background-color: white;}#sk-container-id-2 label.sk-toggleable__label {cursor: pointer;display: block;width: 100%;margin-bottom: 0;padding: 0.3em;box-sizing: border-box;text-align: center;}#sk-container-id-2 label.sk-toggleable__label-arrow:before {content: \"▸\";float: left;margin-right: 0.25em;color: #696969;}#sk-container-id-2 label.sk-toggleable__label-arrow:hover:before {color: black;}#sk-container-id-2 div.sk-estimator:hover label.sk-toggleable__label-arrow:before {color: black;}#sk-container-id-2 div.sk-toggleable__content {max-height: 0;max-width: 0;overflow: hidden;text-align: left;background-color: #f0f8ff;}#sk-container-id-2 div.sk-toggleable__content pre {margin: 0.2em;color: black;border-radius: 0.25em;background-color: #f0f8ff;}#sk-container-id-2 input.sk-toggleable__control:checked~div.sk-toggleable__content {max-height: 200px;max-width: 100%;overflow: auto;}#sk-container-id-2 input.sk-toggleable__control:checked~label.sk-toggleable__label-arrow:before {content: \"▾\";}#sk-container-id-2 div.sk-estimator input.sk-toggleable__control:checked~label.sk-toggleable__label {background-color: #d4ebff;}#sk-container-id-2 div.sk-label input.sk-toggleable__control:checked~label.sk-toggleable__label {background-color: #d4ebff;}#sk-container-id-2 input.sk-hidden--visually {border: 0;clip: rect(1px 1px 1px 1px);clip: rect(1px, 1px, 1px, 1px);height: 1px;margin: -1px;overflow: hidden;padding: 0;position: absolute;width: 1px;}#sk-container-id-2 div.sk-estimator {font-family: monospace;background-color: #f0f8ff;border: 1px dotted black;border-radius: 0.25em;box-sizing: border-box;margin-bottom: 0.5em;}#sk-container-id-2 div.sk-estimator:hover {background-color: #d4ebff;}#sk-container-id-2 div.sk-parallel-item::after {content: \"\";width: 100%;border-bottom: 1px solid gray;flex-grow: 1;}#sk-container-id-2 div.sk-label:hover label.sk-toggleable__label {background-color: #d4ebff;}#sk-container-id-2 div.sk-serial::before {content: \"\";position: absolute;border-left: 1px solid gray;box-sizing: border-box;top: 0;bottom: 0;left: 50%;z-index: 0;}#sk-container-id-2 div.sk-serial {display: flex;flex-direction: column;align-items: center;background-color: white;padding-right: 0.2em;padding-left: 0.2em;position: relative;}#sk-container-id-2 div.sk-item {position: relative;z-index: 1;}#sk-container-id-2 div.sk-parallel {display: flex;align-items: stretch;justify-content: center;background-color: white;position: relative;}#sk-container-id-2 div.sk-item::before, #sk-container-id-2 div.sk-parallel-item::before {content: \"\";position: absolute;border-left: 1px solid gray;box-sizing: border-box;top: 0;bottom: 0;left: 50%;z-index: -1;}#sk-container-id-2 div.sk-parallel-item {display: flex;flex-direction: column;z-index: 1;position: relative;background-color: white;}#sk-container-id-2 div.sk-parallel-item:first-child::after {align-self: flex-end;width: 50%;}#sk-container-id-2 div.sk-parallel-item:last-child::after {align-self: flex-start;width: 50%;}#sk-container-id-2 div.sk-parallel-item:only-child::after {width: 0;}#sk-container-id-2 div.sk-dashed-wrapped {border: 1px dashed gray;margin: 0 0.4em 0.5em 0.4em;box-sizing: border-box;padding-bottom: 0.4em;background-color: white;}#sk-container-id-2 div.sk-label label {font-family: monospace;font-weight: bold;display: inline-block;line-height: 1.2em;}#sk-container-id-2 div.sk-label-container {text-align: center;}#sk-container-id-2 div.sk-container {/* jupyter's `normalize.less` sets `[hidden] { display: none; }` but bootstrap.min.css set `[hidden] { display: none !important; }` so we also need the `!important` here to be able to override the default hidden behavior on the sphinx rendered scikit-learn.org. See: https://github.com/scikit-learn/scikit-learn/issues/21755 */display: inline-block !important;position: relative;}#sk-container-id-2 div.sk-text-repr-fallback {display: none;}</style><div id=\"sk-container-id-2\" class=\"sk-top-container\"><div class=\"sk-text-repr-fallback\"><pre>LinearSVC(C=10, loss=&#x27;hinge&#x27;)</pre><b>In a Jupyter environment, please rerun this cell to show the HTML representation or trust the notebook. <br />On GitHub, the HTML representation is unable to render, please try loading this page with nbviewer.org.</b></div><div class=\"sk-container\" hidden><div class=\"sk-item\"><div class=\"sk-estimator sk-toggleable\"><input class=\"sk-toggleable__control sk-hidden--visually\" id=\"sk-estimator-id-4\" type=\"checkbox\" checked><label for=\"sk-estimator-id-4\" class=\"sk-toggleable__label sk-toggleable__label-arrow\">LinearSVC</label><div class=\"sk-toggleable__content\"><pre>LinearSVC(C=10, loss=&#x27;hinge&#x27;)</pre></div></div></div></div></div>"
      ],
      "text/plain": [
       "LinearSVC(C=10, loss='hinge')"
      ]
     },
     "execution_count": 85,
     "metadata": {},
     "output_type": "execute_result"
    }
   ],
   "source": [
    "grid_search.best_estimator_"
   ]
  },
  {
   "cell_type": "code",
   "execution_count": 86,
   "metadata": {},
   "outputs": [
    {
     "data": {
      "text/plain": [
       "0.622473330995484"
      ]
     },
     "execution_count": 86,
     "metadata": {},
     "output_type": "execute_result"
    }
   ],
   "source": [
    "grid_search.best_score_"
   ]
  },
  {
   "attachments": {},
   "cell_type": "markdown",
   "metadata": {},
   "source": [
    "* BERT"
   ]
  },
  {
   "cell_type": "code",
   "execution_count": 135,
   "metadata": {},
   "outputs": [],
   "source": [
    "from tqdm.auto import tqdm\n",
    "from transformers import BertTokenizer,TFBertModel"
   ]
  },
  {
   "cell_type": "code",
   "execution_count": 136,
   "metadata": {},
   "outputs": [],
   "source": [
    "tokenizerbrt = BertTokenizer.from_pretrained('bert-base-multilingual-cased')"
   ]
  },
  {
   "cell_type": "code",
   "execution_count": 137,
   "metadata": {},
   "outputs": [],
   "source": [
    "token = tokenizerbrt.encode_plus(\n",
    "    df['comments_clean'].iloc[0], \n",
    "    max_length=256, \n",
    "    truncation=True, \n",
    "    padding='max_length', \n",
    "    add_special_tokens=True,\n",
    "    return_tensors='tf'\n",
    ")\n",
    "\n",
    "X_input_ids = np.zeros((len(df), 256))\n",
    "X_attn_masks = np.zeros((len(df), 256))"
   ]
  },
  {
   "cell_type": "code",
   "execution_count": 730,
   "metadata": {},
   "outputs": [
    {
     "name": "stderr",
     "output_type": "stream",
     "text": [
      "15046it [00:11, 1339.22it/s]\n"
     ]
    }
   ],
   "source": [
    "def generate_training_data(df, ids, masks, tokenizer):\n",
    "    for i, text in tqdm(enumerate(df['comments_clean'])):\n",
    "        tokenized_text = tokenizer.encode_plus(\n",
    "            text,\n",
    "            max_length=256, \n",
    "            truncation=True, \n",
    "            padding='max_length', \n",
    "            add_special_tokens=True,\n",
    "            return_tensors='tf'\n",
    "        )\n",
    "        ids[i, :] = tokenized_text.input_ids\n",
    "        masks[i, :] = tokenized_text.attention_mask\n",
    "    return ids, masks\n",
    "\n",
    "X_input_ids, X_attn_masks = generate_training_data(df, X_input_ids, X_attn_masks, tokenizer)"
   ]
  },
  {
   "cell_type": "code",
   "execution_count": 731,
   "metadata": {},
   "outputs": [
    {
     "data": {
      "text/plain": [
       "array([[1., 0., 0.],\n",
       "       [1., 0., 0.],\n",
       "       [0., 0., 1.],\n",
       "       ...,\n",
       "       [1., 0., 0.],\n",
       "       [0., 1., 0.],\n",
       "       [1., 0., 0.]])"
      ]
     },
     "execution_count": 731,
     "metadata": {},
     "output_type": "execute_result"
    }
   ],
   "source": [
    "labels = np.zeros((len(df), 3))\n",
    "labels[np.arange(len(df)), df['class'].values] = 1 # one-hot encoded target tensor\n",
    "labels"
   ]
  },
  {
   "cell_type": "code",
   "execution_count": 732,
   "metadata": {},
   "outputs": [],
   "source": [
    "# creating a data pipeline using tensorflow dataset utility, creates batches of data for easy loading...\n",
    "dataset = tf.data.Dataset.from_tensor_slices((X_input_ids, X_attn_masks, labels))\n",
    "dataset.take(1) # one sample data\n",
    "\n",
    "def classDatasetMapFunction(input_ids, attn_masks, labels):\n",
    "    return {\n",
    "        'input_ids': input_ids,\n",
    "        'attention_mask': attn_masks\n",
    "    }, labels"
   ]
  },
  {
   "cell_type": "code",
   "execution_count": 733,
   "metadata": {},
   "outputs": [
    {
     "data": {
      "text/plain": [
       "<_TakeDataset element_spec=({'input_ids': TensorSpec(shape=(256,), dtype=tf.float64, name=None), 'attention_mask': TensorSpec(shape=(256,), dtype=tf.float64, name=None)}, TensorSpec(shape=(3,), dtype=tf.float64, name=None))>"
      ]
     },
     "execution_count": 733,
     "metadata": {},
     "output_type": "execute_result"
    }
   ],
   "source": [
    "dataset = dataset.map(classDatasetMapFunction) # converting to required format for tensorflow dataset\n",
    "dataset.take(1)"
   ]
  },
  {
   "cell_type": "code",
   "execution_count": 734,
   "metadata": {},
   "outputs": [],
   "source": [
    "dataset = dataset.shuffle(10000).batch(16, drop_remainder=True) # batch size, drop any left out tensor\n",
    "p = 0.8\n",
    "train_size = int((len(df)//16)*p) # for each 16 batch of data we will have len(df)//16 samples, take 80% of that for train\n",
    "\n",
    "train_dataset = dataset.take(train_size)\n",
    "val_dataset = dataset.skip(train_size)"
   ]
  },
  {
   "cell_type": "code",
   "execution_count": 736,
   "metadata": {},
   "outputs": [
    {
     "name": "stderr",
     "output_type": "stream",
     "text": [
      "Downloading tf_model.h5: 100%|██████████| 1.08G/1.08G [08:24<00:00, 2.15MB/s]\n",
      "Some layers from the model checkpoint at bert-base-multilingual-cased were not used when initializing TFBertModel: ['mlm___cls', 'nsp___cls']\n",
      "- This IS expected if you are initializing TFBertModel from the checkpoint of a model trained on another task or with another architecture (e.g. initializing a BertForSequenceClassification model from a BertForPreTraining model).\n",
      "- This IS NOT expected if you are initializing TFBertModel from the checkpoint of a model that you expect to be exactly identical (initializing a BertForSequenceClassification model from a BertForSequenceClassification model).\n",
      "All the layers of TFBertModel were initialized from the model checkpoint at bert-base-multilingual-cased.\n",
      "If your task is similar to the task the model of the checkpoint was trained on, you can already use TFBertModel for predictions without further training.\n"
     ]
    }
   ],
   "source": [
    "# Load pre-trained BERT model\n",
    "model = TFBertModel.from_pretrained('bert-base-multilingual-cased')"
   ]
  },
  {
   "cell_type": "code",
   "execution_count": 737,
   "metadata": {},
   "outputs": [],
   "source": [
    "model.save_pretrained(\"bert_multi_classification\")"
   ]
  },
  {
   "cell_type": "code",
   "execution_count": 738,
   "metadata": {},
   "outputs": [
    {
     "name": "stderr",
     "output_type": "stream",
     "text": [
      "All model checkpoint layers were used when initializing TFBertModel.\n",
      "\n",
      "All the layers of TFBertModel were initialized from the model checkpoint at bert_multi_classification.\n",
      "If your task is similar to the task the model of the checkpoint was trained on, you can already use TFBertModel for predictions without further training.\n"
     ]
    }
   ],
   "source": [
    "bert_model = TFBertModel.from_pretrained(\"bert_multi_classification\")"
   ]
  },
  {
   "cell_type": "code",
   "execution_count": 740,
   "metadata": {},
   "outputs": [
    {
     "name": "stdout",
     "output_type": "stream",
     "text": [
      "Model: \"model_1\"\n",
      "__________________________________________________________________________________________________\n",
      " Layer (type)                   Output Shape         Param #     Connected to                     \n",
      "==================================================================================================\n",
      " input_ids (InputLayer)         [(None, 256)]        0           []                               \n",
      "                                                                                                  \n",
      " attention_mask (InputLayer)    [(None, 256)]        0           []                               \n",
      "                                                                                                  \n",
      " tf_bert_model_1 (TFBertModel)  TFBaseModelOutputWi  177853440   ['input_ids[0][0]',              \n",
      "                                thPoolingAndCrossAt               'attention_mask[0][0]']         \n",
      "                                tentions(last_hidde                                               \n",
      "                                n_state=(None, 256,                                               \n",
      "                                 768),                                                            \n",
      "                                 pooler_output=(Non                                               \n",
      "                                e, 768),                                                          \n",
      "                                 past_key_values=No                                               \n",
      "                                ne, hidden_states=N                                               \n",
      "                                one, attentions=Non                                               \n",
      "                                e, cross_attentions                                               \n",
      "                                =None)                                                            \n",
      "                                                                                                  \n",
      " intermediate_layer (Dense)     (None, 512)          393728      ['tf_bert_model_1[0][1]']        \n",
      "                                                                                                  \n",
      " output_layer (Dense)           (None, 3)            1539        ['intermediate_layer[0][0]']     \n",
      "                                                                                                  \n",
      "==================================================================================================\n",
      "Total params: 178,248,707\n",
      "Trainable params: 178,248,707\n",
      "Non-trainable params: 0\n",
      "__________________________________________________________________________________________________\n"
     ]
    }
   ],
   "source": [
    "# Define input layers\n",
    "input_ids = tf.keras.layers.Input(shape=(256,), name='input_ids', dtype='int32')\n",
    "attn_masks = tf.keras.layers.Input(shape=(256,), name='attention_mask', dtype='int32')\n",
    "\n",
    "# Get BERT embeddings\n",
    "bert_outputs = bert_model(input_ids, attention_mask=attn_masks)\n",
    "bert_embds = bert_outputs[1]  # pooled output layer (2D)\n",
    "\n",
    "# Intermediate and output layers\n",
    "intermediate_layer = tf.keras.layers.Dense(512, activation='relu', name='intermediate_layer')(bert_embds)\n",
    "output_layer = tf.keras.layers.Dense(3, activation='softmax', name='output_layer')(intermediate_layer)\n",
    "\n",
    "# Define the model\n",
    "classification_model = tf.keras.Model(inputs=[input_ids, attn_masks], outputs=output_layer)\n",
    "classification_model.summary()"
   ]
  },
  {
   "cell_type": "code",
   "execution_count": null,
   "metadata": {},
   "outputs": [],
   "source": [
    "optim = tf.keras.optimizers.Adam(learning_rate=5e-5)\n",
    "loss_func = tf.keras.losses.CategoricalCrossentropy()\n",
    "acc = tf.keras.metrics.CategoricalAccuracy('accuracy')\n",
    "\n",
    "classification_model.compile(optimizer=optim, loss=loss_func, metrics=[acc])\n",
    "hist = classification_model.fit(\n",
    "    train_dataset,\n",
    "    validation_data=val_dataset,\n",
    "    epochs=10\n",
    ")"
   ]
  },
  {
   "cell_type": "code",
   "execution_count": 127,
   "metadata": {},
   "outputs": [],
   "source": [
    "from tensorflow import keras"
   ]
  },
  {
   "cell_type": "code",
   "execution_count": 130,
   "metadata": {},
   "outputs": [],
   "source": [
    "from transformers import TFBertModel\n",
    "# Define the custom object scope\n",
    "custom_objects = {'TFBertModel': TFBertModel}  # Replace TFBertModel with the actual custom layer class\n",
    "\n",
    "# Load the model architecture from the saved file\n",
    "hate_classification_model = keras.models.load_model('hate_classification_model/model.h5', custom_objects=custom_objects)\n",
    "\n",
    "# Load the model weights into the architecture\n",
    "hate_classification_model.load_weights('hate_classification_model/model_weights.h5')\n"
   ]
  },
  {
   "cell_type": "code",
   "execution_count": 141,
   "metadata": {},
   "outputs": [],
   "source": [
    "def prepare_data(input_text, tokenizer):\n",
    "    token = tokenizerbrt.encode_plus(\n",
    "        input_text,\n",
    "        max_length=256, \n",
    "        truncation=True, \n",
    "        padding='max_length', \n",
    "        add_special_tokens=True,\n",
    "        return_tensors='tf'\n",
    "    )\n",
    "    return {\n",
    "        'input_ids': tf.cast(token.input_ids, tf.float64),\n",
    "        'attention_mask': tf.cast(token.attention_mask, tf.float64)\n",
    "    }\n",
    "def make_prediction(model, processed_data, classes=['Neutral', 'Hateful', 'Offensive']):\n",
    "    probs = model.predict(processed_data)[0]\n",
    "    class_probabilities = {cls: prob for cls, prob in zip(classes, probs)}\n",
    "    return class_probabilities"
   ]
  },
  {
   "cell_type": "code",
   "execution_count": 230,
   "metadata": {},
   "outputs": [
    {
     "name": "stdout",
     "output_type": "stream",
     "text": [
      "1/1 [==============================] - 1s 751ms/step\n",
      "Predicted probabilities:\n",
      "Neutral: 0.9961469173431396\n",
      "Hateful: 0.003246576990932226\n",
      "Offensive: 0.0006064394838176668\n"
     ]
    }
   ],
   "source": [
    "input_text = input('Enter your comment here: ')\n",
    "processed_data = prepare_data(input_text, tokenizer)\n",
    "result = make_prediction(hate_classification_model, processed_data=processed_data)\n",
    "print(\"Predicted probabilities:\")\n",
    "for cls, prob in result.items():\n",
    "    print(f\"{cls}: {prob}\")"
   ]
  },
  {
   "cell_type": "code",
   "execution_count": null,
   "metadata": {},
   "outputs": [],
   "source": []
  },
  {
   "cell_type": "code",
   "execution_count": null,
   "metadata": {},
   "outputs": [],
   "source": []
  }
 ],
 "metadata": {
  "kernelspec": {
   "display_name": "Python 3",
   "language": "python",
   "name": "python3"
  },
  "language_info": {
   "codemirror_mode": {
    "name": "ipython",
    "version": 3
   },
   "file_extension": ".py",
   "mimetype": "text/x-python",
   "name": "python",
   "nbconvert_exporter": "python",
   "pygments_lexer": "ipython3",
   "version": "3.10.11"
  },
  "orig_nbformat": 4,
  "vscode": {
   "interpreter": {
    "hash": "64a6b5e2244e422069341277cd1317ebf2b03c7f83a07567628f5bb1b1823540"
   }
  }
 },
 "nbformat": 4,
 "nbformat_minor": 2
}
